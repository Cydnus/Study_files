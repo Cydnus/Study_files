{
 "cells": [
  {
   "cell_type": "code",
   "execution_count": 4,
   "id": "d51ebfb1",
   "metadata": {
    "ExecuteTime": {
     "end_time": "2021-07-30T01:06:07.886163Z",
     "start_time": "2021-07-30T01:06:07.878149Z"
    }
   },
   "outputs": [],
   "source": [
    "import sys\n",
    "from PyQt5.QtWidgets import *\n",
    "from PyQt5 import uic"
   ]
  },
  {
   "cell_type": "code",
   "execution_count": 5,
   "id": "034f7bb0",
   "metadata": {
    "ExecuteTime": {
     "end_time": "2021-07-30T01:06:08.599576Z",
     "start_time": "2021-07-30T01:06:08.574610Z"
    }
   },
   "outputs": [],
   "source": [
    "main_Form = uic.loadUiType(\"main.ui\")[0]\n",
    "slice_From = uic.loadUiType(\"slice.ui\")[0]"
   ]
  },
  {
   "cell_type": "code",
   "execution_count": 6,
   "id": "5b1e8380",
   "metadata": {
    "ExecuteTime": {
     "end_time": "2021-07-30T01:06:09.393447Z",
     "start_time": "2021-07-30T01:06:09.374466Z"
    }
   },
   "outputs": [],
   "source": [
    "class MainWindow(QMainWindow, main_Form) :\n",
    "    def __init__(self) :\n",
    "        super().__init__()\n",
    "        self.setupUi(self)\n",
    "        \n",
    "        self.pbSTLFileOpen.clicked.connect(self.OpenFile)\n",
    "        \n",
    "    def OpenFile(self):\n",
    "        fname = QFileDialog.getOpenFileName(self, 'Open file', './')\n",
    "        self.leSTLFilePath = fname"
   ]
  },
  {
   "cell_type": "code",
   "execution_count": 7,
   "id": "064eae63",
   "metadata": {
    "ExecuteTime": {
     "end_time": "2021-07-30T01:06:10.285250Z",
     "start_time": "2021-07-30T01:06:10.278242Z"
    }
   },
   "outputs": [],
   "source": [
    "class SliceWindows(QMainWindow, slice_From) :\n",
    "    def __init__(self) :\n",
    "        super().__init__()\n",
    "        self.setupUi(self)\n",
    "        "
   ]
  },
  {
   "cell_type": "code",
   "execution_count": null,
   "id": "3b48f412",
   "metadata": {
    "ExecuteTime": {
     "start_time": "2021-07-30T01:06:10.989Z"
    }
   },
   "outputs": [],
   "source": [
    "app = QApplication(sys.argv) \n",
    "#WindowClass의 인스턴스 생성\n",
    "mainwindow = MainWindow() \n",
    "#프로그램 화면을 보여주는 코드\n",
    "mainwindow.show()\n",
    "#프로그램을 이벤트루프로 진입시키는(프로그램을 작동시키는) 코드\n",
    "#app.exec_()"
   ]
  },
  {
   "cell_type": "code",
   "execution_count": null,
   "id": "404dd431",
   "metadata": {},
   "outputs": [],
   "source": []
  }
 ],
 "metadata": {
  "kernelspec": {
   "display_name": "Python 3",
   "language": "python",
   "name": "python3"
  },
  "language_info": {
   "codemirror_mode": {
    "name": "ipython",
    "version": 3
   },
   "file_extension": ".py",
   "mimetype": "text/x-python",
   "name": "python",
   "nbconvert_exporter": "python",
   "pygments_lexer": "ipython3",
   "version": "3.8.8"
  },
  "varInspector": {
   "cols": {
    "lenName": 16,
    "lenType": 16,
    "lenVar": 40
   },
   "kernels_config": {
    "python": {
     "delete_cmd_postfix": "",
     "delete_cmd_prefix": "del ",
     "library": "var_list.py",
     "varRefreshCmd": "print(var_dic_list())"
    },
    "r": {
     "delete_cmd_postfix": ") ",
     "delete_cmd_prefix": "rm(",
     "library": "var_list.r",
     "varRefreshCmd": "cat(var_dic_list()) "
    }
   },
   "types_to_exclude": [
    "module",
    "function",
    "builtin_function_or_method",
    "instance",
    "_Feature"
   ],
   "window_display": false
  }
 },
 "nbformat": 4,
 "nbformat_minor": 5
}
