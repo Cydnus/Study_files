{
 "cells": [
  {
   "cell_type": "markdown",
   "id": "85a9c1cc",
   "metadata": {},
   "source": [
    "##### 외부 모듈(라이브러리) 추가"
   ]
  },
  {
   "cell_type": "code",
   "execution_count": 1,
   "id": "80fc6d10",
   "metadata": {
    "ExecuteTime": {
     "end_time": "2021-06-23T02:24:52.711253Z",
     "start_time": "2021-06-23T02:24:52.528727Z"
    }
   },
   "outputs": [],
   "source": [
    "from tkinter import *\n",
    "from PIL import Image, ImageTk\n",
    "import os"
   ]
  },
  {
   "cell_type": "markdown",
   "id": "ccf83c33",
   "metadata": {},
   "source": [
    "##### 창 불러오기"
   ]
  },
  {
   "cell_type": "code",
   "execution_count": 2,
   "id": "0829ff16",
   "metadata": {
    "ExecuteTime": {
     "end_time": "2021-06-23T02:24:52.990850Z",
     "start_time": "2021-06-23T02:24:52.711253Z"
    }
   },
   "outputs": [
    {
     "data": {
      "text/plain": [
       "''"
      ]
     },
     "execution_count": 2,
     "metadata": {},
     "output_type": "execute_result"
    }
   ],
   "source": [
    "window = Tk()\n",
    "window.title(\"Calculator Made By Sangho Cho\")"
   ]
  },
  {
   "cell_type": "markdown",
   "id": "a8aff913",
   "metadata": {},
   "source": [
    "##### 기본 이벤트 처리 함수 설정\n",
    "###### 숫자 입력"
   ]
  },
  {
   "cell_type": "code",
   "execution_count": 3,
   "id": "015b70e8",
   "metadata": {
    "ExecuteTime": {
     "end_time": "2021-06-23T02:24:53.005843Z",
     "start_time": "2021-06-23T02:24:52.992845Z"
    }
   },
   "outputs": [],
   "source": [
    "def input_Num(event):\n",
    "    global text_low\n",
    "    text_low['text'] +=str(event)"
   ]
  },
  {
   "cell_type": "markdown",
   "id": "d1d7d62b",
   "metadata": {},
   "source": [
    "###### 연산자 입력"
   ]
  },
  {
   "cell_type": "code",
   "execution_count": 4,
   "id": "be0485ef",
   "metadata": {
    "ExecuteTime": {
     "end_time": "2021-06-23T02:24:53.036821Z",
     "start_time": "2021-06-23T02:24:53.007814Z"
    }
   },
   "outputs": [],
   "source": [
    "def input_oper(oper):\n",
    "    global text_low, text_high\n",
    "    temp = text_high['text'].strip()\n",
    "    \n",
    "    if temp == '' and text_low['text'].strip() =='':\n",
    "        return\n",
    "    elif temp == '' :\n",
    "        if oper == '+'or oper == '-'or oper =='×'or oper == '÷' or oper == '%' :\n",
    "            txtl = text_low['text'].strip()\n",
    "            text_high['text'] += str(float(txtl))+\" \"+oper\n",
    "            text_low['text'] =\"\"\n",
    "            return\n",
    "        elif oper == '=': \n",
    "            txtl = text_low['text'].strip()\n",
    "            text_high['text'] += str(float(txtl))\n",
    "            text_low['text'] =\"\"\n",
    "            return\n",
    "            \n",
    "    elif temp[len(temp)-1] != '+' and temp[len(temp)-1] != '-' and temp[len(temp)-1] !='×'and temp[len(temp)-1] != '÷' and temp[len(temp)-1] != '%' :\n",
    "        text_high['text'] =\"\"\n",
    "        return\n",
    "        \n",
    "    if oper == '+'or oper == '-'or oper =='×'or oper == '÷'  or oper == '%' :\n",
    "        txth = text_high['text'].strip()\n",
    "        txtl = text_low['text'].strip()\n",
    "        txth = txth.replace('×','*')\n",
    "        txth = txth.replace('÷','/')\n",
    "        calTxt = str(txth+  str(float(txtl)))       \n",
    "        retstr = str(eval(calTxt))\n",
    "        retstr += \" \" + str(oper)\n",
    "        print(retstr)\n",
    "\n",
    "        text_low['text'] =\"\"\n",
    "        text_high['text'] = retstr\n",
    "    elif oper == 'ce':\n",
    "        text_low['text'] =\"\"\n",
    "        text_high['text'] = \"\"\n",
    "    elif oper == 'c':\n",
    "        text_low['text'] =\"\"\n",
    "    elif oper == '◁' and  text_low['text'] !=\"\":\n",
    "        text_low['text'] = text_low['text'][0:-1]\n",
    "    elif oper == '±' and (text_low['text'] !=\"\" or text_low['text'] !=\"0\") :\n",
    "        text_low['text'] = str(float(text_low['text'])*(-1))\n",
    "    elif oper == '=' and text_low['text'] !=\"\" :\n",
    "        txth = text_high['text'].strip()\n",
    "        txtl = text_low['text'].strip()\n",
    "        txth = txth.replace('×','*')\n",
    "        txth = txth.replace('÷','/')        \n",
    "        calTxt = str(txth+  str(float(txtl)))\n",
    "        retstr = str(eval(calTxt))\n",
    "\n",
    "        retstr += \" \"\n",
    "        print(retstr)\n",
    "\n",
    "        text_low['text'] =\"\"\n",
    "        text_high['text'] = retstr\n",
    "    \n",
    "    elif oper == 'º'and not('.' in text_low['text']):\n",
    "        if text_low['text'] == \"\":\n",
    "            text_low['text']+='0'\n",
    "        text_low['text'] +=\".\"\n"
   ]
  },
  {
   "cell_type": "markdown",
   "id": "f853f40c",
   "metadata": {},
   "source": [
    "##### 기본 컴포넌트 설정"
   ]
  },
  {
   "cell_type": "code",
   "execution_count": 5,
   "id": "7c0a7766",
   "metadata": {
    "ExecuteTime": {
     "end_time": "2021-06-23T02:24:53.052766Z",
     "start_time": "2021-06-23T02:24:53.038804Z"
    }
   },
   "outputs": [],
   "source": [
    "def NumBtnAddEvent(index):\n",
    "    global Number_btn\n",
    "    \n",
    "    Number_btn[index]['command'] = lambda : input_Num(index)\n",
    "    \n",
    "def OperBtnAddEvent(index,target):\n",
    "    global operator_btn\n",
    "    \n",
    "    operator_btn[index]['command'] = lambda : input_oper(target)\n",
    "    "
   ]
  },
  {
   "cell_type": "code",
   "execution_count": 6,
   "id": "ab8f0c1b",
   "metadata": {
    "ExecuteTime": {
     "end_time": "2021-06-23T02:24:53.098947Z",
     "start_time": "2021-06-23T02:24:53.054761Z"
    }
   },
   "outputs": [],
   "source": [
    "Number_btn = list()\n",
    "\n",
    "for i in range(0,10):\n",
    "    temp = Button(window,borderwidth=0, text=str(i))#, width=100, height=50) #\n",
    "    Number_btn.append(temp)\n",
    "    \n",
    "for i in range(0,10):\n",
    "    NumBtnAddEvent(i)\n",
    "\n",
    "text_high = Label(window,anchor='e',\n",
    "                  width=24,\n",
    "                  font=\"D2Coding 25\")\n",
    "text_low = Label(window,anchor='e',\n",
    "                 width=18,\n",
    "                 font=\"D2Coding 25\",\n",
    "                 borderwidth = 3,\n",
    "                relief=\"sunken\")\n",
    "\n",
    "\n",
    "operator_btn = list()\n",
    "oper_list=['+','-','×','÷','=','ce','c','±', '%','º','◁']\n",
    "\n",
    "for i in oper_list:\n",
    "    operator_btn.append(Button(window,borderwidth=0,text=str(i)))#, width=100, height=50))\n",
    "    \n",
    "for i in range(0,len(oper_list)):\n",
    "    OperBtnAddEvent(i,oper_list[i])\n"
   ]
  },
  {
   "cell_type": "code",
   "execution_count": 7,
   "id": "e85ef2e7",
   "metadata": {
    "ExecuteTime": {
     "end_time": "2021-06-23T02:24:54.265098Z",
     "start_time": "2021-06-23T02:24:53.101970Z"
    }
   },
   "outputs": [],
   "source": [
    "Num_img = list()\n",
    "for i in range(0,len(Number_btn)):\n",
    "    Num_img.append(PhotoImage(file = 'image/%s.png'%i))\n",
    "    Number_btn[i]['image'] = Num_img[i]\n",
    "\n",
    "oper_img = list()\n",
    "for i in range(0,len(oper_list)):\n",
    "    oper_img.append(PhotoImage(file = 'image/%s.png'%oper_list[i]))\n",
    "    operator_btn[i]['image'] = oper_img[i]\n"
   ]
  },
  {
   "cell_type": "markdown",
   "id": "bb64c74d",
   "metadata": {},
   "source": [
    "##### 기본 컴포넌트 배치"
   ]
  },
  {
   "cell_type": "code",
   "execution_count": 8,
   "id": "abaf5e7e",
   "metadata": {
    "ExecuteTime": {
     "end_time": "2021-06-23T02:24:54.281074Z",
     "start_time": "2021-06-23T02:24:54.269087Z"
    }
   },
   "outputs": [],
   "source": [
    "text_high.grid(row=0,column=0, columnspan=4)\n",
    "text_low.grid(row=1,column=0, columnspan=3)\n",
    "\n",
    "for i in range(1,10):\n",
    "    Number_btn[i].grid(row=(5-((i-1)//3)),column=((i-1)%3))\n",
    "Number_btn[0].grid(row=6,column=1)\n",
    "    \n",
    "oper_location = [[3,5],[3,4],[3,3],[3,2],[3,6],[1,2],[2,2],[0,6],[0,2],[2,6],[3,1] ]\n",
    "\n",
    "for i in range(0,len(oper_location)):\n",
    "    operator_btn[i].grid(row=oper_location[i][1],column=oper_location[i][0])\n",
    "\n"
   ]
  },
  {
   "cell_type": "code",
   "execution_count": null,
   "id": "13f69b4d",
   "metadata": {
    "ExecuteTime": {
     "start_time": "2021-06-23T02:24:52.549Z"
    }
   },
   "outputs": [],
   "source": [
    "text_high['text']=\"\"\n",
    "text_low['text']=\"\"\n",
    "\n",
    "window.mainloop()"
   ]
  }
 ],
 "metadata": {
  "kernelspec": {
   "display_name": "Python 3",
   "language": "python",
   "name": "python3"
  },
  "language_info": {
   "codemirror_mode": {
    "name": "ipython",
    "version": 3
   },
   "file_extension": ".py",
   "mimetype": "text/x-python",
   "name": "python",
   "nbconvert_exporter": "python",
   "pygments_lexer": "ipython3",
   "version": "3.8.8"
  },
  "varInspector": {
   "cols": {
    "lenName": 16,
    "lenType": 16,
    "lenVar": 40
   },
   "kernels_config": {
    "python": {
     "delete_cmd_postfix": "",
     "delete_cmd_prefix": "del ",
     "library": "var_list.py",
     "varRefreshCmd": "print(var_dic_list())"
    },
    "r": {
     "delete_cmd_postfix": ") ",
     "delete_cmd_prefix": "rm(",
     "library": "var_list.r",
     "varRefreshCmd": "cat(var_dic_list()) "
    }
   },
   "types_to_exclude": [
    "module",
    "function",
    "builtin_function_or_method",
    "instance",
    "_Feature"
   ],
   "window_display": false
  }
 },
 "nbformat": 4,
 "nbformat_minor": 5
}
