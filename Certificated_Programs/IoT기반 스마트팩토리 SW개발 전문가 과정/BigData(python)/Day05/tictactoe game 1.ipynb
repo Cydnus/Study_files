{
 "cells": [
  {
   "cell_type": "code",
   "execution_count": 20,
   "id": "b004c5ff",
   "metadata": {
    "ExecuteTime": {
     "end_time": "2021-06-23T02:33:36.889207Z",
     "start_time": "2021-06-23T02:33:36.881237Z"
    }
   },
   "outputs": [],
   "source": [
    "import turtle as t\n",
    "from tkinter import messagebox"
   ]
  },
  {
   "cell_type": "code",
   "execution_count": 21,
   "id": "962b0576",
   "metadata": {
    "ExecuteTime": {
     "end_time": "2021-06-23T02:33:36.904168Z",
     "start_time": "2021-06-23T02:33:36.891203Z"
    }
   },
   "outputs": [],
   "source": [
    "WIDTH = 3\n",
    "HEIGHT = 3"
   ]
  },
  {
   "cell_type": "code",
   "execution_count": 22,
   "id": "ebcdec1d",
   "metadata": {
    "ExecuteTime": {
     "end_time": "2021-06-23T02:33:37.230803Z",
     "start_time": "2021-06-23T02:33:36.907165Z"
    }
   },
   "outputs": [],
   "source": [
    "t.setup(600, 600)\n",
    "t.bgcolor(\"black\")\n",
    "t.color(\"white\")\n",
    "t.hideturtle()\n",
    "t.speed(10)\n",
    "t.width(10)\n",
    "t.up()"
   ]
  },
  {
   "cell_type": "code",
   "execution_count": 23,
   "id": "20151ae8",
   "metadata": {
    "ExecuteTime": {
     "end_time": "2021-06-23T02:33:38.793770Z",
     "start_time": "2021-06-23T02:33:37.233799Z"
    }
   },
   "outputs": [],
   "source": [
    "  \n",
    "for i in range(WIDTH) :\n",
    "    t.up()\n",
    "    t.goto(-300, i*200-300)\n",
    "    t.down()\n",
    "    t.forward(600)     \n",
    "t.left(90)\n",
    "    \n",
    "for i in range(1, HEIGHT) :\n",
    "    t.up()\n",
    "    t.goto(i*200-300, -300)\n",
    "    t.down()\n",
    "    t.forward(600)\n",
    "        \n",
    "t.pencolor(\"green\")\n",
    "t.up()"
   ]
  },
  {
   "cell_type": "code",
   "execution_count": 24,
   "id": "daf14ecb",
   "metadata": {
    "ExecuteTime": {
     "end_time": "2021-06-23T02:33:38.809565Z",
     "start_time": "2021-06-23T02:33:38.795638Z"
    }
   },
   "outputs": [],
   "source": [
    "def draw_x(x, y) :\n",
    "    t.up()\n",
    "    t.goto(x + 50, y - 200)\n",
    "    t.down()\n",
    "    t.write(\"X\", font = ('Arial', 100, 'normal'))"
   ]
  },
  {
   "cell_type": "code",
   "execution_count": 25,
   "id": "717732c6",
   "metadata": {
    "ExecuteTime": {
     "end_time": "2021-06-23T02:33:38.825536Z",
     "start_time": "2021-06-23T02:33:38.811560Z"
    }
   },
   "outputs": [],
   "source": [
    "def draw_o(x, y) :\n",
    "    t.up()\n",
    "    t.goto(x + 50, y - 200)\n",
    "    t.down()\n",
    "    t.write(\"O\", font = ('Arial', 100, 'normal'))"
   ]
  },
  {
   "cell_type": "code",
   "execution_count": 26,
   "id": "9c219dc0",
   "metadata": {
    "ExecuteTime": {
     "end_time": "2021-06-23T02:33:38.840780Z",
     "start_time": "2021-06-23T02:33:38.828521Z"
    }
   },
   "outputs": [],
   "source": [
    "def draw(board) :\n",
    "    x = -300\n",
    "    y = 300\n",
    "    for piece in board :\n",
    "        if piece == \"X\" :\n",
    "            draw_x(x, y)\n",
    "        elif piece == \"O\" :\n",
    "            draw_o(x, y)\n",
    "            \n",
    "        x += 200\n",
    "        if x >= 300 :\n",
    "            x = -300\n",
    "            y -= 200 "
   ]
  },
  {
   "cell_type": "code",
   "execution_count": 27,
   "id": "46b4dec5",
   "metadata": {
    "ExecuteTime": {
     "end_time": "2021-06-23T02:33:38.856692Z",
     "start_time": "2021-06-23T02:33:38.843727Z"
    }
   },
   "outputs": [],
   "source": [
    "board = [\"\", \"\", \"\", \"\", \"\", \"\", \"\", \"\", \"\"]\n",
    "nextTurn = \"O\""
   ]
  },
  {
   "cell_type": "markdown",
   "id": "de1b9a30",
   "metadata": {},
   "source": [
    "모양 잡아주기"
   ]
  },
  {
   "cell_type": "code",
   "execution_count": 28,
   "id": "ce0b89e1",
   "metadata": {
    "ExecuteTime": {
     "end_time": "2021-06-23T02:33:38.871907Z",
     "start_time": "2021-06-23T02:33:38.859700Z"
    }
   },
   "outputs": [],
   "source": [
    "def shape3_3(board):\n",
    "    temp = []\n",
    "    for i in range(0,HEIGHT):\n",
    "        t1 = list()\n",
    "        for j in range(0, WIDTH):\n",
    "            t1.append(board[i*3+j])\n",
    "        temp.append(t1)\n",
    "    return temp\n",
    "            "
   ]
  },
  {
   "cell_type": "markdown",
   "id": "b362b6a8",
   "metadata": {},
   "source": [
    "가로줄 확인"
   ]
  },
  {
   "cell_type": "code",
   "execution_count": 29,
   "id": "67219f9c",
   "metadata": {
    "ExecuteTime": {
     "end_time": "2021-06-23T02:33:38.887737Z",
     "start_time": "2021-06-23T02:33:38.873639Z"
    }
   },
   "outputs": [],
   "source": [
    "def checkLeft(board, x, y, check ):\n",
    "    '''왼쪽 같은지 확인'''\n",
    "    if ( x < 0 or x >= WIDTH ) or ( y < 0 or y >= HEIGHT  ) :\n",
    "        return 0\n",
    "    if board[y][x] == check :\n",
    "        return 1 + checkLeft(board,x-1,y,check)\n",
    "    return 0\n",
    "\n",
    "def checkRight(board, x, y, check ):\n",
    "    '''오른쪽 같은지 확인'''\n",
    "    if ( x < 0 or x >= WIDTH ) or ( y < 0 or y >= HEIGHT  ) :\n",
    "        return 0\n",
    "    if board[y][x] == check :\n",
    "        return 1 + checkLeft(board,x+1,y,check)\n",
    "    return 0\n"
   ]
  },
  {
   "cell_type": "markdown",
   "id": "98868ff0",
   "metadata": {},
   "source": [
    "세로줄 확인"
   ]
  },
  {
   "cell_type": "code",
   "execution_count": 30,
   "id": "f6fefe44",
   "metadata": {
    "ExecuteTime": {
     "end_time": "2021-06-23T02:33:38.903041Z",
     "start_time": "2021-06-23T02:33:38.889560Z"
    }
   },
   "outputs": [],
   "source": [
    "def checkUp(board, x, y, check ):\n",
    "    '''위쪽 같은지 확인'''\n",
    "    if ( x < 0 or x >= WIDTH ) or ( y < 0 or y >= HEIGHT  ) :\n",
    "        return 0\n",
    "    if board[y][x] == check :\n",
    "        return 1 + checkLeft(board,x,y-1,check)\n",
    "    return 0\n",
    "\n",
    "def checkDown(board, x, y, check ):\n",
    "    '''아래쪽 같은지 확인'''\n",
    "    if ( x < 0 or x >= WIDTH ) or ( y < 0 or y >= HEIGHT  ) :\n",
    "        return 0\n",
    "    if board[y][x] == check :\n",
    "        return 1 + checkLeft(board,x,y+1,check)\n",
    "    return 0"
   ]
  },
  {
   "cell_type": "markdown",
   "id": "219b6c5b",
   "metadata": {},
   "source": [
    "대각선 ↖↘"
   ]
  },
  {
   "cell_type": "code",
   "execution_count": 31,
   "id": "32f76d85",
   "metadata": {
    "ExecuteTime": {
     "end_time": "2021-06-23T02:33:38.917727Z",
     "start_time": "2021-06-23T02:33:38.905068Z"
    }
   },
   "outputs": [],
   "source": [
    "def checkLeftUp(board, x, y, check ):\n",
    "    '''대각선 왼쪽 위 같은지 확인'''\n",
    "    if ( x < 0 or x >= WIDTH ) or ( y < 0 or y >= HEIGHT  ) :\n",
    "        return 0\n",
    "    if board[y][x] == check :\n",
    "        return 1 + checkLeft(board,x-1,y-1,check)\n",
    "    return 0\n",
    "\n",
    "def checkRightDown(board, x, y, check ):\n",
    "    '''대각선 오른쪽 아래 같은지 확인'''\n",
    "    if ( x < 0 or x >= WIDTH ) or ( y < 0 or y >= HEIGHT  ) :\n",
    "        return 0\n",
    "    if board[y][x] == check :\n",
    "        return 1 + checkLeft(board,x+1,y+1,check)\n",
    "    return 0"
   ]
  },
  {
   "cell_type": "markdown",
   "id": "4efe5bca",
   "metadata": {},
   "source": [
    "대각선 ↗ ↙"
   ]
  },
  {
   "cell_type": "code",
   "execution_count": 32,
   "id": "d96f65a1",
   "metadata": {
    "ExecuteTime": {
     "end_time": "2021-06-23T02:33:38.933458Z",
     "start_time": "2021-06-23T02:33:38.918723Z"
    }
   },
   "outputs": [],
   "source": [
    "def checkRightUp(board, x, y, check ):\n",
    "    '''대각선 오른쪽 위 같은지 확인'''\n",
    "    if ( x < 0 or x >= WIDTH ) or ( y < 0 or y >= HEIGHT  ) :\n",
    "        return 0\n",
    "    if board[y][x] == check :\n",
    "        return 1 + checkLeft(board,x+1,y-1,check)\n",
    "    return 0\n",
    "\n",
    "def checkLeftDown(board, x, y, check ):\n",
    "    '''대각선 왼쪽 아래 같은지 확인'''\n",
    "    if ( x < 0 or x >= WIDTH ) or ( y < 0 or y >= HEIGHT  ) :\n",
    "        return 0\n",
    "    if board[y][x] == check :\n",
    "        return 1 + checkLeft(board,x-1,y+1,check)\n",
    "    return 0\n",
    "\n",
    "    "
   ]
  },
  {
   "cell_type": "markdown",
   "id": "b903ea57",
   "metadata": {},
   "source": [
    "확인  \n",
    "빈칸여부 -> 게임 무승부  \n",
    "각 방향 더해서 2(width-1, height-1 (WIDTH + HEIGHT)/2 -1)  ( 클릭된 부분 제외)이면 한 줄 가득 찼다고 판단  \n",
    "게임이 종료가 아니라면 None 반환"
   ]
  },
  {
   "cell_type": "code",
   "execution_count": 33,
   "id": "95680b6f",
   "metadata": {
    "ExecuteTime": {
     "end_time": "2021-06-23T02:33:38.948713Z",
     "start_time": "2021-06-23T02:33:38.935452Z"
    }
   },
   "outputs": [],
   "source": [
    "def GameCheck(board, cell, ch):\n",
    "    end_check = True\n",
    "    for i in board :\n",
    "        if i == '':\n",
    "            end_check = False\n",
    "            break\n",
    "            \n",
    "    shape = shape3_3(board)\n",
    "    x =cell%3\n",
    "    y = cell//3 \n",
    "    \n",
    "    if checkLeft(shape, x-1, y, ch) + checkRight(shape, x+1, y, ch) == WIDTH-1:\n",
    "        return shape[y][x]\n",
    "    elif checkUp(shape, x, y-1, ch) + checkDown(shape, x, y+1, ch) == HEIGHT-1:\n",
    "        return shape[y][x]\n",
    "    elif checkLeftUp(shape, x-1, y-1, ch) + checkRightDown(shape, x+1, y+1, ch) == (WIDTH + HEIGHT)/2 -1:\n",
    "        return shape[y][x]\n",
    "    elif checkRightUp(shape, x+1, y-1, ch) + checkLeftDown(shape, x-1, y+1, ch) == (WIDTH + HEIGHT)/2 -1:\n",
    "        return shape[y][x]\n",
    "    elif end_check :\n",
    "        return 'end'\n",
    "    return None"
   ]
  },
  {
   "cell_type": "markdown",
   "id": "798ad74b",
   "metadata": {},
   "source": [
    "기존 clicked부분 에 덮어쓰여지는것을 방지  \n",
    "클릭 이후 게임 종료 여부 확인"
   ]
  },
  {
   "cell_type": "code",
   "execution_count": 34,
   "id": "0589506d",
   "metadata": {
    "ExecuteTime": {
     "end_time": "2021-06-23T02:33:38.964026Z",
     "start_time": "2021-06-23T02:33:38.950777Z"
    }
   },
   "outputs": [],
   "source": [
    "def clicked(x, y) :\n",
    "    global nextTurn, board\n",
    "    print(x, \"\", y)\n",
    "    column = (x + 300) // 200\n",
    "    row = -(y - 300) // 200\n",
    "    cell = column + row * 3\n",
    "    cell = int(cell)\n",
    "    print(row, \"\", column)\n",
    "    if board[cell] ==\"\":\n",
    "        board[cell] = nextTurn\n",
    "        \n",
    "        if nextTurn == \"X\" : nextTurn = \"O\"\n",
    "        else : nextTurn = \"X\"\n",
    "        draw(board)\n",
    "        ch = GameCheck(board, cell, board[cell])\n",
    "        if ch == None:\n",
    "            return\n",
    "        elif ch == board[cell]:\n",
    "            messagebox.showinfo('','%s 승리' %board[cell])\n",
    "            t.bye()\n",
    "        elif ch == 'end':\n",
    "            messagebox.showinfo('','게임이 종료되었습니다.')\n",
    "            t.bye()\n",
    "        \n"
   ]
  },
  {
   "cell_type": "code",
   "execution_count": null,
   "id": "311fc687",
   "metadata": {
    "ExecuteTime": {
     "start_time": "2021-06-23T02:33:36.915Z"
    }
   },
   "outputs": [
    {
     "name": "stdout",
     "output_type": "stream",
     "text": [
      "-39.0  -6.0\n",
      "1.0  1.0\n",
      "-179.0  14.0\n",
      "1.0  0.0\n",
      "-169.0  150.0\n",
      "0.0  0.0\n",
      "234.0  -239.0\n",
      "2.0  2.0\n",
      "159.0  155.0\n",
      "0.0  2.0\n",
      "-159.0  -194.0\n",
      "2.0  0.0\n",
      "-9.0  164.0\n",
      "0.0  1.0\n"
     ]
    }
   ],
   "source": [
    "  \n",
    "draw(board)\n",
    "t.onscreenclick(clicked)\n",
    "t.mainloop()"
   ]
  },
  {
   "cell_type": "code",
   "execution_count": null,
   "id": "924b7ac5",
   "metadata": {},
   "outputs": [],
   "source": []
  }
 ],
 "metadata": {
  "kernelspec": {
   "display_name": "Python 3",
   "language": "python",
   "name": "python3"
  },
  "language_info": {
   "codemirror_mode": {
    "name": "ipython",
    "version": 3
   },
   "file_extension": ".py",
   "mimetype": "text/x-python",
   "name": "python",
   "nbconvert_exporter": "python",
   "pygments_lexer": "ipython3",
   "version": "3.8.8"
  },
  "varInspector": {
   "cols": {
    "lenName": 16,
    "lenType": 16,
    "lenVar": 40
   },
   "kernels_config": {
    "python": {
     "delete_cmd_postfix": "",
     "delete_cmd_prefix": "del ",
     "library": "var_list.py",
     "varRefreshCmd": "print(var_dic_list())"
    },
    "r": {
     "delete_cmd_postfix": ") ",
     "delete_cmd_prefix": "rm(",
     "library": "var_list.r",
     "varRefreshCmd": "cat(var_dic_list()) "
    }
   },
   "types_to_exclude": [
    "module",
    "function",
    "builtin_function_or_method",
    "instance",
    "_Feature"
   ],
   "window_display": false
  }
 },
 "nbformat": 4,
 "nbformat_minor": 5
}
