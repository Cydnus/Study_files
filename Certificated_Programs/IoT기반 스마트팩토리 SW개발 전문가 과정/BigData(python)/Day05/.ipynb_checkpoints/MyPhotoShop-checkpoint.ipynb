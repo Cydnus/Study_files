{
 "cells": [
  {
   "cell_type": "markdown",
   "id": "916b9b1d",
   "metadata": {},
   "source": [
    "필요한 모듈 불러오기"
   ]
  },
  {
   "cell_type": "code",
   "execution_count": 19,
   "id": "12e05bf5",
   "metadata": {
    "ExecuteTime": {
     "end_time": "2021-06-14T00:51:17.782317Z",
     "start_time": "2021-06-14T00:51:17.774279Z"
    }
   },
   "outputs": [],
   "source": [
    "import tkinter as tk\n",
    "from tkinter import messagebox, filedialog\n",
    "from PIL import Image, ImageTk\n",
    "import os"
   ]
  },
  {
   "cell_type": "markdown",
   "id": "deed976a",
   "metadata": {},
   "source": [
    "메뉴 -> 파일 -> 열기  \n",
    "이미지 불러오기"
   ]
  },
  {
   "cell_type": "code",
   "execution_count": 20,
   "id": "321b19c7",
   "metadata": {
    "ExecuteTime": {
     "end_time": "2021-06-14T00:51:17.797218Z",
     "start_time": "2021-06-14T00:51:17.784252Z"
    }
   },
   "outputs": [],
   "source": [
    "def open_file():\n",
    "    global  window\n",
    "    filename = filedialog.askopenfilename(initialdir=\"./\", title=\"Select file\",\n",
    "                                          filetypes=((\"Image File\", \"*.png\"),\n",
    "                                          (\"all files\", \"*.*\")))\n",
    "    \n",
    "    openimg = Image.open(os.path.abspath(filename))\n",
    "    img = ImageTk.PhotoImage(openimg)\n",
    "\n",
    "    window.geometry('%sx%s'%(openimg.size[0],openimg.size[1]))\n",
    "\n",
    "    canvas = tk.Canvas(window,width=openimg.size[0], height= openimg.size[1])\n",
    "\n",
    "    canvas.create_image(0, 0,anchor='nw' ,image=img )\n",
    "    canvas.image =img\n",
    "    canvas.pack(fill='both')\n",
    "    "
   ]
  },
  {
   "cell_type": "markdown",
   "id": "957c75fb",
   "metadata": {},
   "source": [
    "메뉴 -> 파일 -> 종료"
   ]
  },
  {
   "cell_type": "code",
   "execution_count": 21,
   "id": "42ba977b",
   "metadata": {
    "ExecuteTime": {
     "end_time": "2021-06-14T00:51:17.813237Z",
     "start_time": "2021-06-14T00:51:17.800223Z"
    }
   },
   "outputs": [],
   "source": [
    "def quit_window():\n",
    "    global windoww\n",
    "    window.quit()"
   ]
  },
  {
   "cell_type": "markdown",
   "id": "fe347b33",
   "metadata": {},
   "source": [
    "Tk설정"
   ]
  },
  {
   "cell_type": "code",
   "execution_count": 22,
   "id": "215bffd8",
   "metadata": {
    "ExecuteTime": {
     "end_time": "2021-06-14T00:51:17.968936Z",
     "start_time": "2021-06-14T00:51:17.816168Z"
    }
   },
   "outputs": [],
   "source": [
    "window = tk.Tk()"
   ]
  },
  {
   "cell_type": "markdown",
   "id": "f073a22c",
   "metadata": {},
   "source": [
    "메뉴바 설정"
   ]
  },
  {
   "cell_type": "code",
   "execution_count": 23,
   "id": "8ac9840c",
   "metadata": {
    "ExecuteTime": {
     "end_time": "2021-06-14T00:51:17.999970Z",
     "start_time": "2021-06-14T00:51:17.969899Z"
    }
   },
   "outputs": [],
   "source": [
    "\n",
    "menubar = tk.Menu(window)\n",
    "filemenu = tk.Menu(menubar,tearoff=0)\n",
    "imgprocessmenu = tk.Menu(menubar,tearoff=0)\n",
    "\n",
    "filemenu.add_command(label=\"열기\", command=open_file)\n",
    "filemenu.add_command(label=\"종료\", command=quit_window)\n",
    "\n",
    "imgprocessmenu.add_command(label=\"영상회전\")\n",
    "imgprocessmenu.add_command(label=\"선명하게\")\n",
    "\n",
    "menubar.add_cascade(label=\"파일\",menu=filemenu)\n",
    "menubar.add_cascade(label=\"영상처리\",menu=imgprocessmenu)\n",
    "\n",
    "window.config(menu=menubar)"
   ]
  },
  {
   "cell_type": "code",
   "execution_count": null,
   "id": "769b356f",
   "metadata": {},
   "outputs": [],
   "source": []
  },
  {
   "cell_type": "markdown",
   "id": "d5a56a44",
   "metadata": {},
   "source": [
    "메인 반복"
   ]
  },
  {
   "cell_type": "code",
   "execution_count": 24,
   "id": "1bdd52a5",
   "metadata": {
    "ExecuteTime": {
     "end_time": "2021-06-14T00:51:23.714919Z",
     "start_time": "2021-06-14T00:51:18.001992Z"
    }
   },
   "outputs": [],
   "source": [
    "window.mainloop()"
   ]
  }
 ],
 "metadata": {
  "kernelspec": {
   "display_name": "Python 3",
   "language": "python",
   "name": "python3"
  },
  "language_info": {
   "codemirror_mode": {
    "name": "ipython",
    "version": 3
   },
   "file_extension": ".py",
   "mimetype": "text/x-python",
   "name": "python",
   "nbconvert_exporter": "python",
   "pygments_lexer": "ipython3",
   "version": "3.8.8"
  },
  "varInspector": {
   "cols": {
    "lenName": 16,
    "lenType": 16,
    "lenVar": 40
   },
   "kernels_config": {
    "python": {
     "delete_cmd_postfix": "",
     "delete_cmd_prefix": "del ",
     "library": "var_list.py",
     "varRefreshCmd": "print(var_dic_list())"
    },
    "r": {
     "delete_cmd_postfix": ") ",
     "delete_cmd_prefix": "rm(",
     "library": "var_list.r",
     "varRefreshCmd": "cat(var_dic_list()) "
    }
   },
   "types_to_exclude": [
    "module",
    "function",
    "builtin_function_or_method",
    "instance",
    "_Feature"
   ],
   "window_display": false
  }
 },
 "nbformat": 4,
 "nbformat_minor": 5
}
