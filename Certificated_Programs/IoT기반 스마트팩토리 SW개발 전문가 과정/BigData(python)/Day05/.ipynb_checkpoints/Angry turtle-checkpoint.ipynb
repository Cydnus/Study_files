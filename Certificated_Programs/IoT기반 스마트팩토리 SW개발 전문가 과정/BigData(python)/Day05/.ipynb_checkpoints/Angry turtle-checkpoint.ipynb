{
 "cells": [
  {
   "cell_type": "code",
   "execution_count": 1,
   "id": "e14abf21",
   "metadata": {
    "ExecuteTime": {
     "end_time": "2021-06-23T02:30:55.329528Z",
     "start_time": "2021-06-23T02:30:55.264630Z"
    }
   },
   "outputs": [],
   "source": [
    "import turtle \n",
    "import math "
   ]
  },
  {
   "cell_type": "code",
   "execution_count": 2,
   "id": "75c4e793",
   "metadata": {
    "ExecuteTime": {
     "end_time": "2021-06-23T02:30:55.658814Z",
     "start_time": "2021-06-23T02:30:55.331313Z"
    }
   },
   "outputs": [],
   "source": [
    "t = turtle.Turtle()\n",
    "turtle.ht()\n",
    "t.shape('turtle')\n",
    "screen = turtle.Screen()\n",
    "turtle.setup(width = 800, height = 450)\n",
    "t.speed(8)"
   ]
  },
  {
   "cell_type": "code",
   "execution_count": 3,
   "id": "f183f5a9",
   "metadata": {
    "ExecuteTime": {
     "end_time": "2021-06-23T02:30:55.674393Z",
     "start_time": "2021-06-23T02:30:55.661453Z"
    }
   },
   "outputs": [],
   "source": [
    "vx = 0\n",
    "vy = 0\n",
    "v = (vx + vy)/2\n",
    "x = -380\n",
    "y = -200"
   ]
  },
  {
   "cell_type": "code",
   "execution_count": 4,
   "id": "3669aa2c",
   "metadata": {
    "ExecuteTime": {
     "end_time": "2021-06-23T02:30:55.860501Z",
     "start_time": "2021-06-23T02:30:55.677386Z"
    }
   },
   "outputs": [],
   "source": [
    "t.up()\n",
    "t.goto(x,y)\n",
    "t.down()"
   ]
  },
  {
   "cell_type": "code",
   "execution_count": 5,
   "id": "894f5a0c",
   "metadata": {
    "ExecuteTime": {
     "end_time": "2021-06-23T02:30:55.876463Z",
     "start_time": "2021-06-23T02:30:55.863496Z"
    }
   },
   "outputs": [],
   "source": [
    "velocity = 50\n",
    "angle = t.heading()"
   ]
  },
  {
   "cell_type": "code",
   "execution_count": 6,
   "id": "06358c95",
   "metadata": {
    "ExecuteTime": {
     "end_time": "2021-06-23T02:30:55.892420Z",
     "start_time": "2021-06-23T02:30:55.878457Z"
    }
   },
   "outputs": [],
   "source": [
    "spaceCheck = False"
   ]
  },
  {
   "cell_type": "code",
   "execution_count": 7,
   "id": "6bc48d71",
   "metadata": {
    "ExecuteTime": {
     "end_time": "2021-06-23T02:30:55.908377Z",
     "start_time": "2021-06-23T02:30:55.894425Z"
    }
   },
   "outputs": [],
   "source": [
    "def up():\n",
    "    global angle,t\n",
    "    angle += 5\n",
    "    if angle > 90 :\n",
    "        angle = 90\n",
    "    t.setheading(angle)\n",
    "\n",
    "def down():\n",
    "    global angle,t\n",
    "    angle -=5\n",
    "    if angle < 0 :\n",
    "        angle = 0\n",
    "    t.setheading(angle)\n",
    "        \n",
    "        \n",
    "def space():\n",
    "    global vx,vy, spaceCheck, angle, v\n",
    "    if not spaceCheck :\n",
    "        spaceCheck = True\n",
    "        before_vy = vy\n",
    "        vx = velocity * math.cos(angle*3.14/180.0)\n",
    "        vy = velocity * math.sin(angle*3.14/180.0)\n",
    "        temp_y = velocity * math.sin(angle*3.14/180.0)\n",
    "        while abs(vy-10) < temp_y :\n",
    "            draw()\n",
    "        else :\n",
    "            spaceCheck = False"
   ]
  },
  {
   "cell_type": "code",
   "execution_count": 8,
   "id": "6c04ca78",
   "metadata": {
    "ExecuteTime": {
     "end_time": "2021-06-23T02:30:55.924369Z",
     "start_time": "2021-06-23T02:30:55.912367Z"
    }
   },
   "outputs": [],
   "source": [
    "def draw():\n",
    "    global vx,vy,x,y,t,angle,v,velocity\n",
    "    \n",
    "    vx = vx\n",
    "    vy = vy - 10    \n",
    "    v = (x**2 + vy**2)**0.5\n",
    "    print(vx,vy,v)\n",
    "    \n",
    "    x = x +vx\n",
    "    y = y+ vy \n",
    "    if y <= -200 :\n",
    "        y = -200\n",
    "    \n",
    "    angle = math.asin(vy/velocity)\n",
    "    \n",
    "    t.setheading((360+angle)%360)\n",
    "    \n",
    "    t.goto(x,y)\n"
   ]
  },
  {
   "cell_type": "code",
   "execution_count": 9,
   "id": "5597ebfd",
   "metadata": {
    "ExecuteTime": {
     "end_time": "2021-06-23T02:30:55.940292Z",
     "start_time": "2021-06-23T02:30:55.927326Z"
    }
   },
   "outputs": [],
   "source": [
    "\n",
    "screen.onkeypress(up, \"Up\")\n",
    "screen.onkeypress(down, \"Down\")\n",
    "\n",
    "screen.onkeypress(space, \"space\")\n",
    "\n",
    "screen.listen() # 프로그램 활성화"
   ]
  },
  {
   "cell_type": "code",
   "execution_count": null,
   "id": "603f41b7",
   "metadata": {
    "ExecuteTime": {
     "start_time": "2021-06-23T02:30:55.289Z"
    }
   },
   "outputs": [
    {
     "name": "stdout",
     "output_type": "stream",
     "text": [
      "12.972999095744115 38.2876929917119 381.9240074080544\n",
      "12.972999095744115 28.2876929917119 368.11548862763976\n",
      "12.972999095744115 18.2876929917119 354.5259876392431\n",
      "12.972999095744115 8.2876929917119 341.18167633486985\n",
      "12.972999095744115 -1.7123070082881 328.11247162038717\n",
      "12.972999095744115 -11.7123070082881 315.35257920315667\n",
      "12.972999095744115 -21.7123070082881 302.9410863491504\n",
      "12.972999095744115 -31.7123070082881 290.9225872939396\n",
      "12.972999095744115 -41.7123070082881 279.3478104590634\n"
     ]
    }
   ],
   "source": [
    "\n",
    "turtle.mainloop()"
   ]
  }
 ],
 "metadata": {
  "kernelspec": {
   "display_name": "Python 3",
   "language": "python",
   "name": "python3"
  },
  "language_info": {
   "codemirror_mode": {
    "name": "ipython",
    "version": 3
   },
   "file_extension": ".py",
   "mimetype": "text/x-python",
   "name": "python",
   "nbconvert_exporter": "python",
   "pygments_lexer": "ipython3",
   "version": "3.8.8"
  },
  "varInspector": {
   "cols": {
    "lenName": 16,
    "lenType": 16,
    "lenVar": 40
   },
   "kernels_config": {
    "python": {
     "delete_cmd_postfix": "",
     "delete_cmd_prefix": "del ",
     "library": "var_list.py",
     "varRefreshCmd": "print(var_dic_list())"
    },
    "r": {
     "delete_cmd_postfix": ") ",
     "delete_cmd_prefix": "rm(",
     "library": "var_list.r",
     "varRefreshCmd": "cat(var_dic_list()) "
    }
   },
   "types_to_exclude": [
    "module",
    "function",
    "builtin_function_or_method",
    "instance",
    "_Feature"
   ],
   "window_display": false
  }
 },
 "nbformat": 4,
 "nbformat_minor": 5
}
