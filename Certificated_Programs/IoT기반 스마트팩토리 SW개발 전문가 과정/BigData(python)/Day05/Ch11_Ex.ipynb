{
 "cells": [
  {
   "cell_type": "markdown",
   "id": "1150f11f",
   "metadata": {},
   "source": [
    "#### TK inter face"
   ]
  },
  {
   "cell_type": "code",
   "execution_count": 13,
   "id": "61a5e29c",
   "metadata": {},
   "outputs": [],
   "source": [
    "from tkinter import *\n",
    "\n",
    "window = Tk()\n",
    "\n",
    "button = Button(window,text=\"클릭하세요\")\n",
    "\n",
    "button.pack()\n",
    "\n",
    "window.mainloop()\n"
   ]
  },
  {
   "cell_type": "markdown",
   "id": "7b9b7bfe",
   "metadata": {},
   "source": [
    "#### tk 윈도우 배치\n",
    "종류|역할\n",
    "---|---\n",
    "Pack|압축 배치 관리\n",
    "place|절대 배치 관리\n",
    "Grid|격자 배치 관리\n"
   ]
  },
  {
   "cell_type": "code",
   "execution_count": 14,
   "id": "08db7f6b",
   "metadata": {},
   "outputs": [],
   "source": [
    "from tkinter import *\n",
    "\n",
    "window = Tk()\n",
    "\n",
    "bgcolor=['red','green','blue']\n",
    "fgcolor=['white','black','white']\n",
    "for i in range(0,41,20):\n",
    "    w = Label(window,text='박스#%d'%(i//20+1) ,bg=bgcolor[i//20],fg=fgcolor[i//20])\n",
    "    w.place(x=i,y=i)\n",
    "    \n",
    "window.mainloop()\n"
   ]
  },
  {
   "cell_type": "markdown",
   "id": "ee5894a5",
   "metadata": {},
   "source": [
    "#### Tk  Grid"
   ]
  },
  {
   "cell_type": "code",
   "execution_count": 15,
   "id": "1433c74b",
   "metadata": {},
   "outputs": [],
   "source": [
    "from tkinter import *\n",
    "\n",
    "window = Tk()\n",
    "\n",
    "l1 = Label(window,text='화씨')\n",
    "l2 = Label(window,text='섭씨')\n",
    "\n",
    "l1.grid(row=0,column=0)\n",
    "l2.grid(row=1,column=0)\n",
    "\n",
    "e1 = Entry(window)\n",
    "e2 = Entry(window)\n",
    "\n",
    "e1.grid(row=0, column=1)\n",
    "e2.grid(row=1, column=1)\n",
    "\n",
    "b1 = Button(window, text=\"℃ → ℉\")\n",
    "b2 = Button(window, text=\"℉ → ℃\")\n",
    "\n",
    "b1.grid(row=2, column=0)\n",
    "b2.grid(row=2, column=1)\n",
    "\n",
    "window.mainloop()"
   ]
  },
  {
   "cell_type": "markdown",
   "id": "a169f9fb",
   "metadata": {},
   "source": [
    "#### Tk 이벤트 처리"
   ]
  },
  {
   "cell_type": "code",
   "execution_count": 16,
   "id": "2adbcc1b",
   "metadata": {},
   "outputs": [],
   "source": [
    "from tkinter import *\n",
    "\n",
    "window = Tk()\n",
    "\n",
    "def btn_click():\n",
    "    print(\"hello?\")\n",
    "\n",
    "button = Button(window,text=\"클릭하세요\", command=btn_click)\n",
    "\n",
    "button.pack()\n",
    "\n",
    "window.mainloop()\n"
   ]
  },
  {
   "cell_type": "markdown",
   "id": "d9e1ed59",
   "metadata": {},
   "source": [
    "#### tk 버튼 이벤트 -> 엔트리에 추가"
   ]
  },
  {
   "cell_type": "code",
   "execution_count": 17,
   "id": "7106447c",
   "metadata": {},
   "outputs": [],
   "source": [
    "from tkinter import *\n",
    "\n",
    "def btn1_click():\n",
    "    e1.insert(0,'100')\n",
    "    #n 번쨰 위치에 문자열 삽입\n",
    "    \n",
    "window = Tk()\n",
    "\n",
    "l1 = Label(window,text='화씨')\n",
    "l2 = Label(window,text='섭씨')\n",
    "\n",
    "l1.grid(row=0,column=0)\n",
    "l2.grid(row=1,column=0)\n",
    "\n",
    "e1 = Entry(window)\n",
    "e2 = Entry(window)\n",
    "\n",
    "e1.grid(row=0, column=1)\n",
    "e2.grid(row=1, column=1)\n",
    "\n",
    "b1 = Button(window, text=\"℃ → ℉\",command=btn1_click)\n",
    "b2 = Button(window, text=\"℉ → ℃\")\n",
    "\n",
    "b1.grid(row=2, column=0)\n",
    "b2.grid(row=2, column=1)\n",
    "\n",
    "window.mainloop()"
   ]
  },
  {
   "cell_type": "markdown",
   "id": "25dba082",
   "metadata": {},
   "source": [
    "#### Tk 섭씨/화씨 변환기"
   ]
  },
  {
   "cell_type": "code",
   "execution_count": 18,
   "id": "e6bc8fcb",
   "metadata": {},
   "outputs": [],
   "source": [
    "from tkinter import *\n",
    "\n",
    "def CToF():\n",
    "    c = int(e2.get())\n",
    "    f = e1.get()\n",
    "    e1.delete(0, len(f))\n",
    "    f = 9/5*c+32\n",
    "    e1.insert(0,str(f))\n",
    "    \n",
    "def FToC():\n",
    "    f = int(e1.get())\n",
    "    c = e2.get()\n",
    "    e2.delete(0, len(c))\n",
    "    c = (f-32)*5/9\n",
    "    e2.insert(0,str(c))\n",
    "    \n",
    "    \n",
    "window = Tk()\n",
    "\n",
    "l1 = Label(window,text='화씨(℉)')\n",
    "l2 = Label(window,text='섭씨(℃)')\n",
    "\n",
    "l1.grid(row=0,column=0)\n",
    "l2.grid(row=1,column=0)\n",
    "\n",
    "e1 = Entry(window)\n",
    "e2 = Entry(window)\n",
    "\n",
    "e1.grid(row=0, column=1)\n",
    "e2.grid(row=1, column=1)\n",
    "\n",
    "b1 = Button(window, text=\"℃ → ℉\",command=CToF)\n",
    "b2 = Button(window, text=\"℉ → ℃\", command=FToC)\n",
    "\n",
    "b1.grid(row=2, column=0)\n",
    "b2.grid(row=2, column=1)\n",
    "\n",
    "window.mainloop()"
   ]
  },
  {
   "cell_type": "markdown",
   "id": "69b1a813",
   "metadata": {},
   "source": [
    "#### tk 글자체 배경색 변경\n",
    "구분|옵션명|예제\n",
    "---|---|---\n",
    "글자체|font|,font='helvetica 12'\n",
    "이벤트|command|,command=처리 함수 명\n",
    "글자색(전경색)|fg|,fg='blue'\n",
    "배경색|bg|,bg='green'"
   ]
  },
  {
   "cell_type": "code",
   "execution_count": 19,
   "id": "271bc9c2",
   "metadata": {},
   "outputs": [],
   "source": [
    "from tkinter import *\n",
    "from tkinter import messagebox\n",
    "\n",
    "def CToF():\n",
    "    try:\n",
    "        c = int(e2.get())\n",
    "        f = e1.get()\n",
    "        e1.delete(0, len(f))\n",
    "        f = 9/5*c+32\n",
    "        e1.insert(0,str(f))\n",
    "    except ValueError:\n",
    "        messagebox.showerror(\"입력 오류\", \"올바른 값을 입력하여 주십시오\")\n",
    "    \n",
    "def FToC():\n",
    "    try:\n",
    "        f = int(e1.get())\n",
    "        c = e2.get()\n",
    "        e2.delete(0, len(c))\n",
    "        c = (f-32)*5/9\n",
    "        e2.insert(0,str(c))\n",
    "    except ValueError:\n",
    "        messagebox.showerror(\"입력 오류\", \"올바른 값을 입력하여 주십시오\")\n",
    "    \n",
    "    \n",
    "window = Tk()\n",
    "\n",
    "l1 = Label(window,text='화씨(℉)',font=\"메이플스토리\\ OTF 14\")\n",
    "l2 = Label(window,text='섭씨(℃)',font=\"메이플스토리\\ OTF 14\")\n",
    "\n",
    "l1.grid(row=0,column=0)\n",
    "l2.grid(row=1,column=0)\n",
    "\n",
    "e1 = Entry(window,font='console 14',bg=\"lightgray\")\n",
    "e2 = Entry(window,font='console 14',bg='lightgray')\n",
    "\n",
    "e1.grid(row=0, column=1)\n",
    "e2.grid(row=1, column=1)\n",
    "\n",
    "b1 = Button(window, text=\"℃ → ℉\",command=CToF,font=\"D2Coding 14\")\n",
    "b2 = Button(window, text=\"℉ → ℃\", command=FToC,font=\"D2Coding 14\")\n",
    "\n",
    "b1.grid(row=2, column=0)\n",
    "b2.grid(row=2, column=1)\n",
    "\n",
    "window.mainloop()"
   ]
  },
  {
   "cell_type": "markdown",
   "id": "7a3d2bfa",
   "metadata": {},
   "source": [
    "#### Tk 메뉴"
   ]
  },
  {
   "cell_type": "code",
   "execution_count": 20,
   "id": "c265e3b6",
   "metadata": {},
   "outputs": [],
   "source": [
    "import tkinter as tk\n",
    "\n",
    "def open_file():\n",
    "    tk.messagebox.showinfo(\"열기 버튼\", \"파일 -> 열기 메뉴가 클릭되었습니다.\")\n",
    "    \n",
    "def quit_window():\n",
    "    window.quit()\n",
    "    \n",
    "window = tk.Tk()\n",
    "\n",
    "menubar = tk.Menu(window)\n",
    "filemenu = tk.Menu(menubar)\n",
    "\n",
    "filemenu.add_command(label=\"열기\", command=open_file)\n",
    "filemenu.add_command(label=\"종료\", command=quit_window)\n",
    "\n",
    "menubar.add_cascade(label=\"파일\",menu=filemenu)\n",
    "\n",
    "window.config(menu=menubar)\n",
    "window.mainloop()"
   ]
  },
  {
   "cell_type": "markdown",
   "id": "14be2d3e",
   "metadata": {},
   "source": [
    "#### Tk paint Prog\n",
    "mouse Event"
   ]
  },
  {
   "cell_type": "code",
   "execution_count": 21,
   "id": "d11003d1",
   "metadata": {},
   "outputs": [],
   "source": [
    "import tkinter as tk\n",
    "\n",
    "def paint(event):\n",
    "    x1,y1 = (event.x-1),(event.y+1)\n",
    "    x2,y2 = (event.x-1),(event.y+1)\n",
    "    \n",
    "    canvas.create_oval(x1,y1,x2,y2)\n",
    "\n",
    "window = tk.Tk()\n",
    "canvas = tk.Canvas(window)\n",
    "canvas.pack()\n",
    "canvas.bind(\"<B1-Motion>\",paint)\n",
    "window.mainloop()\n"
   ]
  },
  {
   "cell_type": "markdown",
   "id": "0a5454d0",
   "metadata": {},
   "source": [
    "#### pillow 이미지 메뉴와 연결"
   ]
  },
  {
   "cell_type": "code",
   "execution_count": 1,
   "id": "270f14da",
   "metadata": {
    "ExecuteTime": {
     "end_time": "2021-06-14T00:37:24.786732Z",
     "start_time": "2021-06-14T00:37:16.362494Z"
    }
   },
   "outputs": [],
   "source": [
    "import tkinter as tk\n",
    "from tkinter import messagebox\n",
    "from PIL import Image, ImageTk\n",
    "import os\n",
    "\n",
    "def open_file():\n",
    "    messagebox.showinfo(\"열기 버튼\", \"파일 -> 열기 메뉴가 클릭되었습니다.\")\n",
    "    \n",
    "def quit_window():\n",
    "    window.quit()\n",
    "    \n",
    "    \n",
    "window = tk.Tk()\n",
    "\n",
    "menubar = tk.Menu(window)\n",
    "filemenu = tk.Menu(menubar)\n",
    "imgprocessmenu = tk.Menu(menubar)\n",
    "\n",
    "filemenu.add_command(label=\"열기\", command=open_file)\n",
    "filemenu.add_command(label=\"종료\", command=quit_window)\n",
    "\n",
    "imgprocessmenu.add_command(label=\"영상회전\")\n",
    "imgprocessmenu.add_command(label=\"선명하게\")\n",
    "\n",
    "menubar.add_cascade(label=\"파일\",menu=filemenu)\n",
    "menubar.add_cascade(label=\"영상처리\",menu=imgprocessmenu)\n",
    "\n",
    "window.config(menu=menubar)\n",
    "\n",
    "\n",
    "openimg = Image.open(os.path.abspath(\"./Lenna.png\"))\n",
    "img = ImageTk.PhotoImage(openimg)\n",
    "\n",
    "window.geometry('%sx%s'%(openimg.size[0],openimg.size[1]))\n",
    "\n",
    "canvas = tk.Canvas(window,width=openimg.size[0], height= openimg.size[1])\n",
    "\n",
    "canvas.create_image(0, 0,anchor='nw' ,image=img )\n",
    "canvas.image =img\n",
    "canvas.pack(fill='both')\n",
    "\n",
    "window.mainloop()"
   ]
  },
  {
   "cell_type": "markdown",
   "id": "9bf978c0",
   "metadata": {},
   "source": [
    "#### matplotlib 그래프그리기"
   ]
  },
  {
   "cell_type": "code",
   "execution_count": 23,
   "id": "eb3c23df",
   "metadata": {},
   "outputs": [
    {
     "data": {
      "image/png": "[encoded data removed]",
      "text/plain": [
       "<Figure size 432x288 with 1 Axes>"
      ]
     },
     "metadata": {
      "needs_background": "light"
     },
     "output_type": "display_data"
    }
   ],
   "source": [
    "from matplotlib import pyplot as plt\n",
    "\n",
    "x = [1,2,3]\n",
    "y = [1,2,3]\n",
    "\n",
    "plt.plot(x,y,marker='o')\n",
    "plt.xlabel('x')\n",
    "plt.ylabel('y')\n",
    "\n",
    "plt.legend(['test'])\n",
    "\n",
    "plt.show()"
   ]
  },
  {
   "cell_type": "markdown",
   "id": "c8edc69d",
   "metadata": {},
   "source": [
    "#### Matplotlib 강수량"
   ]
  },
  {
   "cell_type": "code",
   "execution_count": 24,
   "id": "a9889de7",
   "metadata": {},
   "outputs": [
    {
     "data": {
      "image/png": "[encoded data removed]",
      "text/plain": [
       "<Figure size 432x288 with 1 Axes>"
      ]
     },
     "metadata": {
      "needs_background": "light"
     },
     "output_type": "display_data"
    }
   ],
   "source": [
    "from matplotlib import pyplot as plt\n",
    "\n",
    "from matplotlib import font_manager, rc\n",
    "font_path = \"C:/Users/kccistc/Downloads/font/Maplestory OTF Light.otf\"\n",
    "font = font_manager.FontProperties(fname=font_path).get_name()\n",
    "rc('font', family=font)\n",
    "\n",
    "\n",
    "weather_x = []\n",
    "weather_y = []\n",
    "\n",
    "with open('weather_input.csv','r' ,newline='') as csv:\n",
    "    line = csv.readline()\n",
    "    while line !=\"\":\n",
    "        line = line.strip()\n",
    "        words = line.split(',')\n",
    "        weather_x.append(words[0].strip())\n",
    "        #temp.append(words[1].strip())\n",
    "        weather_y.append(words[2].strip())\n",
    "        \n",
    "        line = csv.readline()\n",
    "        \n",
    "plt.plot(weather_x,weather_y,marker='o')\n",
    "plt.title(\"2009년 대관령 월평균 강수량\")\n",
    "plt.ylabel(\"강수량(mm)\")\n",
    "plt.xlabel('월')\n",
    "\n",
    "plt.show()"
   ]
  },
  {
   "cell_type": "code",
   "execution_count": null,
   "id": "d2863594",
   "metadata": {},
   "outputs": [],
   "source": []
  }
 ],
 "metadata": {
  "kernelspec": {
   "display_name": "Python 3",
   "language": "python",
   "name": "python3"
  },
  "language_info": {
   "codemirror_mode": {
    "name": "ipython",
    "version": 3
   },
   "file_extension": ".py",
   "mimetype": "text/x-python",
   "name": "python",
   "nbconvert_exporter": "python",
   "pygments_lexer": "ipython3",
   "version": "3.8.8"
  },
  "varInspector": {
   "cols": {
    "lenName": 16,
    "lenType": 16,
    "lenVar": 40
   },
   "kernels_config": {
    "python": {
     "delete_cmd_postfix": "",
     "delete_cmd_prefix": "del ",
     "library": "var_list.py",
     "varRefreshCmd": "print(var_dic_list())"
    },
    "r": {
     "delete_cmd_postfix": ") ",
     "delete_cmd_prefix": "rm(",
     "library": "var_list.r",
     "varRefreshCmd": "cat(var_dic_list()) "
    }
   },
   "types_to_exclude": [
    "module",
    "function",
    "builtin_function_or_method",
    "instance",
    "_Feature"
   ],
   "window_display": false
  }
 },
 "nbformat": 4,
 "nbformat_minor": 5
}
