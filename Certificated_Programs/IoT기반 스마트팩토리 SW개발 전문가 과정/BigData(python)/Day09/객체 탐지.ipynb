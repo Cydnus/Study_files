{
 "cells": [
  {
   "cell_type": "code",
   "execution_count": 1,
   "id": "e15fb99d",
   "metadata": {
    "ExecuteTime": {
     "end_time": "2021-06-17T08:30:16.478520Z",
     "start_time": "2021-06-17T08:30:15.482562Z"
    }
   },
   "outputs": [],
   "source": [
    "\n",
    "import cv2\n",
    "import numpy as np"
   ]
  },
  {
   "cell_type": "code",
   "execution_count": 2,
   "id": "5fa33685",
   "metadata": {
    "ExecuteTime": {
     "end_time": "2021-06-17T08:30:39.473642Z",
     "start_time": "2021-06-17T08:30:39.458682Z"
    }
   },
   "outputs": [],
   "source": [
    "CLASSES = ['background', 'aeroplane','bicycle', 'bird','boat','bottle','bus','car','chair','cow',\n",
    "          'diningtable', 'dog', 'horse','motobike','person','pottedplant', 'sheep', 'sofa', \n",
    "           'trian', 'tvmonitor']\n",
    "\n",
    "COLORS = np.random.uniform(0,255,size = (len(CLASSES),3)) "
   ]
  },
  {
   "cell_type": "code",
   "execution_count": 4,
   "id": "c9f873f7",
   "metadata": {
    "ExecuteTime": {
     "end_time": "2021-06-17T08:37:36.957088Z",
     "start_time": "2021-06-17T08:37:36.795341Z"
    }
   },
   "outputs": [],
   "source": [
    "net = cv2.dnn.readNetFromCaffe('./deploy.prototxt','mobilenet_iter_73000.caffemodel')"
   ]
  },
  {
   "cell_type": "code",
   "execution_count": 6,
   "id": "d050b51c",
   "metadata": {
    "ExecuteTime": {
     "end_time": "2021-06-17T08:48:30.156680Z",
     "start_time": "2021-06-17T08:48:30.109572Z"
    }
   },
   "outputs": [],
   "source": [
    "image = cv2.imread('work.png')\n",
    "(h,w) = image.shape[:2]\n",
    "blob = cv2.dnn.blobFromImage(cv2.resize(image,(300,300) ),\n",
    "                            0.007843, (300,300), 127.5)"
   ]
  },
  {
   "cell_type": "code",
   "execution_count": 8,
   "id": "551a3de1",
   "metadata": {
    "ExecuteTime": {
     "end_time": "2021-06-17T08:53:27.348619Z",
     "start_time": "2021-06-17T08:53:27.328673Z"
    }
   },
   "outputs": [
    {
     "ename": "error",
     "evalue": "OpenCV(4.5.2) C:\\Users\\runneradmin\\AppData\\Local\\Temp\\pip-req-build-_8k9tw8n\\opencv\\modules\\dnn\\src\\layers\\batch_norm_layer.cpp:47: error: (-215:Assertion failed) blobs.size() >= 2 in function 'cv::dnn::BatchNormLayerImpl::BatchNormLayerImpl'\n",
     "output_type": "error",
     "traceback": [
      "\u001b[1;31m---------------------------------------------------------------------------\u001b[0m",
      "\u001b[1;31merror\u001b[0m                                     Traceback (most recent call last)",
      "\u001b[1;32m<ipython-input-8-61dce2df623c>\u001b[0m in \u001b[0;36m<module>\u001b[1;34m\u001b[0m\n\u001b[0;32m      1\u001b[0m \u001b[0mnet\u001b[0m\u001b[1;33m.\u001b[0m\u001b[0msetInput\u001b[0m\u001b[1;33m(\u001b[0m\u001b[0mblob\u001b[0m\u001b[1;33m)\u001b[0m\u001b[1;33m\u001b[0m\u001b[1;33m\u001b[0m\u001b[0m\n\u001b[1;32m----> 2\u001b[1;33m \u001b[0mdetections\u001b[0m \u001b[1;33m=\u001b[0m \u001b[0mnet\u001b[0m\u001b[1;33m.\u001b[0m\u001b[0mforward\u001b[0m\u001b[1;33m(\u001b[0m\u001b[1;33m)\u001b[0m\u001b[1;33m\u001b[0m\u001b[1;33m\u001b[0m\u001b[0m\n\u001b[0m",
      "\u001b[1;31merror\u001b[0m: OpenCV(4.5.2) C:\\Users\\runneradmin\\AppData\\Local\\Temp\\pip-req-build-_8k9tw8n\\opencv\\modules\\dnn\\src\\layers\\batch_norm_layer.cpp:47: error: (-215:Assertion failed) blobs.size() >= 2 in function 'cv::dnn::BatchNormLayerImpl::BatchNormLayerImpl'\n"
     ]
    }
   ],
   "source": [
    "net.setInput(blob)\n",
    "detections = net.forward()"
   ]
  },
  {
   "cell_type": "code",
   "execution_count": null,
   "id": "5d141732",
   "metadata": {},
   "outputs": [],
   "source": []
  }
 ],
 "metadata": {
  "kernelspec": {
   "display_name": "Python 3",
   "language": "python",
   "name": "python3"
  },
  "language_info": {
   "codemirror_mode": {
    "name": "ipython",
    "version": 3
   },
   "file_extension": ".py",
   "mimetype": "text/x-python",
   "name": "python",
   "nbconvert_exporter": "python",
   "pygments_lexer": "ipython3",
   "version": "3.8.8"
  },
  "varInspector": {
   "cols": {
    "lenName": 16,
    "lenType": 16,
    "lenVar": 40
   },
   "kernels_config": {
    "python": {
     "delete_cmd_postfix": "",
     "delete_cmd_prefix": "del ",
     "library": "var_list.py",
     "varRefreshCmd": "print(var_dic_list())"
    },
    "r": {
     "delete_cmd_postfix": ") ",
     "delete_cmd_prefix": "rm(",
     "library": "var_list.r",
     "varRefreshCmd": "cat(var_dic_list()) "
    }
   },
   "types_to_exclude": [
    "module",
    "function",
    "builtin_function_or_method",
    "instance",
    "_Feature"
   ],
   "window_display": false
  }
 },
 "nbformat": 4,
 "nbformat_minor": 5
}
