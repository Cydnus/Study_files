{
 "cells": [
  {
   "cell_type": "markdown",
   "id": "916b9b1d",
   "metadata": {},
   "source": [
    "필요한 모듈 불러오기"
   ]
  },
  {
   "cell_type": "code",
   "execution_count": 315,
   "id": "12e05bf5",
   "metadata": {
    "ExecuteTime": {
     "end_time": "2021-06-17T06:23:06.952287Z",
     "start_time": "2021-06-17T06:23:06.947344Z"
    }
   },
   "outputs": [],
   "source": [
    "import tkinter as tk\n",
    "from tkinter import messagebox, filedialog, simpledialog\n",
    "from PIL import Image, ImageTk\n",
    "import os\n",
    "import cv2\n",
    "import numpy as np"
   ]
  },
  {
   "cell_type": "code",
   "execution_count": 316,
   "id": "933e429e",
   "metadata": {
    "ExecuteTime": {
     "end_time": "2021-06-17T06:23:06.967245Z",
     "start_time": "2021-06-17T06:23:06.959299Z"
    }
   },
   "outputs": [],
   "source": [
    "openimg = None\n"
   ]
  },
  {
   "cell_type": "code",
   "execution_count": 317,
   "id": "c727ad38",
   "metadata": {
    "ExecuteTime": {
     "end_time": "2021-06-17T06:23:06.983203Z",
     "start_time": "2021-06-17T06:23:06.973229Z"
    }
   },
   "outputs": [],
   "source": [
    "def Display_Image():\n",
    "    global  window ,openimg,canvas\n",
    "    \n",
    "    img = ImageTk.PhotoImage(openimg)    \n",
    "    print(openimg.size)\n",
    "    window.geometry('%sx%s'%(openimg.size[0],openimg.size[1]))\n",
    "    canvas.delete('all')\n",
    "    canvas.width = openimg.size[0]\n",
    "    canvas.height = openimg.size[1]\n",
    "    canvas.create_image(0, 0,anchor='nw' ,image=img )\n",
    "    canvas.image =img\n",
    "    canvas.pack(expand=True, fill='both')\n",
    "    "
   ]
  },
  {
   "cell_type": "code",
   "execution_count": 318,
   "id": "d5bf6226",
   "metadata": {
    "ExecuteTime": {
     "end_time": "2021-06-17T06:23:06.998205Z",
     "start_time": "2021-06-17T06:23:06.985197Z"
    }
   },
   "outputs": [],
   "source": [
    "def PILToNpArray(img):\n",
    "    return np.asarray(img)\n",
    "\n",
    "def NpArrayToPIL(img):\n",
    "    temp = cv2.cvtColor(img,cv2.COLOR_BGR2RGB)\n",
    "    return Image.fromarray(cv2.cvtColor(temp,cv2.COLOR_BGR2RGB))\n",
    "    "
   ]
  },
  {
   "cell_type": "markdown",
   "id": "deed976a",
   "metadata": {},
   "source": [
    "메뉴 -> 파일 -> 열기  \n",
    "이미지 불러오기"
   ]
  },
  {
   "cell_type": "code",
   "execution_count": 319,
   "id": "321b19c7",
   "metadata": {
    "ExecuteTime": {
     "end_time": "2021-06-17T06:23:07.014121Z",
     "start_time": "2021-06-17T06:23:07.000176Z"
    }
   },
   "outputs": [],
   "source": [
    "def open_file():\n",
    "    global openimg\n",
    "    filename = filedialog.askopenfilename(initialdir=\"./\", title=\"Select file\",\n",
    "                                          filetypes=((\"Image File\", \"*.png\"),\n",
    "                                          (\"all files\", \"*.*\")))\n",
    "    \n",
    "    openimg = Image.open(os.path.abspath(filename)).convert('RGB')\n",
    "    Display_Image()\n",
    "    "
   ]
  },
  {
   "cell_type": "markdown",
   "id": "957c75fb",
   "metadata": {},
   "source": [
    "메뉴 -> 파일 -> 종료"
   ]
  },
  {
   "cell_type": "code",
   "execution_count": 320,
   "id": "42ba977b",
   "metadata": {
    "ExecuteTime": {
     "end_time": "2021-06-17T06:23:07.030077Z",
     "start_time": "2021-06-17T06:23:07.017112Z"
    }
   },
   "outputs": [],
   "source": [
    "def quit_window():\n",
    "    global windoww\n",
    "    window.quit()"
   ]
  },
  {
   "cell_type": "code",
   "execution_count": 321,
   "id": "e66f6633",
   "metadata": {
    "ExecuteTime": {
     "end_time": "2021-06-17T06:23:07.046035Z",
     "start_time": "2021-06-17T06:23:07.032091Z"
    }
   },
   "outputs": [],
   "source": [
    "def save_file():\n",
    "    global  window,openimg\n",
    "    \n",
    "    if openimg == None:\n",
    "        return\n",
    "    \n",
    "    filename = filedialog.asksaveasfilename(initialdir=\"./\", title=\"Select file\",\n",
    "                                          filetypes=((\"Image File\", \"*.png\"),\n",
    "                                          (\"all files\", \"*.*\")))\n",
    "    openimg.save(filename+'.png')\n",
    "    "
   ]
  },
  {
   "cell_type": "code",
   "execution_count": 322,
   "id": "47950f81",
   "metadata": {
    "ExecuteTime": {
     "end_time": "2021-06-17T06:23:07.060995Z",
     "start_time": "2021-06-17T06:23:07.049028Z"
    }
   },
   "outputs": [],
   "source": [
    "def Enlargement():\n",
    "    global openimg\n",
    "    if openimg == None :\n",
    "        return\n",
    "    \n",
    "    scale = simpledialog.askinteger('확대','확대할 배율을 입력하세요(2~4)',minvalue = 2,maxvalue=10)\n",
    "    width = openimg.size[0]\n",
    "    height = openimg.size[1]\n",
    "    img2 = cv2.resize(PILToNpArray(openimg),(int(scale*width), int(scale * height)),interpolation=cv2.INTER_CUBIC)\n",
    "    openimg = None\n",
    "    openimg = NpArrayToPIL(img2)\n",
    "    Display_Image()"
   ]
  },
  {
   "cell_type": "code",
   "execution_count": 323,
   "id": "f9137994",
   "metadata": {
    "ExecuteTime": {
     "end_time": "2021-06-17T06:23:07.075954Z",
     "start_time": "2021-06-17T06:23:07.062990Z"
    }
   },
   "outputs": [],
   "source": [
    "def Reduction():\n",
    "    global openimg\n",
    "    \n",
    "    if openimg == None:\n",
    "        return\n",
    "\n",
    "    scale = simpledialog.askfloat('축소', '축소할 배율을 입력하세요(0.1~1)', minvalue=0.1, maxvalue=1)\n",
    "    width = openimg.size[0]\n",
    "    height = openimg.size[1]\n",
    "    img2 = cv2.resize(PILToNpArray(openimg),(int(scale*width), int(scale * height)),interpolation=cv2.INTER_CUBIC)\n",
    "    openimg = None\n",
    "    openimg = NpArrayToPIL(img2)\n",
    "\n",
    "    Display_Image()"
   ]
  },
  {
   "cell_type": "code",
   "execution_count": 324,
   "id": "e08ea124",
   "metadata": {
    "ExecuteTime": {
     "end_time": "2021-06-17T06:23:07.091911Z",
     "start_time": "2021-06-17T06:23:07.077950Z"
    }
   },
   "outputs": [],
   "source": [
    "def Reverse_up_down():\n",
    "    global openimg\n",
    "    if openimg == None:\n",
    "        return\n",
    "    img = PILToNpArray(openimg)\n",
    "    img2 = cv2.flip(img,0)\n",
    "    openimg=NpArrayToPIL(img2)   \n",
    "    \n",
    "    Display_Image()"
   ]
  },
  {
   "cell_type": "code",
   "execution_count": 325,
   "id": "406608b3",
   "metadata": {
    "ExecuteTime": {
     "end_time": "2021-06-17T06:23:07.107869Z",
     "start_time": "2021-06-17T06:23:07.093907Z"
    }
   },
   "outputs": [],
   "source": [
    "def Reverse_left_right():\n",
    "    global openimg\n",
    "    if openimg == None:\n",
    "        return\n",
    "    img = PILToNpArray(openimg)\n",
    "    img2 = cv2.flip(img,1)\n",
    "    openimg=NpArrayToPIL(img2)   \n",
    "    Display_Image()"
   ]
  },
  {
   "cell_type": "code",
   "execution_count": 326,
   "id": "14a756f6",
   "metadata": {
    "ExecuteTime": {
     "end_time": "2021-06-17T06:23:07.123826Z",
     "start_time": "2021-06-17T06:23:07.109864Z"
    }
   },
   "outputs": [],
   "source": [
    "def Rotation():\n",
    "    global openimg  \n",
    "    angle = simpledialog.askinteger('회전', '회전할 각도를 입력하세요(1~359)', minvalue=1, maxvalue=359)\n",
    "    width = openimg.size[0]\n",
    "    height = openimg.size[1]\n",
    "    img = PILToNpArray(openimg)\n",
    "    matrix = cv2.getRotationMatrix2D((width/2,height/2),angle,1)\n",
    "    img2 = cv2.warpAffine(img,matrix,(width,height))\n",
    "    openimg=NpArrayToPIL(img2)   \n",
    "    Display_Image()"
   ]
  },
  {
   "cell_type": "code",
   "execution_count": 327,
   "id": "49d961fe",
   "metadata": {
    "ExecuteTime": {
     "end_time": "2021-06-17T06:23:07.138786Z",
     "start_time": "2021-06-17T06:23:07.126818Z"
    }
   },
   "outputs": [],
   "source": [
    "def Brightly():\n",
    "    global openimg\n",
    "    \n",
    "    if openimg == None:\n",
    "        return\n",
    "    img = PILToNpArray(openimg)\n",
    "    \n",
    "    img2 = cv2.add(img,10)\n",
    "    \n",
    "    openimg=NpArrayToPIL(img2)   \n",
    "    \n",
    "    Display_Image()"
   ]
  },
  {
   "cell_type": "code",
   "execution_count": 328,
   "id": "bec492ff",
   "metadata": {
    "ExecuteTime": {
     "end_time": "2021-06-17T06:23:07.153746Z",
     "start_time": "2021-06-17T06:23:07.140780Z"
    }
   },
   "outputs": [],
   "source": [
    "def Darkly():\n",
    "    global openimg\n",
    "    \n",
    "    if openimg == None:\n",
    "        return\n",
    "    \n",
    "    img = PILToNpArray(openimg)\n",
    "    \n",
    "    img2 = cv2.subtract(img,10)\n",
    "    \n",
    "    openimg=NpArrayToPIL(img2)   \n",
    "    \n",
    "    Display_Image()"
   ]
  },
  {
   "cell_type": "code",
   "execution_count": 329,
   "id": "524e8ccb",
   "metadata": {
    "ExecuteTime": {
     "end_time": "2021-06-17T06:23:07.169706Z",
     "start_time": "2021-06-17T06:23:07.155741Z"
    }
   },
   "outputs": [],
   "source": [
    "def Blurring():\n",
    "    global openimg\n",
    "    if openimg == None:\n",
    "        return\n",
    "    \n",
    "    \n",
    "    img = PILToNpArray(openimg)\n",
    "    \n",
    "    img2 = cv2.subtract(img,-1,np.ones((3,3),np.float32)/9)\n",
    "    \n",
    "    openimg=NpArrayToPIL(img2)   \n",
    "    \n",
    "    Display_Image()"
   ]
  },
  {
   "cell_type": "code",
   "execution_count": 330,
   "id": "12caca84",
   "metadata": {
    "ExecuteTime": {
     "end_time": "2021-06-17T06:23:07.185662Z",
     "start_time": "2021-06-17T06:23:07.174693Z"
    }
   },
   "outputs": [],
   "source": [
    "def Embossing ():\n",
    "    global openimg\n",
    "    if openimg == None:\n",
    "        return\n",
    "    \n",
    "    img = PILToNpArray(openimg)\n",
    "    \n",
    "    img2 = cv2.cvtColor(img,cv2.COLOR_RGB2GRAY)\n",
    "    \n",
    "    mask = np.array([[1, 1, 1], [1, -8, 1], [1, 1, 1]])\n",
    "    \n",
    "    img3 = cv2.filter2D(img2,-1,mask)\n",
    "    \n",
    "    \n",
    "    openimg=NpArrayToPIL(img3)      \n",
    "    \n",
    "    Display_Image()"
   ]
  },
  {
   "cell_type": "code",
   "execution_count": 331,
   "id": "2f6b2a8f",
   "metadata": {
    "ExecuteTime": {
     "end_time": "2021-06-17T06:23:07.201619Z",
     "start_time": "2021-06-17T06:23:07.189651Z"
    }
   },
   "outputs": [],
   "source": [
    "def GrayScale():\n",
    "    global openimg\n",
    "    if openimg == None:\n",
    "        return\n",
    "    \n",
    "    img = PILToNpArray(openimg)\n",
    "    \n",
    "    img2 = cv2.cvtColor(img,cv2.COLOR_RGB2GRAY)\n",
    "    \n",
    "    openimg=NpArrayToPIL(img2)   \n",
    "    Display_Image()"
   ]
  },
  {
   "cell_type": "markdown",
   "id": "fe347b33",
   "metadata": {},
   "source": [
    "Tk설정"
   ]
  },
  {
   "cell_type": "code",
   "execution_count": 332,
   "id": "215bffd8",
   "metadata": {
    "ExecuteTime": {
     "end_time": "2021-06-17T06:23:07.423025Z",
     "start_time": "2021-06-17T06:23:07.203613Z"
    }
   },
   "outputs": [],
   "source": [
    "window = tk.Tk()\n",
    "\n",
    "window.title('My PhotoShop Made By Sangho Cho')\n",
    "\n",
    "canvas = tk.Canvas(window)"
   ]
  },
  {
   "cell_type": "markdown",
   "id": "f073a22c",
   "metadata": {},
   "source": [
    "메뉴바 설정"
   ]
  },
  {
   "cell_type": "code",
   "execution_count": 333,
   "id": "8ac9840c",
   "metadata": {
    "ExecuteTime": {
     "end_time": "2021-06-17T06:23:07.454941Z",
     "start_time": "2021-06-17T06:23:07.425021Z"
    }
   },
   "outputs": [],
   "source": [
    "\n",
    "menubar = tk.Menu(window)\n",
    "filemenu = tk.Menu(menubar,tearoff=0)\n",
    "imgprocess1menu = tk.Menu(menubar,tearoff=0)\n",
    "imgprocess2menu = tk.Menu(menubar,tearoff=0)\n",
    "\n",
    "filemenu.add_command(label=\"파일 열기\", command=open_file)\n",
    "filemenu.add_command(label=\"파일 저장\", command=save_file)\n",
    "filemenu.add_command(label=\"프로그램 종료\", command=quit_window)\n",
    "\n",
    "imgprocess1menu.add_command(label=\"확대\",command=Enlargement)\n",
    "imgprocess1menu.add_command(label=\"축소\",command=Reduction)\n",
    "imgprocess1menu.add_command(label=\"상하 반전\",command=Reverse_up_down)\n",
    "imgprocess1menu.add_command(label=\"좌우 반전\",command=Reverse_left_right)\n",
    "imgprocess1menu.add_command(label=\"회전\",command=Rotation)\n",
    "\n",
    "imgprocess2menu.add_command(label=\"밝게\",command=Brightly)\n",
    "imgprocess2menu.add_command(label=\"어둡게\",command=Darkly)\n",
    "imgprocess2menu.add_command(label=\"블러링\",command=Blurring)\n",
    "imgprocess2menu.add_command(label=\"엠보싱\",command=Embossing )\n",
    "imgprocess2menu.add_command(label=\"흑백이미지\",command=GrayScale)\n",
    "\n",
    "\n",
    "menubar.add_cascade(label=\"파일\",menu=filemenu)\n",
    "menubar.add_cascade(label=\"영상처리1\",menu=imgprocess1menu)\n",
    "menubar.add_cascade(label=\"영상처리2\",menu=imgprocess2menu)\n",
    "\n",
    "window.config(menu=menubar)"
   ]
  },
  {
   "cell_type": "markdown",
   "id": "d5a56a44",
   "metadata": {},
   "source": [
    "메인 반복"
   ]
  },
  {
   "cell_type": "code",
   "execution_count": 334,
   "id": "1bdd52a5",
   "metadata": {
    "ExecuteTime": {
     "end_time": "2021-06-17T06:24:06.897343Z",
     "start_time": "2021-06-17T06:23:07.456935Z"
    },
    "scrolled": true
   },
   "outputs": [
    {
     "name": "stdout",
     "output_type": "stream",
     "text": [
      "(194, 260)\n",
      "(582, 780)\n",
      "(174, 234)\n",
      "(348, 468)\n",
      "(348, 468)\n",
      "(348, 468)\n",
      "(348, 468)\n",
      "(348, 468)\n",
      "(348, 468)\n",
      "(348, 468)\n",
      "(348, 468)\n",
      "(348, 468)\n",
      "(348, 468)\n",
      "(348, 468)\n",
      "(348, 468)\n",
      "(348, 468)\n"
     ]
    }
   ],
   "source": [
    "window.mainloop()"
   ]
  },
  {
   "cell_type": "code",
   "execution_count": null,
   "id": "61add350",
   "metadata": {},
   "outputs": [],
   "source": []
  }
 ],
 "metadata": {
  "kernelspec": {
   "display_name": "Python 3",
   "language": "python",
   "name": "python3"
  },
  "language_info": {
   "codemirror_mode": {
    "name": "ipython",
    "version": 3
   },
   "file_extension": ".py",
   "mimetype": "text/x-python",
   "name": "python",
   "nbconvert_exporter": "python",
   "pygments_lexer": "ipython3",
   "version": "3.8.8"
  },
  "varInspector": {
   "cols": {
    "lenName": 16,
    "lenType": 16,
    "lenVar": 40
   },
   "kernels_config": {
    "python": {
     "delete_cmd_postfix": "",
     "delete_cmd_prefix": "del ",
     "library": "var_list.py",
     "varRefreshCmd": "print(var_dic_list())"
    },
    "r": {
     "delete_cmd_postfix": ") ",
     "delete_cmd_prefix": "rm(",
     "library": "var_list.r",
     "varRefreshCmd": "cat(var_dic_list()) "
    }
   },
   "types_to_exclude": [
    "module",
    "function",
    "builtin_function_or_method",
    "instance",
    "_Feature"
   ],
   "window_display": false
  }
 },
 "nbformat": 4,
 "nbformat_minor": 5
}
