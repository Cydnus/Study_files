{
 "cells": [
  {
   "cell_type": "code",
   "execution_count": 2,
   "id": "39f7f1a4",
   "metadata": {
    "ExecuteTime": {
     "end_time": "2021-06-17T02:11:27.027469Z",
     "start_time": "2021-06-17T02:11:21.934827Z"
    }
   },
   "outputs": [],
   "source": [
    "import tensorflow as tf\n",
    "\n",
    "from tensorflow.keras.layers import Dense, Flatten, Conv2D\n",
    "from tensorflow.keras import Model"
   ]
  },
  {
   "cell_type": "markdown",
   "id": "2db6419a",
   "metadata": {},
   "source": [
    "데이터로드"
   ]
  },
  {
   "cell_type": "code",
   "execution_count": 9,
   "id": "0e5f8922",
   "metadata": {
    "ExecuteTime": {
     "end_time": "2021-06-17T02:14:08.927233Z",
     "start_time": "2021-06-17T02:14:08.527706Z"
    }
   },
   "outputs": [],
   "source": [
    "mnist = tf.keras.datasets.mnist\n",
    "\n",
    "(x_train , y_train), (x_test, y_test) = mnist.load_data()"
   ]
  },
  {
   "cell_type": "markdown",
   "id": "6c54328a",
   "metadata": {},
   "source": [
    "정규화"
   ]
  },
  {
   "cell_type": "code",
   "execution_count": 10,
   "id": "9cfb05f3",
   "metadata": {
    "ExecuteTime": {
     "end_time": "2021-06-17T02:14:10.408361Z",
     "start_time": "2021-06-17T02:14:10.226834Z"
    }
   },
   "outputs": [],
   "source": [
    "x_train, x_test = x_train /255.0, x_test /255.0\n",
    "\n",
    "x_train = x_train[..., tf.newaxis]\n",
    "x_test = x_test[..., tf.newaxis]"
   ]
  },
  {
   "cell_type": "markdown",
   "id": "5bff676a",
   "metadata": {},
   "source": [
    "데이터 섞고, 묶기"
   ]
  },
  {
   "cell_type": "code",
   "execution_count": null,
   "id": "b450a344",
   "metadata": {
    "ExecuteTime": {
     "end_time": "2021-06-17T02:15:20.103910Z",
     "start_time": "2021-06-17T02:15:19.359524Z"
    }
   },
   "outputs": [],
   "source": [
    "train_ds = tf.data.Dataset.from_tensor_slices(\n",
    "    (x_train, y_train)).shuffle(10000).batch(32)\n",
    "test_ds = tf.data.Dataset.from_tensor_slices(\n",
    "    (x_test, y_test)).batch(32)"
   ]
  },
  {
   "cell_type": "markdown",
   "id": "2adcca6a",
   "metadata": {},
   "source": [
    "모델설정"
   ]
  },
  {
   "cell_type": "code",
   "execution_count": 12,
   "id": "81e30d9d",
   "metadata": {
    "ExecuteTime": {
     "end_time": "2021-06-17T02:15:26.976141Z",
     "start_time": "2021-06-17T02:15:26.937252Z"
    }
   },
   "outputs": [],
   "source": [
    "class MyModel(Model):\n",
    "  def __init__(self):\n",
    "    super(MyModel, self).__init__()\n",
    "    self.conv1 = Conv2D(32, 3, activation='relu')\n",
    "    self.flatten = Flatten()\n",
    "    self.d1 = Dense(128, activation='relu')\n",
    "    self.d2 = Dense(10, activation='softmax')\n",
    "\n",
    "  def call(self, x):\n",
    "    x = self.conv1(x)\n",
    "    x = self.flatten(x)\n",
    "    x = self.d1(x)\n",
    "    return self.d2(x)\n",
    "\n",
    "model = MyModel()"
   ]
  },
  {
   "cell_type": "markdown",
   "id": "b7e0a3f2",
   "metadata": {},
   "source": [
    "옵티마이저 설정"
   ]
  },
  {
   "cell_type": "code",
   "execution_count": 13,
   "id": "9a461299",
   "metadata": {
    "ExecuteTime": {
     "end_time": "2021-06-17T02:15:33.839985Z",
     "start_time": "2021-06-17T02:15:33.824148Z"
    }
   },
   "outputs": [],
   "source": [
    "loss_object = tf.keras.losses.SparseCategoricalCrossentropy()\n",
    "\n",
    "optimizer = tf.keras.optimizers.Adam()"
   ]
  },
  {
   "cell_type": "markdown",
   "id": "1f846520",
   "metadata": {},
   "source": [
    "손실도와 정확도 함수 설정"
   ]
  },
  {
   "cell_type": "code",
   "execution_count": 14,
   "id": "42956af5",
   "metadata": {
    "ExecuteTime": {
     "end_time": "2021-06-17T02:15:40.430444Z",
     "start_time": "2021-06-17T02:15:40.396503Z"
    }
   },
   "outputs": [],
   "source": [
    "train_loss = tf.keras.metrics.Mean(name='train_loss')\n",
    "train_accuracy = tf.keras.metrics.SparseCategoricalAccuracy(name='train_accuracy')\n",
    "\n",
    "test_loss = tf.keras.metrics.Mean(name='test_loss')\n",
    "test_accuracy = tf.keras.metrics.SparseCategoricalAccuracy(name='test_accuracy')"
   ]
  },
  {
   "cell_type": "markdown",
   "id": "a52ecd08",
   "metadata": {},
   "source": [
    "1회 학습"
   ]
  },
  {
   "cell_type": "code",
   "execution_count": 15,
   "id": "b5e92470",
   "metadata": {
    "ExecuteTime": {
     "end_time": "2021-06-17T02:15:45.799879Z",
     "start_time": "2021-06-17T02:15:45.786928Z"
    }
   },
   "outputs": [],
   "source": [
    "@tf.function\n",
    "def train_step(images, labels):\n",
    "  with tf.GradientTape() as tape:\n",
    "    predictions = model(images)\n",
    "    loss = loss_object(labels, predictions)\n",
    "  gradients = tape.gradient(loss, model.trainable_variables)\n",
    "  optimizer.apply_gradients(zip(gradients, model.trainable_variables))\n",
    "\n",
    "  train_loss(loss)\n",
    "  train_accuracy(labels, predictions)"
   ]
  },
  {
   "cell_type": "markdown",
   "id": "149aab4f",
   "metadata": {},
   "source": [
    "1회 테스트 "
   ]
  },
  {
   "cell_type": "code",
   "execution_count": 16,
   "id": "f0353ed1",
   "metadata": {
    "ExecuteTime": {
     "end_time": "2021-06-17T02:15:50.265442Z",
     "start_time": "2021-06-17T02:15:50.252464Z"
    }
   },
   "outputs": [],
   "source": [
    "@tf.function\n",
    "def test_step(images, labels):\n",
    "  predictions = model(images)\n",
    "  t_loss = loss_object(labels, predictions)\n",
    "\n",
    "  test_loss(t_loss)\n",
    "  test_accuracy(labels, predictions)"
   ]
  },
  {
   "cell_type": "markdown",
   "id": "16aa379e",
   "metadata": {
    "ExecuteTime": {
     "end_time": "2021-06-17T02:20:09.411003Z",
     "start_time": "2021-06-17T02:20:09.398037Z"
    }
   },
   "source": [
    "학습 시작"
   ]
  },
  {
   "cell_type": "code",
   "execution_count": 17,
   "id": "8ab7b6bc",
   "metadata": {
    "ExecuteTime": {
     "end_time": "2021-06-17T02:20:09.319046Z",
     "start_time": "2021-06-17T02:15:58.127577Z"
    }
   },
   "outputs": [
    {
     "name": "stdout",
     "output_type": "stream",
     "text": [
      "에포크: 1, 손실: 0.1397838443517685, 정확도: 95.78833770751953, 테스트 손실: 0.06470540910959244, 테스트 정확도: 97.81999969482422\n",
      "에포크: 2, 손실: 0.09192144870758057, 정확도: 97.2074966430664, 테스트 손실: 0.05927877500653267, 테스트 정확도: 98.0050048828125\n",
      "에포크: 3, 손실: 0.06950191408395767, 정확도: 97.87444305419922, 테스트 손실: 0.05572286248207092, 테스트 정확도: 98.13667297363281\n",
      "에포크: 4, 손실: 0.05595634877681732, 정확도: 98.27249908447266, 테스트 손실: 0.05856676027178764, 테스트 정확도: 98.11499786376953\n",
      "에포크: 5, 손실: 0.04678685963153839, 정확도: 98.55166625976562, 테스트 손실: 0.060155484825372696, 테스트 정확도: 98.1760025024414\n"
     ]
    }
   ],
   "source": [
    "EPOCHS = 5\n",
    "\n",
    "for epoch in range(EPOCHS):\n",
    "  for images, labels in train_ds:\n",
    "    train_step(images, labels)\n",
    "\n",
    "  for test_images, test_labels in test_ds:\n",
    "    test_step(test_images, test_labels)\n",
    "\n",
    "  template = '에포크: {}, 손실: {}, 정확도: {}, 테스트 손실: {}, 테스트 정확도: {}'\n",
    "  print (template.format(epoch+1,\n",
    "                         train_loss.result(),\n",
    "                         train_accuracy.result()*100,\n",
    "                         test_loss.result(),\n",
    "                         test_accuracy.result()*100))"
   ]
  },
  {
   "cell_type": "code",
   "execution_count": null,
   "id": "bf5beec0",
   "metadata": {},
   "outputs": [],
   "source": []
  }
 ],
 "metadata": {
  "kernelspec": {
   "display_name": "Python 3",
   "language": "python",
   "name": "python3"
  },
  "language_info": {
   "codemirror_mode": {
    "name": "ipython",
    "version": 3
   },
   "file_extension": ".py",
   "mimetype": "text/x-python",
   "name": "python",
   "nbconvert_exporter": "python",
   "pygments_lexer": "ipython3",
   "version": "3.8.8"
  },
  "varInspector": {
   "cols": {
    "lenName": 16,
    "lenType": 16,
    "lenVar": 40
   },
   "kernels_config": {
    "python": {
     "delete_cmd_postfix": "",
     "delete_cmd_prefix": "del ",
     "library": "var_list.py",
     "varRefreshCmd": "print(var_dic_list())"
    },
    "r": {
     "delete_cmd_postfix": ") ",
     "delete_cmd_prefix": "rm(",
     "library": "var_list.r",
     "varRefreshCmd": "cat(var_dic_list()) "
    }
   },
   "types_to_exclude": [
    "module",
    "function",
    "builtin_function_or_method",
    "instance",
    "_Feature"
   ],
   "window_display": false
  }
 },
 "nbformat": 4,
 "nbformat_minor": 5
}
