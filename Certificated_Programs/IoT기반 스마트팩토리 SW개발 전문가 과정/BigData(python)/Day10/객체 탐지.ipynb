{
 "cells": [
  {
   "cell_type": "code",
   "execution_count": 43,
   "id": "e15fb99d",
   "metadata": {
    "ExecuteTime": {
     "end_time": "2021-06-18T00:54:26.197272Z",
     "start_time": "2021-06-18T00:54:26.186306Z"
    }
   },
   "outputs": [],
   "source": [
    "\n",
    "import cv2\n",
    "import numpy as np"
   ]
  },
  {
   "cell_type": "code",
   "execution_count": 44,
   "id": "5fa33685",
   "metadata": {
    "ExecuteTime": {
     "end_time": "2021-06-18T00:54:26.213229Z",
     "start_time": "2021-06-18T00:54:26.199268Z"
    }
   },
   "outputs": [],
   "source": [
    "CLASSES = ['background', 'aeroplane','bicycle', 'bird','boat','bottle','bus','car','chair','cow',\n",
    "          'diningtable', 'dog', 'horse','motobike','person','pottedplant', 'sheep', 'sofa', \n",
    "           'trian', 'tvmonitor']\n",
    "\n",
    "COLORS = np.random.uniform(0,255,size = (len(CLASSES),3)) "
   ]
  },
  {
   "cell_type": "markdown",
   "id": "9fb13f0e",
   "metadata": {
    "ExecuteTime": {
     "end_time": "2021-06-18T00:57:24.173462Z",
     "start_time": "2021-06-18T00:57:24.165487Z"
    }
   },
   "source": [
    "dnn 모듈에서 우리가 사용하는 네 가지 방법은 \n",
    "``` python\n",
    "readNetFrom \n",
    "blobFromImage \n",
    "setInput\n",
    "forward \n",
    "```\n",
    "입니다. 이 방법들을 차례대로 살펴보면\n",
    "\n",
    "Open CV는 Caffee, TenserFlow, Torch, DarkNet의 모델 및 omnx 형식의 모델을 지원하므로 모델 로딩하고 자신의 유스케이스에 대한 환경설정 파일만 로드하면 됩니다.\n",
    "\n",
    "따라서 readNetFromCaffe는 네트워크 아키텍처에 대한 텍스트 설명 파일 인 \n",
    "prottotxt 의 경로와 그리고 훈련 모델이 있는 caffeModel 파일의 경로를 인수로 받습니다.  \n",
    "  \n",
    "blobFromImage는 이미지에서 4 차원 blob을 만들고 선택적으로 크기를 조정할 수 있습니다.\n",
    "\n"
   ]
  },
  {
   "cell_type": "code",
   "execution_count": 45,
   "id": "c9f873f7",
   "metadata": {
    "ExecuteTime": {
     "end_time": "2021-06-18T00:54:26.292272Z",
     "start_time": "2021-06-18T00:54:26.215225Z"
    }
   },
   "outputs": [],
   "source": [
    "net = cv2.dnn.readNetFromCaffe('./deploy.prototxt','mobilenet_iter_73000.caffemodel')"
   ]
  },
  {
   "cell_type": "markdown",
   "id": "5a57de60",
   "metadata": {
    "ExecuteTime": {
     "end_time": "2021-06-18T00:57:45.425445Z",
     "start_time": "2021-06-18T00:57:45.416444Z"
    }
   },
   "source": [
    "추론 엔진으로 OpenCV 를 사용하기 위해서는 TenserFlow, Caffe 및 PyTorch와 같은 \n",
    "다른 딥 러닝 프레임 워크에서 훈련 된 모델들을 로드 하는 것입니다  \n",
    "\n",
    "그런 다음 blobFromImage 함수를 사용하여 이미지를 전처리하고 마지막으로 로드 된 \n",
    "사전 학습 된 모델로 이 blob을 전달하여 예측 결과를 얻어 냅니다.\n"
   ]
  },
  {
   "cell_type": "code",
   "execution_count": 46,
   "id": "d050b51c",
   "metadata": {
    "ExecuteTime": {
     "end_time": "2021-06-18T00:54:26.339394Z",
     "start_time": "2021-06-18T00:54:26.294284Z"
    }
   },
   "outputs": [],
   "source": [
    "image = cv2.imread('work.jpg')\n",
    "(h,w) = image.shape[:2]\n",
    "blob = cv2.dnn.blobFromImage(cv2.resize(image,(300,300) ),\n",
    "                            0.007843, (300,300), 127.5)"
   ]
  },
  {
   "cell_type": "markdown",
   "id": "83bf2541",
   "metadata": {},
   "source": [
    "중앙에서 이미지를 자르고, 평균값을 빼고, 배율로 값을 조정하고, \n",
    "빨간색과 파란색 채널을 서로 바꿉니다  \n",
    "\n",
    "setInput 메서드를 사용하면 blobFromImage를 네트워크에 대한 입력으로 \n",
    "사용하여 만든 blob을 설정.\n",
    "\n",
    "forward 방법을 사용하면 네트워크를 통해 forward 패스를 수행하여 결과 예측\n",
    "을 생성 할 수 있다.  \n",
    "\n",
    "이 #Blob 라는 것은 동일한 방식으로 전처리 된 동일한 너비, 높이 및 채널 수를 \n",
    "가진 하나 이상의 이미지 말합니다.\n"
   ]
  },
  {
   "cell_type": "code",
   "execution_count": null,
   "id": "4d71eff2",
   "metadata": {
    "ExecuteTime": {
     "end_time": "2021-06-18T00:54:26.433223Z",
     "start_time": "2021-06-18T00:54:26.341417Z"
    }
   },
   "outputs": [],
   "source": [
    "net.setInput(blob)\n",
    "detections = net.forward()"
   ]
  },
  {
   "cell_type": "code",
   "execution_count": 49,
   "id": "5d141732",
   "metadata": {
    "ExecuteTime": {
     "end_time": "2021-06-18T00:54:41.619289Z",
     "start_time": "2021-06-18T00:54:26.452179Z"
    }
   },
   "outputs": [
    {
     "name": "stdout",
     "output_type": "stream",
     "text": [
      "[INFO] dog ; 99.476755%\n",
      "[INFO] pottedplant ; 90.834039%\n",
      "[INFO] pottedplant ; 89.330071%\n",
      "[INFO] cow ; 25.784498%\n"
     ]
    }
   ],
   "source": [
    "for i in np.arange(0, detections.shape[2]) :\n",
    "    confidence = detections[ 0, 0, i, 2 ]\n",
    "    if confidence> 0.2:\n",
    "        idx = int(detections[0,0,i,1])\n",
    "        box = detections[0,0,i,3:7] * np.array([w,h,w,h])\n",
    "        (sx,sy,ex,ey) = box.astype('int')\n",
    "        label = '{} ; {:2f}%'.format(CLASSES[idx],confidence*100)\n",
    "        print(\"[INFO] {}\".format(label))\n",
    "        \n",
    "        cv2.rectangle(image, (sx,sy),(ex,ey),COLORS[idx],2)\n",
    "        y = sy -15 if sy -15 > 15 else sy +15\n",
    "        cv2.putText(image,label,(sx,y),cv2.FONT_HERSHEY_SIMPLEX,0.5,COLORS[idx],2)\n",
    "        \n",
    "cv2.imshow(\"Output\",image)\n",
    "cv2.waitKey(0)\n",
    "cv2.destroyAllWindows()"
   ]
  },
  {
   "cell_type": "code",
   "execution_count": null,
   "id": "17e0dbad",
   "metadata": {},
   "outputs": [],
   "source": []
  }
 ],
 "metadata": {
  "kernelspec": {
   "display_name": "Python 3",
   "language": "python",
   "name": "python3"
  },
  "language_info": {
   "codemirror_mode": {
    "name": "ipython",
    "version": 3
   },
   "file_extension": ".py",
   "mimetype": "text/x-python",
   "name": "python",
   "nbconvert_exporter": "python",
   "pygments_lexer": "ipython3",
   "version": "3.8.8"
  },
  "varInspector": {
   "cols": {
    "lenName": 16,
    "lenType": 16,
    "lenVar": 40
   },
   "kernels_config": {
    "python": {
     "delete_cmd_postfix": "",
     "delete_cmd_prefix": "del ",
     "library": "var_list.py",
     "varRefreshCmd": "print(var_dic_list())"
    },
    "r": {
     "delete_cmd_postfix": ") ",
     "delete_cmd_prefix": "rm(",
     "library": "var_list.r",
     "varRefreshCmd": "cat(var_dic_list()) "
    }
   },
   "types_to_exclude": [
    "module",
    "function",
    "builtin_function_or_method",
    "instance",
    "_Feature"
   ],
   "window_display": false
  }
 },
 "nbformat": 4,
 "nbformat_minor": 5
}
