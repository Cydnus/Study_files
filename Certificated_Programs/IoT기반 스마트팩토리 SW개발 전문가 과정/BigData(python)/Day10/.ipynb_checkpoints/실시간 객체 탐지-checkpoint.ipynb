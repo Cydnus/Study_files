{
 "cells": [
  {
   "cell_type": "code",
   "execution_count": 7,
   "id": "3dccaa3c",
   "metadata": {
    "ExecuteTime": {
     "end_time": "2021-06-18T01:15:05.786762Z",
     "start_time": "2021-06-18T01:15:05.771807Z"
    }
   },
   "outputs": [],
   "source": [
    "\n",
    "import cv2\n",
    "import numpy as np"
   ]
  },
  {
   "cell_type": "code",
   "execution_count": 8,
   "id": "f80b576d",
   "metadata": {
    "ExecuteTime": {
     "end_time": "2021-06-18T01:15:05.802751Z",
     "start_time": "2021-06-18T01:15:05.788757Z"
    }
   },
   "outputs": [],
   "source": [
    "CLASSES = ['background', 'aeroplane','bicycle', 'bird','boat','bottle','bus','car',\n",
    "           'chair','cow','diningtable', 'dog', 'horse','motobike',\n",
    "           'pottedplant', 'person', 'sheep',  'sofa', 'trian', 'tvmonitor']\n",
    "\n",
    "COLORS = np.random.uniform(0,255,size = (len(CLASSES),3)) "
   ]
  },
  {
   "cell_type": "code",
   "execution_count": 9,
   "id": "d52b16ad",
   "metadata": {
    "ExecuteTime": {
     "end_time": "2021-06-18T01:15:05.896554Z",
     "start_time": "2021-06-18T01:15:05.804714Z"
    }
   },
   "outputs": [],
   "source": [
    "net = cv2.dnn.readNetFromCaffe('./deploy.prototxt',\n",
    "                               'mobilenet_iter_73000.caffemodel')"
   ]
  },
  {
   "cell_type": "code",
   "execution_count": 10,
   "id": "01210bd4",
   "metadata": {
    "ExecuteTime": {
     "end_time": "2021-06-18T01:15:08.705787Z",
     "start_time": "2021-06-18T01:15:05.898674Z"
    }
   },
   "outputs": [],
   "source": [
    "cap = cv2.VideoCapture(0)\n",
    "\n",
    "done = True\n",
    "\n",
    "if not cap.isOpened():\n",
    "    print(\"file not opened\")\n",
    "    done = False"
   ]
  },
  {
   "cell_type": "code",
   "execution_count": 11,
   "id": "fae88f9d",
   "metadata": {
    "ExecuteTime": {
     "end_time": "2021-06-18T01:15:08.721669Z",
     "start_time": "2021-06-18T01:15:08.707483Z"
    }
   },
   "outputs": [],
   "source": [
    "delay = int(1000/ cap.get(cv2.CAP_PROP_FPS))"
   ]
  },
  {
   "cell_type": "code",
   "execution_count": 12,
   "id": "80e7b7ae",
   "metadata": {
    "ExecuteTime": {
     "end_time": "2021-06-18T01:15:22.453581Z",
     "start_time": "2021-06-18T01:15:08.722629Z"
    }
   },
   "outputs": [],
   "source": [
    "while done:\n",
    "    ret, image = cap.read()\n",
    "    if ret :\n",
    "        (h,w) = image.shape[:2]\n",
    "        blob = cv2.dnn.blobFromImage(cv2.resize(image,(300,300)),\n",
    "                                     0.007843,\n",
    "                                     (300,300),\n",
    "                                     127.5)\n",
    "        net.setInput(blob)\n",
    "        detections = net.forward()\n",
    "        \n",
    "        for i in np.arange(0,detections.shape[2]):\n",
    "            confidence = detections[0,0,i,2]\n",
    "            if confidence > 0.2 :\n",
    "                idx = int(detections[0,0,i,1])\n",
    "                box = detections[0,0,i,3:7] *np.array([w,h,w,h])\n",
    "                (sx,sy,ex,ey) = box.astype('int')\n",
    "                \n",
    "                label = '{} : {} %'.format(CLASSES[idx],confidence *100)\n",
    "                cv2.rectangle(image,(sx,sy),(ex,ey), COLORS[idx],2)\n",
    "                y = sy -15 if sy -15 > 15 else sy +15\n",
    "                cv2.putText(image,\n",
    "                            label,\n",
    "                            (sx,y),\n",
    "                            cv2.FONT_HERSHEY_SIMPLEX,\n",
    "                            0.5,\n",
    "                            COLORS[idx],\n",
    "                            2)\n",
    "        cv2.imshow('Detection',image)\n",
    "        key = cv2.waitKey(delay)\n",
    "        if key == ord('q'):\n",
    "            break\n",
    "cap.release\n",
    "cv2.destroyAllWindows()\n",
    "        \n",
    "        "
   ]
  },
  {
   "cell_type": "code",
   "execution_count": null,
   "id": "17e4289d",
   "metadata": {},
   "outputs": [],
   "source": []
  }
 ],
 "metadata": {
  "kernelspec": {
   "display_name": "Python 3",
   "language": "python",
   "name": "python3"
  },
  "language_info": {
   "codemirror_mode": {
    "name": "ipython",
    "version": 3
   },
   "file_extension": ".py",
   "mimetype": "text/x-python",
   "name": "python",
   "nbconvert_exporter": "python",
   "pygments_lexer": "ipython3",
   "version": "3.8.8"
  },
  "varInspector": {
   "cols": {
    "lenName": 16,
    "lenType": 16,
    "lenVar": 40
   },
   "kernels_config": {
    "python": {
     "delete_cmd_postfix": "",
     "delete_cmd_prefix": "del ",
     "library": "var_list.py",
     "varRefreshCmd": "print(var_dic_list())"
    },
    "r": {
     "delete_cmd_postfix": ") ",
     "delete_cmd_prefix": "rm(",
     "library": "var_list.r",
     "varRefreshCmd": "cat(var_dic_list()) "
    }
   },
   "types_to_exclude": [
    "module",
    "function",
    "builtin_function_or_method",
    "instance",
    "_Feature"
   ],
   "window_display": false
  }
 },
 "nbformat": 4,
 "nbformat_minor": 5
}
