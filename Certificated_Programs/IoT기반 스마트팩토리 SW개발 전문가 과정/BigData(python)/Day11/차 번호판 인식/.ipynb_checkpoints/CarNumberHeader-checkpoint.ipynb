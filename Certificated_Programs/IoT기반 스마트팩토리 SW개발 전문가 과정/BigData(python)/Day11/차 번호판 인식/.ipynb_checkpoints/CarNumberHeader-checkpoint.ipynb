{
 "cells": [
  {
   "cell_type": "code",
   "execution_count": 1,
   "id": "ae66bd9c",
   "metadata": {
    "ExecuteTime": {
     "end_time": "2021-06-21T07:06:28.327069Z",
     "start_time": "2021-06-21T07:06:28.077124Z"
    }
   },
   "outputs": [],
   "source": [
    "import numpy as np\n",
    "import cv2"
   ]
  },
  {
   "cell_type": "code",
   "execution_count": 2,
   "id": "5276f9ba",
   "metadata": {
    "ExecuteTime": {
     "end_time": "2021-06-21T07:06:28.342919Z",
     "start_time": "2021-06-21T07:06:28.330017Z"
    }
   },
   "outputs": [],
   "source": [
    "def preprocessing(car_no) :\n",
    "    image = cv2.imread('image/%02d.jpg' %car_no, cv2.IMREAD_COLOR)\n",
    "    if image is None: return None,None\n",
    "    \n",
    "    k = np.ones((5,17), np.uint8)\n",
    "    g = cv2.cvtColor(image, cv2.COLOR_BGR2GRAY)\n",
    "    g = cv2.blur(g,(5,5))\n",
    "    g = cv2.Sobel(g,cv2.CV_8U,1,0,3)\n",
    "    \n",
    "    th_img = cv2.threshold(g , 120,255,cv2.THRESH_BINARY)[1]\n",
    "    morph = cv2.morphologyEx(th_img, cv2.MORPH_CLOSE, k, iterations = 3)\n",
    "    \n",
    "    return image,morph"
   ]
  },
  {
   "cell_type": "code",
   "execution_count": 3,
   "id": "8aa4eb52",
   "metadata": {
    "ExecuteTime": {
     "end_time": "2021-06-21T07:06:28.357637Z",
     "start_time": "2021-06-21T07:06:28.344900Z"
    }
   },
   "outputs": [],
   "source": [
    "def verify_aspec_size(size):\n",
    "    w , h = size\n",
    "    if h * w == 0 : return False\n",
    "    \n",
    "    aspect = h/w if h > w else w / h\n",
    "    chk1 = 3000< h *w <1200\n",
    "    chk2 = 2.0 < aspect < 6.5\n",
    "    \n",
    "    return (chk1 and chk2)"
   ]
  },
  {
   "cell_type": "code",
   "execution_count": 4,
   "id": "fa1ef3db",
   "metadata": {
    "ExecuteTime": {
     "end_time": "2021-06-21T07:06:28.372822Z",
     "start_time": "2021-06-21T07:06:28.359636Z"
    }
   },
   "outputs": [],
   "source": [
    "def find_candidates(image):\n",
    "    results = cv2.findContours(image, cv2.RETR_EXTERNAL, cv2.CHAIN_APPROX_SIMPLE)\n",
    "    contours = results[0] if int(cv2.__version__[0]) >= 4 else results[1]\n",
    "    rects = [cv2.minAreaRect(c) for c in contours]\n",
    "    candidates = [(tuple(map(int,center)),tuple(map(int,size)),angle ) for center, size, angle in rects if vertify_aspect_size(size)]\n",
    "    \n",
    "    return candidates"
   ]
  },
  {
   "cell_type": "code",
   "execution_count": null,
   "id": "91d75d61",
   "metadata": {},
   "outputs": [],
   "source": []
  },
  {
   "cell_type": "code",
   "execution_count": null,
   "id": "79f153d7",
   "metadata": {},
   "outputs": [],
   "source": []
  }
 ],
 "metadata": {
  "kernelspec": {
   "display_name": "Python 3",
   "language": "python",
   "name": "python3"
  },
  "language_info": {
   "codemirror_mode": {
    "name": "ipython",
    "version": 3
   },
   "file_extension": ".py",
   "mimetype": "text/x-python",
   "name": "python",
   "nbconvert_exporter": "python",
   "pygments_lexer": "ipython3",
   "version": "3.8.8"
  },
  "varInspector": {
   "cols": {
    "lenName": 16,
    "lenType": 16,
    "lenVar": 40
   },
   "kernels_config": {
    "python": {
     "delete_cmd_postfix": "",
     "delete_cmd_prefix": "del ",
     "library": "var_list.py",
     "varRefreshCmd": "print(var_dic_list())"
    },
    "r": {
     "delete_cmd_postfix": ") ",
     "delete_cmd_prefix": "rm(",
     "library": "var_list.r",
     "varRefreshCmd": "cat(var_dic_list()) "
    }
   },
   "types_to_exclude": [
    "module",
    "function",
    "builtin_function_or_method",
    "instance",
    "_Feature"
   ],
   "window_display": false
  }
 },
 "nbformat": 4,
 "nbformat_minor": 5
}
