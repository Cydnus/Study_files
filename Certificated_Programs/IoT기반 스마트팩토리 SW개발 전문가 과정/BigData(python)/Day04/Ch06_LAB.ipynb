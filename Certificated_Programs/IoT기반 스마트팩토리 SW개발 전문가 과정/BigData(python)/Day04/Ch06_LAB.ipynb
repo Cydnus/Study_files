{
 "cells": [
  {
   "cell_type": "markdown",
   "id": "d62a557e",
   "metadata": {},
   "source": [
    "#### 01"
   ]
  },
  {
   "cell_type": "code",
   "execution_count": 7,
   "id": "dfbe2cfd",
   "metadata": {},
   "outputs": [
    {
     "ename": "Terminator",
     "evalue": "",
     "output_type": "error",
     "traceback": [
      "\u001b[1;31m---------------------------------------------------------------------------\u001b[0m",
      "\u001b[1;31mTerminator\u001b[0m                                Traceback (most recent call last)",
      "\u001b[1;32m<ipython-input-7-518c918315da>\u001b[0m in \u001b[0;36m<module>\u001b[1;34m\u001b[0m\n\u001b[0;32m      9\u001b[0m \u001b[1;33m\u001b[0m\u001b[0m\n\u001b[0;32m     10\u001b[0m \u001b[0mturtle\u001b[0m\u001b[1;33m.\u001b[0m\u001b[0mexitonclick\u001b[0m\u001b[1;33m(\u001b[0m\u001b[1;33m)\u001b[0m\u001b[1;33m\u001b[0m\u001b[1;33m\u001b[0m\u001b[0m\n\u001b[1;32m---> 11\u001b[1;33m \u001b[0mturtle\u001b[0m\u001b[1;33m.\u001b[0m\u001b[0mmainloop\u001b[0m\u001b[1;33m(\u001b[0m\u001b[1;33m)\u001b[0m\u001b[1;33m\u001b[0m\u001b[1;33m\u001b[0m\u001b[0m\n\u001b[0m",
      "\u001b[1;32m~\\anaconda3\\lib\\turtle.py\u001b[0m in \u001b[0;36mmainloop\u001b[1;34m()\u001b[0m\n",
      "\u001b[1;31mTerminator\u001b[0m: "
     ]
    }
   ],
   "source": [
    "import turtle\n",
    "\n",
    "t = turtle.Turtle()\n",
    "\n",
    "\n",
    "for i in range(0,6):\n",
    "    t.circle(100)\n",
    "    t.left(60)\n",
    "    \n",
    "turtle.exitonclick()"
   ]
  },
  {
   "cell_type": "markdown",
   "id": "caab72e2",
   "metadata": {},
   "source": [
    "#### 02"
   ]
  },
  {
   "cell_type": "code",
   "execution_count": 9,
   "id": "77a9d634",
   "metadata": {},
   "outputs": [
    {
     "name": "stdout",
     "output_type": "stream",
     "text": [
      "A\n",
      "B\n",
      "C\n",
      "D\n",
      "C\n",
      "D\n"
     ]
    }
   ],
   "source": [
    "def A():\n",
    "    print('A')\n",
    "def B():\n",
    "    print('B')\n",
    "def C():\n",
    "    print('C')\n",
    "def D():\n",
    "    print('D')\n",
    "\n",
    "A()\n",
    "B()\n",
    "for i in range(0,2):\n",
    "    C()\n",
    "    D()"
   ]
  },
  {
   "cell_type": "markdown",
   "id": "12c39bd7",
   "metadata": {},
   "source": [
    "#### 03"
   ]
  },
  {
   "cell_type": "code",
   "execution_count": 14,
   "id": "cda5d7de",
   "metadata": {},
   "outputs": [],
   "source": [
    "import turtle\n",
    "\n",
    "t = turtle.Turtle()\n",
    "t.shape('turtle')\n",
    "\n",
    "polygon = int(turtle.textinput(\"\",\"몇각형을 원하시나요?\"))\n",
    "angle = 360/polygon\n",
    "\n",
    "for i in range(polygon):\n",
    "    t.forward(100)\n",
    "    t.left(angle)\n",
    "\n",
    "\n",
    "turtle.exitonclick()\n"
   ]
  },
  {
   "cell_type": "markdown",
   "id": "97abe503",
   "metadata": {},
   "source": [
    "#### 04"
   ]
  },
  {
   "cell_type": "code",
   "execution_count": 19,
   "id": "7f0e435a",
   "metadata": {},
   "outputs": [],
   "source": [
    "import turtle\n",
    "import random\n",
    "\n",
    "\n",
    "t = turtle.Turtle()\n",
    "t.shape('turtle')\n",
    "screen = turtle.Screen()\n",
    "\n",
    "def click(x,y):\n",
    "    global done\n",
    "    done = False\n",
    "    \n",
    "screen.onclick(click)\n",
    "screen.listen()\n",
    "\n",
    "done = True\n",
    "\n",
    "while done:\n",
    "    t.goto(random.randrange(-250,250),random.randrange(-250,250))\n",
    "    \n",
    "\n",
    "turtle.bye() \n"
   ]
  },
  {
   "cell_type": "markdown",
   "id": "4b83442f",
   "metadata": {},
   "source": [
    "#### 05 "
   ]
  },
  {
   "cell_type": "code",
   "execution_count": 21,
   "id": "1364889a",
   "metadata": {},
   "outputs": [
    {
     "name": "stdout",
     "output_type": "stream",
     "text": [
      "범인이 숨은 방을 맞추시오 : 2\n",
      "범인이 숨은 방을 맞추시오 : 3\n"
     ]
    }
   ],
   "source": [
    "import random\n",
    "score = 0\n",
    "\n",
    "while True:\n",
    "    target = random.randrange(1,4)\n",
    "    check = int(input('범인이 숨은 방을 맞추시오 : '))\n",
    "    \n",
    "    if target == check :\n",
    "        score += 100\n",
    "        break;\n",
    "    else:\n",
    "        score -= 10\n",
    "    "
   ]
  },
  {
   "cell_type": "markdown",
   "id": "49fb98fd",
   "metadata": {},
   "source": [
    "#### 06 "
   ]
  },
  {
   "cell_type": "code",
   "execution_count": 25,
   "id": "47457a4f",
   "metadata": {},
   "outputs": [],
   "source": [
    "import turtle\n",
    "import random\n",
    "\n",
    "\n",
    "t = turtle.Turtle()\n",
    "t.shape('turtle')\n",
    "screen = turtle.Screen()\n",
    "t.speed(0)\n",
    "\n",
    "def drawRect(x,y):\n",
    "    global t\n",
    "    t.up()\n",
    "    t.goto(x,y)\n",
    "    t.down()\n",
    "    \n",
    "    length = random.randrange(10,300)\n",
    "    t.color(random.random(),random.random(),random.random())\n",
    "    t.begin_fill()\n",
    "    for i in range(0,4):\n",
    "        t.forward(length)\n",
    "        t.left(90)\n",
    "    t.end_fill()\n",
    "\n",
    "def click(x,y):\n",
    "    global done\n",
    "    done = False\n",
    "    \n",
    "screen.onclick(click)\n",
    "screen.listen()\n",
    "\n",
    "done = True\n",
    "\n",
    "while done:\n",
    "    drawRect(random.randrange(-300,300),random.randrange(-300,300))\n",
    "    \n",
    "    \n",
    "    \n",
    "turtle.bye() "
   ]
  },
  {
   "cell_type": "markdown",
   "id": "5e594263",
   "metadata": {},
   "source": [
    "#### 07"
   ]
  },
  {
   "cell_type": "code",
   "execution_count": 26,
   "id": "432250f5",
   "metadata": {},
   "outputs": [
    {
     "name": "stdout",
     "output_type": "stream",
     "text": [
      "자연수 입력 : 6\n",
      "1\t2\t3\t6\t"
     ]
    }
   ],
   "source": [
    "number = int(input('자연수 입력 : '))\n",
    "\n",
    "for i in range(1, number+1):\n",
    "    if number % i == 0:\n",
    "        print(i,end=\"\\t\")"
   ]
  },
  {
   "cell_type": "markdown",
   "id": "3e67e8b7",
   "metadata": {},
   "source": [
    "#### 08"
   ]
  },
  {
   "cell_type": "code",
   "execution_count": 32,
   "id": "34c1ff71",
   "metadata": {},
   "outputs": [
    {
     "name": "stdout",
     "output_type": "stream",
     "text": [
      "38\n"
     ]
    }
   ],
   "source": [
    "def Uclid(a , b):\n",
    "    if b== 0:\n",
    "        return a\n",
    "    if b > a :\n",
    "        a,b = b,a\n",
    "    return Uclid(b, a%b)\n",
    "temp = Uclid(722,190)\n",
    "if temp == 1:\n",
    "    print('두수는 서로소이다')\n",
    "else :\n",
    "    print(temp)"
   ]
  },
  {
   "cell_type": "markdown",
   "id": "f32253aa",
   "metadata": {},
   "source": [
    "#### 09"
   ]
  },
  {
   "cell_type": "code",
   "execution_count": 34,
   "id": "cf852d91",
   "metadata": {},
   "outputs": [],
   "source": [
    "import turtle\n",
    "\n",
    "t = turtle.Turtle()\n",
    "t.shape('turtle')\n",
    "screen = turtle.Screen()\n",
    "t.speed(8)\n",
    "\n",
    "for i in range(0,5):\n",
    "    t.forward(100)\n",
    "    t.left(216)\n",
    "    \n",
    "turtle.exitonclick()\n"
   ]
  },
  {
   "cell_type": "markdown",
   "id": "b0b47892",
   "metadata": {},
   "source": [
    "#### 10 "
   ]
  },
  {
   "cell_type": "code",
   "execution_count": 36,
   "id": "ca821cc7",
   "metadata": {},
   "outputs": [
    {
     "name": "stdout",
     "output_type": "stream",
     "text": [
      "1부터 100사이의 숫자를 맞추시오\n",
      "숫자를 입력하시오 : 50\n",
      "높음!\n",
      "숫자를 입력하시오 : 25\n",
      "낮음!\n",
      "숫자를 입력하시오 : 37\n",
      "낮음!\n",
      "숫자를 입력하시오 : 44\n",
      "높음!\n",
      "숫자를 입력하시오 : 40\n",
      "높음!\n",
      "숫자를 입력하시오 : 38\n",
      "낮음!\n",
      "숫자를 입력하시오 : 39\n",
      "축하합니다. 시도횟수= 7\n"
     ]
    }
   ],
   "source": [
    "import random\n",
    "\n",
    "com = random.randrange(1,101)\n",
    "\n",
    "print('1부터 100사이의 숫자를 맞추시오')\n",
    "\n",
    "count = 0\n",
    "\n",
    "while True:\n",
    "    count+=1\n",
    "    num = int(input('숫자를 입력하시오 : '))\n",
    "    if num < com :\n",
    "        print('낮음!')\n",
    "    elif num == com :\n",
    "        print('축하합니다. 시도횟수= %s' %count)\n",
    "        break\n",
    "    else :        \n",
    "        print('높음!')\n"
   ]
  },
  {
   "cell_type": "code",
   "execution_count": null,
   "id": "91649ae5",
   "metadata": {},
   "outputs": [],
   "source": []
  }
 ],
 "metadata": {
  "kernelspec": {
   "display_name": "Python 3",
   "language": "python",
   "name": "python3"
  },
  "language_info": {
   "codemirror_mode": {
    "name": "ipython",
    "version": 3
   },
   "file_extension": ".py",
   "mimetype": "text/x-python",
   "name": "python",
   "nbconvert_exporter": "python",
   "pygments_lexer": "ipython3",
   "version": "3.8.8"
  },
  "varInspector": {
   "cols": {
    "lenName": 16,
    "lenType": 16,
    "lenVar": 40
   },
   "kernels_config": {
    "python": {
     "delete_cmd_postfix": "",
     "delete_cmd_prefix": "del ",
     "library": "var_list.py",
     "varRefreshCmd": "print(var_dic_list())"
    },
    "r": {
     "delete_cmd_postfix": ") ",
     "delete_cmd_prefix": "rm(",
     "library": "var_list.r",
     "varRefreshCmd": "cat(var_dic_list()) "
    }
   },
   "types_to_exclude": [
    "module",
    "function",
    "builtin_function_or_method",
    "instance",
    "_Feature"
   ],
   "window_display": false
  }
 },
 "nbformat": 4,
 "nbformat_minor": 5
}
