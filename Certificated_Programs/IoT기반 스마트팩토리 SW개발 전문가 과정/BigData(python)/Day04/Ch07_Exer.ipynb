{
 "cells": [
  {
   "cell_type": "markdown",
   "id": "03a36122",
   "metadata": {},
   "source": [
    "#### "
   ]
  },
  {
   "cell_type": "code",
   "execution_count": 3,
   "id": "ae2f4a2d",
   "metadata": {},
   "outputs": [
    {
     "name": "stdout",
     "output_type": "stream",
     "text": [
      "[94, 70, 1, 75, 18, 53, 79, 64, 21, 70]\n"
     ]
    }
   ],
   "source": [
    "import random\n",
    "\n",
    "values = []\n",
    "for i in range(0,10):\n",
    "    values.append(random.randrange(1,100))\n",
    "    \n",
    "print(values)"
   ]
  },
  {
   "cell_type": "markdown",
   "id": "270dd34f",
   "metadata": {},
   "source": [
    "#### "
   ]
  },
  {
   "cell_type": "code",
   "execution_count": 5,
   "id": "9c669956",
   "metadata": {},
   "outputs": [
    {
     "name": "stdout",
     "output_type": "stream",
     "text": [
      "20\t********************\n",
      "1\t*\n",
      "12\t************\n",
      "9\t*********\n",
      "18\t******************\n"
     ]
    }
   ],
   "source": [
    "star_list = [20,1,12,9,18]\n",
    "\n",
    "for i in star_list:\n",
    "    print(i,end='\\t')\n",
    "    for j in range(0,i):\n",
    "        print('*',end='')\n",
    "    print()\n",
    "    \n"
   ]
  },
  {
   "cell_type": "markdown",
   "id": "605e862a",
   "metadata": {},
   "source": [
    "#### "
   ]
  },
  {
   "cell_type": "code",
   "execution_count": 9,
   "id": "3bdb051b",
   "metadata": {},
   "outputs": [],
   "source": [
    "import random\n",
    "import turtle\n",
    "\n",
    "\n",
    "def draw_square(x,y,c):\n",
    "    t = turtle.Turtle()\n",
    "    t.shape('turtle')\n",
    "    t.up()\n",
    "    t.goto(x,y)\n",
    "    t.down()\n",
    "    t.fillcolor(c)\n",
    "    t.begin_fill()\n",
    "    for i in range(0,4):\n",
    "        t.forward(100)\n",
    "        t.left(90)\n",
    "        \n",
    "    t.end_fill()\n",
    "    \n",
    "color = ['yellow', 'red', 'purple', 'blue' ]\n",
    "\n",
    "for c in color :\n",
    "    draw_square(random.randrange(-200,200),random.randrange(-200,200),c)\n",
    "    \n",
    "\n",
    "\n",
    "\n",
    "\n",
    "turtle.exitonclick()"
   ]
  },
  {
   "cell_type": "markdown",
   "id": "6dc754b6",
   "metadata": {},
   "source": [
    "#### "
   ]
  },
  {
   "cell_type": "code",
   "execution_count": 6,
   "id": "6bc2b2c4",
   "metadata": {},
   "outputs": [],
   "source": [
    "import random\n",
    "import turtle\n",
    "\n",
    "s = turtle.Screen()\n",
    "s.bgcolor('black')\n",
    "\n",
    "t = turtle.Turtle()\n",
    "t.shape('turtle')\n",
    "t.clear()\n",
    "\n",
    "def draw_square(c,length,x,y):\n",
    "    global t\n",
    "    t.up()\n",
    "    t.goto(x,y)\n",
    "    t.down()\n",
    "    t.fillcolor(c)\n",
    "    t.begin_fill()\n",
    "    for i in range(0,5):\n",
    "        t.forward(length)\n",
    "        t.left(72)\n",
    "        t.forward(length)\n",
    "        t.left(216)\n",
    "        \n",
    "    t.end_fill()\n",
    "    \n",
    "    \n",
    "    \n",
    "color = ['yellow', 'red', 'purple', 'blue' ]\n",
    "\n",
    "\n",
    "for c in color :\n",
    "    draw_square(c, random.randrange(1,150),random.randrange(-200,200),random.randrange(-200,200))\n",
    "    \n",
    "\n",
    "\n",
    "turtle.exitonclick()\n"
   ]
  },
  {
   "cell_type": "code",
   "execution_count": null,
   "id": "b646471d",
   "metadata": {},
   "outputs": [],
   "source": []
  }
 ],
 "metadata": {
  "kernelspec": {
   "display_name": "Python 3",
   "language": "python",
   "name": "python3"
  },
  "language_info": {
   "codemirror_mode": {
    "name": "ipython",
    "version": 3
   },
   "file_extension": ".py",
   "mimetype": "text/x-python",
   "name": "python",
   "nbconvert_exporter": "python",
   "pygments_lexer": "ipython3",
   "version": "3.8.8"
  },
  "toc": {
   "base_numbering": 1,
   "nav_menu": {},
   "number_sections": true,
   "sideBar": true,
   "skip_h1_title": false,
   "title_cell": "Table of Contents",
   "title_sidebar": "Contents",
   "toc_cell": false,
   "toc_position": {},
   "toc_section_display": true,
   "toc_window_display": false
  },
  "varInspector": {
   "cols": {
    "lenName": 16,
    "lenType": 16,
    "lenVar": 40
   },
   "kernels_config": {
    "python": {
     "delete_cmd_postfix": "",
     "delete_cmd_prefix": "del ",
     "library": "var_list.py",
     "varRefreshCmd": "print(var_dic_list())"
    },
    "r": {
     "delete_cmd_postfix": ") ",
     "delete_cmd_prefix": "rm(",
     "library": "var_list.r",
     "varRefreshCmd": "cat(var_dic_list()) "
    }
   },
   "types_to_exclude": [
    "module",
    "function",
    "builtin_function_or_method",
    "instance",
    "_Feature"
   ],
   "window_display": false
  }
 },
 "nbformat": 4,
 "nbformat_minor": 5
}
