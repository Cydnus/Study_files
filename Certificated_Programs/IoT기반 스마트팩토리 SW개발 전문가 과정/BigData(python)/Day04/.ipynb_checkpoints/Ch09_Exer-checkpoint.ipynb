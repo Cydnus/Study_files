{
 "cells": [
  {
   "cell_type": "markdown",
   "id": "1cbf7702",
   "metadata": {},
   "source": [
    "#### 01"
   ]
  },
  {
   "cell_type": "code",
   "execution_count": 9,
   "id": "ead956af",
   "metadata": {},
   "outputs": [
    {
     "name": "stdout",
     "output_type": "stream",
     "text": [
      "주어진 리스트 : 10, 20, 30, 40\n",
      "정리된 리스트 :  [10, 20, 30, 40]\n"
     ]
    }
   ],
   "source": [
    "strinput = input(\"주어진 리스트 : \").split(',')\n",
    "\n",
    "mylist = list()\n",
    "for i in strinput:\n",
    "    mylist.append(int(i.strip()))\n",
    "\n",
    "mylist = list(set(mylist))\n",
    "mylist = sorted(mylist)\n",
    "print('정리된 리스트 : ',mylist)"
   ]
  },
  {
   "cell_type": "markdown",
   "id": "e3f3527e",
   "metadata": {},
   "source": [
    "#### 02 "
   ]
  },
  {
   "cell_type": "code",
   "execution_count": 12,
   "id": "790e5190",
   "metadata": {},
   "outputs": [
    {
     "name": "stdout",
     "output_type": "stream",
     "text": [
      "{1: 1, 2: 4, 3: 9, 4: 16, 5: 25, 6: 36, 7: 49, 8: 64, 9: 81, 10: 100}\n"
     ]
    }
   ],
   "source": [
    "ret = dict()\n",
    "\n",
    "for i in range(1,11):\n",
    "    ret[i] = i**2\n",
    "    \n",
    "print(ret)"
   ]
  },
  {
   "cell_type": "markdown",
   "id": "a06f163f",
   "metadata": {},
   "source": [
    "#### 03"
   ]
  },
  {
   "cell_type": "code",
   "execution_count": 14,
   "id": "a6c62f93",
   "metadata": {},
   "outputs": [
    {
     "name": "stdout",
     "output_type": "stream",
     "text": [
      "Apple \t->\t 1\n",
      "Banana \t->\t 2\n",
      "Grape \t->\t 3\n"
     ]
    }
   ],
   "source": [
    "d = {\"Apple\": 1, \"Banana\": 2, \"Grape\": 3} \n",
    "\n",
    "for k,v in d.items():\n",
    "    print (k,'\\t->\\t',v)\n"
   ]
  },
  {
   "cell_type": "markdown",
   "id": "9ec3d464",
   "metadata": {},
   "source": [
    "#### 04"
   ]
  },
  {
   "cell_type": "code",
   "execution_count": 1,
   "id": "98d1c9bb",
   "metadata": {},
   "outputs": [
    {
     "name": "stdout",
     "output_type": "stream",
     "text": [
      "첫번째 문자열 : hello world!\n",
      "두번째 문자열 : hi! welcome!!\n",
      "['e', 'l', '!', 'h', ' ', 'o', 'w']\n"
     ]
    }
   ],
   "source": [
    "str1 = input('첫번째 문자열 : ')\n",
    "str2 = input('두번째 문자열 : ')\n",
    "\n",
    "set1 = set(str1)\n",
    "set2 = set(str2)\n",
    "\n",
    "print(list(set1 &set2)) \n"
   ]
  },
  {
   "cell_type": "markdown",
   "id": "3be2ff6a",
   "metadata": {},
   "source": [
    "#### 05"
   ]
  },
  {
   "cell_type": "code",
   "execution_count": 4,
   "id": "260f6e18",
   "metadata": {},
   "outputs": [
    {
     "name": "stdout",
     "output_type": "stream",
     "text": [
      "첫번째 세트 :  {40, 10, 50, 20, 60, 30}\n",
      "두번째 세트 :  {70, 40, 80, 50, 60, 30}\n",
      "어느 한쪽에만 있는 요소들 {10, 20} {80, 70}\n"
     ]
    }
   ],
   "source": [
    "set1 = {10,20,30,40,50,60}\n",
    "set2 = {30,40,50,60,70,80}\n",
    "\n",
    "inter = set1.intersection(set2)\n",
    "\n",
    "print('첫번째 세트 : ',set1)\n",
    "print('두번째 세트 : ',set2)\n",
    "print('어느 한쪽에만 있는 요소들', set1-inter , set2-inter)\n"
   ]
  },
  {
   "cell_type": "code",
   "execution_count": null,
   "id": "bfeb67fd",
   "metadata": {},
   "outputs": [],
   "source": []
  }
 ],
 "metadata": {
  "kernelspec": {
   "display_name": "Python 3",
   "language": "python",
   "name": "python3"
  },
  "language_info": {
   "codemirror_mode": {
    "name": "ipython",
    "version": 3
   },
   "file_extension": ".py",
   "mimetype": "text/x-python",
   "name": "python",
   "nbconvert_exporter": "python",
   "pygments_lexer": "ipython3",
   "version": "3.8.8"
  },
  "toc": {
   "base_numbering": 1,
   "nav_menu": {},
   "number_sections": true,
   "sideBar": true,
   "skip_h1_title": false,
   "title_cell": "Table of Contents",
   "title_sidebar": "Contents",
   "toc_cell": false,
   "toc_position": {},
   "toc_section_display": true,
   "toc_window_display": false
  },
  "varInspector": {
   "cols": {
    "lenName": 16,
    "lenType": 16,
    "lenVar": 40
   },
   "kernels_config": {
    "python": {
     "delete_cmd_postfix": "",
     "delete_cmd_prefix": "del ",
     "library": "var_list.py",
     "varRefreshCmd": "print(var_dic_list())"
    },
    "r": {
     "delete_cmd_postfix": ") ",
     "delete_cmd_prefix": "rm(",
     "library": "var_list.r",
     "varRefreshCmd": "cat(var_dic_list()) "
    }
   },
   "types_to_exclude": [
    "module",
    "function",
    "builtin_function_or_method",
    "instance",
    "_Feature"
   ],
   "window_display": false
  }
 },
 "nbformat": 4,
 "nbformat_minor": 5
}
