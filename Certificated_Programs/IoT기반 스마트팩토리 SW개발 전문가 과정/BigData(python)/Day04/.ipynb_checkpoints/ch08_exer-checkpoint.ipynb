{
 "cells": [
  {
   "cell_type": "markdown",
   "id": "77a1f726",
   "metadata": {},
   "source": [
    "#### "
   ]
  },
  {
   "cell_type": "code",
   "execution_count": 7,
   "id": "2ed6462a",
   "metadata": {},
   "outputs": [],
   "source": [
    "def func(x):\n",
    "    return x**2+1\n",
    "\n",
    "import turtle \n",
    "t = turtle.Turtle()\n",
    "t.shape('turtle')\n",
    "\n",
    "def drawAxis():\n",
    "    global t\n",
    "    t.forward(250)\n",
    "    t.forward(-250)\n",
    "    t.left(90)\n",
    "    t.forward(250)\n",
    "    t.forward(-250)\n",
    "    \n",
    "drawAxis()\n",
    "t.up()\n",
    "t.goto(0,func(0))\n",
    "t.down()\n",
    "\n",
    "for i in range(0,150):\n",
    "    t.goto(i,func(i)*0.01)\n",
    "\n",
    "turtle.mainloop()\n"
   ]
  },
  {
   "cell_type": "markdown",
   "id": "6e1d04a7",
   "metadata": {},
   "source": [
    "#### "
   ]
  },
  {
   "cell_type": "code",
   "execution_count": 8,
   "id": "f11d0f60",
   "metadata": {},
   "outputs": [
    {
     "name": "stdout",
     "output_type": "stream",
     "text": [
      "10  +  5  =  15\n",
      "10  -  5  =  5\n",
      "10  *  5  =  50\n",
      "10  /  5  =  2.0\n"
     ]
    }
   ],
   "source": [
    "def add(a,b):\n",
    "    return a + b\n",
    "\n",
    "def sub(a,b):\n",
    "    return a - b\n",
    "\n",
    "def mul(a,b):\n",
    "    return a * b\n",
    "\n",
    "def div(a,b):\n",
    "    return a / b\n",
    "\n",
    "a= 10\n",
    "b = 5\n",
    "print( a , ' + ', b, ' = ', add(a,b))\n",
    "print( a , ' - ', b, ' = ', sub(a,b))\n",
    "print( a , ' * ', b, ' = ', mul(a,b))\n",
    "print( a , ' / ', b, ' = ', div(a,b))\n",
    "\n"
   ]
  },
  {
   "cell_type": "markdown",
   "id": "3ef7dec2",
   "metadata": {},
   "source": [
    "#### "
   ]
  },
  {
   "cell_type": "code",
   "execution_count": 10,
   "id": "708b077b",
   "metadata": {},
   "outputs": [
    {
     "name": "stdout",
     "output_type": "stream",
     "text": [
      "2\t3\t5\t7\t11\t13\t17\t19\t23\t29\t31\t37\t41\t43\t47\t53\t59\t61\t67\t71\t73\t79\t83\t89\t97\t"
     ]
    }
   ],
   "source": [
    "def testPrime(n):\n",
    "    for i in range(2,int(n**0.5)+1):\n",
    "        if n % i == 0 :\n",
    "            return 0\n",
    "    else:\n",
    "        return 1\n",
    "\n",
    "for i in range(2,100+1):\n",
    "    if testPrime(i) == 1 :\n",
    "        print(i,end=\"\\t\")"
   ]
  },
  {
   "cell_type": "code",
   "execution_count": null,
   "id": "3af98851",
   "metadata": {},
   "outputs": [],
   "source": []
  }
 ],
 "metadata": {
  "kernelspec": {
   "display_name": "Python 3",
   "language": "python",
   "name": "python3"
  },
  "language_info": {
   "codemirror_mode": {
    "name": "ipython",
    "version": 3
   },
   "file_extension": ".py",
   "mimetype": "text/x-python",
   "name": "python",
   "nbconvert_exporter": "python",
   "pygments_lexer": "ipython3",
   "version": "3.8.8"
  },
  "toc": {
   "base_numbering": 1,
   "nav_menu": {},
   "number_sections": true,
   "sideBar": true,
   "skip_h1_title": false,
   "title_cell": "Table of Contents",
   "title_sidebar": "Contents",
   "toc_cell": false,
   "toc_position": {},
   "toc_section_display": true,
   "toc_window_display": false
  },
  "varInspector": {
   "cols": {
    "lenName": 16,
    "lenType": 16,
    "lenVar": 40
   },
   "kernels_config": {
    "python": {
     "delete_cmd_postfix": "",
     "delete_cmd_prefix": "del ",
     "library": "var_list.py",
     "varRefreshCmd": "print(var_dic_list())"
    },
    "r": {
     "delete_cmd_postfix": ") ",
     "delete_cmd_prefix": "rm(",
     "library": "var_list.r",
     "varRefreshCmd": "cat(var_dic_list()) "
    }
   },
   "types_to_exclude": [
    "module",
    "function",
    "builtin_function_or_method",
    "instance",
    "_Feature"
   ],
   "window_display": false
  }
 },
 "nbformat": 4,
 "nbformat_minor": 5
}
