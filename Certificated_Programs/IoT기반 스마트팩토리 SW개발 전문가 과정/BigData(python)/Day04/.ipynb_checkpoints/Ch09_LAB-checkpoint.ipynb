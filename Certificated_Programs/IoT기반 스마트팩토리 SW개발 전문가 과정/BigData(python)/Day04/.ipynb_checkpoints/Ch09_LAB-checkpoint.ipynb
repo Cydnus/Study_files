{
 "cells": [
  {
   "cell_type": "markdown",
   "id": "8c68586f",
   "metadata": {},
   "source": [
    "####  01"
   ]
  },
  {
   "cell_type": "code",
   "execution_count": 5,
   "id": "8734b3f0",
   "metadata": {},
   "outputs": [
    {
     "name": "stdout",
     "output_type": "stream",
     "text": [
      "가위, 바위, 보 입력 : ㅇ\n",
      "잘못 입력하셨습니다.\n"
     ]
    }
   ],
   "source": [
    "import random\n",
    "\n",
    "com = random.randrange(1,3)\n",
    "\n",
    "rsp = {\"가위\" : 1, '바위':2, '보':3}\n",
    "\n",
    "st = input(\"가위, 바위, 보 입력 : \")\n",
    "\n",
    "try:\n",
    "    if com == rsp[st] :\n",
    "        print(\"비겼습니다.\")\n",
    "    elif (com == 1 and rsp[st] == 2) or (com == 2 and rsp[st] == 3) or (com == 3 and rsp[st] == 1):\n",
    "        print(\"이겼습니다\")\n",
    "    else:\n",
    "        print(\"졌습니다.\")\n",
    "except KeyError:\n",
    "    print(\"잘못 입력하셨습니다.\")"
   ]
  },
  {
   "cell_type": "markdown",
   "id": "77c523e9",
   "metadata": {},
   "source": [
    "#### 02"
   ]
  },
  {
   "cell_type": "code",
   "execution_count": 11,
   "id": "4fbc1fc7",
   "metadata": {},
   "outputs": [
    {
     "name": "stdout",
     "output_type": "stream",
     "text": [
      "행성 이름 : 화성\n",
      "이동속도(km/h) : 300\n",
      "이동시간: 약 261333.33333333334 시간\n",
      "이동시간 : 약 29 년 9 월 30 일 21 시간\n"
     ]
    }
   ],
   "source": [
    "plant = {'수성':91700000,\n",
    "         '금성':41400000,\n",
    "         '화성':78400000, \n",
    "         '목성':628700000, \n",
    "         '토성':1277400000, \n",
    "         '천왕성':2750400000,\n",
    "         '해왕성':4347400000}\n",
    "\n",
    "name = input('행성 이름 : ')\n",
    "speed = int(input('이동속도(km/h) : '))\n",
    "try:\n",
    "    transhour = plant[name]/speed\n",
    "    print('이동시간: 약 %s 시간' %transhour)\n",
    "    trans_day = transhour//24\n",
    "    transhour = transhour%24\n",
    "    trans_year = trans_day // 365\n",
    "    trans_day = trans_day %365\n",
    "    trans_month =0\n",
    "    for i in [31,28,31,30,31,30,31,31,30,31,30,31]:\n",
    "        if trans_day - i >= 0:\n",
    "            trans_month += 1\n",
    "            trans_day-=i\n",
    "        else:\n",
    "            break\n",
    "    print('이동시간 : 약 %d 년 %d 월 %d 일 %d 시간' %(trans_year,trans_month, trans_day, transhour))\n",
    "\n",
    "except KeyError:\n",
    "    print(\"이름을 잘못 입력하셨습니다.\")\n",
    "except ZeroDivisionError:\n",
    "    print(\"이동속도를 잘못 입력하셨습니다.\")"
   ]
  },
  {
   "cell_type": "markdown",
   "id": "1fb20842",
   "metadata": {},
   "source": [
    "#### 03"
   ]
  },
  {
   "cell_type": "code",
   "execution_count": 24,
   "id": "9bed47cc",
   "metadata": {},
   "outputs": [
    {
     "name": "stdout",
     "output_type": "stream",
     "text": [
      "{'RR': 26, 'Rr': 23, 'rR': 27, 'rr': 24}\n",
      "3.1666666666666665 : 1\n"
     ]
    }
   ],
   "source": [
    "import random\n",
    "\n",
    "\n",
    "fn = {'RR' : 0, 'Rr' : 0, 'rR':0,'rr':0}\n",
    "\n",
    "for i in range(0,100):\n",
    "    a = random.choice(list(fn.keys()))\n",
    "    fn[a]+=1\n",
    "\n",
    "print(fn)\n",
    "\n",
    "s = fn['RR'] +fn['rR']+fn['Rr'] \n",
    "p = fn['rr']\n",
    "\n",
    "print(s/p ,':',1)\n"
   ]
  },
  {
   "cell_type": "markdown",
   "id": "b9d1df3d",
   "metadata": {},
   "source": [
    "#### 04"
   ]
  },
  {
   "cell_type": "code",
   "execution_count": 25,
   "id": "9eaefabb",
   "metadata": {},
   "outputs": [
    {
     "name": "stdout",
     "output_type": "stream",
     "text": [
      "팀 버너스리\n",
      "리처드 해밍\n",
      "에츠허르 데이크스트라\n",
      "더글러스 엥겔바트\n",
      "데니스 리치\n",
      "리처드 해밍 1968\n",
      "에츠허르 데이크스트라 1972\n",
      "데니스 리치 1983\n",
      "{'미국', '네덜란드', '영국'}\n"
     ]
    }
   ],
   "source": [
    "awards = [{'이름' :'팀 버너스리','수상년도':2016,'국적':'영국'},\n",
    "         {'이름' :'리처드 해밍','수상년도':1968,'국적':'미국'},\n",
    "         {'이름' :'에츠허르 데이크스트라','수상년도':1972,'국적':'네덜란드'},\n",
    "         {'이름' :'더글러스 엥겔바트','수상년도':1997,'국적':'미국'},\n",
    "         {'이름' :'데니스 리치','수상년도':1983,'국적':'미국'}]\n",
    "\n",
    "for award in awards :\n",
    "    print(award['이름'])\n",
    "\n",
    "for award in awards :\n",
    "    if award['수상년도'] <= 1990:\n",
    "        print(award['이름'],award['수상년도'])\n",
    "        \n",
    "nationality = set()\n",
    "\n",
    "for award in awards:\n",
    "    nationality.add(award['국적'])\n",
    "print(nationality)\n",
    "\n"
   ]
  },
  {
   "cell_type": "markdown",
   "id": "c3247e62",
   "metadata": {},
   "source": [
    "##### 05"
   ]
  },
  {
   "cell_type": "code",
   "execution_count": 5,
   "id": "621a3d8f",
   "metadata": {},
   "outputs": [
    {
     "data": {
      "text/plain": [
       "(221, b'2.0.0 closing connection mi10sm6125211pjb.10 - gsmtp')"
      ]
     },
     "execution_count": 5,
     "metadata": {},
     "output_type": "execute_result"
    }
   ],
   "source": [
    "import smtplib\n",
    "from email.mime.text import MIMEText\n",
    "\n",
    "#smtp sesstion 생성\n",
    "s = smtplib.SMTP('smtp.gmail.com',587)\n",
    "\n",
    "#TSL 보안 \n",
    "s.starttls()\n",
    "\n",
    "#로그인 인증\n",
    "#보안을 위하여 현재 앱 비밀번호 삭제.\n",
    "s.login('whtkdgh555@gmail.com','csqbrrhnertcshpp')\n",
    "\n",
    "#메시지 설정\n",
    "msg = MIMEText(\"파이썬 : 본문내용 테스트\")\n",
    "msg['Subject']='Python 보내기 테스트'\n",
    "\n",
    "#보내기\n",
    "s.sendmail('whtkdgh555@gmail.com', 'whtkdgh555@gamil.com', msg.as_string())\n",
    "\n",
    "s.quit()\n",
    "#종료"
   ]
  },
  {
   "cell_type": "markdown",
   "id": "ca00be0d",
   "metadata": {},
   "source": [
    "![mail](chrome_AAvQbMLiwC.png)"
   ]
  },
  {
   "cell_type": "code",
   "execution_count": null,
   "id": "161d69ea",
   "metadata": {},
   "outputs": [],
   "source": []
  }
 ],
 "metadata": {
  "kernelspec": {
   "display_name": "Python 3",
   "language": "python",
   "name": "python3"
  },
  "language_info": {
   "codemirror_mode": {
    "name": "ipython",
    "version": 3
   },
   "file_extension": ".py",
   "mimetype": "text/x-python",
   "name": "python",
   "nbconvert_exporter": "python",
   "pygments_lexer": "ipython3",
   "version": "3.8.8"
  },
  "toc": {
   "base_numbering": 1,
   "nav_menu": {},
   "number_sections": true,
   "sideBar": true,
   "skip_h1_title": false,
   "title_cell": "Table of Contents",
   "title_sidebar": "Contents",
   "toc_cell": false,
   "toc_position": {},
   "toc_section_display": true,
   "toc_window_display": false
  },
  "varInspector": {
   "cols": {
    "lenName": 16,
    "lenType": 16,
    "lenVar": 40
   },
   "kernels_config": {
    "python": {
     "delete_cmd_postfix": "",
     "delete_cmd_prefix": "del ",
     "library": "var_list.py",
     "varRefreshCmd": "print(var_dic_list())"
    },
    "r": {
     "delete_cmd_postfix": ") ",
     "delete_cmd_prefix": "rm(",
     "library": "var_list.r",
     "varRefreshCmd": "cat(var_dic_list()) "
    }
   },
   "types_to_exclude": [
    "module",
    "function",
    "builtin_function_or_method",
    "instance",
    "_Feature"
   ],
   "window_display": false
  }
 },
 "nbformat": 4,
 "nbformat_minor": 5
}
