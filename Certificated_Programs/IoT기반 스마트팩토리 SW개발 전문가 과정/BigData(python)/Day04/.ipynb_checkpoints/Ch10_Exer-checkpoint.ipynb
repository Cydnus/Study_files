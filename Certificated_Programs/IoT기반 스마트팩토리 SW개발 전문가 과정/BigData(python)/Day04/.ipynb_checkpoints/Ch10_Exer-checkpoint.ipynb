{
 "cells": [
  {
   "cell_type": "markdown",
   "id": "8308f173",
   "metadata": {},
   "source": [
    "#### 1\n",
    "input.txt가 한 줄이끝이기 때문에 1.txt로 대체하여 진행"
   ]
  },
  {
   "cell_type": "code",
   "execution_count": 4,
   "id": "2e810e22",
   "metadata": {},
   "outputs": [
    {
     "name": "stdout",
     "output_type": "stream",
     "text": [
      "['Lorem ipsum dolor sit amet, consectetur adipiscing elit. Nam condimentum eros nibh, eu venenatis enim ultricies ut. Praesent arcu orci, bibendum et facilisis in, elementum eget enim. Integer nibh elit, fringilla in fringilla sit amet, semper non metus. Suspendisse potenti. Aenean quis ipsum nec velit consectetur interdum et sed risus. Nam a cursus velit. Mauris malesuada, felis at luctus pharetra, purus ipsum sollicitudin lacus, eu ultricies mauris neque sed velit. Nullam consequat nulla eget nulla efficitur tristique. Donec sit amet dapibus justo, vel sagittis lorem. Donec congue condimentum ligula. Fusce lobortis nunc augue, ac venenatis tortor aliquet vel. Aenean tincidunt, nisl nec condimentum condimentum, libero risus venenatis ante, id hendrerit libero velit eget tellus. Mauris sem magna, dignissim at nibh et, vulputate eleifend orci. Nullam mauris dolor, cursus at aliquet nec, iaculis id nisl. Proin nec tellus et ante condimentum rutrum.\\n', '\\n', 'Maecenas mauris felis, tristique blandit dui nec, auctor bibendum erat. Etiam viverra at justo non auctor. Vestibulum in aliquam dui, eu malesuada ipsum. Donec faucibus dignissim convallis. Nulla at nunc quis tortor molestie feugiat sit amet a justo. Nulla nunc est, hendrerit id euismod in, gravida ut urna. Aenean at elementum risus. Proin quis tellus ultricies, pulvinar odio rutrum, consectetur nunc. Vestibulum ultrices nisi eget nisi aliquam, nec ultricies ante porttitor. Integer ac neque suscipit, posuere metus eu, condimentum est. In tincidunt, leo non rhoncus tincidunt, diam massa bibendum sapien, in auctor ex tellus ac turpis. Pellentesque id pharetra mi. Donec vel fermentum est.\\n', '\\n', 'Nullam egestas nunc velit, a pellentesque lacus dictum at. Proin ac turpis vel felis pulvinar sollicitudin. Praesent id neque nulla. Nam lobortis mi ac mi tempus molestie. Curabitur malesuada a ligula eu mollis. Etiam euismod volutpat elit. Aliquam eu metus id mauris placerat lobortis. Sed sed vestibulum nibh, ut facilisis felis. Duis est tortor, iaculis et purus id, pharetra feugiat magna.\\n', '\\n', 'Orci varius natoque penatibus et magnis dis parturient montes, nascetur ridiculus mus. Donec venenatis justo eu scelerisque ornare. Sed hendrerit auctor tortor vitae lobortis. Aliquam non diam sagittis, fringilla massa vitae, scelerisque tortor. Nullam fermentum eget augue sit amet egestas. Duis euismod justo sed posuere semper. Quisque ut ante porttitor, maximus nisl at, euismod ipsum.\\n', '\\n', 'Vestibulum vitae condimentum est, ac elementum tortor. Proin felis nulla, accumsan vitae gravida quis, semper in felis. Integer sagittis ornare enim, eu dapibus nibh tincidunt quis. Aenean malesuada ex nec gravida commodo. Lorem ipsum dolor sit amet, consectetur adipiscing elit. Vivamus vitae iaculis leo. Phasellus vulputate nec magna dapibus ultrices. Nam in nisl eu elit dapibus lacinia. Quisque id quam ex. Nulla auctor congue nibh eleifend vulputate. Quisque mollis quis neque non maximus. Orci varius natoque penatibus et magnis dis parturient montes, nascetur ridiculus mus.']\n"
     ]
    }
   ],
   "source": [
    "with open('1.txt','r') as fo:\n",
    "    lines = fo.readlines()\n",
    "    print(lines)"
   ]
  },
  {
   "cell_type": "markdown",
   "id": "253f663a",
   "metadata": {},
   "source": [
    "#### 2\n",
    "input.txt ==> 1.txt"
   ]
  },
  {
   "cell_type": "code",
   "execution_count": 5,
   "id": "23a01f75",
   "metadata": {},
   "outputs": [
    {
     "name": "stdout",
     "output_type": "stream",
     "text": [
      "['Lorem ipsum dolor sit amet, consectetur adipiscing elit. Nam condimentum eros nibh, eu venenatis enim ultricies ut. Praesent arcu orci, bibendum et facilisis in, elementum eget enim. Integer nibh elit, fringilla in fringilla sit amet, semper non metus. Suspendisse potenti. Aenean quis ipsum nec velit consectetur interdum et sed risus. Nam a cursus velit. Mauris malesuada, felis at luctus pharetra, purus ipsum sollicitudin lacus, eu ultricies mauris neque sed velit. Nullam consequat nulla eget nulla efficitur tristique. Donec sit amet dapibus justo, vel sagittis lorem. Donec congue condimentum ligula. Fusce lobortis nunc augue, ac venenatis tortor aliquet vel. Aenean tincidunt, nisl nec condimentum condimentum, libero risus venenatis ante, id hendrerit libero velit eget tellus. Mauris sem magna, dignissim at nibh et, vulputate eleifend orci. Nullam mauris dolor, cursus at aliquet nec, iaculis id nisl. Proin nec tellus et ante condimentum rutrum.\\n', '\\n', 'Maecenas mauris felis, tristique blandit dui nec, auctor bibendum erat. Etiam viverra at justo non auctor. Vestibulum in aliquam dui, eu malesuada ipsum. Donec faucibus dignissim convallis. Nulla at nunc quis tortor molestie feugiat sit amet a justo. Nulla nunc est, hendrerit id euismod in, gravida ut urna. Aenean at elementum risus. Proin quis tellus ultricies, pulvinar odio rutrum, consectetur nunc. Vestibulum ultrices nisi eget nisi aliquam, nec ultricies ante porttitor. Integer ac neque suscipit, posuere metus eu, condimentum est. In tincidunt, leo non rhoncus tincidunt, diam massa bibendum sapien, in auctor ex tellus ac turpis. Pellentesque id pharetra mi. Donec vel fermentum est.\\n', '\\n', 'Nullam egestas nunc velit, a pellentesque lacus dictum at. Proin ac turpis vel felis pulvinar sollicitudin. Praesent id neque nulla. Nam lobortis mi ac mi tempus molestie. Curabitur malesuada a ligula eu mollis. Etiam euismod volutpat elit. Aliquam eu metus id mauris placerat lobortis. Sed sed vestibulum nibh, ut facilisis felis. Duis est tortor, iaculis et purus id, pharetra feugiat magna.\\n', '\\n', 'Orci varius natoque penatibus et magnis dis parturient montes, nascetur ridiculus mus. Donec venenatis justo eu scelerisque ornare. Sed hendrerit auctor tortor vitae lobortis. Aliquam non diam sagittis, fringilla massa vitae, scelerisque tortor. Nullam fermentum eget augue sit amet egestas. Duis euismod justo sed posuere semper. Quisque ut ante porttitor, maximus nisl at, euismod ipsum.\\n', '\\n', 'Vestibulum vitae condimentum est, ac elementum tortor. Proin felis nulla, accumsan vitae gravida quis, semper in felis. Integer sagittis ornare enim, eu dapibus nibh tincidunt quis. Aenean malesuada ex nec gravida commodo. Lorem ipsum dolor sit amet, consectetur adipiscing elit. Vivamus vitae iaculis leo. Phasellus vulputate nec magna dapibus ultrices. Nam in nisl eu elit dapibus lacinia. Quisque id quam ex. Nulla auctor congue nibh eleifend vulputate. Quisque mollis quis neque non maximus. Orci varius natoque penatibus et magnis dis parturient montes, nascetur ridiculus mus.']\n"
     ]
    }
   ],
   "source": [
    "line = list()\n",
    "with open('1.txt','r') as fo:\n",
    "    l = fo.readline()\n",
    "    while l != '' :\n",
    "        line.append(l)\n",
    "        l = fo.readline()\n",
    "    \n",
    "print(line)"
   ]
  },
  {
   "cell_type": "markdown",
   "id": "10bfa328",
   "metadata": {},
   "source": [
    "#### 3 "
   ]
  },
  {
   "cell_type": "code",
   "execution_count": 3,
   "id": "9bb99808",
   "metadata": {},
   "outputs": [
    {
     "name": "stdout",
     "output_type": "stream",
     "text": [
      "파일 이름을 입력하세요 : input2.txt\n",
      "파일안에는 총 1441개의 글자가 있습니다.\n",
      "파일안에는 총 268개의 단어가 있습니다.\n"
     ]
    }
   ],
   "source": [
    "txtpath = input(\"파일 이름을 입력하세요 : \")\n",
    "count_alpha = 0\n",
    "count_word = 0\n",
    "with open(txtpath,'r') as f :\n",
    "    line = f.readline()\n",
    "    while line!=\"\":\n",
    "        line = line.strip('., \\n')\n",
    "        lines = line.split()\n",
    "        count_alpha += len(line)\n",
    "        count_word += len(lines)\n",
    "        line = f.readline()\n",
    "print('파일안에는 총 %s개의 글자가 있습니다.'%count_alpha)\n",
    "print('파일안에는 총 %s개의 단어가 있습니다.'%count_word)"
   ]
  },
  {
   "cell_type": "markdown",
   "id": "4c1dd626",
   "metadata": {},
   "source": [
    "#### 4"
   ]
  },
  {
   "cell_type": "code",
   "execution_count": 25,
   "id": "0af41c3d",
   "metadata": {},
   "outputs": [
    {
     "name": "stdout",
     "output_type": "stream",
     "text": [
      "{'a': 191, 'b': 31, 'c': 96, 'd': 78, 'e': 282, 'f': 21, 'g': 36, 'h': 14, 'i': 266, 'j': 5, 'k': 0, 'l': 142, 'm': 121, 'n': 187, 'o': 107, 'p': 51, 'q': 32, 'r': 132, 's': 201, 't': 213, 'u': 223, 'v': 38, 'w': 0, 'x': 5, 'y': 0, 'z': 0}\n"
     ]
    }
   ],
   "source": [
    "count = dict()\n",
    "\n",
    "for i in range(97,123):\n",
    "    count[chr(i)] = 0\n",
    "\n",
    "\n",
    "with open(txtpath,'r') as f :\n",
    "    line = f.readline()\n",
    "    while line!='':\n",
    "        line = line.strip(' .,\\n').lower()\n",
    "        for i in list(line):\n",
    "            if i in list(count.keys()):\n",
    "                count[i] +=1\n",
    "        \n",
    "        line = f.readline()\n",
    "print( count)"
   ]
  },
  {
   "cell_type": "code",
   "execution_count": null,
   "id": "dc1a9a4d",
   "metadata": {},
   "outputs": [],
   "source": []
  }
 ],
 "metadata": {
  "kernelspec": {
   "display_name": "Python 3",
   "language": "python",
   "name": "python3"
  },
  "language_info": {
   "codemirror_mode": {
    "name": "ipython",
    "version": 3
   },
   "file_extension": ".py",
   "mimetype": "text/x-python",
   "name": "python",
   "nbconvert_exporter": "python",
   "pygments_lexer": "ipython3",
   "version": "3.8.8"
  },
  "varInspector": {
   "cols": {
    "lenName": 16,
    "lenType": 16,
    "lenVar": 40
   },
   "kernels_config": {
    "python": {
     "delete_cmd_postfix": "",
     "delete_cmd_prefix": "del ",
     "library": "var_list.py",
     "varRefreshCmd": "print(var_dic_list())"
    },
    "r": {
     "delete_cmd_postfix": ") ",
     "delete_cmd_prefix": "rm(",
     "library": "var_list.r",
     "varRefreshCmd": "cat(var_dic_list()) "
    }
   },
   "types_to_exclude": [
    "module",
    "function",
    "builtin_function_or_method",
    "instance",
    "_Feature"
   ],
   "window_display": false
  }
 },
 "nbformat": 4,
 "nbformat_minor": 5
}
