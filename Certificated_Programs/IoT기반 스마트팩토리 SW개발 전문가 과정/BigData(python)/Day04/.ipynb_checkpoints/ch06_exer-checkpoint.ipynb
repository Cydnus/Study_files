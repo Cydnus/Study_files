{
 "cells": [
  {
   "cell_type": "markdown",
   "id": "000d27f3",
   "metadata": {},
   "source": [
    "#### "
   ]
  },
  {
   "cell_type": "code",
   "execution_count": 1,
   "id": "a7cb233b",
   "metadata": {},
   "outputs": [
    {
     "name": "stdout",
     "output_type": "stream",
     "text": [
      "4 * 9 는 : 20\n",
      "4 * 9 는 : 36\n"
     ]
    }
   ],
   "source": [
    "import random\n",
    "a = random.randrange(1,10)\n",
    "b = random.randrange(1,10)\n",
    "\n",
    "while( int(input(\"%d * %d 는 : \" %(a,b)) ) != a *b):\n",
    "    pass\n",
    "print('맞았습니다')\n"
   ]
  },
  {
   "cell_type": "markdown",
   "id": "96281a41",
   "metadata": {},
   "source": [
    "#### "
   ]
  },
  {
   "cell_type": "code",
   "execution_count": 5,
   "id": "18e06910",
   "metadata": {},
   "outputs": [
    {
     "name": "stdout",
     "output_type": "stream",
     "text": [
      "첫번째 주사위 = 3 두번째 주사위 = 4\n",
      "첫번째 주사위 = 4 두번째 주사위 = 1\n",
      "첫번째 주사위 = 1 두번째 주사위 = 4\n"
     ]
    }
   ],
   "source": [
    "import random\n",
    "\n",
    "for i in range(0,3):\n",
    "    a = random.randrange(1,6)\n",
    "    b = random.randrange(1,6)\n",
    "    print(\"첫번째 주사위 = %s 두번째 주사위 = %s\" %(a,b))\n",
    "\n"
   ]
  },
  {
   "cell_type": "markdown",
   "id": "584f944e",
   "metadata": {},
   "source": [
    "#### "
   ]
  },
  {
   "cell_type": "code",
   "execution_count": 8,
   "id": "544d4adc",
   "metadata": {},
   "outputs": [],
   "source": [
    "import turtle\n",
    "\n",
    "t = turtle.Turtle()\n",
    "t.shape('turtle')\n",
    "\n",
    "t.setheading(30)\n",
    "for i in range(0, 6) :\n",
    "    t.up()\n",
    "    t.goto(0,0)\n",
    "    t.setheading(30 + i*60)\n",
    "    t.down()\n",
    "    t.forward(100)\n",
    "    t.forward(-30)\n",
    "    t.left(60)\n",
    "    t.forward(30)\n",
    "    t.forward(-30)\n",
    "    t.right(120)\n",
    "    t.forward(30)\n",
    "    t.forward(-30)\n",
    "\n",
    "    \n",
    "turtle.exitonclick()"
   ]
  },
  {
   "cell_type": "markdown",
   "id": "1af4529e",
   "metadata": {},
   "source": [
    "#### "
   ]
  },
  {
   "cell_type": "code",
   "execution_count": 32,
   "id": "165be56d",
   "metadata": {},
   "outputs": [],
   "source": [
    "import turtle\n",
    "import math\n",
    "\n",
    "t = turtle.Turtle()\n",
    "t.shape('turtle')\n",
    "\n",
    "t.up()\n",
    "t.goto(-500,math.sin((3.14 * i) / 180.0))\n",
    "t.down()\n",
    "for i in range(-500,500+1) :\n",
    "    t.goto(i,math.sin((3.14 * i) / 180.0)*50)\n",
    "\n",
    "\n",
    "\n",
    "turtle.exitonclick()"
   ]
  },
  {
   "cell_type": "code",
   "execution_count": null,
   "id": "f4d5b122",
   "metadata": {},
   "outputs": [],
   "source": []
  }
 ],
 "metadata": {
  "kernelspec": {
   "display_name": "Python 3",
   "language": "python",
   "name": "python3"
  },
  "language_info": {
   "codemirror_mode": {
    "name": "ipython",
    "version": 3
   },
   "file_extension": ".py",
   "mimetype": "text/x-python",
   "name": "python",
   "nbconvert_exporter": "python",
   "pygments_lexer": "ipython3",
   "version": "3.8.8"
  },
  "toc": {
   "base_numbering": 1,
   "nav_menu": {},
   "number_sections": true,
   "sideBar": true,
   "skip_h1_title": false,
   "title_cell": "Table of Contents",
   "title_sidebar": "Contents",
   "toc_cell": false,
   "toc_position": {},
   "toc_section_display": true,
   "toc_window_display": false
  },
  "varInspector": {
   "cols": {
    "lenName": 16,
    "lenType": 16,
    "lenVar": 40
   },
   "kernels_config": {
    "python": {
     "delete_cmd_postfix": "",
     "delete_cmd_prefix": "del ",
     "library": "var_list.py",
     "varRefreshCmd": "print(var_dic_list())"
    },
    "r": {
     "delete_cmd_postfix": ") ",
     "delete_cmd_prefix": "rm(",
     "library": "var_list.r",
     "varRefreshCmd": "cat(var_dic_list()) "
    }
   },
   "types_to_exclude": [
    "module",
    "function",
    "builtin_function_or_method",
    "instance",
    "_Feature"
   ],
   "window_display": false
  }
 },
 "nbformat": 4,
 "nbformat_minor": 5
}
