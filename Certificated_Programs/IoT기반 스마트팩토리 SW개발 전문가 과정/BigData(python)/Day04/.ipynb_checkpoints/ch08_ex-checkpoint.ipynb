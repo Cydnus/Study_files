{
 "cells": [
  {
   "cell_type": "markdown",
   "id": "74e384d8",
   "metadata": {},
   "source": [
    "#### "
   ]
  },
  {
   "cell_type": "code",
   "execution_count": 1,
   "id": "f360a2cd",
   "metadata": {},
   "outputs": [
    {
     "name": "stdout",
     "output_type": "stream",
     "text": [
      "서울특별시 종로구 1번지\n",
      "퍼이썬 빌디 7층\n",
      "홍길동\n"
     ]
    }
   ],
   "source": [
    "def print_address():\n",
    "    print(\"서울특별시 종로구 1번지\")\n",
    "    print(\"파이썬 빌딩 7층\")\n",
    "    print(\"홍길동\")\n",
    "    \n",
    "print_address()"
   ]
  },
  {
   "cell_type": "code",
   "execution_count": 2,
   "id": "db3bb069",
   "metadata": {},
   "outputs": [
    {
     "name": "stdout",
     "output_type": "stream",
     "text": [
      "서울특별시 종로구 1번지\n",
      "파이썬 빌디 7층\n",
      "홍길동\n",
      "서울특별시 종로구 1번지\n",
      "파이썬 빌디 7층\n",
      "홍길동\n"
     ]
    }
   ],
   "source": [
    "print(\"서울특별시 종로구 1번지\")\n",
    "print(\"파이썬 빌딩 7층\")\n",
    "print(\"홍길동\")\n",
    "\n",
    "print(\"서울특별시 종로구 1번지\")\n",
    "print(\"파이썬 빌딩 7층\")\n",
    "print(\"홍길동\")"
   ]
  },
  {
   "cell_type": "code",
   "execution_count": 3,
   "id": "30f4663c",
   "metadata": {},
   "outputs": [
    {
     "name": "stdout",
     "output_type": "stream",
     "text": [
      "서울특별시 종로구 1번지\n",
      "파이썬 빌디 7층\n",
      "홍길동\n",
      "서울특별시 종로구 1번지\n",
      "파이썬 빌디 7층\n",
      "홍길동\n"
     ]
    }
   ],
   "source": [
    "def print_address():\n",
    "    print(\"서울특별시 종로구 1번지\")\n",
    "    print(\"파이썬 빌딩 7층\")\n",
    "    print(\"홍길동\")\n",
    "    \n",
    "print_address()\n",
    "print_address()"
   ]
  },
  {
   "cell_type": "code",
   "execution_count": 4,
   "id": "b21a07fd",
   "metadata": {},
   "outputs": [
    {
     "name": "stdout",
     "output_type": "stream",
     "text": [
      "서울특별시 종로구 1번지\n",
      "파이썬 빌딩 7층\n",
      "홍길동\n",
      "서울특별시 종로구 1번지\n",
      "파이썬 빌딩 7층\n",
      "김코드\n",
      "서울특별시 종로구 1번지\n",
      "파이썬 빌딩 7층\n",
      "나함수\n"
     ]
    }
   ],
   "source": [
    "def print_address(name):\n",
    "    print(\"서울특별시 종로구 1번지\")\n",
    "    print(\"파이썬 빌딩 7층\")\n",
    "    print(name)\n",
    "    \n",
    "print_address('홍길동')\n",
    "print_address('김코드')\n",
    "print_address('나함수')"
   ]
  },
  {
   "cell_type": "code",
   "execution_count": 6,
   "id": "3d658503",
   "metadata": {},
   "outputs": [
    {
     "name": "stdout",
     "output_type": "stream",
     "text": [
      "sum = 55\n",
      "sum = 210\n"
     ]
    }
   ],
   "source": [
    "def get_sum(start,end):\n",
    "    sum = 0\n",
    "    for i in range(start, end+1):\n",
    "        sum +=i\n",
    "    print('sum = %d' %sum)\n",
    "\n",
    "get_sum(1,10)\n",
    "get_sum(1,20)"
   ]
  },
  {
   "cell_type": "code",
   "execution_count": 7,
   "id": "b88c5656",
   "metadata": {},
   "outputs": [
    {
     "name": "stdout",
     "output_type": "stream",
     "text": [
      "78.5\n",
      "392.5\n"
     ]
    }
   ],
   "source": [
    "def calculate_area(radius):\n",
    "    area = 3.14 * radius **2 \n",
    "    return area\n",
    "\n",
    "c_area = calculate_area(5.0)\n",
    "print(c_area)\n",
    "\n",
    "\n",
    "area_sum = calculate_area(5.0) +calculate_area(10.0)\n",
    "print(area_sum)"
   ]
  },
  {
   "cell_type": "code",
   "execution_count": 10,
   "id": "f01b9819",
   "metadata": {},
   "outputs": [
    {
     "data": {
      "text/plain": [
       "78.5"
      ]
     },
     "execution_count": 10,
     "metadata": {},
     "output_type": "execute_result"
    }
   ],
   "source": [
    "def calculate_area(radius):\n",
    "    area = 3.14 * radius **2 \n",
    "    return area\n",
    "\n",
    "calculate_area(5.0)"
   ]
  },
  {
   "cell_type": "code",
   "execution_count": 11,
   "id": "5a84c6c4",
   "metadata": {},
   "outputs": [
    {
     "name": "stdout",
     "output_type": "stream",
     "text": [
      "2 , 3\n"
     ]
    }
   ],
   "source": [
    "def get_input():\n",
    "    return 2,3\n",
    "x,y = get_input()\n",
    "print(x,\",\",y)"
   ]
  },
  {
   "cell_type": "code",
   "execution_count": 12,
   "id": "c776d817",
   "metadata": {},
   "outputs": [
    {
     "name": "stdout",
     "output_type": "stream",
     "text": [
      "자연수를 입력하여 주십시오 10\n",
      "짝수\n"
     ]
    }
   ],
   "source": [
    "def judge(num):\n",
    "    if num %2 == 0:\n",
    "        print(\"짝수\")\n",
    "        return\n",
    "    print('홀수')\n",
    "    \n",
    "num = int(input('자연수를 입력하여 주십시오 '))\n",
    "judge(num)"
   ]
  },
  {
   "cell_type": "code",
   "execution_count": null,
   "id": "8a9390d0",
   "metadata": {},
   "outputs": [],
   "source": []
  }
 ],
 "metadata": {
  "kernelspec": {
   "display_name": "Python 3",
   "language": "python",
   "name": "python3"
  },
  "language_info": {
   "codemirror_mode": {
    "name": "ipython",
    "version": 3
   },
   "file_extension": ".py",
   "mimetype": "text/x-python",
   "name": "python",
   "nbconvert_exporter": "python",
   "pygments_lexer": "ipython3",
   "version": "3.8.8"
  },
  "toc": {
   "base_numbering": 1,
   "nav_menu": {},
   "number_sections": true,
   "sideBar": true,
   "skip_h1_title": false,
   "title_cell": "Table of Contents",
   "title_sidebar": "Contents",
   "toc_cell": false,
   "toc_position": {},
   "toc_section_display": true,
   "toc_window_display": false
  },
  "varInspector": {
   "cols": {
    "lenName": 16,
    "lenType": 16,
    "lenVar": 40
   },
   "kernels_config": {
    "python": {
     "delete_cmd_postfix": "",
     "delete_cmd_prefix": "del ",
     "library": "var_list.py",
     "varRefreshCmd": "print(var_dic_list())"
    },
    "r": {
     "delete_cmd_postfix": ") ",
     "delete_cmd_prefix": "rm(",
     "library": "var_list.r",
     "varRefreshCmd": "cat(var_dic_list()) "
    }
   },
   "types_to_exclude": [
    "module",
    "function",
    "builtin_function_or_method",
    "instance",
    "_Feature"
   ],
   "window_display": false
  }
 },
 "nbformat": 4,
 "nbformat_minor": 5
}
