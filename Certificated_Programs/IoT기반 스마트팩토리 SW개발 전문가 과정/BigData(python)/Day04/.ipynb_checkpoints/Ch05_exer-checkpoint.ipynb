{
 "cells": [
  {
   "cell_type": "markdown",
   "id": "5b74a8c2",
   "metadata": {},
   "source": [
    "#### "
   ]
  },
  {
   "cell_type": "code",
   "execution_count": 1,
   "id": "9975c7b5",
   "metadata": {},
   "outputs": [
    {
     "name": "stdout",
     "output_type": "stream",
     "text": [
      "정수를 입력하십시오 : 1\n",
      "양수\n"
     ]
    }
   ],
   "source": [
    "num = int(input(\"정수를 입력하십시오 : \"))\n",
    "\n",
    "if num > 0 :\n",
    "    print(\"양수\")\n",
    "elif num == 0 :\n",
    "    print(\"0\")\n",
    "else :\n",
    "    print(\"음수\")"
   ]
  },
  {
   "cell_type": "markdown",
   "id": "48ce55ca",
   "metadata": {},
   "source": [
    "#### "
   ]
  },
  {
   "cell_type": "code",
   "execution_count": 3,
   "id": "8f308713",
   "metadata": {},
   "outputs": [
    {
     "name": "stdout",
     "output_type": "stream",
     "text": [
      "국가를 입력하여 주십시오 : 한국\n",
      "도를 입력하십시오 : 부산\n",
      "배송료는 5000 원 입니다.\n"
     ]
    }
   ],
   "source": [
    "contry = input(\"국가를 입력하여 주십시오 : \")\n",
    "\n",
    "price = 5000\n",
    "\n",
    "if contry != '한국' :\n",
    "    price = 20000\n",
    "elif(input(\"도를 입력하십시오 : \") == '제주도'):\n",
    "    price = 10000\n",
    "    \n",
    "print(\"배송료는 %d 원 입니다.\"%price)"
   ]
  },
  {
   "cell_type": "markdown",
   "id": "6b095e19",
   "metadata": {},
   "source": [
    "#### "
   ]
  },
  {
   "cell_type": "code",
   "execution_count": 5,
   "id": "dbd72f12",
   "metadata": {},
   "outputs": [
    {
     "name": "stdout",
     "output_type": "stream",
     "text": [
      "2차함수 : a * x^2 + b * x + c\n",
      "a : 2\n",
      "b : -7\n",
      "c : 5\n",
      "2개의 실근이 있습니다. 2.5 1.0\n"
     ]
    }
   ],
   "source": [
    "print(\"2차함수 : a * x^2 + b * x + c\")\n",
    "a = int(input('a : '))\n",
    "b = int(input('b : '))\n",
    "c = int(input('c : '))\n",
    "\n",
    "d = b**2 - 4 * a * c\n",
    "\n",
    "if d > 0 :\n",
    "    s1 = (- b + (d)**0.5 ) / (2 *a)\n",
    "    s2 = (- b - (d)**0.5 ) / (2 *a)\n",
    "    print('2개의 실근이 있습니다. %s %s' %(s1,s2) )\n",
    "\n",
    "elif d == 0 :\n",
    "    s1 = (- b ) / (2 *a)\n",
    "    print('1개의 실근이 있습니다. %s ' %(s1) )\n",
    "else :\n",
    "    print('실근이 없습니다.' )\n",
    "    \n"
   ]
  },
  {
   "cell_type": "code",
   "execution_count": null,
   "id": "4a6951fb",
   "metadata": {},
   "outputs": [],
   "source": []
  }
 ],
 "metadata": {
  "kernelspec": {
   "display_name": "Python 3",
   "language": "python",
   "name": "python3"
  },
  "language_info": {
   "codemirror_mode": {
    "name": "ipython",
    "version": 3
   },
   "file_extension": ".py",
   "mimetype": "text/x-python",
   "name": "python",
   "nbconvert_exporter": "python",
   "pygments_lexer": "ipython3",
   "version": "3.8.8"
  },
  "toc": {
   "base_numbering": 1,
   "nav_menu": {},
   "number_sections": true,
   "sideBar": true,
   "skip_h1_title": false,
   "title_cell": "Table of Contents",
   "title_sidebar": "Contents",
   "toc_cell": false,
   "toc_position": {},
   "toc_section_display": true,
   "toc_window_display": false
  },
  "varInspector": {
   "cols": {
    "lenName": 16,
    "lenType": 16,
    "lenVar": 40
   },
   "kernels_config": {
    "python": {
     "delete_cmd_postfix": "",
     "delete_cmd_prefix": "del ",
     "library": "var_list.py",
     "varRefreshCmd": "print(var_dic_list())"
    },
    "r": {
     "delete_cmd_postfix": ") ",
     "delete_cmd_prefix": "rm(",
     "library": "var_list.r",
     "varRefreshCmd": "cat(var_dic_list()) "
    }
   },
   "types_to_exclude": [
    "module",
    "function",
    "builtin_function_or_method",
    "instance",
    "_Feature"
   ],
   "window_display": false
  }
 },
 "nbformat": 4,
 "nbformat_minor": 5
}
