{
 "cells": [
  {
   "cell_type": "code",
   "execution_count": 26,
   "id": "4d66a524",
   "metadata": {
    "ExecuteTime": {
     "end_time": "2021-06-18T07:05:39.502713Z",
     "start_time": "2021-06-18T07:05:39.497727Z"
    }
   },
   "outputs": [],
   "source": [
    "#pip install imutils"
   ]
  },
  {
   "cell_type": "code",
   "execution_count": 1,
   "id": "0303716c",
   "metadata": {
    "ExecuteTime": {
     "end_time": "2021-06-21T07:52:32.689491Z",
     "start_time": "2021-06-21T07:52:31.842183Z"
    }
   },
   "outputs": [],
   "source": [
    "from imutils.video import VideoStream\n",
    "from imutils.video import FPS\n",
    "import numpy as np\n",
    "import time\n",
    "import imutils\n",
    "import cv2\n",
    "import os"
   ]
  },
  {
   "cell_type": "code",
   "execution_count": 2,
   "id": "ad38b54c",
   "metadata": {
    "ExecuteTime": {
     "end_time": "2021-06-21T07:52:32.844934Z",
     "start_time": "2021-06-21T07:52:32.708422Z"
    }
   },
   "outputs": [
    {
     "data": {
      "text/plain": [
       "<dnn_Net 00000230EF46A5F0>"
      ]
     },
     "execution_count": 2,
     "metadata": {},
     "output_type": "execute_result"
    }
   ],
   "source": [
    "protoPath = './WebCamProto/deploy.prototxt'\n",
    "modelPath = './WebCamProto/res10_300x300_ssd_iter_140000.caffemodel'\n",
    "detector = cv2.dnn.readNetFromCaffe(protoPath, modelPath)\n",
    "detector"
   ]
  },
  {
   "cell_type": "code",
   "execution_count": 3,
   "id": "e555d1af",
   "metadata": {
    "ExecuteTime": {
     "end_time": "2021-06-21T07:52:38.596831Z",
     "start_time": "2021-06-21T07:52:32.863898Z"
    }
   },
   "outputs": [],
   "source": [
    "vs = VideoStream(src = 0 ).start()\n",
    "time.sleep(2.0)\n",
    "fps = FPS().start()"
   ]
  },
  {
   "cell_type": "code",
   "execution_count": 4,
   "id": "3e5f0b10",
   "metadata": {
    "ExecuteTime": {
     "end_time": "2021-06-21T07:52:43.873067Z",
     "start_time": "2021-06-21T07:52:38.609787Z"
    }
   },
   "outputs": [],
   "source": [
    "while True:\n",
    "    frame = vs.read()\n",
    "    frame = imutils.resize(frame, width = 600)\n",
    "    (h,w) = frame.shape[:2]\n",
    "    \n",
    "    imgBlob = cv2.dnn.blobFromImage(\n",
    "        cv2.resize( frame, (300,300)),\n",
    "        1.0, \n",
    "        (300,300),\n",
    "        (104.0,177.0,123.0), \n",
    "        swapRB=False,\n",
    "    crop=False)\n",
    "    detector.setInput(imgBlob)\n",
    "    detections = detector.forward()\n",
    "    \n",
    "    for i in range(0,detections.shape[2]):\n",
    "        confidence = detections[0,0,i,2]\n",
    "        if confidence > 0.5 :\n",
    "            box = detections[0,0,i,3:7] *np.array([w,h,w,h])\n",
    "            (sx,sy, ex,ey) = box.astype('int')\n",
    "            \n",
    "            face = frame[sy:ey, sx:ex]\n",
    "            (fh,fw) = face.shape[:2]\n",
    "            if fw < 20 or fh < 20 :\n",
    "                continue\n",
    "            \n",
    "            faceBlob = cv2.dnn.blobFromImage(face, \n",
    "                                             1.0/255,\n",
    "                                             (96,96),\n",
    "                                             (0,0,0), \n",
    "                                             swapRB=True,\n",
    "                                             crop=False )\n",
    "            y = sy -10 if sy -10 > 10 else sy +10\n",
    "#             face_image = cv2.GaussianBlur(face,(99,99),30)\n",
    "#             frame[sy:ey,sx:ex] = face_image\n",
    "            \n",
    "            cv2.rectangle(frame, (sx,sy),(ex,ey),(0,0,255),2)\n",
    "    fps.update()\n",
    "    cv2.imshow('Frame',frame)\n",
    "    key = cv2.waitKey(1) & 0xff\n",
    "    if key == ord('q') :\n",
    "        break;\n",
    "fps.stop()\n",
    "cv2.destroyAllWindows()\n",
    "vs.stop()"
   ]
  },
  {
   "cell_type": "code",
   "execution_count": null,
   "id": "e2dab465",
   "metadata": {},
   "outputs": [],
   "source": []
  }
 ],
 "metadata": {
  "kernelspec": {
   "display_name": "Python 3",
   "language": "python",
   "name": "python3"
  },
  "language_info": {
   "codemirror_mode": {
    "name": "ipython",
    "version": 3
   },
   "file_extension": ".py",
   "mimetype": "text/x-python",
   "name": "python",
   "nbconvert_exporter": "python",
   "pygments_lexer": "ipython3",
   "version": "3.8.8"
  },
  "varInspector": {
   "cols": {
    "lenName": 16,
    "lenType": 16,
    "lenVar": 40
   },
   "kernels_config": {
    "python": {
     "delete_cmd_postfix": "",
     "delete_cmd_prefix": "del ",
     "library": "var_list.py",
     "varRefreshCmd": "print(var_dic_list())"
    },
    "r": {
     "delete_cmd_postfix": ") ",
     "delete_cmd_prefix": "rm(",
     "library": "var_list.r",
     "varRefreshCmd": "cat(var_dic_list()) "
    }
   },
   "types_to_exclude": [
    "module",
    "function",
    "builtin_function_or_method",
    "instance",
    "_Feature"
   ],
   "window_display": false
  }
 },
 "nbformat": 4,
 "nbformat_minor": 5
}
