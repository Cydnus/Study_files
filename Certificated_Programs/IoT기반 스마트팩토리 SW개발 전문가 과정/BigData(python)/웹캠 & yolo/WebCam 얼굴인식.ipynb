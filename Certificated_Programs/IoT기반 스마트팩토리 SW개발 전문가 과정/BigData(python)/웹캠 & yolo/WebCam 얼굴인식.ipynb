{
 "cells": [
  {
   "cell_type": "code",
   "execution_count": 5,
   "id": "8db72e66",
   "metadata": {
    "ExecuteTime": {
     "end_time": "2021-06-23T01:05:05.004780Z",
     "start_time": "2021-06-23T01:05:04.989820Z"
    }
   },
   "outputs": [],
   "source": [
    "import numpy as np\n",
    "import cv2\n",
    "from matplotlib import pyplot as plt"
   ]
  },
  {
   "cell_type": "code",
   "execution_count": 6,
   "id": "35704d90",
   "metadata": {
    "ExecuteTime": {
     "end_time": "2021-06-23T01:05:05.020738Z",
     "start_time": "2021-06-23T01:05:05.006774Z"
    }
   },
   "outputs": [],
   "source": [
    "font = cv2.FONT_HERSHEY_COMPLEX\n",
    "fontScale = 2\n",
    "fontColor = (255,0,255)\n",
    "lineType = 2"
   ]
  },
  {
   "cell_type": "code",
   "execution_count": 7,
   "id": "d08cefd8",
   "metadata": {
    "ExecuteTime": {
     "end_time": "2021-06-23T01:05:05.052687Z",
     "start_time": "2021-06-23T01:05:05.023732Z"
    }
   },
   "outputs": [],
   "source": [
    "def FaceDetect():\n",
    "    eye_detect = False\n",
    "    \n",
    "    face_cascade = cv2.CascadeClassifier('./haarcascade_frontface.xml')\n",
    "    eye_cascade = cv2.CascadeClassifier('./haarcascade_eye.xml')\n",
    "    \n",
    "    try :\n",
    "        cap = cv2.VideoCapture(0)\n",
    "    except :\n",
    "        print(\"Camera Loading Failed\")\n",
    "        return\n",
    "    \n",
    "    while True :\n",
    "        ret, frame = cap.read()\n",
    "        \n",
    "        info = 'Eye detection '\n",
    "        if eye_detect :\n",
    "            info += 'On'\n",
    "        else :\n",
    "            info += \"Off\"\n",
    "            \n",
    "        gray = cv2.cvtColor(frame, cv2.COLOR_BGR2GRAY)\n",
    "        \n",
    "        faces = face_cascade.detectMultiScale(gray,1.3,5)\n",
    "        \n",
    "        cv2.putText(frame, info,(5,10),font,2,(255,0,0),1)\n",
    "        for ( x,y,w,h) in faces:\n",
    "            cv2.rectangle(frame, (x,y),(x+w,y+h), (255,0,0),2)\n",
    "            cv2.putText(frame,'Deteted Face',(x-5,y-5), font,1,fontColor,fontScale)\n",
    "            if eye_detect :\n",
    "                roi_gray = gray[y:y+h,x:x+w]\n",
    "                roi_color = frame[y:y+h, x:x+w]\n",
    "                eyes = eye_cascade.detectMultiScale(roi_gray,1.1, 3)\n",
    "                for (ex,ey,ew,eh) in eyes:\n",
    "                    cv2.rectangle(roi_color,(ex,ey),(ex+ew,ey+eh),(0,255,0),2)\n",
    "        cv2.imshow('frame',frame)\n",
    "        k = cv2.waitKey(20)\n",
    "        if k == ord('i'):\n",
    "            eye_detect= not eye_detect\n",
    "        if k == ord('q'):\n",
    "            break\n",
    "    cap.release()\n",
    "    cv2.destroyAllWindows()\n"
   ]
  },
  {
   "cell_type": "code",
   "execution_count": 8,
   "id": "d6182123",
   "metadata": {
    "ExecuteTime": {
     "end_time": "2021-06-23T01:06:44.880394Z",
     "start_time": "2021-06-23T01:05:05.055644Z"
    }
   },
   "outputs": [],
   "source": [
    "FaceDetect()"
   ]
  },
  {
   "cell_type": "code",
   "execution_count": null,
   "id": "d44014f0",
   "metadata": {},
   "outputs": [],
   "source": []
  }
 ],
 "metadata": {
  "kernelspec": {
   "display_name": "Python 3",
   "language": "python",
   "name": "python3"
  },
  "language_info": {
   "codemirror_mode": {
    "name": "ipython",
    "version": 3
   },
   "file_extension": ".py",
   "mimetype": "text/x-python",
   "name": "python",
   "nbconvert_exporter": "python",
   "pygments_lexer": "ipython3",
   "version": "3.8.8"
  },
  "varInspector": {
   "cols": {
    "lenName": 16,
    "lenType": 16,
    "lenVar": 40
   },
   "kernels_config": {
    "python": {
     "delete_cmd_postfix": "",
     "delete_cmd_prefix": "del ",
     "library": "var_list.py",
     "varRefreshCmd": "print(var_dic_list())"
    },
    "r": {
     "delete_cmd_postfix": ") ",
     "delete_cmd_prefix": "rm(",
     "library": "var_list.r",
     "varRefreshCmd": "cat(var_dic_list()) "
    }
   },
   "types_to_exclude": [
    "module",
    "function",
    "builtin_function_or_method",
    "instance",
    "_Feature"
   ],
   "window_display": false
  }
 },
 "nbformat": 4,
 "nbformat_minor": 5
}
