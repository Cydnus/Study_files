{
 "cells": [
  {
   "cell_type": "code",
   "execution_count": 1,
   "id": "5e087298",
   "metadata": {},
   "outputs": [
    {
     "name": "stdout",
     "output_type": "stream",
     "text": [
      "pygame 2.0.1 (SDL 2.0.14, Python 3.8.8)\n",
      "Hello from the pygame community. https://www.pygame.org/contribute.html\n"
     ]
    }
   ],
   "source": [
    "import pygame\n",
    "import time"
   ]
  },
  {
   "cell_type": "code",
   "execution_count": 2,
   "id": "14cd37d6",
   "metadata": {},
   "outputs": [],
   "source": [
    "pygame.init()\n",
    "\n",
    "display_width = 600\n",
    "display_height = 400\n",
    "gameDisplay = pygame.display.set_mode((display_width, display_height))\n",
    "\n",
    "done = False\n",
    "\n",
    "clock = pygame.time.Clock()\n",
    "\n",
    "intro = pygame.image.load(\"./image/Intro_Final_600.png\")\n",
    "st = pygame.image.load(\"./image/start_226.png\")\n",
    "sc = pygame.image.load(\"./image/score_204.png\")\n",
    "stOn = pygame.image.load(\"./image/startOn_226.png\")\n",
    "scOn = pygame.image.load(\"./image/scoreOn_204.png\")\n",
    "overImg = pygame.image.load(\"./image/GameOverLast.png\")\n",
    "overText = pygame.image.load(\"./image/GameOverChar_430.png\")\n",
    "restart = pygame.image.load(\"./image/restart_410.png\")\n",
    "restartOn = pygame.image.load(\"./image/restartOn_410.png\")"
   ]
  },
  {
   "cell_type": "code",
   "execution_count": 3,
   "id": "e2414676",
   "metadata": {},
   "outputs": [],
   "source": [
    "class Button:\n",
    "    def __init__(self, img_in, x, y, width, height, img_act, x_act, y_act, action = None):\n",
    "        mouse = pygame.mouse.get_pos()\n",
    "        click = pygame.mouse.get_pressed()\n",
    "        if x + width > mouse[0] > x and y + height > mouse[1] > y:\n",
    "            gameDisplay.blit(img_act,(x_act, y_act))\n",
    "            if click[0] and action != None:\n",
    "                time.sleep(1)\n",
    "                action()\n",
    "        else:\n",
    "            gameDisplay.blit(img_in,(x,y))"
   ]
  },
  {
   "cell_type": "code",
   "execution_count": 4,
   "id": "f1182e62",
   "metadata": {},
   "outputs": [],
   "source": [
    "def over():\n",
    "    global gameDisplay, done\n",
    "    \n",
    "    gameOver = gameDisplay.blit(overImg, (0,0))\n",
    "    overTimg = gameDisplay.blit(overText, (85,30))\n",
    "    \n",
    "    restartbtn = Button(restart,95,250,410,60,restartOn, 95, 250, None ) #game start\n",
    "                     "
   ]
  },
  {
   "cell_type": "code",
   "execution_count": 5,
   "id": "e3166267",
   "metadata": {},
   "outputs": [],
   "source": [
    "def quitgame():    \n",
    "    pygame.quit() "
   ]
  },
  {
   "cell_type": "code",
   "execution_count": 6,
   "id": "ab4062f6",
   "metadata": {},
   "outputs": [],
   "source": [
    "def main():\n",
    "\n",
    "    global gameDisplay, done\n",
    "    \n",
    "    title = gameDisplay.blit(intro, (0,0))\n",
    "    startButton = Button(st,370,330,220,33,stOn,370,330,None) #game start)\n",
    "    scoreButton = Button(sc,390,365,204,33,scOn,390,365,over) #score)\n",
    "    \n",
    "    for event in pygame.event.get():\n",
    "        if event.type == pygame.QUIT:\n",
    "            done=True"
   ]
  },
  {
   "cell_type": "code",
   "execution_count": null,
   "id": "253af55b",
   "metadata": {},
   "outputs": [],
   "source": [
    "while not done:\n",
    "    \n",
    "    clock.tick(60)\n",
    "    \n",
    "    main()\n",
    "\n",
    "    pygame.display.update()\n",
    "    \"\"\"\n",
    "    screen.blit(i,(0, 0) )\n",
    "    screen.blit(st,(370, 330) )\n",
    "    screen.blit(sc,(390, 365) )\n",
    "\n",
    "    pygame.display.update()  \n",
    "    for event in pygame.event.get():# User did something\n",
    "        if event.type == pygame.QUIT:# If user clicked close\n",
    "            done=True # Flag that we are done so we exit this loop\n",
    "\n",
    "    \"\"\""
   ]
  },
  {
   "cell_type": "code",
   "execution_count": null,
   "id": "864f4183",
   "metadata": {},
   "outputs": [],
   "source": []
  }
 ],
 "metadata": {
  "kernelspec": {
   "display_name": "Python 3",
   "language": "python",
   "name": "python3"
  },
  "language_info": {
   "codemirror_mode": {
    "name": "ipython",
    "version": 3
   },
   "file_extension": ".py",
   "mimetype": "text/x-python",
   "name": "python",
   "nbconvert_exporter": "python",
   "pygments_lexer": "ipython3",
   "version": "3.8.8"
  }
 },
 "nbformat": 4,
 "nbformat_minor": 5
}
