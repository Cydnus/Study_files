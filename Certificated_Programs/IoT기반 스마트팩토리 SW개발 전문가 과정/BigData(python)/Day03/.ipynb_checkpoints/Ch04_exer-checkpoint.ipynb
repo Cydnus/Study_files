{
 "cells": [
  {
   "cell_type": "markdown",
   "id": "0e513cbe",
   "metadata": {},
   "source": [
    "#### "
   ]
  },
  {
   "cell_type": "code",
   "execution_count": 2,
   "id": "419a2da1",
   "metadata": {},
   "outputs": [
    {
     "name": "stdout",
     "output_type": "stream",
     "text": [
      "문자열을 입력하시오 청소\n",
      "청소하는 중\n"
     ]
    }
   ],
   "source": [
    "str = input(\"문자열을 입력하시오 \")\n",
    "print(str + \"하는 중\")"
   ]
  },
  {
   "cell_type": "markdown",
   "id": "df4b462d",
   "metadata": {},
   "source": [
    "#### "
   ]
  },
  {
   "cell_type": "code",
   "execution_count": 5,
   "id": "649f834e",
   "metadata": {},
   "outputs": [
    {
     "name": "stdout",
     "output_type": "stream",
     "text": [
      "기호를 입력하시오 : []\n",
      "중간에 삽입할 문자열을 입력하시오 : python\n",
      "[python]\n"
     ]
    }
   ],
   "source": [
    "s = input('기호를 입력하시오 : ')\n",
    "st = input('중간에 삽입할 문자열을 입력하시오 : ')\n",
    "s = s[0]+st+s[1]\n",
    "print(s)"
   ]
  },
  {
   "cell_type": "markdown",
   "id": "4714f762",
   "metadata": {},
   "source": [
    "#### "
   ]
  },
  {
   "cell_type": "code",
   "execution_count": 7,
   "id": "c4c67770",
   "metadata": {},
   "outputs": [
    {
     "name": "stdout",
     "output_type": "stream",
     "text": [
      "드라이브 이름 : c\n",
      "디렉토리 이름 : \\test\\\n",
      "파일 이름 : sample\n",
      "확장자 : py\n",
      "완전한 이름은  c:\\test\\sample.py\n"
     ]
    }
   ],
   "source": [
    "drive = input(\"드라이브 이름 : \")\n",
    "directory = input(\"디렉토리 이름 : \")\n",
    "file = input(\"파일 이름 : \")\n",
    "extension = input(\"확장자 : \")\n",
    "full = \"{0}:{1}{2}.{3}\".format(drive,directory,file,extension)\n",
    "\n",
    "print('완전한 이름은 ', full)\n"
   ]
  }
 ],
 "metadata": {
  "kernelspec": {
   "display_name": "Python 3",
   "language": "python",
   "name": "python3"
  },
  "language_info": {
   "codemirror_mode": {
    "name": "ipython",
    "version": 3
   },
   "file_extension": ".py",
   "mimetype": "text/x-python",
   "name": "python",
   "nbconvert_exporter": "python",
   "pygments_lexer": "ipython3",
   "version": "3.8.8"
  },
  "toc": {
   "base_numbering": 1,
   "nav_menu": {},
   "number_sections": true,
   "sideBar": true,
   "skip_h1_title": false,
   "title_cell": "Table of Contents",
   "title_sidebar": "Contents",
   "toc_cell": false,
   "toc_position": {},
   "toc_section_display": true,
   "toc_window_display": false
  },
  "varInspector": {
   "cols": {
    "lenName": 16,
    "lenType": 16,
    "lenVar": 40
   },
   "kernels_config": {
    "python": {
     "delete_cmd_postfix": "",
     "delete_cmd_prefix": "del ",
     "library": "var_list.py",
     "varRefreshCmd": "print(var_dic_list())"
    },
    "r": {
     "delete_cmd_postfix": ") ",
     "delete_cmd_prefix": "rm(",
     "library": "var_list.r",
     "varRefreshCmd": "cat(var_dic_list()) "
    }
   },
   "types_to_exclude": [
    "module",
    "function",
    "builtin_function_or_method",
    "instance",
    "_Feature"
   ],
   "window_display": false
  }
 },
 "nbformat": 4,
 "nbformat_minor": 5
}
