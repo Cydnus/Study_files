{
 "cells": [
  {
   "cell_type": "code",
   "execution_count": 1,
   "id": "6877508d",
   "metadata": {},
   "outputs": [
    {
     "name": "stdout",
     "output_type": "stream",
     "text": [
      "합격입니다!\n",
      "수고하셨습니다.\n"
     ]
    }
   ],
   "source": [
    "score = 90\n",
    "if score >= 60:\n",
    "    print(\"합격입니다!\")\n",
    "\n",
    "print('수고하셨습니다.')"
   ]
  },
  {
   "cell_type": "code",
   "execution_count": 4,
   "id": "c1adab63",
   "metadata": {},
   "outputs": [
    {
     "name": "stdout",
     "output_type": "stream",
     "text": [
      "언어를 선택하세요(1=한국어, 2=영어, 3=프랑스어, 4=독일어)  2\n",
      "Hello\n"
     ]
    }
   ],
   "source": [
    "language = int(input(\"언어를 선택하세요(1=한국어, \\\n",
    "2=영어, 3=프랑스어, 4=독일어)  \"))\n",
    "\n",
    "if language == 1 :\n",
    "    print(\"안녕\")\n",
    "    \n",
    "if language == 2 :\n",
    "    print(\"Hello\")\n",
    "    \n",
    "if language == 3 :\n",
    "    print(\"Bonjour\")\n",
    "    \n",
    "if language == 4 :\n",
    "    print(\"guten morgen\")"
   ]
  },
  {
   "cell_type": "code",
   "execution_count": 5,
   "id": "5e25f507",
   "metadata": {},
   "outputs": [
    {
     "name": "stdout",
     "output_type": "stream",
     "text": [
      "나이를 입력하시오 : 19\n",
      "영화를 관람할 수 있습니다.\n"
     ]
    }
   ],
   "source": [
    "age = int(input('나이를 입력하시오 : '))\n",
    "\n",
    "if age >=15 :\n",
    "    print('영화를 관람할 수 있습니다.')\n",
    "else:\n",
    "    print('영화를 관람할 수 없습니다.')"
   ]
  },
  {
   "cell_type": "code",
   "execution_count": 6,
   "id": "0f742029",
   "metadata": {},
   "outputs": [
    {
     "name": "stdout",
     "output_type": "stream",
     "text": [
      "정수를 입력하세요10\n",
      "짝수입니다.\n"
     ]
    }
   ],
   "source": [
    "num = int(input(\"정수를 입력하세요 \"))\n",
    "if num %2 == 0:\n",
    "    print(\"짝수입니다.\")\n",
    "else :\n",
    "    print(\"홀수입니다.\")\n"
   ]
  },
  {
   "cell_type": "code",
   "execution_count": 7,
   "id": "372c2885",
   "metadata": {},
   "outputs": [
    {
     "data": {
      "text/plain": [
       "True"
      ]
     },
     "execution_count": 7,
     "metadata": {},
     "output_type": "execute_result"
    }
   ],
   "source": [
    "1==1 and 2==2"
   ]
  },
  {
   "cell_type": "code",
   "execution_count": 8,
   "id": "3296a6cb",
   "metadata": {},
   "outputs": [
    {
     "data": {
      "text/plain": [
       "False"
      ]
     },
     "execution_count": 8,
     "metadata": {},
     "output_type": "execute_result"
    }
   ],
   "source": [
    "1==1 and 1==2"
   ]
  },
  {
   "cell_type": "code",
   "execution_count": 9,
   "id": "10ce7461",
   "metadata": {},
   "outputs": [
    {
     "data": {
      "text/plain": [
       "False"
      ]
     },
     "execution_count": 9,
     "metadata": {},
     "output_type": "execute_result"
    }
   ],
   "source": [
    "1==2 and 2==3"
   ]
  },
  {
   "cell_type": "code",
   "execution_count": 10,
   "id": "bfeb89be",
   "metadata": {},
   "outputs": [
    {
     "data": {
      "text/plain": [
       "True"
      ]
     },
     "execution_count": 10,
     "metadata": {},
     "output_type": "execute_result"
    }
   ],
   "source": [
    "1==1 or 2==2"
   ]
  },
  {
   "cell_type": "code",
   "execution_count": 11,
   "id": "cf1b9e07",
   "metadata": {},
   "outputs": [
    {
     "data": {
      "text/plain": [
       "False"
      ]
     },
     "execution_count": 11,
     "metadata": {},
     "output_type": "execute_result"
    }
   ],
   "source": [
    "1==2 or 2== 3"
   ]
  },
  {
   "cell_type": "code",
   "execution_count": 12,
   "id": "02caa105",
   "metadata": {},
   "outputs": [
    {
     "data": {
      "text/plain": [
       "False"
      ]
     },
     "execution_count": 12,
     "metadata": {},
     "output_type": "execute_result"
    }
   ],
   "source": [
    "not 1==1"
   ]
  },
  {
   "cell_type": "code",
   "execution_count": 13,
   "id": "78e5e037",
   "metadata": {},
   "outputs": [
    {
     "data": {
      "text/plain": [
       "True"
      ]
     },
     "execution_count": 13,
     "metadata": {},
     "output_type": "execute_result"
    }
   ],
   "source": [
    "not 1==2"
   ]
  },
  {
   "cell_type": "code",
   "execution_count": 15,
   "id": "a36f6968",
   "metadata": {},
   "outputs": [
    {
     "name": "stdout",
     "output_type": "stream",
     "text": [
      "정수를 입력하세요0\n",
      "0입니다.\n"
     ]
    }
   ],
   "source": [
    "num = int(input(\"정수를 입력하세요 \"))\n",
    "if num >0:\n",
    "    print(\"양수입니다.\")\n",
    "elif num == 0:\n",
    "    print('0입니다.')\n",
    "else :\n",
    "    print(\"음수입니다.\")\n"
   ]
  },
  {
   "cell_type": "code",
   "execution_count": 17,
   "id": "5a9c1194",
   "metadata": {},
   "outputs": [
    {
     "name": "stdout",
     "output_type": "stream",
     "text": [
      "정수를 입력하세요0\n",
      "0입니다.\n"
     ]
    }
   ],
   "source": [
    "num = int(input(\"정수를 입력하세요 \"))\n",
    "if num >= 0:\n",
    "    if num == 0:\n",
    "        print('0입니다.')\n",
    "    else:\n",
    "        print(\"양수입니다.\")\n",
    "else :\n",
    "    print(\"음수입니다.\")\n"
   ]
  }
 ],
 "metadata": {
  "kernelspec": {
   "display_name": "Python 3",
   "language": "python",
   "name": "python3"
  },
  "language_info": {
   "codemirror_mode": {
    "name": "ipython",
    "version": 3
   },
   "file_extension": ".py",
   "mimetype": "text/x-python",
   "name": "python",
   "nbconvert_exporter": "python",
   "pygments_lexer": "ipython3",
   "version": "3.8.8"
  },
  "toc": {
   "base_numbering": 1,
   "nav_menu": {},
   "number_sections": true,
   "sideBar": true,
   "skip_h1_title": false,
   "title_cell": "Table of Contents",
   "title_sidebar": "Contents",
   "toc_cell": false,
   "toc_position": {},
   "toc_section_display": true,
   "toc_window_display": false
  },
  "varInspector": {
   "cols": {
    "lenName": 16,
    "lenType": 16,
    "lenVar": 40
   },
   "kernels_config": {
    "python": {
     "delete_cmd_postfix": "",
     "delete_cmd_prefix": "del ",
     "library": "var_list.py",
     "varRefreshCmd": "print(var_dic_list())"
    },
    "r": {
     "delete_cmd_postfix": ") ",
     "delete_cmd_prefix": "rm(",
     "library": "var_list.r",
     "varRefreshCmd": "cat(var_dic_list()) "
    }
   },
   "types_to_exclude": [
    "module",
    "function",
    "builtin_function_or_method",
    "instance",
    "_Feature"
   ],
   "window_display": false
  }
 },
 "nbformat": 4,
 "nbformat_minor": 5
}
