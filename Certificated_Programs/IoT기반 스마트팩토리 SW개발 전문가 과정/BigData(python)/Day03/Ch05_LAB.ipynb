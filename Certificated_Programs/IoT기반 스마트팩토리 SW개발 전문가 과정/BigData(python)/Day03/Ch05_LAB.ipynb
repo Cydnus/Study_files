{
 "cells": [
  {
   "cell_type": "markdown",
   "id": "884925f6",
   "metadata": {},
   "source": [
    "#### 01"
   ]
  },
  {
   "cell_type": "code",
   "execution_count": 2,
   "id": "7b4d3408",
   "metadata": {},
   "outputs": [
    {
     "name": "stdout",
     "output_type": "stream",
     "text": [
      "변 a의 길이 : 3\n",
      "변 b의 길이 : 4\n",
      "변 c의 길이 : 5\n",
      "직각삼각형 입니다.\n"
     ]
    }
   ],
   "source": [
    "a = int(input('변 a의 길이 : '))\n",
    "b = int(input('변 b의 길이 : '))\n",
    "c = int(input('변 c의 길이 : '))\n",
    "\n",
    "if c**2 == a**2+b**2 :\n",
    "    print(\"직각삼각형 입니다.\")\n",
    "else :\n",
    "    print(\"직각삼각형이 아닙니다.\")\n",
    "    \n"
   ]
  },
  {
   "cell_type": "markdown",
   "id": "bfee968f",
   "metadata": {},
   "source": [
    "#### 02"
   ]
  },
  {
   "cell_type": "code",
   "execution_count": 9,
   "id": "b39358a5",
   "metadata": {},
   "outputs": [],
   "source": [
    "import turtle\n",
    "\n",
    "t= turtle.Turtle()\n",
    "t.shape('turtle')\n",
    "\n",
    "t.up()\n",
    "\n",
    "t.goto(100,100)\n",
    "t.write(\"입력된 정수는 양의 정수입니다.\")\n",
    "t.goto(100,0)\n",
    "t.write(\"입력된 정수는 0입니다.\")\n",
    "t.goto(100,-100)\n",
    "t.write(\"입력된 정수는 음의 정수입니다.\")\n",
    "t.goto(0,0)\n",
    "\n",
    "t.down()\n",
    "\n",
    "inp = int(turtle.textinput(\"\",\"숫자를 입력하시오 : \"))\n",
    "\n",
    "if inp > 0 :\n",
    "    t.goto(100,100)\n",
    "elif inp < 0:\n",
    "    t.goto(100,-100)\n",
    "else:    \n",
    "    t.goto(100,0)\n",
    "    \n",
    "turtle.exitonclick()\n",
    "\n",
    "\n"
   ]
  },
  {
   "cell_type": "markdown",
   "id": "dddcc8e7",
   "metadata": {},
   "source": [
    "#### 03"
   ]
  },
  {
   "cell_type": "code",
   "execution_count": 13,
   "id": "f6325bb1",
   "metadata": {},
   "outputs": [
    {
     "name": "stdout",
     "output_type": "stream",
     "text": [
      "주민등록 번호의 성별 정보 번호를 생성합니다.\n",
      "생성번호 : 1\n",
      "남성입니다.\n",
      "프로그램을 종료합니다.\n"
     ]
    }
   ],
   "source": [
    "print(\"주민등록 번호의 성별 정보 번호를 생성합니다.\")\n",
    "\n",
    "from random import random\n",
    "\n",
    "num = int( random() * 3) +1\n",
    "\n",
    "print(\"생성번호 : %d\" %num)\n",
    "\n",
    "if num %2 == 1:\n",
    "    print(\"남성입니다.\")\n",
    "else :\n",
    "    print(\"여성입니다.\")\n",
    "    \n",
    "print(\"프로그램을 종료합니다.\")"
   ]
  },
  {
   "cell_type": "markdown",
   "id": "b954f30c",
   "metadata": {},
   "source": [
    "#### 04"
   ]
  },
  {
   "cell_type": "code",
   "execution_count": 17,
   "id": "5dd383b8",
   "metadata": {},
   "outputs": [],
   "source": [
    "from random import random\n",
    "import turtle\n",
    "\n",
    "num = int( random() * 2)\n",
    "\n",
    "t = turtle.Turtle()\n",
    "screen = turtle.Screen()\n",
    "\n",
    "image = \"1.gif\"\n",
    "if num > 1:\n",
    "    image = '2.gif'\n",
    "\n",
    "screen.addshape(image)\n",
    "t.shape(image)\n",
    "t.stamp()\n",
    "\n",
    "turtle.exitonclick()"
   ]
  },
  {
   "cell_type": "markdown",
   "id": "5fe59601",
   "metadata": {},
   "source": [
    "#### 05"
   ]
  },
  {
   "cell_type": "code",
   "execution_count": 1,
   "id": "11e33313",
   "metadata": {},
   "outputs": [
    {
     "name": "stdout",
     "output_type": "stream",
     "text": [
      "1번 전지가 있습니까?(y/n) n\n",
      "2번 전지가 있습니까?(y/n) y\n",
      "직렬연결 : 불이 꺼집니다.\n",
      "병렬연결 : 불이 켜집니다.\n"
     ]
    }
   ],
   "source": [
    "bat1 = input(\"1번 전지가 있습니까?(y/n) \")\n",
    "bat2 = input(\"2번 전지가 있습니까?(y/n) \")\n",
    "\n",
    "if bat1.upper() == 'Y' and  bat2.upper() == 'Y' :\n",
    "    print( \"직렬연결 : 불이 켜집니다.\")\n",
    "else :\n",
    "    print( \"직렬연결 : 불이 꺼집니다.\")\n",
    "\n",
    "\n",
    "if bat1.upper() == 'Y' or  bat2.upper() == 'Y' :\n",
    "    print( \"병렬연결 : 불이 켜집니다.\")\n",
    "else :\n",
    "    print( \"병렬연결 : 불이 꺼집니다.\")\n",
    "\n",
    "    "
   ]
  },
  {
   "cell_type": "markdown",
   "id": "c0c383e7",
   "metadata": {},
   "source": [
    "#### "
   ]
  },
  {
   "cell_type": "code",
   "execution_count": 2,
   "id": "60e98442",
   "metadata": {},
   "outputs": [
    {
     "name": "stdout",
     "output_type": "stream",
     "text": [
      "연도를 입력하십시오 : 2012\n",
      "2012 년은 윤년입니다.\n"
     ]
    }
   ],
   "source": [
    "year = int(input(\"연도를 입력하십시오 : \"))\n",
    "\n",
    "if year % 4 == 0:\n",
    "    print(\"%d 년은 윤년입니다.\" %year)\n",
    "else :\n",
    "    print(\"%d 년은 윤년이 아닙니다.\" %year)\n",
    "\n"
   ]
  },
  {
   "cell_type": "markdown",
   "id": "855f5c7a",
   "metadata": {},
   "source": [
    "#### 07"
   ]
  },
  {
   "cell_type": "code",
   "execution_count": 3,
   "id": "477187c3",
   "metadata": {},
   "outputs": [
    {
     "name": "stdout",
     "output_type": "stream",
     "text": [
      "a값 입력 : 1\n",
      "b값 입력 : 4\n",
      "c값 입력 : 4\n",
      "방정식의 해는 서로 같은 두 실근(중근)입니다.\n"
     ]
    }
   ],
   "source": [
    "a = int(input('a값 입력 : '))\n",
    "b = int(input('b값 입력 : '))\n",
    "c = int(input('c값 입력 : '))\n",
    "\n",
    "d = b**2 - 4 * a * c\n",
    "\n",
    "if d > 0:\n",
    "    print('방정식의 해는 서로 다른 두 실근입니다.')\n",
    "elif d == 0:\n",
    "    print('방정식의 해는 서로 같은 두 실근(중근)입니다.')\n",
    "else :\n",
    "    print('방정식의 해는 서로 다른 두 허근입니다.')\n"
   ]
  },
  {
   "cell_type": "markdown",
   "id": "0cdb9c70",
   "metadata": {},
   "source": [
    "#### 08"
   ]
  },
  {
   "cell_type": "code",
   "execution_count": 7,
   "id": "52f7320b",
   "metadata": {},
   "outputs": [],
   "source": [
    "import turtle\n",
    "\n",
    "t = turtle.Turtle()\n",
    "t.shape('turtle')\n",
    "\n",
    "shape = turtle.textinput(\"\",\"도형을 입력하십시오\")\n",
    "\n",
    "if shape == '사각형' :\n",
    "    width = int(turtle.textinput(\"\",\"가로 : \"))\n",
    "    height = int(turtle.textinput(\"\",\"세로 : \"))\n",
    "    \n",
    "    t.forward(width)\n",
    "    t.left(90)\n",
    "    \n",
    "    t.forward(height)\n",
    "    t.left(90)\n",
    "    \n",
    "    t.forward(width)\n",
    "    t.left(90)\n",
    "    \n",
    "    t.forward(height)\n",
    "    t.left(90)\n",
    "    \n",
    "    \n",
    "elif shape == '삼각형' :\n",
    "    length = int(turtle.textinput(\"\",\"한 변의 길이 : \"))\n",
    "        \n",
    "    t.forward(length)\n",
    "    t.left(120)\n",
    "    \n",
    "    \n",
    "elif shape == '원':\n",
    "    radi = int(turtle.textinput(\"\",\"반지름의 길이 : \"))\n",
    "        \n",
    "    t.circle(radi)\n",
    "    \n",
    "turtle.exitonclick()"
   ]
  },
  {
   "cell_type": "markdown",
   "id": "77f450fe",
   "metadata": {},
   "source": [
    "#### "
   ]
  },
  {
   "cell_type": "code",
   "execution_count": 10,
   "id": "d9a41646",
   "metadata": {},
   "outputs": [],
   "source": [
    "import turtle\n",
    "\n",
    "t = turtle.Turtle()\n",
    "t.shape('turtle')\n",
    "\n",
    "x1 = int(turtle.textinput(\"\",\"큰원의 중심좌표 x1 : \"))\n",
    "y1 = int(turtle.textinput(\"\",\"큰원의 중심좌표 y1 : \"))\n",
    "r1 = int(turtle.textinput(\"\",\"큰원의 반지름 : \"))\n",
    "\n",
    "x2 = int(turtle.textinput(\"\",\"작은원의 중심좌표 x2 : \"))\n",
    "y2 = int(turtle.textinput(\"\",\"작은원의 중심좌표 y2 : \"))\n",
    "r2 = int(turtle.textinput(\"\",\"작은원의 반지름 : \"))\n",
    "\n",
    "\n",
    "t.up()\n",
    "t.goto(x1,y1)\n",
    "t.down()\n",
    "t.circle(r1)\n",
    "\n",
    "t.up()\n",
    "t.goto(x2,y2)\n",
    "t.down()\n",
    "t.circle(r2)\n",
    "\n",
    "dist = (x1-x2)**2 + (y2-y1)**2\n",
    "dist = dist ** 0.5\n",
    "\n",
    "t.up()\n",
    "t.goto(x2,y2)\n",
    "t.down()\n",
    "\n",
    "if dist == 0 :\n",
    "    turtle.write(\"동심원\")\n",
    "    \n",
    "elif dist == r1-r2:\n",
    "    turtle.write(\"내접\")\n",
    "    \n",
    "elif r1-r2 < dist < r1 + r2:\n",
    "    turtle.write(\"두 점에서 만납니다.\")\n",
    "    \n",
    "elif dist> r1+r2:\n",
    "    turtle.write(\"만나지 않고 외부에 있습니다.\")\n",
    "    \n",
    "elif dist == r1+r2:\n",
    "    turtle.write(\"외접\")\n",
    "    \n",
    "elif dist < r1-r2:\n",
    "    turtle.write(\"만나지 않고 내부에 있습니다.\")\n",
    "    \n",
    "\n",
    "turtle.exitonclick()\n"
   ]
  },
  {
   "cell_type": "code",
   "execution_count": null,
   "id": "592a767a",
   "metadata": {},
   "outputs": [],
   "source": []
  }
 ],
 "metadata": {
  "kernelspec": {
   "display_name": "Python 3",
   "language": "python",
   "name": "python3"
  },
  "language_info": {
   "codemirror_mode": {
    "name": "ipython",
    "version": 3
   },
   "file_extension": ".py",
   "mimetype": "text/x-python",
   "name": "python",
   "nbconvert_exporter": "python",
   "pygments_lexer": "ipython3",
   "version": "3.8.8"
  },
  "toc": {
   "base_numbering": 1,
   "nav_menu": {},
   "number_sections": true,
   "sideBar": true,
   "skip_h1_title": false,
   "title_cell": "Table of Contents",
   "title_sidebar": "Contents",
   "toc_cell": false,
   "toc_position": {},
   "toc_section_display": true,
   "toc_window_display": false
  },
  "varInspector": {
   "cols": {
    "lenName": 16,
    "lenType": 16,
    "lenVar": 40
   },
   "kernels_config": {
    "python": {
     "delete_cmd_postfix": "",
     "delete_cmd_prefix": "del ",
     "library": "var_list.py",
     "varRefreshCmd": "print(var_dic_list())"
    },
    "r": {
     "delete_cmd_postfix": ") ",
     "delete_cmd_prefix": "rm(",
     "library": "var_list.r",
     "varRefreshCmd": "cat(var_dic_list()) "
    }
   },
   "types_to_exclude": [
    "module",
    "function",
    "builtin_function_or_method",
    "instance",
    "_Feature"
   ],
   "window_display": false
  }
 },
 "nbformat": 4,
 "nbformat_minor": 5
}
