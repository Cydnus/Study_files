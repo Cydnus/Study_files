{
 "cells": [
  {
   "cell_type": "markdown",
   "id": "7a65a790",
   "metadata": {},
   "source": [
    "#### "
   ]
  },
  {
   "cell_type": "code",
   "execution_count": 1,
   "id": "b97220c1",
   "metadata": {},
   "outputs": [
    {
     "name": "stdout",
     "output_type": "stream",
     "text": [
      "소금물의 농도를 구하는 프로그램 입니다.\n",
      "소금의 양은 몇 g입니까?  50\n",
      "물의의 양은 몇 g입니까?  80\n",
      "소금물의 농도 :  38.46153846153847\n"
     ]
    }
   ],
   "source": [
    "print('소금물의 농도를 구하는 프로그램 입니다.')\n",
    "salt = int(input(\"소금의 양은 몇 g입니까?  \"))\n",
    "water = int(input(\"물의의 양은 몇 g입니까?  \"))\n",
    "\n",
    "print('소금물의 농도 : ', (salt/(salt+water))*100)\n"
   ]
  },
  {
   "cell_type": "markdown",
   "id": "9c38db01",
   "metadata": {},
   "source": [
    "#### \n"
   ]
  },
  {
   "cell_type": "code",
   "execution_count": 6,
   "id": "8e2c8601",
   "metadata": {},
   "outputs": [
    {
     "name": "stdout",
     "output_type": "stream",
     "text": [
      "안녕하세요\n",
      "이름이 뭐에요? 홍길동\n",
      "만나서 반갑습니다. 홍길동 님\n",
      "홍길동 님, 이름의 길이는 다음과 같군요 :  3\n",
      "나이가 어떻게 되요? 20\n",
      "내년이면 21 세가 되시는 군요\n"
     ]
    }
   ],
   "source": [
    "print(\"안녕하세요\")\n",
    "name = input(\"이름이 뭐에요? \")\n",
    "print('만나서 반갑습니다. %s 님'%name )\n",
    "print('%s 님, 이름의 길이는 다음과 같군요 : ' %name, len(name))\n",
    "age=int(input('나이가 어떻게 되요? '))\n",
    "print(\"내년이면 %s 세가 되시는 군요\" %(age+1))"
   ]
  },
  {
   "cell_type": "markdown",
   "id": "c7093fe9",
   "metadata": {},
   "source": [
    "#### "
   ]
  },
  {
   "cell_type": "code",
   "execution_count": 5,
   "id": "e7818aa5",
   "metadata": {},
   "outputs": [],
   "source": [
    "import turtle\n",
    "\n",
    "t = turtle.Turtle()\n",
    "t.shape('turtle')\n",
    "\n",
    "s = turtle.textinput(\"\",\"이름일 입력하시오. \")\n",
    "\n",
    "t.write(\"안녕하세요 %s씨, 터틀 인사드립니다.\" %s)\n",
    "for i in range(0,4) :\n",
    "    t.left(90)\n",
    "    t.forward(100)\n",
    "turtle.exitonclick()"
   ]
  },
  {
   "cell_type": "markdown",
   "id": "eac86bdd",
   "metadata": {},
   "source": [
    "#### "
   ]
  },
  {
   "cell_type": "code",
   "execution_count": 10,
   "id": "2e2822e7",
   "metadata": {},
   "outputs": [
    {
     "name": "stdout",
     "output_type": "stream",
     "text": [
      "평문 : 도서관에서 보자\n",
      "암호문 : 자보 서에관서도\n"
     ]
    }
   ],
   "source": [
    "s = input(\"평문 : \")\n",
    "\n",
    "print(\"암호문 : \"+s[::-1])"
   ]
  },
  {
   "cell_type": "markdown",
   "id": "1b57e2cd",
   "metadata": {},
   "source": [
    "#### "
   ]
  },
  {
   "cell_type": "code",
   "execution_count": 13,
   "id": "26afa254",
   "metadata": {},
   "outputs": [
    {
     "name": "stdout",
     "output_type": "stream",
     "text": [
      "올해는 2021 년입니다.\n",
      "당신의 나이를 입력하세요 ; 18\n",
      "2050년에는 47 살이군요.\n"
     ]
    }
   ],
   "source": [
    "import time\n",
    "\n",
    "now = time.time()\n",
    "\n",
    "thisYear = int(1970+now//(365*24*60*60))\n",
    "print(\"올해는 %s 년입니다.\" %thisYear)\n",
    "\n",
    "age = int(input(\"당신의 나이를 입력하세요 ; \"))\n",
    "print(\"2050년에는 %s 살이군요.\" %(2050-thisYear+age))\n",
    "\n"
   ]
  }
 ],
 "metadata": {
  "kernelspec": {
   "display_name": "Python 3",
   "language": "python",
   "name": "python3"
  },
  "language_info": {
   "codemirror_mode": {
    "name": "ipython",
    "version": 3
   },
   "file_extension": ".py",
   "mimetype": "text/x-python",
   "name": "python",
   "nbconvert_exporter": "python",
   "pygments_lexer": "ipython3",
   "version": "3.8.8"
  },
  "toc": {
   "base_numbering": 1,
   "nav_menu": {},
   "number_sections": true,
   "sideBar": true,
   "skip_h1_title": false,
   "title_cell": "Table of Contents",
   "title_sidebar": "Contents",
   "toc_cell": false,
   "toc_position": {},
   "toc_section_display": true,
   "toc_window_display": false
  },
  "varInspector": {
   "cols": {
    "lenName": 16,
    "lenType": 16,
    "lenVar": 40
   },
   "kernels_config": {
    "python": {
     "delete_cmd_postfix": "",
     "delete_cmd_prefix": "del ",
     "library": "var_list.py",
     "varRefreshCmd": "print(var_dic_list())"
    },
    "r": {
     "delete_cmd_postfix": ") ",
     "delete_cmd_prefix": "rm(",
     "library": "var_list.r",
     "varRefreshCmd": "cat(var_dic_list()) "
    }
   },
   "types_to_exclude": [
    "module",
    "function",
    "builtin_function_or_method",
    "instance",
    "_Feature"
   ],
   "window_display": false
  }
 },
 "nbformat": 4,
 "nbformat_minor": 5
}
