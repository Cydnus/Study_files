{
 "cells": [
  {
   "cell_type": "markdown",
   "id": "d93360e1",
   "metadata": {},
   "source": [
    "##### "
   ]
  },
  {
   "cell_type": "code",
   "execution_count": 2,
   "id": "fc398f16",
   "metadata": {
    "scrolled": true
   },
   "outputs": [
    {
     "name": "stdout",
     "output_type": "stream",
     "text": [
      "닭의 수 : \n"
     ]
    },
    {
     "ename": "ValueError",
     "evalue": "invalid literal for int() with base 10: ''",
     "output_type": "error",
     "traceback": [
      "\u001b[1;31m---------------------------------------------------------------------------\u001b[0m",
      "\u001b[1;31mValueError\u001b[0m                                Traceback (most recent call last)",
      "\u001b[1;32m<ipython-input-2-0cdfddd08d6e>\u001b[0m in \u001b[0;36m<module>\u001b[1;34m\u001b[0m\n\u001b[1;32m----> 1\u001b[1;33m \u001b[0mchi\u001b[0m \u001b[1;33m=\u001b[0m \u001b[0mint\u001b[0m\u001b[1;33m(\u001b[0m\u001b[0minput\u001b[0m\u001b[1;33m(\u001b[0m\u001b[1;34m\"닭의 수 : \"\u001b[0m\u001b[1;33m)\u001b[0m\u001b[1;33m)\u001b[0m\u001b[1;33m\u001b[0m\u001b[1;33m\u001b[0m\u001b[0m\n\u001b[0m\u001b[0;32m      2\u001b[0m \u001b[0mpig\u001b[0m \u001b[1;33m=\u001b[0m \u001b[0mint\u001b[0m\u001b[1;33m(\u001b[0m\u001b[0minput\u001b[0m\u001b[1;33m(\u001b[0m\u001b[1;34m\"돼지의 수 : \"\u001b[0m\u001b[1;33m)\u001b[0m\u001b[1;33m)\u001b[0m\u001b[1;33m\u001b[0m\u001b[1;33m\u001b[0m\u001b[0m\n\u001b[0;32m      3\u001b[0m \u001b[0mcaw\u001b[0m \u001b[1;33m=\u001b[0m \u001b[0mint\u001b[0m\u001b[1;33m(\u001b[0m\u001b[0minput\u001b[0m\u001b[1;33m(\u001b[0m\u001b[1;34m\"소의 수 : \"\u001b[0m\u001b[1;33m)\u001b[0m\u001b[1;33m)\u001b[0m\u001b[1;33m\u001b[0m\u001b[1;33m\u001b[0m\u001b[0m\n\u001b[0;32m      4\u001b[0m \u001b[1;33m\u001b[0m\u001b[0m\n\u001b[0;32m      5\u001b[0m \u001b[0mprint\u001b[0m\u001b[1;33m(\u001b[0m\u001b[1;34m\"전체 다리의 수 \"\u001b[0m\u001b[1;33m,\u001b[0m \u001b[0mchi\u001b[0m\u001b[1;33m*\u001b[0m\u001b[1;36m2\u001b[0m\u001b[1;33m+\u001b[0m\u001b[0mpig\u001b[0m\u001b[1;33m*\u001b[0m\u001b[1;36m4\u001b[0m\u001b[1;33m+\u001b[0m\u001b[0mcaw\u001b[0m\u001b[1;33m*\u001b[0m\u001b[1;36m4\u001b[0m\u001b[1;33m)\u001b[0m\u001b[1;33m\u001b[0m\u001b[1;33m\u001b[0m\u001b[0m\n",
      "\u001b[1;31mValueError\u001b[0m: invalid literal for int() with base 10: ''"
     ]
    }
   ],
   "source": [
    "chi = int(input(\"닭의 수 : \"))\n",
    "pig = int(input(\"돼지의 수 : \"))\n",
    "caw = int(input(\"소의 수 : \"))\n",
    "\n",
    "print(\"전체 다리의 수 \", chi*2+pig*4+caw*4)\n"
   ]
  },
  {
   "cell_type": "markdown",
   "id": "e3765187",
   "metadata": {},
   "source": [
    "##### "
   ]
  },
  {
   "cell_type": "code",
   "execution_count": 3,
   "id": "96193fde",
   "metadata": {},
   "outputs": [
    {
     "name": "stdout",
     "output_type": "stream",
     "text": [
      "x1: 0\n",
      "y1: 0\n",
      "x2: 100\n",
      "y2: 100\n",
      "두점 사이의 거리 =  141.4213562373095\n"
     ]
    }
   ],
   "source": [
    "x1 = int(input( 'x1: '))\n",
    "y1 = int(input( 'y1: '))\n",
    "x2 = int(input( 'x2: '))\n",
    "y2 = int(input( 'y2: '))\n",
    "\n",
    "print(\"두점 사이의 거리 = \", ((x2-x1)**2 + (y2 - y1 )**2 )**(1/2))\n",
    "\n"
   ]
  },
  {
   "cell_type": "raw",
   "id": "91bfc5aa",
   "metadata": {},
   "source": [
    "3,4 번 공통"
   ]
  },
  {
   "cell_type": "code",
   "execution_count": 17,
   "id": "3365b3e1",
   "metadata": {},
   "outputs": [],
   "source": [
    "import turtle\n",
    "\n",
    "t = turtle.Turtle()\n",
    "t.shape('turtle')"
   ]
  },
  {
   "cell_type": "markdown",
   "id": "206db3b0",
   "metadata": {},
   "source": [
    "##### "
   ]
  },
  {
   "cell_type": "code",
   "execution_count": 10,
   "id": "50410a7e",
   "metadata": {},
   "outputs": [],
   "source": [
    "t.clear()\n",
    "\n",
    "t.left(45)\n",
    "\n",
    "t.forward(141)\n",
    "\n",
    "t.up()\n",
    "t.goto(0,0)\n",
    "t.setheading(0)\n",
    "t.down()\n",
    "\n",
    "t.forward(100)\n",
    "t.left(90)\n",
    "t.forward(100)\n"
   ]
  },
  {
   "cell_type": "markdown",
   "id": "1955295d",
   "metadata": {},
   "source": [
    "##### "
   ]
  },
  {
   "cell_type": "code",
   "execution_count": 18,
   "id": "e4093739",
   "metadata": {},
   "outputs": [
    {
     "name": "stdout",
     "output_type": "stream",
     "text": [
      "x1: 0\n",
      "y1: 0\n",
      "x2: 100\n",
      "y2: 100\n"
     ]
    }
   ],
   "source": [
    "t.clear()\n",
    "\n",
    "x1 = int(input( 'x1: '))\n",
    "y1 = int(input( 'y1: '))\n",
    "x2 = int(input( 'x2: '))\n",
    "y2 = int(input( 'y2: '))\n",
    "\n",
    "t.up()\n",
    "t.goto(x1,y1)\n",
    "t.down()\n",
    "t.goto(x2,y2)\n",
    "\n",
    "t.write( \"두 점사이의 거리 : \"+str(((x2-x1)**2 + (y2 - y1 )**2 )**(1/2)),False,\"left\")\n"
   ]
  },
  {
   "cell_type": "markdown",
   "id": "04c4dda2",
   "metadata": {},
   "source": [
    "#####"
   ]
  },
  {
   "cell_type": "code",
   "execution_count": 20,
   "id": "5c0bd3f5",
   "metadata": {},
   "outputs": [
    {
     "name": "stdout",
     "output_type": "stream",
     "text": [
      "현재 시간 :  15 시 34 분\n"
     ]
    }
   ],
   "source": [
    "from time import time\n",
    "\n",
    "fsec = time()\n",
    "\n",
    "fmin = fsec // 60\n",
    "\n",
    "cur_min = int(fmin % 60)\n",
    "\n",
    "fhour = fmin //60\n",
    "\n",
    "cur_hour = int(fhour %24) +9\n",
    "\n",
    "print(\"현재 시간 : \",cur_hour,'시',cur_min,'분')\n"
   ]
  },
  {
   "cell_type": "code",
   "execution_count": null,
   "id": "0b081e28",
   "metadata": {},
   "outputs": [],
   "source": [
    "\n",
    "\n"
   ]
  }
 ],
 "metadata": {
  "kernelspec": {
   "display_name": "Python 3",
   "language": "python",
   "name": "python3"
  },
  "language_info": {
   "codemirror_mode": {
    "name": "ipython",
    "version": 3
   },
   "file_extension": ".py",
   "mimetype": "text/x-python",
   "name": "python",
   "nbconvert_exporter": "python",
   "pygments_lexer": "ipython3",
   "version": "3.8.8"
  },
  "toc": {
   "base_numbering": 1,
   "nav_menu": {},
   "number_sections": true,
   "sideBar": true,
   "skip_h1_title": false,
   "title_cell": "Table of Contents",
   "title_sidebar": "Contents",
   "toc_cell": false,
   "toc_position": {},
   "toc_section_display": true,
   "toc_window_display": false
  },
  "varInspector": {
   "cols": {
    "lenName": 16,
    "lenType": 16,
    "lenVar": 40
   },
   "kernels_config": {
    "python": {
     "delete_cmd_postfix": "",
     "delete_cmd_prefix": "del ",
     "library": "var_list.py",
     "varRefreshCmd": "print(var_dic_list())"
    },
    "r": {
     "delete_cmd_postfix": ") ",
     "delete_cmd_prefix": "rm(",
     "library": "var_list.r",
     "varRefreshCmd": "cat(var_dic_list()) "
    }
   },
   "types_to_exclude": [
    "module",
    "function",
    "builtin_function_or_method",
    "instance",
    "_Feature"
   ],
   "window_display": false
  }
 },
 "nbformat": 4,
 "nbformat_minor": 5
}
