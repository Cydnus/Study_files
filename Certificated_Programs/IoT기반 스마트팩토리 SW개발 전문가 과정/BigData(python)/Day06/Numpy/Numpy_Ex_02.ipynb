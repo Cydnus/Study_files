{
 "cells": [
  {
   "cell_type": "code",
   "execution_count": 1,
   "id": "9305556c",
   "metadata": {
    "ExecuteTime": {
     "end_time": "2021-06-14T02:09:00.258832Z",
     "start_time": "2021-06-14T02:09:00.248833Z"
    }
   },
   "outputs": [],
   "source": [
    "import numpy as np"
   ]
  },
  {
   "cell_type": "markdown",
   "id": "632d1e25",
   "metadata": {},
   "source": [
    "데이터 생성 함수 : arange  \n",
    "arange ( 시작값 , 종료값, 간격 )"
   ]
  },
  {
   "cell_type": "code",
   "execution_count": 3,
   "id": "d343f579",
   "metadata": {
    "ExecuteTime": {
     "end_time": "2021-06-14T02:10:55.902858Z",
     "start_time": "2021-06-14T02:10:54.986381Z"
    }
   },
   "outputs": [
    {
     "name": "stdout",
     "output_type": "stream",
     "text": [
      "[1 3 5 7 9]\n"
     ]
    },
    {
     "data": {
      "image/png": "[encoded data removed]",
      "text/plain": [
       "<Figure size 432x288 with 1 Axes>"
      ]
     },
     "metadata": {
      "needs_background": "light"
     },
     "output_type": "display_data"
    }
   ],
   "source": [
    "a = np.arange(1,10,2)\n",
    "print(a)\n",
    "\n",
    "import matplotlib.pyplot as plt\n",
    "plt.plot(a)\n",
    "plt.show()\n"
   ]
  },
  {
   "cell_type": "markdown",
   "id": "db486143",
   "metadata": {},
   "source": [
    "데이터 생성 함수 linspace()\n",
    "\n",
    "linspace(시작값, 종료값, 개수)"
   ]
  },
  {
   "cell_type": "code",
   "execution_count": 4,
   "id": "0a401525",
   "metadata": {
    "ExecuteTime": {
     "end_time": "2021-06-14T02:12:05.164079Z",
     "start_time": "2021-06-14T02:12:04.999153Z"
    }
   },
   "outputs": [
    {
     "name": "stdout",
     "output_type": "stream",
     "text": [
      "[ 0.          0.1010101   0.2020202   0.3030303   0.4040404   0.50505051\n",
      "  0.60606061  0.70707071  0.80808081  0.90909091  1.01010101  1.11111111\n",
      "  1.21212121  1.31313131  1.41414141  1.51515152  1.61616162  1.71717172\n",
      "  1.81818182  1.91919192  2.02020202  2.12121212  2.22222222  2.32323232\n",
      "  2.42424242  2.52525253  2.62626263  2.72727273  2.82828283  2.92929293\n",
      "  3.03030303  3.13131313  3.23232323  3.33333333  3.43434343  3.53535354\n",
      "  3.63636364  3.73737374  3.83838384  3.93939394  4.04040404  4.14141414\n",
      "  4.24242424  4.34343434  4.44444444  4.54545455  4.64646465  4.74747475\n",
      "  4.84848485  4.94949495  5.05050505  5.15151515  5.25252525  5.35353535\n",
      "  5.45454545  5.55555556  5.65656566  5.75757576  5.85858586  5.95959596\n",
      "  6.06060606  6.16161616  6.26262626  6.36363636  6.46464646  6.56565657\n",
      "  6.66666667  6.76767677  6.86868687  6.96969697  7.07070707  7.17171717\n",
      "  7.27272727  7.37373737  7.47474747  7.57575758  7.67676768  7.77777778\n",
      "  7.87878788  7.97979798  8.08080808  8.18181818  8.28282828  8.38383838\n",
      "  8.48484848  8.58585859  8.68686869  8.78787879  8.88888889  8.98989899\n",
      "  9.09090909  9.19191919  9.29292929  9.39393939  9.49494949  9.5959596\n",
      "  9.6969697   9.7979798   9.8989899  10.        ]\n"
     ]
    },
    {
     "data": {
      "image/png": "[encoded data removed]",
      "text/plain": [
       "<Figure size 432x288 with 1 Axes>"
      ]
     },
     "metadata": {
      "needs_background": "light"
     },
     "output_type": "display_data"
    }
   ],
   "source": [
    "a = np.linspace(0,10,100)\n",
    "print(a)\n",
    "\n",
    "import matplotlib.pyplot as plt\n",
    "plt.plot(a)\n",
    "plt.show()\n"
   ]
  },
  {
   "cell_type": "markdown",
   "id": "4cb3f52e",
   "metadata": {},
   "source": [
    "균일 분포 난수 생성"
   ]
  },
  {
   "cell_type": "code",
   "execution_count": 5,
   "id": "6d72a35a",
   "metadata": {
    "ExecuteTime": {
     "end_time": "2021-06-14T02:13:27.788488Z",
     "start_time": "2021-06-14T02:13:27.773527Z"
    }
   },
   "outputs": [
    {
     "name": "stdout",
     "output_type": "stream",
     "text": [
      "[0.54340494 0.27836939 0.42451759 0.84477613 0.00471886]\n",
      "[[0.12156912 0.67074908 0.82585276]\n",
      " [0.13670659 0.57509333 0.89132195]\n",
      " [0.20920212 0.18532822 0.10837689]\n",
      " [0.21969749 0.97862378 0.81168315]\n",
      " [0.17194101 0.81622475 0.27407375]]\n"
     ]
    }
   ],
   "source": [
    "np.random.seed(100)\n",
    "print(np.random.rand(5))\n",
    "print(np.random.rand(5,3))"
   ]
  },
  {
   "cell_type": "markdown",
   "id": "f5696ad9",
   "metadata": {},
   "source": [
    "정규분포 난수 생성"
   ]
  },
  {
   "cell_type": "code",
   "execution_count": 9,
   "id": "49e91200",
   "metadata": {
    "ExecuteTime": {
     "end_time": "2021-06-14T02:18:45.160863Z",
     "start_time": "2021-06-14T02:18:45.143914Z"
    }
   },
   "outputs": [
    {
     "name": "stdout",
     "output_type": "stream",
     "text": [
      "[11.8676826  11.89275976 11.20459332 10.77553256 10.72637601]\n"
     ]
    },
    {
     "data": {
      "text/plain": [
       "array([-0.06599198, -0.08740048, -0.06895506, -0.05354798,  0.1527953 ])"
      ]
     },
     "execution_count": 9,
     "metadata": {},
     "output_type": "execute_result"
    }
   ],
   "source": [
    "m,sigma = 10,2\n",
    "print(m + sigma * np.random.rand(5))\n",
    "\n",
    "mu,sigma = 0,0.1\n",
    "np.random.normal(mu,sigma,5)\n"
   ]
  },
  {
   "cell_type": "code",
   "execution_count": null,
   "id": "911b747e",
   "metadata": {},
   "outputs": [],
   "source": []
  }
 ],
 "metadata": {
  "kernelspec": {
   "display_name": "Python 3",
   "language": "python",
   "name": "python3"
  },
  "language_info": {
   "codemirror_mode": {
    "name": "ipython",
    "version": 3
   },
   "file_extension": ".py",
   "mimetype": "text/x-python",
   "name": "python",
   "nbconvert_exporter": "python",
   "pygments_lexer": "ipython3",
   "version": "3.8.8"
  },
  "varInspector": {
   "cols": {
    "lenName": 16,
    "lenType": 16,
    "lenVar": 40
   },
   "kernels_config": {
    "python": {
     "delete_cmd_postfix": "",
     "delete_cmd_prefix": "del ",
     "library": "var_list.py",
     "varRefreshCmd": "print(var_dic_list())"
    },
    "r": {
     "delete_cmd_postfix": ") ",
     "delete_cmd_prefix": "rm(",
     "library": "var_list.r",
     "varRefreshCmd": "cat(var_dic_list()) "
    }
   },
   "types_to_exclude": [
    "module",
    "function",
    "builtin_function_or_method",
    "instance",
    "_Feature"
   ],
   "window_display": false
  }
 },
 "nbformat": 4,
 "nbformat_minor": 5
}
