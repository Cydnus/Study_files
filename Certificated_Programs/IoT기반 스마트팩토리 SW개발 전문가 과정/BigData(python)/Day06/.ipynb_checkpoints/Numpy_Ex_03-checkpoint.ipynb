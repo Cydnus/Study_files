{
 "cells": [
  {
   "cell_type": "markdown",
   "id": "ac4b61e0",
   "metadata": {},
   "source": [
    "넘파이 내장 함수"
   ]
  },
  {
   "cell_type": "code",
   "execution_count": 1,
   "id": "7cc3075c",
   "metadata": {
    "ExecuteTime": {
     "end_time": "2021-06-14T02:23:18.465436Z",
     "start_time": "2021-06-14T02:23:18.444490Z"
    }
   },
   "outputs": [
    {
     "data": {
      "text/plain": [
       "array([0.        , 8.41470985, 9.09297427, 1.41120008])"
      ]
     },
     "execution_count": 1,
     "metadata": {},
     "output_type": "execute_result"
    }
   ],
   "source": [
    "import numpy as np\n",
    "\n",
    "a = np.array([0,1,2,3])\n",
    "10 * np.sin(a)\n"
   ]
  },
  {
   "cell_type": "markdown",
   "id": "682e7a48",
   "metadata": {},
   "source": [
    "내장함수 예제  \n",
    "학생 4명과 3과목 성적(국,영,수)이 넘파이배열에 저장되었다고 가정"
   ]
  },
  {
   "cell_type": "code",
   "execution_count": 3,
   "id": "43aaa89a",
   "metadata": {
    "ExecuteTime": {
     "end_time": "2021-06-14T02:26:52.044769Z",
     "start_time": "2021-06-14T02:26:52.030462Z"
    }
   },
   "outputs": [
    {
     "name": "stdout",
     "output_type": "stream",
     "text": [
      "1005\n",
      "60\n",
      "99\n",
      "83.75\n",
      "11.769487386175038\n",
      "138.52083333333334\n",
      "[92.   80.5  78.75]\n"
     ]
    }
   ],
   "source": [
    "import numpy as np\n",
    "\n",
    "score = np.array([[99,93,60],[98,82,93],[93,65,81],[78,82,81]])\n",
    "\n",
    "print(score.sum())\n",
    "print(score.min())\n",
    "print(score.max())\n",
    "print(score.mean())\n",
    "print(score.std())\n",
    "print(score.var())\n",
    "\n",
    "#행이나 열 단위 계산도 가능\n",
    "print(score.mean(axis=0))\n"
   ]
  },
  {
   "cell_type": "markdown",
   "id": "01b66789",
   "metadata": {},
   "source": [
    "히스토그램"
   ]
  },
  {
   "cell_type": "code",
   "execution_count": 4,
   "id": "1610d1b2",
   "metadata": {
    "ExecuteTime": {
     "end_time": "2021-06-14T02:30:31.449698Z",
     "start_time": "2021-06-14T02:30:31.199606Z"
    }
   },
   "outputs": [
    {
     "data": {
      "image/png": "[encoded data removed]",
      "text/plain": [
       "<Figure size 432x288 with 1 Axes>"
      ]
     },
     "metadata": {
      "needs_background": "light"
     },
     "output_type": "display_data"
    }
   ],
   "source": [
    "import matplotlib.pyplot as plt\n",
    "import numpy as np\n",
    "\n",
    "numbers = np.random.normal(size = 10000)\n",
    "\n",
    "plt.hist(numbers)\n",
    "plt.xlabel('value')\n",
    "plt.ylabel('freq')\n",
    "plt.show()\n"
   ]
  }
 ],
 "metadata": {
  "kernelspec": {
   "display_name": "Python 3",
   "language": "python",
   "name": "python3"
  },
  "language_info": {
   "codemirror_mode": {
    "name": "ipython",
    "version": 3
   },
   "file_extension": ".py",
   "mimetype": "text/x-python",
   "name": "python",
   "nbconvert_exporter": "python",
   "pygments_lexer": "ipython3",
   "version": "3.8.8"
  },
  "varInspector": {
   "cols": {
    "lenName": 16,
    "lenType": 16,
    "lenVar": 40
   },
   "kernels_config": {
    "python": {
     "delete_cmd_postfix": "",
     "delete_cmd_prefix": "del ",
     "library": "var_list.py",
     "varRefreshCmd": "print(var_dic_list())"
    },
    "r": {
     "delete_cmd_postfix": ") ",
     "delete_cmd_prefix": "rm(",
     "library": "var_list.r",
     "varRefreshCmd": "cat(var_dic_list()) "
    }
   },
   "types_to_exclude": [
    "module",
    "function",
    "builtin_function_or_method",
    "instance",
    "_Feature"
   ],
   "window_display": false
  }
 },
 "nbformat": 4,
 "nbformat_minor": 5
}
