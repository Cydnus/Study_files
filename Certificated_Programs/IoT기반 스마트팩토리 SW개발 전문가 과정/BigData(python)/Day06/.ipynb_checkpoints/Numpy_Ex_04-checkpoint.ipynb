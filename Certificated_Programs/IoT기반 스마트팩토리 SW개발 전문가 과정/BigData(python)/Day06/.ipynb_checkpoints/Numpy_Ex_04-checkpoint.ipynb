{
 "cells": [
  {
   "cell_type": "markdown",
   "id": "cc40d5a2",
   "metadata": {},
   "source": [
    "인덱싱과 슬라이싱"
   ]
  },
  {
   "cell_type": "code",
   "execution_count": 1,
   "id": "5866f67c",
   "metadata": {
    "ExecuteTime": {
     "end_time": "2021-06-14T02:40:23.099594Z",
     "start_time": "2021-06-14T02:40:23.089589Z"
    }
   },
   "outputs": [],
   "source": [
    "import numpy as np"
   ]
  },
  {
   "cell_type": "code",
   "execution_count": 4,
   "id": "1fa4a0ce",
   "metadata": {
    "ExecuteTime": {
     "end_time": "2021-06-14T02:41:15.743159Z",
     "start_time": "2021-06-14T02:41:15.728606Z"
    }
   },
   "outputs": [
    {
     "name": "stdout",
     "output_type": "stream",
     "text": [
      "[72 93]\n",
      "[88 72]\n"
     ]
    }
   ],
   "source": [
    "grades = np.array([88,72,93,94])\n",
    "print(grades[1:3])\n",
    "print(grades[:2])"
   ]
  },
  {
   "cell_type": "markdown",
   "id": "8dab42ef",
   "metadata": {},
   "source": [
    "논리적인 인덱싱"
   ]
  },
  {
   "cell_type": "code",
   "execution_count": 5,
   "id": "2255629e",
   "metadata": {
    "ExecuteTime": {
     "end_time": "2021-06-14T02:43:44.189864Z",
     "start_time": "2021-06-14T02:43:44.174904Z"
    }
   },
   "outputs": [
    {
     "name": "stdout",
     "output_type": "stream",
     "text": [
      "[ True  True  True  True]\n",
      "[88 72 93 94]\n"
     ]
    }
   ],
   "source": [
    "ages = np.array([88,72,93,94])\n",
    "\n",
    "y = ages>20\n",
    "print(y)\n",
    "\n",
    "print(ages[ages>20])"
   ]
  },
  {
   "cell_type": "markdown",
   "id": "2f4a66b5",
   "metadata": {},
   "source": [
    "2차원 배열의 슬라이싱"
   ]
  },
  {
   "cell_type": "code",
   "execution_count": 7,
   "id": "6271d548",
   "metadata": {
    "ExecuteTime": {
     "end_time": "2021-06-14T02:45:06.939273Z",
     "start_time": "2021-06-14T02:45:06.923651Z"
    }
   },
   "outputs": [
    {
     "name": "stdout",
     "output_type": "stream",
     "text": [
      "[[2 3]\n",
      " [5 6]]\n"
     ]
    }
   ],
   "source": [
    "a = np.array([[1,2,3],[4,5,6],[7,8,9]])\n",
    "print(a[0:2,1:3])\n"
   ]
  },
  {
   "cell_type": "markdown",
   "id": "5bc189ce",
   "metadata": {},
   "source": [
    "2차원 배열의 논리적인 인덱싱"
   ]
  },
  {
   "cell_type": "code",
   "execution_count": 9,
   "id": "079c419f",
   "metadata": {
    "ExecuteTime": {
     "end_time": "2021-06-14T02:45:39.487321Z",
     "start_time": "2021-06-14T02:45:39.469369Z"
    }
   },
   "outputs": [
    {
     "name": "stdout",
     "output_type": "stream",
     "text": [
      "[[False False False]\n",
      " [False False  True]\n",
      " [ True  True  True]]\n"
     ]
    },
    {
     "data": {
      "text/plain": [
       "array([6, 7, 8, 9])"
      ]
     },
     "execution_count": 9,
     "metadata": {},
     "output_type": "execute_result"
    }
   ],
   "source": [
    "a = np.array([[1,2,3],[4,5,6],[7,8,9]])\n",
    "print(a>5)\n",
    "\n",
    "a[a>5]"
   ]
  },
  {
   "cell_type": "code",
   "execution_count": null,
   "id": "71e65ab7",
   "metadata": {},
   "outputs": [],
   "source": []
  }
 ],
 "metadata": {
  "kernelspec": {
   "display_name": "Python 3",
   "language": "python",
   "name": "python3"
  },
  "language_info": {
   "codemirror_mode": {
    "name": "ipython",
    "version": 3
   },
   "file_extension": ".py",
   "mimetype": "text/x-python",
   "name": "python",
   "nbconvert_exporter": "python",
   "pygments_lexer": "ipython3",
   "version": "3.8.8"
  },
  "varInspector": {
   "cols": {
    "lenName": 16,
    "lenType": 16,
    "lenVar": 40
   },
   "kernels_config": {
    "python": {
     "delete_cmd_postfix": "",
     "delete_cmd_prefix": "del ",
     "library": "var_list.py",
     "varRefreshCmd": "print(var_dic_list())"
    },
    "r": {
     "delete_cmd_postfix": ") ",
     "delete_cmd_prefix": "rm(",
     "library": "var_list.r",
     "varRefreshCmd": "cat(var_dic_list()) "
    }
   },
   "types_to_exclude": [
    "module",
    "function",
    "builtin_function_or_method",
    "instance",
    "_Feature"
   ],
   "window_display": false
  }
 },
 "nbformat": 4,
 "nbformat_minor": 5
}
