{
 "cells": [
  {
   "cell_type": "code",
   "execution_count": 1,
   "id": "140efb1b",
   "metadata": {
    "ExecuteTime": {
     "end_time": "2021-06-14T02:54:25.948320Z",
     "start_time": "2021-06-14T02:54:25.936352Z"
    }
   },
   "outputs": [],
   "source": [
    "import numpy as np"
   ]
  },
  {
   "cell_type": "markdown",
   "id": "4d268dc4",
   "metadata": {},
   "source": [
    "전치행렬 계산하기"
   ]
  },
  {
   "cell_type": "code",
   "execution_count": 4,
   "id": "37ca2b87",
   "metadata": {
    "ExecuteTime": {
     "end_time": "2021-06-14T02:55:09.137111Z",
     "start_time": "2021-06-14T02:55:09.121181Z"
    }
   },
   "outputs": [
    {
     "name": "stdout",
     "output_type": "stream",
     "text": [
      "[[1 4 7]\n",
      " [2 5 8]\n",
      " [3 6 9]]\n",
      "[[1 4 7]\n",
      " [2 5 8]\n",
      " [3 6 9]]\n"
     ]
    }
   ],
   "source": [
    "x = np.array([[1,2,3],[4,5,6],[7,8,9]])\n",
    "\n",
    "print(x.transpose())\n",
    "\n",
    "print(x.T)"
   ]
  },
  {
   "cell_type": "markdown",
   "id": "37766aaa",
   "metadata": {},
   "source": [
    "역행렬 계산하기"
   ]
  },
  {
   "cell_type": "code",
   "execution_count": 5,
   "id": "6b6a2341",
   "metadata": {
    "ExecuteTime": {
     "end_time": "2021-06-14T02:56:14.914954Z",
     "start_time": "2021-06-14T02:56:14.880011Z"
    }
   },
   "outputs": [
    {
     "name": "stdout",
     "output_type": "stream",
     "text": [
      "[[-2.   1. ]\n",
      " [ 1.5 -0.5]]\n"
     ]
    },
    {
     "data": {
      "text/plain": [
       "array([[1.00000000e+00, 1.11022302e-16],\n",
       "       [0.00000000e+00, 1.00000000e+00]])"
      ]
     },
     "execution_count": 5,
     "metadata": {},
     "output_type": "execute_result"
    }
   ],
   "source": [
    "x = np.array([[1,2],[3,4]])\n",
    "y = np.linalg.inv(x)\n",
    "print(y)\n",
    "\n",
    "np.dot(x,y)       #행렬의 내적계산"
   ]
  },
  {
   "cell_type": "code",
   "execution_count": null,
   "id": "d182dbd2",
   "metadata": {},
   "outputs": [],
   "source": []
  }
 ],
 "metadata": {
  "kernelspec": {
   "display_name": "Python 3",
   "language": "python",
   "name": "python3"
  },
  "language_info": {
   "codemirror_mode": {
    "name": "ipython",
    "version": 3
   },
   "file_extension": ".py",
   "mimetype": "text/x-python",
   "name": "python",
   "nbconvert_exporter": "python",
   "pygments_lexer": "ipython3",
   "version": "3.8.8"
  },
  "varInspector": {
   "cols": {
    "lenName": 16,
    "lenType": 16,
    "lenVar": 40
   },
   "kernels_config": {
    "python": {
     "delete_cmd_postfix": "",
     "delete_cmd_prefix": "del ",
     "library": "var_list.py",
     "varRefreshCmd": "print(var_dic_list())"
    },
    "r": {
     "delete_cmd_postfix": ") ",
     "delete_cmd_prefix": "rm(",
     "library": "var_list.r",
     "varRefreshCmd": "cat(var_dic_list()) "
    }
   },
   "types_to_exclude": [
    "module",
    "function",
    "builtin_function_or_method",
    "instance",
    "_Feature"
   ],
   "window_display": false
  }
 },
 "nbformat": 4,
 "nbformat_minor": 5
}
