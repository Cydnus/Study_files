{
 "cells": [
  {
   "cell_type": "markdown",
   "id": "c7833ec9",
   "metadata": {},
   "source": [
    "### Pandas 기초"
   ]
  },
  {
   "cell_type": "markdown",
   "id": "1011dbbf",
   "metadata": {},
   "source": [
    "pandas 연속 생성하기"
   ]
  },
  {
   "cell_type": "code",
   "execution_count": 40,
   "id": "c7f515e8",
   "metadata": {
    "ExecuteTime": {
     "end_time": "2021-06-14T05:00:25.632384Z",
     "start_time": "2021-06-14T05:00:25.624401Z"
    }
   },
   "outputs": [
    {
     "data": {
      "text/plain": [
       "0    1.0\n",
       "1    3.0\n",
       "2    5.0\n",
       "3    NaN\n",
       "4    6.0\n",
       "5    8.0\n",
       "dtype: float64"
      ]
     },
     "execution_count": 40,
     "metadata": {},
     "output_type": "execute_result"
    }
   ],
   "source": [
    "s = pd.Series([1,3,5,np.nan,6,8])\n",
    "s"
   ]
  },
  {
   "cell_type": "markdown",
   "id": "35d1b914",
   "metadata": {
    "ExecuteTime": {
     "end_time": "2021-06-14T03:37:05.000459Z",
     "start_time": "2021-06-14T03:37:04.985466Z"
    }
   },
   "source": [
    "인덱스 생성"
   ]
  },
  {
   "cell_type": "code",
   "execution_count": 41,
   "id": "43cbff79",
   "metadata": {
    "ExecuteTime": {
     "end_time": "2021-06-14T05:00:25.647351Z",
     "start_time": "2021-06-14T05:00:25.634374Z"
    }
   },
   "outputs": [
    {
     "data": {
      "text/plain": [
       "DatetimeIndex(['2021-01-01', '2021-01-02', '2021-01-03', '2021-01-04',\n",
       "               '2021-01-05', '2021-01-06'],\n",
       "              dtype='datetime64[ns]', freq='D')"
      ]
     },
     "execution_count": 41,
     "metadata": {},
     "output_type": "execute_result"
    }
   ],
   "source": [
    "dates = pd.date_range('20210101',periods=6)\n",
    "dates"
   ]
  },
  {
   "cell_type": "markdown",
   "id": "c3ee6442",
   "metadata": {},
   "source": [
    "프레임에 데이터 넣기"
   ]
  },
  {
   "cell_type": "code",
   "execution_count": 42,
   "id": "f7611b06",
   "metadata": {
    "ExecuteTime": {
     "end_time": "2021-06-14T05:00:25.663297Z",
     "start_time": "2021-06-14T05:00:25.649333Z"
    }
   },
   "outputs": [
    {
     "data": {
      "text/html": [
       "<div>\n",
       "<style scoped>\n",
       "    .dataframe tbody tr th:only-of-type {\n",
       "        vertical-align: middle;\n",
       "    }\n",
       "\n",
       "    .dataframe tbody tr th {\n",
       "        vertical-align: top;\n",
       "    }\n",
       "\n",
       "    .dataframe thead th {\n",
       "        text-align: right;\n",
       "    }\n",
       "</style>\n",
       "<table border=\"1\" class=\"dataframe\">\n",
       "  <thead>\n",
       "    <tr style=\"text-align: right;\">\n",
       "      <th></th>\n",
       "      <th>A</th>\n",
       "      <th>B</th>\n",
       "      <th>C</th>\n",
       "      <th>D</th>\n",
       "    </tr>\n",
       "  </thead>\n",
       "  <tbody>\n",
       "    <tr>\n",
       "      <th>2021-01-01</th>\n",
       "      <td>-0.416299</td>\n",
       "      <td>-0.309901</td>\n",
       "      <td>0.418216</td>\n",
       "      <td>-0.959892</td>\n",
       "    </tr>\n",
       "    <tr>\n",
       "      <th>2021-01-02</th>\n",
       "      <td>-0.126370</td>\n",
       "      <td>0.584586</td>\n",
       "      <td>-0.630987</td>\n",
       "      <td>-0.910138</td>\n",
       "    </tr>\n",
       "    <tr>\n",
       "      <th>2021-01-03</th>\n",
       "      <td>-0.767554</td>\n",
       "      <td>0.111992</td>\n",
       "      <td>1.148156</td>\n",
       "      <td>1.395505</td>\n",
       "    </tr>\n",
       "    <tr>\n",
       "      <th>2021-01-04</th>\n",
       "      <td>0.830721</td>\n",
       "      <td>0.729854</td>\n",
       "      <td>-0.336945</td>\n",
       "      <td>-0.268859</td>\n",
       "    </tr>\n",
       "    <tr>\n",
       "      <th>2021-01-05</th>\n",
       "      <td>-0.090913</td>\n",
       "      <td>-1.725739</td>\n",
       "      <td>0.064601</td>\n",
       "      <td>1.232818</td>\n",
       "    </tr>\n",
       "    <tr>\n",
       "      <th>2021-01-06</th>\n",
       "      <td>0.652690</td>\n",
       "      <td>2.650685</td>\n",
       "      <td>-0.414020</td>\n",
       "      <td>1.457426</td>\n",
       "    </tr>\n",
       "  </tbody>\n",
       "</table>\n",
       "</div>"
      ],
      "text/plain": [
       "                   A         B         C         D\n",
       "2021-01-01 -0.416299 -0.309901  0.418216 -0.959892\n",
       "2021-01-02 -0.126370  0.584586 -0.630987 -0.910138\n",
       "2021-01-03 -0.767554  0.111992  1.148156  1.395505\n",
       "2021-01-04  0.830721  0.729854 -0.336945 -0.268859\n",
       "2021-01-05 -0.090913 -1.725739  0.064601  1.232818\n",
       "2021-01-06  0.652690  2.650685 -0.414020  1.457426"
      ]
     },
     "execution_count": 42,
     "metadata": {},
     "output_type": "execute_result"
    }
   ],
   "source": [
    "df = pd.DataFrame(np.random.randn(6,4), index=dates ,columns=['A','B','C','D'])\n",
    "df"
   ]
  },
  {
   "cell_type": "markdown",
   "id": "a9d48b03",
   "metadata": {
    "ExecuteTime": {
     "end_time": "2021-06-14T03:36:36.290164Z",
     "start_time": "2021-06-14T03:36:36.271214Z"
    }
   },
   "source": [
    "헤더(상위 5개만) 출력"
   ]
  },
  {
   "cell_type": "code",
   "execution_count": 43,
   "id": "f24753e4",
   "metadata": {
    "ExecuteTime": {
     "end_time": "2021-06-14T05:00:25.694213Z",
     "start_time": "2021-06-14T05:00:25.665291Z"
    }
   },
   "outputs": [
    {
     "data": {
      "text/html": [
       "<div>\n",
       "<style scoped>\n",
       "    .dataframe tbody tr th:only-of-type {\n",
       "        vertical-align: middle;\n",
       "    }\n",
       "\n",
       "    .dataframe tbody tr th {\n",
       "        vertical-align: top;\n",
       "    }\n",
       "\n",
       "    .dataframe thead th {\n",
       "        text-align: right;\n",
       "    }\n",
       "</style>\n",
       "<table border=\"1\" class=\"dataframe\">\n",
       "  <thead>\n",
       "    <tr style=\"text-align: right;\">\n",
       "      <th></th>\n",
       "      <th>A</th>\n",
       "      <th>B</th>\n",
       "      <th>C</th>\n",
       "      <th>D</th>\n",
       "    </tr>\n",
       "  </thead>\n",
       "  <tbody>\n",
       "    <tr>\n",
       "      <th>2021-01-01</th>\n",
       "      <td>-0.416299</td>\n",
       "      <td>-0.309901</td>\n",
       "      <td>0.418216</td>\n",
       "      <td>-0.959892</td>\n",
       "    </tr>\n",
       "    <tr>\n",
       "      <th>2021-01-02</th>\n",
       "      <td>-0.126370</td>\n",
       "      <td>0.584586</td>\n",
       "      <td>-0.630987</td>\n",
       "      <td>-0.910138</td>\n",
       "    </tr>\n",
       "    <tr>\n",
       "      <th>2021-01-03</th>\n",
       "      <td>-0.767554</td>\n",
       "      <td>0.111992</td>\n",
       "      <td>1.148156</td>\n",
       "      <td>1.395505</td>\n",
       "    </tr>\n",
       "    <tr>\n",
       "      <th>2021-01-04</th>\n",
       "      <td>0.830721</td>\n",
       "      <td>0.729854</td>\n",
       "      <td>-0.336945</td>\n",
       "      <td>-0.268859</td>\n",
       "    </tr>\n",
       "    <tr>\n",
       "      <th>2021-01-05</th>\n",
       "      <td>-0.090913</td>\n",
       "      <td>-1.725739</td>\n",
       "      <td>0.064601</td>\n",
       "      <td>1.232818</td>\n",
       "    </tr>\n",
       "  </tbody>\n",
       "</table>\n",
       "</div>"
      ],
      "text/plain": [
       "                   A         B         C         D\n",
       "2021-01-01 -0.416299 -0.309901  0.418216 -0.959892\n",
       "2021-01-02 -0.126370  0.584586 -0.630987 -0.910138\n",
       "2021-01-03 -0.767554  0.111992  1.148156  1.395505\n",
       "2021-01-04  0.830721  0.729854 -0.336945 -0.268859\n",
       "2021-01-05 -0.090913 -1.725739  0.064601  1.232818"
      ]
     },
     "execution_count": 43,
     "metadata": {},
     "output_type": "execute_result"
    }
   ],
   "source": [
    "df.head()"
   ]
  },
  {
   "cell_type": "markdown",
   "id": "b0aae4b7",
   "metadata": {},
   "source": [
    "앞에 3개만 출력"
   ]
  },
  {
   "cell_type": "code",
   "execution_count": 44,
   "id": "f4b15615",
   "metadata": {
    "ExecuteTime": {
     "end_time": "2021-06-14T05:00:25.710172Z",
     "start_time": "2021-06-14T05:00:25.696208Z"
    }
   },
   "outputs": [
    {
     "data": {
      "text/html": [
       "<div>\n",
       "<style scoped>\n",
       "    .dataframe tbody tr th:only-of-type {\n",
       "        vertical-align: middle;\n",
       "    }\n",
       "\n",
       "    .dataframe tbody tr th {\n",
       "        vertical-align: top;\n",
       "    }\n",
       "\n",
       "    .dataframe thead th {\n",
       "        text-align: right;\n",
       "    }\n",
       "</style>\n",
       "<table border=\"1\" class=\"dataframe\">\n",
       "  <thead>\n",
       "    <tr style=\"text-align: right;\">\n",
       "      <th></th>\n",
       "      <th>A</th>\n",
       "      <th>B</th>\n",
       "      <th>C</th>\n",
       "      <th>D</th>\n",
       "    </tr>\n",
       "  </thead>\n",
       "  <tbody>\n",
       "    <tr>\n",
       "      <th>2021-01-01</th>\n",
       "      <td>-0.416299</td>\n",
       "      <td>-0.309901</td>\n",
       "      <td>0.418216</td>\n",
       "      <td>-0.959892</td>\n",
       "    </tr>\n",
       "    <tr>\n",
       "      <th>2021-01-02</th>\n",
       "      <td>-0.126370</td>\n",
       "      <td>0.584586</td>\n",
       "      <td>-0.630987</td>\n",
       "      <td>-0.910138</td>\n",
       "    </tr>\n",
       "    <tr>\n",
       "      <th>2021-01-03</th>\n",
       "      <td>-0.767554</td>\n",
       "      <td>0.111992</td>\n",
       "      <td>1.148156</td>\n",
       "      <td>1.395505</td>\n",
       "    </tr>\n",
       "  </tbody>\n",
       "</table>\n",
       "</div>"
      ],
      "text/plain": [
       "                   A         B         C         D\n",
       "2021-01-01 -0.416299 -0.309901  0.418216 -0.959892\n",
       "2021-01-02 -0.126370  0.584586 -0.630987 -0.910138\n",
       "2021-01-03 -0.767554  0.111992  1.148156  1.395505"
      ]
     },
     "execution_count": 44,
     "metadata": {},
     "output_type": "execute_result"
    }
   ],
   "source": [
    "df.head(3)"
   ]
  },
  {
   "cell_type": "markdown",
   "id": "4657e84d",
   "metadata": {},
   "source": [
    "인덱스 출력"
   ]
  },
  {
   "cell_type": "code",
   "execution_count": 45,
   "id": "38809b15",
   "metadata": {
    "ExecuteTime": {
     "end_time": "2021-06-14T05:00:25.742085Z",
     "start_time": "2021-06-14T05:00:25.714160Z"
    }
   },
   "outputs": [
    {
     "data": {
      "text/plain": [
       "DatetimeIndex(['2021-01-01', '2021-01-02', '2021-01-03', '2021-01-04',\n",
       "               '2021-01-05', '2021-01-06'],\n",
       "              dtype='datetime64[ns]', freq='D')"
      ]
     },
     "execution_count": 45,
     "metadata": {},
     "output_type": "execute_result"
    }
   ],
   "source": [
    "df.index"
   ]
  },
  {
   "cell_type": "markdown",
   "id": "12422615",
   "metadata": {},
   "source": [
    "columns 출력"
   ]
  },
  {
   "cell_type": "code",
   "execution_count": 46,
   "id": "e83775ee",
   "metadata": {
    "ExecuteTime": {
     "end_time": "2021-06-14T05:00:25.757045Z",
     "start_time": "2021-06-14T05:00:25.744080Z"
    }
   },
   "outputs": [
    {
     "data": {
      "text/plain": [
       "Index(['A', 'B', 'C', 'D'], dtype='object')"
      ]
     },
     "execution_count": 46,
     "metadata": {},
     "output_type": "execute_result"
    }
   ],
   "source": [
    "df.columns"
   ]
  },
  {
   "cell_type": "markdown",
   "id": "6a41d227",
   "metadata": {
    "ExecuteTime": {
     "end_time": "2021-06-14T03:35:33.125553Z",
     "start_time": "2021-06-14T03:35:33.106631Z"
    }
   },
   "source": [
    "값 출력"
   ]
  },
  {
   "cell_type": "code",
   "execution_count": 47,
   "id": "404645ed",
   "metadata": {
    "ExecuteTime": {
     "end_time": "2021-06-14T05:00:25.772006Z",
     "start_time": "2021-06-14T05:00:25.760038Z"
    }
   },
   "outputs": [
    {
     "data": {
      "text/plain": [
       "array([[-0.41629889, -0.30990094,  0.41821552, -0.95989204],\n",
       "       [-0.12637014,  0.58458581, -0.63098737, -0.91013844],\n",
       "       [-0.76755433,  0.11199208,  1.14815634,  1.39550533],\n",
       "       [ 0.83072059,  0.72985392, -0.33694544, -0.26885858],\n",
       "       [-0.0909134 , -1.72573905,  0.06460117,  1.23281814],\n",
       "       [ 0.65269   ,  2.65068519, -0.41401959,  1.457426  ]])"
      ]
     },
     "execution_count": 47,
     "metadata": {},
     "output_type": "execute_result"
    }
   ],
   "source": [
    "df.values"
   ]
  },
  {
   "cell_type": "markdown",
   "id": "9d801cc4",
   "metadata": {},
   "source": [
    "상세 함수들"
   ]
  },
  {
   "cell_type": "code",
   "execution_count": 48,
   "id": "eb62687a",
   "metadata": {
    "ExecuteTime": {
     "end_time": "2021-06-14T05:00:25.804237Z",
     "start_time": "2021-06-14T05:00:25.774997Z"
    }
   },
   "outputs": [
    {
     "data": {
      "text/html": [
       "<div>\n",
       "<style scoped>\n",
       "    .dataframe tbody tr th:only-of-type {\n",
       "        vertical-align: middle;\n",
       "    }\n",
       "\n",
       "    .dataframe tbody tr th {\n",
       "        vertical-align: top;\n",
       "    }\n",
       "\n",
       "    .dataframe thead th {\n",
       "        text-align: right;\n",
       "    }\n",
       "</style>\n",
       "<table border=\"1\" class=\"dataframe\">\n",
       "  <thead>\n",
       "    <tr style=\"text-align: right;\">\n",
       "      <th></th>\n",
       "      <th>A</th>\n",
       "      <th>B</th>\n",
       "      <th>C</th>\n",
       "      <th>D</th>\n",
       "    </tr>\n",
       "  </thead>\n",
       "  <tbody>\n",
       "    <tr>\n",
       "      <th>count</th>\n",
       "      <td>6.000000</td>\n",
       "      <td>6.000000</td>\n",
       "      <td>6.000000</td>\n",
       "      <td>6.000000</td>\n",
       "    </tr>\n",
       "    <tr>\n",
       "      <th>mean</th>\n",
       "      <td>0.013712</td>\n",
       "      <td>0.340246</td>\n",
       "      <td>0.041503</td>\n",
       "      <td>0.324477</td>\n",
       "    </tr>\n",
       "    <tr>\n",
       "      <th>std</th>\n",
       "      <td>0.616709</td>\n",
       "      <td>1.434762</td>\n",
       "      <td>0.658801</td>\n",
       "      <td>1.164619</td>\n",
       "    </tr>\n",
       "    <tr>\n",
       "      <th>min</th>\n",
       "      <td>-0.767554</td>\n",
       "      <td>-1.725739</td>\n",
       "      <td>-0.630987</td>\n",
       "      <td>-0.959892</td>\n",
       "    </tr>\n",
       "    <tr>\n",
       "      <th>25%</th>\n",
       "      <td>-0.343817</td>\n",
       "      <td>-0.204428</td>\n",
       "      <td>-0.394751</td>\n",
       "      <td>-0.749818</td>\n",
       "    </tr>\n",
       "    <tr>\n",
       "      <th>50%</th>\n",
       "      <td>-0.108642</td>\n",
       "      <td>0.348289</td>\n",
       "      <td>-0.136172</td>\n",
       "      <td>0.481980</td>\n",
       "    </tr>\n",
       "    <tr>\n",
       "      <th>75%</th>\n",
       "      <td>0.466789</td>\n",
       "      <td>0.693537</td>\n",
       "      <td>0.329812</td>\n",
       "      <td>1.354834</td>\n",
       "    </tr>\n",
       "    <tr>\n",
       "      <th>max</th>\n",
       "      <td>0.830721</td>\n",
       "      <td>2.650685</td>\n",
       "      <td>1.148156</td>\n",
       "      <td>1.457426</td>\n",
       "    </tr>\n",
       "  </tbody>\n",
       "</table>\n",
       "</div>"
      ],
      "text/plain": [
       "              A         B         C         D\n",
       "count  6.000000  6.000000  6.000000  6.000000\n",
       "mean   0.013712  0.340246  0.041503  0.324477\n",
       "std    0.616709  1.434762  0.658801  1.164619\n",
       "min   -0.767554 -1.725739 -0.630987 -0.959892\n",
       "25%   -0.343817 -0.204428 -0.394751 -0.749818\n",
       "50%   -0.108642  0.348289 -0.136172  0.481980\n",
       "75%    0.466789  0.693537  0.329812  1.354834\n",
       "max    0.830721  2.650685  1.148156  1.457426"
      ]
     },
     "execution_count": 48,
     "metadata": {},
     "output_type": "execute_result"
    }
   ],
   "source": [
    "df.describe()"
   ]
  },
  {
   "cell_type": "markdown",
   "id": "91ad77ed",
   "metadata": {},
   "source": [
    "정렬하기"
   ]
  },
  {
   "cell_type": "code",
   "execution_count": 49,
   "id": "ecde8b94",
   "metadata": {
    "ExecuteTime": {
     "end_time": "2021-06-14T05:00:25.820110Z",
     "start_time": "2021-06-14T05:00:25.806147Z"
    }
   },
   "outputs": [
    {
     "data": {
      "text/html": [
       "<div>\n",
       "<style scoped>\n",
       "    .dataframe tbody tr th:only-of-type {\n",
       "        vertical-align: middle;\n",
       "    }\n",
       "\n",
       "    .dataframe tbody tr th {\n",
       "        vertical-align: top;\n",
       "    }\n",
       "\n",
       "    .dataframe thead th {\n",
       "        text-align: right;\n",
       "    }\n",
       "</style>\n",
       "<table border=\"1\" class=\"dataframe\">\n",
       "  <thead>\n",
       "    <tr style=\"text-align: right;\">\n",
       "      <th></th>\n",
       "      <th>A</th>\n",
       "      <th>B</th>\n",
       "      <th>C</th>\n",
       "      <th>D</th>\n",
       "    </tr>\n",
       "  </thead>\n",
       "  <tbody>\n",
       "    <tr>\n",
       "      <th>2021-01-06</th>\n",
       "      <td>0.652690</td>\n",
       "      <td>2.650685</td>\n",
       "      <td>-0.414020</td>\n",
       "      <td>1.457426</td>\n",
       "    </tr>\n",
       "    <tr>\n",
       "      <th>2021-01-04</th>\n",
       "      <td>0.830721</td>\n",
       "      <td>0.729854</td>\n",
       "      <td>-0.336945</td>\n",
       "      <td>-0.268859</td>\n",
       "    </tr>\n",
       "    <tr>\n",
       "      <th>2021-01-02</th>\n",
       "      <td>-0.126370</td>\n",
       "      <td>0.584586</td>\n",
       "      <td>-0.630987</td>\n",
       "      <td>-0.910138</td>\n",
       "    </tr>\n",
       "    <tr>\n",
       "      <th>2021-01-03</th>\n",
       "      <td>-0.767554</td>\n",
       "      <td>0.111992</td>\n",
       "      <td>1.148156</td>\n",
       "      <td>1.395505</td>\n",
       "    </tr>\n",
       "    <tr>\n",
       "      <th>2021-01-01</th>\n",
       "      <td>-0.416299</td>\n",
       "      <td>-0.309901</td>\n",
       "      <td>0.418216</td>\n",
       "      <td>-0.959892</td>\n",
       "    </tr>\n",
       "    <tr>\n",
       "      <th>2021-01-05</th>\n",
       "      <td>-0.090913</td>\n",
       "      <td>-1.725739</td>\n",
       "      <td>0.064601</td>\n",
       "      <td>1.232818</td>\n",
       "    </tr>\n",
       "  </tbody>\n",
       "</table>\n",
       "</div>"
      ],
      "text/plain": [
       "                   A         B         C         D\n",
       "2021-01-06  0.652690  2.650685 -0.414020  1.457426\n",
       "2021-01-04  0.830721  0.729854 -0.336945 -0.268859\n",
       "2021-01-02 -0.126370  0.584586 -0.630987 -0.910138\n",
       "2021-01-03 -0.767554  0.111992  1.148156  1.395505\n",
       "2021-01-01 -0.416299 -0.309901  0.418216 -0.959892\n",
       "2021-01-05 -0.090913 -1.725739  0.064601  1.232818"
      ]
     },
     "execution_count": 49,
     "metadata": {},
     "output_type": "execute_result"
    }
   ],
   "source": [
    "df.sort_values(by='B',ascending=False)"
   ]
  },
  {
   "cell_type": "code",
   "execution_count": 50,
   "id": "adb8b62c",
   "metadata": {
    "ExecuteTime": {
     "end_time": "2021-06-14T05:00:25.852024Z",
     "start_time": "2021-06-14T05:00:25.823102Z"
    }
   },
   "outputs": [
    {
     "data": {
      "text/html": [
       "<div>\n",
       "<style scoped>\n",
       "    .dataframe tbody tr th:only-of-type {\n",
       "        vertical-align: middle;\n",
       "    }\n",
       "\n",
       "    .dataframe tbody tr th {\n",
       "        vertical-align: top;\n",
       "    }\n",
       "\n",
       "    .dataframe thead th {\n",
       "        text-align: right;\n",
       "    }\n",
       "</style>\n",
       "<table border=\"1\" class=\"dataframe\">\n",
       "  <thead>\n",
       "    <tr style=\"text-align: right;\">\n",
       "      <th></th>\n",
       "      <th>A</th>\n",
       "      <th>B</th>\n",
       "      <th>C</th>\n",
       "      <th>D</th>\n",
       "    </tr>\n",
       "  </thead>\n",
       "  <tbody>\n",
       "    <tr>\n",
       "      <th>2021-01-01</th>\n",
       "      <td>-0.416299</td>\n",
       "      <td>-0.309901</td>\n",
       "      <td>0.418216</td>\n",
       "      <td>-0.959892</td>\n",
       "    </tr>\n",
       "    <tr>\n",
       "      <th>2021-01-02</th>\n",
       "      <td>-0.126370</td>\n",
       "      <td>0.584586</td>\n",
       "      <td>-0.630987</td>\n",
       "      <td>-0.910138</td>\n",
       "    </tr>\n",
       "    <tr>\n",
       "      <th>2021-01-03</th>\n",
       "      <td>-0.767554</td>\n",
       "      <td>0.111992</td>\n",
       "      <td>1.148156</td>\n",
       "      <td>1.395505</td>\n",
       "    </tr>\n",
       "    <tr>\n",
       "      <th>2021-01-04</th>\n",
       "      <td>0.830721</td>\n",
       "      <td>0.729854</td>\n",
       "      <td>-0.336945</td>\n",
       "      <td>-0.268859</td>\n",
       "    </tr>\n",
       "    <tr>\n",
       "      <th>2021-01-05</th>\n",
       "      <td>-0.090913</td>\n",
       "      <td>-1.725739</td>\n",
       "      <td>0.064601</td>\n",
       "      <td>1.232818</td>\n",
       "    </tr>\n",
       "    <tr>\n",
       "      <th>2021-01-06</th>\n",
       "      <td>0.652690</td>\n",
       "      <td>2.650685</td>\n",
       "      <td>-0.414020</td>\n",
       "      <td>1.457426</td>\n",
       "    </tr>\n",
       "  </tbody>\n",
       "</table>\n",
       "</div>"
      ],
      "text/plain": [
       "                   A         B         C         D\n",
       "2021-01-01 -0.416299 -0.309901  0.418216 -0.959892\n",
       "2021-01-02 -0.126370  0.584586 -0.630987 -0.910138\n",
       "2021-01-03 -0.767554  0.111992  1.148156  1.395505\n",
       "2021-01-04  0.830721  0.729854 -0.336945 -0.268859\n",
       "2021-01-05 -0.090913 -1.725739  0.064601  1.232818\n",
       "2021-01-06  0.652690  2.650685 -0.414020  1.457426"
      ]
     },
     "execution_count": 50,
     "metadata": {},
     "output_type": "execute_result"
    }
   ],
   "source": [
    "df"
   ]
  },
  {
   "cell_type": "markdown",
   "id": "21d0fda3",
   "metadata": {},
   "source": [
    "columnd 으로 인덱싱"
   ]
  },
  {
   "cell_type": "code",
   "execution_count": 51,
   "id": "9fa78605",
   "metadata": {
    "ExecuteTime": {
     "end_time": "2021-06-14T05:00:25.881945Z",
     "start_time": "2021-06-14T05:00:25.855017Z"
    }
   },
   "outputs": [
    {
     "data": {
      "text/plain": [
       "2021-01-01   -0.416299\n",
       "2021-01-02   -0.126370\n",
       "2021-01-03   -0.767554\n",
       "2021-01-04    0.830721\n",
       "2021-01-05   -0.090913\n",
       "2021-01-06    0.652690\n",
       "Freq: D, Name: A, dtype: float64"
      ]
     },
     "execution_count": 51,
     "metadata": {},
     "output_type": "execute_result"
    }
   ],
   "source": [
    "df['A']"
   ]
  },
  {
   "cell_type": "markdown",
   "id": "a15bc25c",
   "metadata": {},
   "source": [
    "인덱스로 슬라이싱"
   ]
  },
  {
   "cell_type": "code",
   "execution_count": 52,
   "id": "40bddffd",
   "metadata": {
    "ExecuteTime": {
     "end_time": "2021-06-14T05:00:25.913860Z",
     "start_time": "2021-06-14T05:00:25.883940Z"
    }
   },
   "outputs": [
    {
     "data": {
      "text/html": [
       "<div>\n",
       "<style scoped>\n",
       "    .dataframe tbody tr th:only-of-type {\n",
       "        vertical-align: middle;\n",
       "    }\n",
       "\n",
       "    .dataframe tbody tr th {\n",
       "        vertical-align: top;\n",
       "    }\n",
       "\n",
       "    .dataframe thead th {\n",
       "        text-align: right;\n",
       "    }\n",
       "</style>\n",
       "<table border=\"1\" class=\"dataframe\">\n",
       "  <thead>\n",
       "    <tr style=\"text-align: right;\">\n",
       "      <th></th>\n",
       "      <th>A</th>\n",
       "      <th>B</th>\n",
       "      <th>C</th>\n",
       "      <th>D</th>\n",
       "    </tr>\n",
       "  </thead>\n",
       "  <tbody>\n",
       "    <tr>\n",
       "      <th>2021-01-02</th>\n",
       "      <td>-0.126370</td>\n",
       "      <td>0.584586</td>\n",
       "      <td>-0.630987</td>\n",
       "      <td>-0.910138</td>\n",
       "    </tr>\n",
       "    <tr>\n",
       "      <th>2021-01-03</th>\n",
       "      <td>-0.767554</td>\n",
       "      <td>0.111992</td>\n",
       "      <td>1.148156</td>\n",
       "      <td>1.395505</td>\n",
       "    </tr>\n",
       "    <tr>\n",
       "      <th>2021-01-04</th>\n",
       "      <td>0.830721</td>\n",
       "      <td>0.729854</td>\n",
       "      <td>-0.336945</td>\n",
       "      <td>-0.268859</td>\n",
       "    </tr>\n",
       "  </tbody>\n",
       "</table>\n",
       "</div>"
      ],
      "text/plain": [
       "                   A         B         C         D\n",
       "2021-01-02 -0.126370  0.584586 -0.630987 -0.910138\n",
       "2021-01-03 -0.767554  0.111992  1.148156  1.395505\n",
       "2021-01-04  0.830721  0.729854 -0.336945 -0.268859"
      ]
     },
     "execution_count": 52,
     "metadata": {},
     "output_type": "execute_result"
    }
   ],
   "source": [
    "df['20210102':'20210104']"
   ]
  },
  {
   "cell_type": "markdown",
   "id": "07b98bd2",
   "metadata": {},
   "source": [
    "Loc 으로 인덱싱"
   ]
  },
  {
   "cell_type": "code",
   "execution_count": 53,
   "id": "cce7322d",
   "metadata": {
    "ExecuteTime": {
     "end_time": "2021-06-14T05:00:25.929816Z",
     "start_time": "2021-06-14T05:00:25.916852Z"
    }
   },
   "outputs": [
    {
     "data": {
      "text/plain": [
       "A   -0.416299\n",
       "B   -0.309901\n",
       "C    0.418216\n",
       "D   -0.959892\n",
       "Name: 2021-01-01 00:00:00, dtype: float64"
      ]
     },
     "execution_count": 53,
     "metadata": {},
     "output_type": "execute_result"
    }
   ],
   "source": [
    "df.loc[dates[0]]"
   ]
  },
  {
   "cell_type": "code",
   "execution_count": 54,
   "id": "28d07932",
   "metadata": {
    "ExecuteTime": {
     "end_time": "2021-06-14T05:00:25.961731Z",
     "start_time": "2021-06-14T05:00:25.931812Z"
    }
   },
   "outputs": [
    {
     "data": {
      "text/html": [
       "<div>\n",
       "<style scoped>\n",
       "    .dataframe tbody tr th:only-of-type {\n",
       "        vertical-align: middle;\n",
       "    }\n",
       "\n",
       "    .dataframe tbody tr th {\n",
       "        vertical-align: top;\n",
       "    }\n",
       "\n",
       "    .dataframe thead th {\n",
       "        text-align: right;\n",
       "    }\n",
       "</style>\n",
       "<table border=\"1\" class=\"dataframe\">\n",
       "  <thead>\n",
       "    <tr style=\"text-align: right;\">\n",
       "      <th></th>\n",
       "      <th>A</th>\n",
       "      <th>B</th>\n",
       "    </tr>\n",
       "  </thead>\n",
       "  <tbody>\n",
       "    <tr>\n",
       "      <th>2021-01-01</th>\n",
       "      <td>-0.416299</td>\n",
       "      <td>-0.309901</td>\n",
       "    </tr>\n",
       "    <tr>\n",
       "      <th>2021-01-02</th>\n",
       "      <td>-0.126370</td>\n",
       "      <td>0.584586</td>\n",
       "    </tr>\n",
       "    <tr>\n",
       "      <th>2021-01-03</th>\n",
       "      <td>-0.767554</td>\n",
       "      <td>0.111992</td>\n",
       "    </tr>\n",
       "    <tr>\n",
       "      <th>2021-01-04</th>\n",
       "      <td>0.830721</td>\n",
       "      <td>0.729854</td>\n",
       "    </tr>\n",
       "    <tr>\n",
       "      <th>2021-01-05</th>\n",
       "      <td>-0.090913</td>\n",
       "      <td>-1.725739</td>\n",
       "    </tr>\n",
       "    <tr>\n",
       "      <th>2021-01-06</th>\n",
       "      <td>0.652690</td>\n",
       "      <td>2.650685</td>\n",
       "    </tr>\n",
       "  </tbody>\n",
       "</table>\n",
       "</div>"
      ],
      "text/plain": [
       "                   A         B\n",
       "2021-01-01 -0.416299 -0.309901\n",
       "2021-01-02 -0.126370  0.584586\n",
       "2021-01-03 -0.767554  0.111992\n",
       "2021-01-04  0.830721  0.729854\n",
       "2021-01-05 -0.090913 -1.725739\n",
       "2021-01-06  0.652690  2.650685"
      ]
     },
     "execution_count": 54,
     "metadata": {},
     "output_type": "execute_result"
    }
   ],
   "source": [
    "df.loc[:,['A','B']]"
   ]
  },
  {
   "cell_type": "code",
   "execution_count": 57,
   "id": "155ee531",
   "metadata": {
    "ExecuteTime": {
     "end_time": "2021-06-14T05:01:02.227374Z",
     "start_time": "2021-06-14T05:01:02.211409Z"
    }
   },
   "outputs": [
    {
     "data": {
      "text/html": [
       "<div>\n",
       "<style scoped>\n",
       "    .dataframe tbody tr th:only-of-type {\n",
       "        vertical-align: middle;\n",
       "    }\n",
       "\n",
       "    .dataframe tbody tr th {\n",
       "        vertical-align: top;\n",
       "    }\n",
       "\n",
       "    .dataframe thead th {\n",
       "        text-align: right;\n",
       "    }\n",
       "</style>\n",
       "<table border=\"1\" class=\"dataframe\">\n",
       "  <thead>\n",
       "    <tr style=\"text-align: right;\">\n",
       "      <th></th>\n",
       "      <th>A</th>\n",
       "      <th>B</th>\n",
       "    </tr>\n",
       "  </thead>\n",
       "  <tbody>\n",
       "    <tr>\n",
       "      <th>2021-01-02</th>\n",
       "      <td>-0.126370</td>\n",
       "      <td>0.584586</td>\n",
       "    </tr>\n",
       "    <tr>\n",
       "      <th>2021-01-03</th>\n",
       "      <td>-0.767554</td>\n",
       "      <td>0.111992</td>\n",
       "    </tr>\n",
       "    <tr>\n",
       "      <th>2021-01-04</th>\n",
       "      <td>0.830721</td>\n",
       "      <td>0.729854</td>\n",
       "    </tr>\n",
       "  </tbody>\n",
       "</table>\n",
       "</div>"
      ],
      "text/plain": [
       "                   A         B\n",
       "2021-01-02 -0.126370  0.584586\n",
       "2021-01-03 -0.767554  0.111992\n",
       "2021-01-04  0.830721  0.729854"
      ]
     },
     "execution_count": 57,
     "metadata": {},
     "output_type": "execute_result"
    }
   ],
   "source": [
    "df.loc['20210102':'20210104',['A','B']]"
   ]
  },
  {
   "cell_type": "code",
   "execution_count": 58,
   "id": "759a2439",
   "metadata": {
    "ExecuteTime": {
     "end_time": "2021-06-14T05:01:23.482422Z",
     "start_time": "2021-06-14T05:01:23.455495Z"
    }
   },
   "outputs": [
    {
     "data": {
      "text/plain": [
       "A   -0.126370\n",
       "B    0.584586\n",
       "Name: 2021-01-02 00:00:00, dtype: float64"
      ]
     },
     "execution_count": 58,
     "metadata": {},
     "output_type": "execute_result"
    }
   ],
   "source": [
    "df.loc['20210102',['A','B']]"
   ]
  },
  {
   "cell_type": "code",
   "execution_count": 59,
   "id": "f98e961b",
   "metadata": {
    "ExecuteTime": {
     "end_time": "2021-06-14T05:01:37.071648Z",
     "start_time": "2021-06-14T05:01:37.065664Z"
    }
   },
   "outputs": [
    {
     "data": {
      "text/plain": [
       "-0.41629888673422516"
      ]
     },
     "execution_count": 59,
     "metadata": {},
     "output_type": "execute_result"
    }
   ],
   "source": [
    "df.loc[dates[0],'A']"
   ]
  },
  {
   "cell_type": "code",
   "execution_count": 60,
   "id": "6b59aad3",
   "metadata": {
    "ExecuteTime": {
     "end_time": "2021-06-14T05:01:51.072455Z",
     "start_time": "2021-06-14T05:01:51.054470Z"
    }
   },
   "outputs": [
    {
     "data": {
      "text/plain": [
       "A    0.830721\n",
       "B    0.729854\n",
       "C   -0.336945\n",
       "D   -0.268859\n",
       "Name: 2021-01-04 00:00:00, dtype: float64"
      ]
     },
     "execution_count": 60,
     "metadata": {},
     "output_type": "execute_result"
    }
   ],
   "source": [
    "df.iloc[3]"
   ]
  },
  {
   "cell_type": "code",
   "execution_count": 61,
   "id": "e32812c9",
   "metadata": {
    "ExecuteTime": {
     "end_time": "2021-06-14T05:02:01.591503Z",
     "start_time": "2021-06-14T05:02:01.568530Z"
    }
   },
   "outputs": [
    {
     "data": {
      "text/html": [
       "<div>\n",
       "<style scoped>\n",
       "    .dataframe tbody tr th:only-of-type {\n",
       "        vertical-align: middle;\n",
       "    }\n",
       "\n",
       "    .dataframe tbody tr th {\n",
       "        vertical-align: top;\n",
       "    }\n",
       "\n",
       "    .dataframe thead th {\n",
       "        text-align: right;\n",
       "    }\n",
       "</style>\n",
       "<table border=\"1\" class=\"dataframe\">\n",
       "  <thead>\n",
       "    <tr style=\"text-align: right;\">\n",
       "      <th></th>\n",
       "      <th>A</th>\n",
       "      <th>B</th>\n",
       "    </tr>\n",
       "  </thead>\n",
       "  <tbody>\n",
       "    <tr>\n",
       "      <th>2021-01-04</th>\n",
       "      <td>0.830721</td>\n",
       "      <td>0.729854</td>\n",
       "    </tr>\n",
       "    <tr>\n",
       "      <th>2021-01-05</th>\n",
       "      <td>-0.090913</td>\n",
       "      <td>-1.725739</td>\n",
       "    </tr>\n",
       "  </tbody>\n",
       "</table>\n",
       "</div>"
      ],
      "text/plain": [
       "                   A         B\n",
       "2021-01-04  0.830721  0.729854\n",
       "2021-01-05 -0.090913 -1.725739"
      ]
     },
     "execution_count": 61,
     "metadata": {},
     "output_type": "execute_result"
    }
   ],
   "source": [
    "df.iloc[3:5,0:2]"
   ]
  },
  {
   "cell_type": "code",
   "execution_count": 62,
   "id": "0c60f8aa",
   "metadata": {
    "ExecuteTime": {
     "end_time": "2021-06-14T05:02:20.874568Z",
     "start_time": "2021-06-14T05:02:20.860580Z"
    }
   },
   "outputs": [
    {
     "data": {
      "text/html": [
       "<div>\n",
       "<style scoped>\n",
       "    .dataframe tbody tr th:only-of-type {\n",
       "        vertical-align: middle;\n",
       "    }\n",
       "\n",
       "    .dataframe tbody tr th {\n",
       "        vertical-align: top;\n",
       "    }\n",
       "\n",
       "    .dataframe thead th {\n",
       "        text-align: right;\n",
       "    }\n",
       "</style>\n",
       "<table border=\"1\" class=\"dataframe\">\n",
       "  <thead>\n",
       "    <tr style=\"text-align: right;\">\n",
       "      <th></th>\n",
       "      <th>A</th>\n",
       "      <th>C</th>\n",
       "    </tr>\n",
       "  </thead>\n",
       "  <tbody>\n",
       "    <tr>\n",
       "      <th>2021-01-02</th>\n",
       "      <td>-0.126370</td>\n",
       "      <td>-0.630987</td>\n",
       "    </tr>\n",
       "    <tr>\n",
       "      <th>2021-01-03</th>\n",
       "      <td>-0.767554</td>\n",
       "      <td>1.148156</td>\n",
       "    </tr>\n",
       "    <tr>\n",
       "      <th>2021-01-05</th>\n",
       "      <td>-0.090913</td>\n",
       "      <td>0.064601</td>\n",
       "    </tr>\n",
       "  </tbody>\n",
       "</table>\n",
       "</div>"
      ],
      "text/plain": [
       "                   A         C\n",
       "2021-01-02 -0.126370 -0.630987\n",
       "2021-01-03 -0.767554  1.148156\n",
       "2021-01-05 -0.090913  0.064601"
      ]
     },
     "execution_count": 62,
     "metadata": {},
     "output_type": "execute_result"
    }
   ],
   "source": [
    "df.iloc[[1,2,4],[0,2]]"
   ]
  },
  {
   "cell_type": "code",
   "execution_count": 63,
   "id": "bbdfe29a",
   "metadata": {
    "ExecuteTime": {
     "end_time": "2021-06-14T05:02:36.999297Z",
     "start_time": "2021-06-14T05:02:36.985335Z"
    }
   },
   "outputs": [
    {
     "data": {
      "text/html": [
       "<div>\n",
       "<style scoped>\n",
       "    .dataframe tbody tr th:only-of-type {\n",
       "        vertical-align: middle;\n",
       "    }\n",
       "\n",
       "    .dataframe tbody tr th {\n",
       "        vertical-align: top;\n",
       "    }\n",
       "\n",
       "    .dataframe thead th {\n",
       "        text-align: right;\n",
       "    }\n",
       "</style>\n",
       "<table border=\"1\" class=\"dataframe\">\n",
       "  <thead>\n",
       "    <tr style=\"text-align: right;\">\n",
       "      <th></th>\n",
       "      <th>A</th>\n",
       "      <th>B</th>\n",
       "      <th>C</th>\n",
       "      <th>D</th>\n",
       "    </tr>\n",
       "  </thead>\n",
       "  <tbody>\n",
       "    <tr>\n",
       "      <th>2021-01-02</th>\n",
       "      <td>-0.126370</td>\n",
       "      <td>0.584586</td>\n",
       "      <td>-0.630987</td>\n",
       "      <td>-0.910138</td>\n",
       "    </tr>\n",
       "    <tr>\n",
       "      <th>2021-01-03</th>\n",
       "      <td>-0.767554</td>\n",
       "      <td>0.111992</td>\n",
       "      <td>1.148156</td>\n",
       "      <td>1.395505</td>\n",
       "    </tr>\n",
       "  </tbody>\n",
       "</table>\n",
       "</div>"
      ],
      "text/plain": [
       "                   A         B         C         D\n",
       "2021-01-02 -0.126370  0.584586 -0.630987 -0.910138\n",
       "2021-01-03 -0.767554  0.111992  1.148156  1.395505"
      ]
     },
     "execution_count": 63,
     "metadata": {},
     "output_type": "execute_result"
    }
   ],
   "source": [
    "df.iloc[1:3,:]"
   ]
  },
  {
   "cell_type": "code",
   "execution_count": 64,
   "id": "db4731d8",
   "metadata": {
    "ExecuteTime": {
     "end_time": "2021-06-14T05:02:45.122727Z",
     "start_time": "2021-06-14T05:02:45.112757Z"
    }
   },
   "outputs": [
    {
     "data": {
      "text/html": [
       "<div>\n",
       "<style scoped>\n",
       "    .dataframe tbody tr th:only-of-type {\n",
       "        vertical-align: middle;\n",
       "    }\n",
       "\n",
       "    .dataframe tbody tr th {\n",
       "        vertical-align: top;\n",
       "    }\n",
       "\n",
       "    .dataframe thead th {\n",
       "        text-align: right;\n",
       "    }\n",
       "</style>\n",
       "<table border=\"1\" class=\"dataframe\">\n",
       "  <thead>\n",
       "    <tr style=\"text-align: right;\">\n",
       "      <th></th>\n",
       "      <th>B</th>\n",
       "      <th>C</th>\n",
       "    </tr>\n",
       "  </thead>\n",
       "  <tbody>\n",
       "    <tr>\n",
       "      <th>2021-01-01</th>\n",
       "      <td>-0.309901</td>\n",
       "      <td>0.418216</td>\n",
       "    </tr>\n",
       "    <tr>\n",
       "      <th>2021-01-02</th>\n",
       "      <td>0.584586</td>\n",
       "      <td>-0.630987</td>\n",
       "    </tr>\n",
       "    <tr>\n",
       "      <th>2021-01-03</th>\n",
       "      <td>0.111992</td>\n",
       "      <td>1.148156</td>\n",
       "    </tr>\n",
       "    <tr>\n",
       "      <th>2021-01-04</th>\n",
       "      <td>0.729854</td>\n",
       "      <td>-0.336945</td>\n",
       "    </tr>\n",
       "    <tr>\n",
       "      <th>2021-01-05</th>\n",
       "      <td>-1.725739</td>\n",
       "      <td>0.064601</td>\n",
       "    </tr>\n",
       "    <tr>\n",
       "      <th>2021-01-06</th>\n",
       "      <td>2.650685</td>\n",
       "      <td>-0.414020</td>\n",
       "    </tr>\n",
       "  </tbody>\n",
       "</table>\n",
       "</div>"
      ],
      "text/plain": [
       "                   B         C\n",
       "2021-01-01 -0.309901  0.418216\n",
       "2021-01-02  0.584586 -0.630987\n",
       "2021-01-03  0.111992  1.148156\n",
       "2021-01-04  0.729854 -0.336945\n",
       "2021-01-05 -1.725739  0.064601\n",
       "2021-01-06  2.650685 -0.414020"
      ]
     },
     "execution_count": 64,
     "metadata": {},
     "output_type": "execute_result"
    }
   ],
   "source": [
    "df.iloc[:,1:3]"
   ]
  },
  {
   "cell_type": "code",
   "execution_count": 65,
   "id": "d29cee1c",
   "metadata": {
    "ExecuteTime": {
     "end_time": "2021-06-14T05:02:50.942646Z",
     "start_time": "2021-06-14T05:02:50.921667Z"
    }
   },
   "outputs": [
    {
     "data": {
      "text/html": [
       "<div>\n",
       "<style scoped>\n",
       "    .dataframe tbody tr th:only-of-type {\n",
       "        vertical-align: middle;\n",
       "    }\n",
       "\n",
       "    .dataframe tbody tr th {\n",
       "        vertical-align: top;\n",
       "    }\n",
       "\n",
       "    .dataframe thead th {\n",
       "        text-align: right;\n",
       "    }\n",
       "</style>\n",
       "<table border=\"1\" class=\"dataframe\">\n",
       "  <thead>\n",
       "    <tr style=\"text-align: right;\">\n",
       "      <th></th>\n",
       "      <th>A</th>\n",
       "      <th>B</th>\n",
       "      <th>C</th>\n",
       "      <th>D</th>\n",
       "    </tr>\n",
       "  </thead>\n",
       "  <tbody>\n",
       "    <tr>\n",
       "      <th>2021-01-01</th>\n",
       "      <td>-0.416299</td>\n",
       "      <td>-0.309901</td>\n",
       "      <td>0.418216</td>\n",
       "      <td>-0.959892</td>\n",
       "    </tr>\n",
       "    <tr>\n",
       "      <th>2021-01-02</th>\n",
       "      <td>-0.126370</td>\n",
       "      <td>0.584586</td>\n",
       "      <td>-0.630987</td>\n",
       "      <td>-0.910138</td>\n",
       "    </tr>\n",
       "    <tr>\n",
       "      <th>2021-01-03</th>\n",
       "      <td>-0.767554</td>\n",
       "      <td>0.111992</td>\n",
       "      <td>1.148156</td>\n",
       "      <td>1.395505</td>\n",
       "    </tr>\n",
       "    <tr>\n",
       "      <th>2021-01-04</th>\n",
       "      <td>0.830721</td>\n",
       "      <td>0.729854</td>\n",
       "      <td>-0.336945</td>\n",
       "      <td>-0.268859</td>\n",
       "    </tr>\n",
       "    <tr>\n",
       "      <th>2021-01-05</th>\n",
       "      <td>-0.090913</td>\n",
       "      <td>-1.725739</td>\n",
       "      <td>0.064601</td>\n",
       "      <td>1.232818</td>\n",
       "    </tr>\n",
       "    <tr>\n",
       "      <th>2021-01-06</th>\n",
       "      <td>0.652690</td>\n",
       "      <td>2.650685</td>\n",
       "      <td>-0.414020</td>\n",
       "      <td>1.457426</td>\n",
       "    </tr>\n",
       "  </tbody>\n",
       "</table>\n",
       "</div>"
      ],
      "text/plain": [
       "                   A         B         C         D\n",
       "2021-01-01 -0.416299 -0.309901  0.418216 -0.959892\n",
       "2021-01-02 -0.126370  0.584586 -0.630987 -0.910138\n",
       "2021-01-03 -0.767554  0.111992  1.148156  1.395505\n",
       "2021-01-04  0.830721  0.729854 -0.336945 -0.268859\n",
       "2021-01-05 -0.090913 -1.725739  0.064601  1.232818\n",
       "2021-01-06  0.652690  2.650685 -0.414020  1.457426"
      ]
     },
     "execution_count": 65,
     "metadata": {},
     "output_type": "execute_result"
    }
   ],
   "source": [
    "df"
   ]
  },
  {
   "cell_type": "markdown",
   "id": "dede725b",
   "metadata": {},
   "source": [
    "Pandas 논리적인 인덱싱"
   ]
  },
  {
   "cell_type": "code",
   "execution_count": 66,
   "id": "bab056fb",
   "metadata": {
    "ExecuteTime": {
     "end_time": "2021-06-14T05:03:45.646116Z",
     "start_time": "2021-06-14T05:03:45.583250Z"
    }
   },
   "outputs": [
    {
     "data": {
      "text/html": [
       "<div>\n",
       "<style scoped>\n",
       "    .dataframe tbody tr th:only-of-type {\n",
       "        vertical-align: middle;\n",
       "    }\n",
       "\n",
       "    .dataframe tbody tr th {\n",
       "        vertical-align: top;\n",
       "    }\n",
       "\n",
       "    .dataframe thead th {\n",
       "        text-align: right;\n",
       "    }\n",
       "</style>\n",
       "<table border=\"1\" class=\"dataframe\">\n",
       "  <thead>\n",
       "    <tr style=\"text-align: right;\">\n",
       "      <th></th>\n",
       "      <th>A</th>\n",
       "      <th>B</th>\n",
       "      <th>C</th>\n",
       "      <th>D</th>\n",
       "    </tr>\n",
       "  </thead>\n",
       "  <tbody>\n",
       "    <tr>\n",
       "      <th>2021-01-04</th>\n",
       "      <td>0.830721</td>\n",
       "      <td>0.729854</td>\n",
       "      <td>-0.336945</td>\n",
       "      <td>-0.268859</td>\n",
       "    </tr>\n",
       "    <tr>\n",
       "      <th>2021-01-06</th>\n",
       "      <td>0.652690</td>\n",
       "      <td>2.650685</td>\n",
       "      <td>-0.414020</td>\n",
       "      <td>1.457426</td>\n",
       "    </tr>\n",
       "  </tbody>\n",
       "</table>\n",
       "</div>"
      ],
      "text/plain": [
       "                   A         B         C         D\n",
       "2021-01-04  0.830721  0.729854 -0.336945 -0.268859\n",
       "2021-01-06  0.652690  2.650685 -0.414020  1.457426"
      ]
     },
     "execution_count": 66,
     "metadata": {},
     "output_type": "execute_result"
    }
   ],
   "source": [
    "df[df.A > 0]"
   ]
  },
  {
   "cell_type": "code",
   "execution_count": 67,
   "id": "991c2632",
   "metadata": {
    "ExecuteTime": {
     "end_time": "2021-06-14T05:04:03.822490Z",
     "start_time": "2021-06-14T05:04:03.806623Z"
    }
   },
   "outputs": [
    {
     "data": {
      "text/html": [
       "<div>\n",
       "<style scoped>\n",
       "    .dataframe tbody tr th:only-of-type {\n",
       "        vertical-align: middle;\n",
       "    }\n",
       "\n",
       "    .dataframe tbody tr th {\n",
       "        vertical-align: top;\n",
       "    }\n",
       "\n",
       "    .dataframe thead th {\n",
       "        text-align: right;\n",
       "    }\n",
       "</style>\n",
       "<table border=\"1\" class=\"dataframe\">\n",
       "  <thead>\n",
       "    <tr style=\"text-align: right;\">\n",
       "      <th></th>\n",
       "      <th>A</th>\n",
       "      <th>B</th>\n",
       "      <th>C</th>\n",
       "      <th>D</th>\n",
       "    </tr>\n",
       "  </thead>\n",
       "  <tbody>\n",
       "    <tr>\n",
       "      <th>2021-01-01</th>\n",
       "      <td>NaN</td>\n",
       "      <td>NaN</td>\n",
       "      <td>0.418216</td>\n",
       "      <td>NaN</td>\n",
       "    </tr>\n",
       "    <tr>\n",
       "      <th>2021-01-02</th>\n",
       "      <td>NaN</td>\n",
       "      <td>0.584586</td>\n",
       "      <td>NaN</td>\n",
       "      <td>NaN</td>\n",
       "    </tr>\n",
       "    <tr>\n",
       "      <th>2021-01-03</th>\n",
       "      <td>NaN</td>\n",
       "      <td>0.111992</td>\n",
       "      <td>1.148156</td>\n",
       "      <td>1.395505</td>\n",
       "    </tr>\n",
       "    <tr>\n",
       "      <th>2021-01-04</th>\n",
       "      <td>0.830721</td>\n",
       "      <td>0.729854</td>\n",
       "      <td>NaN</td>\n",
       "      <td>NaN</td>\n",
       "    </tr>\n",
       "    <tr>\n",
       "      <th>2021-01-05</th>\n",
       "      <td>NaN</td>\n",
       "      <td>NaN</td>\n",
       "      <td>0.064601</td>\n",
       "      <td>1.232818</td>\n",
       "    </tr>\n",
       "    <tr>\n",
       "      <th>2021-01-06</th>\n",
       "      <td>0.652690</td>\n",
       "      <td>2.650685</td>\n",
       "      <td>NaN</td>\n",
       "      <td>1.457426</td>\n",
       "    </tr>\n",
       "  </tbody>\n",
       "</table>\n",
       "</div>"
      ],
      "text/plain": [
       "                   A         B         C         D\n",
       "2021-01-01       NaN       NaN  0.418216       NaN\n",
       "2021-01-02       NaN  0.584586       NaN       NaN\n",
       "2021-01-03       NaN  0.111992  1.148156  1.395505\n",
       "2021-01-04  0.830721  0.729854       NaN       NaN\n",
       "2021-01-05       NaN       NaN  0.064601  1.232818\n",
       "2021-01-06  0.652690  2.650685       NaN  1.457426"
      ]
     },
     "execution_count": 67,
     "metadata": {},
     "output_type": "execute_result"
    }
   ],
   "source": [
    "df[df>0]"
   ]
  },
  {
   "cell_type": "markdown",
   "id": "96c1f527",
   "metadata": {},
   "source": [
    "pandas dataframe 추가"
   ]
  },
  {
   "cell_type": "code",
   "execution_count": 69,
   "id": "cd3fee01",
   "metadata": {
    "ExecuteTime": {
     "end_time": "2021-06-14T05:04:21.324856Z",
     "start_time": "2021-06-14T05:04:21.312914Z"
    }
   },
   "outputs": [],
   "source": [
    "df2 = df.copy()"
   ]
  },
  {
   "cell_type": "code",
   "execution_count": 70,
   "id": "d1766f19",
   "metadata": {
    "ExecuteTime": {
     "end_time": "2021-06-14T05:05:38.314228Z",
     "start_time": "2021-06-14T05:05:38.280298Z"
    }
   },
   "outputs": [
    {
     "data": {
      "text/html": [
       "<div>\n",
       "<style scoped>\n",
       "    .dataframe tbody tr th:only-of-type {\n",
       "        vertical-align: middle;\n",
       "    }\n",
       "\n",
       "    .dataframe tbody tr th {\n",
       "        vertical-align: top;\n",
       "    }\n",
       "\n",
       "    .dataframe thead th {\n",
       "        text-align: right;\n",
       "    }\n",
       "</style>\n",
       "<table border=\"1\" class=\"dataframe\">\n",
       "  <thead>\n",
       "    <tr style=\"text-align: right;\">\n",
       "      <th></th>\n",
       "      <th>A</th>\n",
       "      <th>B</th>\n",
       "      <th>C</th>\n",
       "      <th>D</th>\n",
       "      <th>E</th>\n",
       "    </tr>\n",
       "  </thead>\n",
       "  <tbody>\n",
       "    <tr>\n",
       "      <th>2021-01-01</th>\n",
       "      <td>-0.416299</td>\n",
       "      <td>-0.309901</td>\n",
       "      <td>0.418216</td>\n",
       "      <td>-0.959892</td>\n",
       "      <td>one</td>\n",
       "    </tr>\n",
       "    <tr>\n",
       "      <th>2021-01-02</th>\n",
       "      <td>-0.126370</td>\n",
       "      <td>0.584586</td>\n",
       "      <td>-0.630987</td>\n",
       "      <td>-0.910138</td>\n",
       "      <td>one</td>\n",
       "    </tr>\n",
       "    <tr>\n",
       "      <th>2021-01-03</th>\n",
       "      <td>-0.767554</td>\n",
       "      <td>0.111992</td>\n",
       "      <td>1.148156</td>\n",
       "      <td>1.395505</td>\n",
       "      <td>two</td>\n",
       "    </tr>\n",
       "    <tr>\n",
       "      <th>2021-01-04</th>\n",
       "      <td>0.830721</td>\n",
       "      <td>0.729854</td>\n",
       "      <td>-0.336945</td>\n",
       "      <td>-0.268859</td>\n",
       "      <td>three</td>\n",
       "    </tr>\n",
       "    <tr>\n",
       "      <th>2021-01-05</th>\n",
       "      <td>-0.090913</td>\n",
       "      <td>-1.725739</td>\n",
       "      <td>0.064601</td>\n",
       "      <td>1.232818</td>\n",
       "      <td>four</td>\n",
       "    </tr>\n",
       "    <tr>\n",
       "      <th>2021-01-06</th>\n",
       "      <td>0.652690</td>\n",
       "      <td>2.650685</td>\n",
       "      <td>-0.414020</td>\n",
       "      <td>1.457426</td>\n",
       "      <td>three</td>\n",
       "    </tr>\n",
       "  </tbody>\n",
       "</table>\n",
       "</div>"
      ],
      "text/plain": [
       "                   A         B         C         D      E\n",
       "2021-01-01 -0.416299 -0.309901  0.418216 -0.959892    one\n",
       "2021-01-02 -0.126370  0.584586 -0.630987 -0.910138    one\n",
       "2021-01-03 -0.767554  0.111992  1.148156  1.395505    two\n",
       "2021-01-04  0.830721  0.729854 -0.336945 -0.268859  three\n",
       "2021-01-05 -0.090913 -1.725739  0.064601  1.232818   four\n",
       "2021-01-06  0.652690  2.650685 -0.414020  1.457426  three"
      ]
     },
     "execution_count": 70,
     "metadata": {},
     "output_type": "execute_result"
    }
   ],
   "source": [
    "df2['E'] = ['one','one','two','three','four','three']\n",
    "df2"
   ]
  },
  {
   "cell_type": "markdown",
   "id": "77aee639",
   "metadata": {},
   "source": [
    "pandas dataframe 내부 확인"
   ]
  },
  {
   "cell_type": "code",
   "execution_count": 71,
   "id": "b028806e",
   "metadata": {
    "ExecuteTime": {
     "end_time": "2021-06-14T05:06:18.469736Z",
     "start_time": "2021-06-14T05:06:18.461752Z"
    }
   },
   "outputs": [
    {
     "data": {
      "text/plain": [
       "2021-01-01    False\n",
       "2021-01-02    False\n",
       "2021-01-03     True\n",
       "2021-01-04    False\n",
       "2021-01-05     True\n",
       "2021-01-06    False\n",
       "Freq: D, Name: E, dtype: bool"
      ]
     },
     "execution_count": 71,
     "metadata": {},
     "output_type": "execute_result"
    }
   ],
   "source": [
    "df2['E'].isin(['two','four'])"
   ]
  },
  {
   "cell_type": "code",
   "execution_count": 72,
   "id": "4992c266",
   "metadata": {
    "ExecuteTime": {
     "end_time": "2021-06-14T05:06:33.749582Z",
     "start_time": "2021-06-14T05:06:33.729635Z"
    }
   },
   "outputs": [
    {
     "data": {
      "text/html": [
       "<div>\n",
       "<style scoped>\n",
       "    .dataframe tbody tr th:only-of-type {\n",
       "        vertical-align: middle;\n",
       "    }\n",
       "\n",
       "    .dataframe tbody tr th {\n",
       "        vertical-align: top;\n",
       "    }\n",
       "\n",
       "    .dataframe thead th {\n",
       "        text-align: right;\n",
       "    }\n",
       "</style>\n",
       "<table border=\"1\" class=\"dataframe\">\n",
       "  <thead>\n",
       "    <tr style=\"text-align: right;\">\n",
       "      <th></th>\n",
       "      <th>A</th>\n",
       "      <th>B</th>\n",
       "      <th>C</th>\n",
       "      <th>D</th>\n",
       "      <th>E</th>\n",
       "    </tr>\n",
       "  </thead>\n",
       "  <tbody>\n",
       "    <tr>\n",
       "      <th>2021-01-03</th>\n",
       "      <td>-0.767554</td>\n",
       "      <td>0.111992</td>\n",
       "      <td>1.148156</td>\n",
       "      <td>1.395505</td>\n",
       "      <td>two</td>\n",
       "    </tr>\n",
       "    <tr>\n",
       "      <th>2021-01-05</th>\n",
       "      <td>-0.090913</td>\n",
       "      <td>-1.725739</td>\n",
       "      <td>0.064601</td>\n",
       "      <td>1.232818</td>\n",
       "      <td>four</td>\n",
       "    </tr>\n",
       "  </tbody>\n",
       "</table>\n",
       "</div>"
      ],
      "text/plain": [
       "                   A         B         C         D     E\n",
       "2021-01-03 -0.767554  0.111992  1.148156  1.395505   two\n",
       "2021-01-05 -0.090913 -1.725739  0.064601  1.232818  four"
      ]
     },
     "execution_count": 72,
     "metadata": {},
     "output_type": "execute_result"
    }
   ],
   "source": [
    "df2[df2['E'].isin(['two','four'])]"
   ]
  },
  {
   "cell_type": "markdown",
   "id": "83685dfe",
   "metadata": {},
   "source": [
    "Pandas DataFrame Apply  \n",
    "집계"
   ]
  },
  {
   "cell_type": "code",
   "execution_count": 73,
   "id": "4e65dc36",
   "metadata": {
    "ExecuteTime": {
     "end_time": "2021-06-14T05:07:12.347540Z",
     "start_time": "2021-06-14T05:07:12.316591Z"
    }
   },
   "outputs": [
    {
     "data": {
      "text/html": [
       "<div>\n",
       "<style scoped>\n",
       "    .dataframe tbody tr th:only-of-type {\n",
       "        vertical-align: middle;\n",
       "    }\n",
       "\n",
       "    .dataframe tbody tr th {\n",
       "        vertical-align: top;\n",
       "    }\n",
       "\n",
       "    .dataframe thead th {\n",
       "        text-align: right;\n",
       "    }\n",
       "</style>\n",
       "<table border=\"1\" class=\"dataframe\">\n",
       "  <thead>\n",
       "    <tr style=\"text-align: right;\">\n",
       "      <th></th>\n",
       "      <th>A</th>\n",
       "      <th>B</th>\n",
       "      <th>C</th>\n",
       "      <th>D</th>\n",
       "    </tr>\n",
       "  </thead>\n",
       "  <tbody>\n",
       "    <tr>\n",
       "      <th>2021-01-01</th>\n",
       "      <td>-0.416299</td>\n",
       "      <td>-0.309901</td>\n",
       "      <td>0.418216</td>\n",
       "      <td>-0.959892</td>\n",
       "    </tr>\n",
       "    <tr>\n",
       "      <th>2021-01-02</th>\n",
       "      <td>-0.542669</td>\n",
       "      <td>0.274685</td>\n",
       "      <td>-0.212772</td>\n",
       "      <td>-1.870030</td>\n",
       "    </tr>\n",
       "    <tr>\n",
       "      <th>2021-01-03</th>\n",
       "      <td>-1.310223</td>\n",
       "      <td>0.386677</td>\n",
       "      <td>0.935384</td>\n",
       "      <td>-0.474525</td>\n",
       "    </tr>\n",
       "    <tr>\n",
       "      <th>2021-01-04</th>\n",
       "      <td>-0.479503</td>\n",
       "      <td>1.116531</td>\n",
       "      <td>0.598439</td>\n",
       "      <td>-0.743384</td>\n",
       "    </tr>\n",
       "    <tr>\n",
       "      <th>2021-01-05</th>\n",
       "      <td>-0.570416</td>\n",
       "      <td>-0.609208</td>\n",
       "      <td>0.663040</td>\n",
       "      <td>0.489434</td>\n",
       "    </tr>\n",
       "    <tr>\n",
       "      <th>2021-01-06</th>\n",
       "      <td>0.082274</td>\n",
       "      <td>2.041477</td>\n",
       "      <td>0.249021</td>\n",
       "      <td>1.946860</td>\n",
       "    </tr>\n",
       "  </tbody>\n",
       "</table>\n",
       "</div>"
      ],
      "text/plain": [
       "                   A         B         C         D\n",
       "2021-01-01 -0.416299 -0.309901  0.418216 -0.959892\n",
       "2021-01-02 -0.542669  0.274685 -0.212772 -1.870030\n",
       "2021-01-03 -1.310223  0.386677  0.935384 -0.474525\n",
       "2021-01-04 -0.479503  1.116531  0.598439 -0.743384\n",
       "2021-01-05 -0.570416 -0.609208  0.663040  0.489434\n",
       "2021-01-06  0.082274  2.041477  0.249021  1.946860"
      ]
     },
     "execution_count": 73,
     "metadata": {},
     "output_type": "execute_result"
    }
   ],
   "source": [
    "df.apply(np.cumsum)"
   ]
  },
  {
   "cell_type": "code",
   "execution_count": 74,
   "id": "e2367e82",
   "metadata": {
    "ExecuteTime": {
     "end_time": "2021-06-14T05:08:59.474475Z",
     "start_time": "2021-06-14T05:08:59.445520Z"
    }
   },
   "outputs": [
    {
     "data": {
      "text/plain": [
       "A    1.598275\n",
       "B    4.376424\n",
       "C    1.779144\n",
       "D    2.417318\n",
       "dtype: float64"
      ]
     },
     "execution_count": 74,
     "metadata": {},
     "output_type": "execute_result"
    }
   ],
   "source": [
    "df.apply(lambda x : x.max() - x.min())"
   ]
  },
  {
   "cell_type": "code",
   "execution_count": null,
   "id": "2c12a590",
   "metadata": {},
   "outputs": [],
   "source": []
  }
 ],
 "metadata": {
  "kernelspec": {
   "display_name": "Python 3",
   "language": "python",
   "name": "python3"
  },
  "language_info": {
   "codemirror_mode": {
    "name": "ipython",
    "version": 3
   },
   "file_extension": ".py",
   "mimetype": "text/x-python",
   "name": "python",
   "nbconvert_exporter": "python",
   "pygments_lexer": "ipython3",
   "version": "3.8.8"
  },
  "varInspector": {
   "cols": {
    "lenName": 16,
    "lenType": 16,
    "lenVar": 40
   },
   "kernels_config": {
    "python": {
     "delete_cmd_postfix": "",
     "delete_cmd_prefix": "del ",
     "library": "var_list.py",
     "varRefreshCmd": "print(var_dic_list())"
    },
    "r": {
     "delete_cmd_postfix": ") ",
     "delete_cmd_prefix": "rm(",
     "library": "var_list.r",
     "varRefreshCmd": "cat(var_dic_list()) "
    }
   },
   "types_to_exclude": [
    "module",
    "function",
    "builtin_function_or_method",
    "instance",
    "_Feature"
   ],
   "window_display": false
  }
 },
 "nbformat": 4,
 "nbformat_minor": 5
}
