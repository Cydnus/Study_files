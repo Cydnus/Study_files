{
 "cells": [
  {
   "cell_type": "markdown",
   "id": "c16cba24",
   "metadata": {},
   "source": [
    "[크롬드라이버](https://chromedriver.chromium.org/downloads) 설치  \n",
    "주소는 c:/playwithdata/chromedriver.exe  \n",
    "selenium 설치  \n",
    "```\n",
    "pip install selenium\n",
    "pip install bs4\n",
    "```"
   ]
  },
  {
   "cell_type": "code",
   "execution_count": 5,
   "id": "697a761c",
   "metadata": {
    "ExecuteTime": {
     "end_time": "2021-06-15T03:10:25.645051Z",
     "start_time": "2021-06-15T03:10:23.929719Z"
    }
   },
   "outputs": [],
   "source": [
    "from selenium import webdriver\n",
    "from bs4 import BeautifulSoup\n",
    "\n",
    "driver = webdriver.Chrome('c:/playwithdata/chromedriver.exe')"
   ]
  },
  {
   "cell_type": "markdown",
   "id": "06a4a932",
   "metadata": {},
   "source": [
    "url 연결 & 파싱"
   ]
  },
  {
   "cell_type": "code",
   "execution_count": 7,
   "id": "2324fdbb",
   "metadata": {
    "ExecuteTime": {
     "end_time": "2021-06-15T03:11:38.882408Z",
     "start_time": "2021-06-15T03:11:37.624321Z"
    }
   },
   "outputs": [],
   "source": [
    "url = 'http://www.melon.com/chart/index.htm'\n",
    "driver.get(url)\n",
    "\n",
    "html = driver.page_source\n",
    "soup = BeautifulSoup(html, 'html.parser')"
   ]
  },
  {
   "cell_type": "markdown",
   "id": "6e19fa1d",
   "metadata": {},
   "source": [
    "파싱된 데이터를 리스트에 저장"
   ]
  },
  {
   "cell_type": "code",
   "execution_count": 11,
   "id": "574d1e8d",
   "metadata": {
    "ExecuteTime": {
     "end_time": "2021-06-15T03:13:51.106426Z",
     "start_time": "2021-06-15T03:13:51.052239Z"
    }
   },
   "outputs": [],
   "source": [
    "song_data = []\n",
    "rank = 1\n",
    "\n",
    "songs = soup.select('table > tbody > tr')\n",
    "for song in songs:\n",
    "    title = song.select('div.rank01 > span > a ')[0].text\n",
    "    singer = song.select('div.rank02 > a')[0].text\n",
    "    song_data.append(['Melon',rank,title,singer])\n",
    "    rank+=1\n"
   ]
  },
  {
   "cell_type": "markdown",
   "id": "620995b5",
   "metadata": {},
   "source": [
    "판다스로 출력"
   ]
  },
  {
   "cell_type": "code",
   "execution_count": 13,
   "id": "ebb7e5ff",
   "metadata": {
    "ExecuteTime": {
     "end_time": "2021-06-15T03:15:19.557055Z",
     "start_time": "2021-06-15T03:15:19.533119Z"
    }
   },
   "outputs": [
    {
     "data": {
      "text/html": [
       "<div>\n",
       "<style scoped>\n",
       "    .dataframe tbody tr th:only-of-type {\n",
       "        vertical-align: middle;\n",
       "    }\n",
       "\n",
       "    .dataframe tbody tr th {\n",
       "        vertical-align: top;\n",
       "    }\n",
       "\n",
       "    .dataframe thead th {\n",
       "        text-align: right;\n",
       "    }\n",
       "</style>\n",
       "<table border=\"1\" class=\"dataframe\">\n",
       "  <thead>\n",
       "    <tr style=\"text-align: right;\">\n",
       "      <th></th>\n",
       "      <th>서비스</th>\n",
       "      <th>순위</th>\n",
       "      <th>타이틀</th>\n",
       "      <th>가수</th>\n",
       "    </tr>\n",
       "  </thead>\n",
       "  <tbody>\n",
       "    <tr>\n",
       "      <th>0</th>\n",
       "      <td>Melon</td>\n",
       "      <td>1</td>\n",
       "      <td>Butter</td>\n",
       "      <td>방탄소년단</td>\n",
       "    </tr>\n",
       "    <tr>\n",
       "      <th>1</th>\n",
       "      <td>Melon</td>\n",
       "      <td>2</td>\n",
       "      <td>헤픈 우연</td>\n",
       "      <td>헤이즈 (Heize)</td>\n",
       "    </tr>\n",
       "    <tr>\n",
       "      <th>2</th>\n",
       "      <td>Melon</td>\n",
       "      <td>3</td>\n",
       "      <td>Next Level</td>\n",
       "      <td>aespa</td>\n",
       "    </tr>\n",
       "    <tr>\n",
       "      <th>3</th>\n",
       "      <td>Melon</td>\n",
       "      <td>4</td>\n",
       "      <td>Dun Dun Dance</td>\n",
       "      <td>오마이걸 (OH MY GIRL)</td>\n",
       "    </tr>\n",
       "    <tr>\n",
       "      <th>4</th>\n",
       "      <td>Melon</td>\n",
       "      <td>5</td>\n",
       "      <td>Peaches (Feat. Daniel Caesar &amp; Giveon)</td>\n",
       "      <td>Justin Bieber</td>\n",
       "    </tr>\n",
       "  </tbody>\n",
       "</table>\n",
       "</div>"
      ],
      "text/plain": [
       "     서비스  순위                                     타이틀                 가수\n",
       "0  Melon   1                                  Butter              방탄소년단\n",
       "1  Melon   2                                   헤픈 우연        헤이즈 (Heize)\n",
       "2  Melon   3                              Next Level              aespa\n",
       "3  Melon   4                           Dun Dun Dance  오마이걸 (OH MY GIRL)\n",
       "4  Melon   5  Peaches (Feat. Daniel Caesar & Giveon)      Justin Bieber"
      ]
     },
     "execution_count": 13,
     "metadata": {},
     "output_type": "execute_result"
    }
   ],
   "source": [
    "import pandas as pd\n",
    "\n",
    "columns = ['서비스','순위','타이틀','가수']\n",
    "pd_data = pd.DataFrame(song_data,columns=columns)\n",
    "pd_data.head()"
   ]
  },
  {
   "cell_type": "markdown",
   "id": "065b748b",
   "metadata": {},
   "source": [
    "저장  \n",
    "openpyxl설치 해야됨."
   ]
  },
  {
   "cell_type": "code",
   "execution_count": 15,
   "id": "682d8908",
   "metadata": {
    "ExecuteTime": {
     "end_time": "2021-06-15T03:18:14.551902Z",
     "start_time": "2021-06-15T03:18:14.480844Z"
    }
   },
   "outputs": [],
   "source": [
    "pd_data.to_excel('./files/melon.xlsx', index=False,engine='openpyxl')"
   ]
  },
  {
   "cell_type": "code",
   "execution_count": null,
   "id": "d70e77b5",
   "metadata": {},
   "outputs": [],
   "source": [
    "    "
   ]
  }
 ],
 "metadata": {
  "kernelspec": {
   "display_name": "Python 3.10.6 64-bit",
   "language": "python",
   "name": "python3"
  },
  "language_info": {
   "codemirror_mode": {
    "name": "ipython",
    "version": 3
   },
   "file_extension": ".py",
   "mimetype": "text/x-python",
   "name": "python",
   "nbconvert_exporter": "python",
   "pygments_lexer": "ipython3",
   "version": "3.10.6"
  },
  "varInspector": {
   "cols": {
    "lenName": 16,
    "lenType": 16,
    "lenVar": 40
   },
   "kernels_config": {
    "python": {
     "delete_cmd_postfix": "",
     "delete_cmd_prefix": "del ",
     "library": "var_list.py",
     "varRefreshCmd": "print(var_dic_list())"
    },
    "r": {
     "delete_cmd_postfix": ") ",
     "delete_cmd_prefix": "rm(",
     "library": "var_list.r",
     "varRefreshCmd": "cat(var_dic_list()) "
    }
   },
   "types_to_exclude": [
    "module",
    "function",
    "builtin_function_or_method",
    "instance",
    "_Feature"
   ],
   "window_display": false
  },
  "vscode": {
   "interpreter": {
    "hash": "369f2c481f4da34e4445cda3fffd2e751bd1c4d706f27375911949ba6bb62e1c"
   }
  }
 },
 "nbformat": 4,
 "nbformat_minor": 5
}
