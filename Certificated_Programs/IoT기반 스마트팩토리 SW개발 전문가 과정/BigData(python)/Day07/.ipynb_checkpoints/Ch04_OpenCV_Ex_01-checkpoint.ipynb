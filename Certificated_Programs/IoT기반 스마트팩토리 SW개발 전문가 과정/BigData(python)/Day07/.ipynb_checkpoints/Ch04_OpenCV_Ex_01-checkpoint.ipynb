{
 "cells": [
  {
   "cell_type": "code",
   "execution_count": 1,
   "id": "c9bf113f",
   "metadata": {
    "ExecuteTime": {
     "end_time": "2021-06-15T05:24:50.546956Z",
     "start_time": "2021-06-15T05:24:47.548393Z"
    }
   },
   "outputs": [
    {
     "name": "stdout",
     "output_type": "stream",
     "text": [
      "Note: you may need to restart the kernel to use updated packages.\n"
     ]
    },
    {
     "name": "stderr",
     "output_type": "stream",
     "text": [
      "ERROR: Could not find a version that satisfies the requirement opencv_pyhton\n",
      "ERROR: No matching distribution found for opencv_pyhton\n"
     ]
    }
   ],
   "source": [
    "pip install opencv_pyhton"
   ]
  },
  {
   "cell_type": "markdown",
   "id": "6ba62695",
   "metadata": {},
   "source": [
    "opencv 창 두개 생성"
   ]
  },
  {
   "cell_type": "code",
   "execution_count": 5,
   "id": "e59ed75c",
   "metadata": {
    "ExecuteTime": {
     "end_time": "2021-06-15T05:26:14.871888Z",
     "start_time": "2021-06-15T05:26:11.383840Z"
    }
   },
   "outputs": [],
   "source": [
    "import numpy as np\n",
    "import cv2\n",
    "\n",
    "image = np.zeros((200,400),np.uint8)\n",
    "image[:] = 200\n",
    "\n",
    "title1, title2 = 'Position1','Position2'\n",
    "\n",
    "cv2.namedWindow(title1,cv2.WINDOW_AUTOSIZE)\n",
    "cv2.namedWindow(title2)\n",
    "\n",
    "cv2.moveWindow(title1,150,150)\n",
    "cv2.moveWindow(title2,450,50)\n",
    "\n",
    "cv2.imshow(title1,image)\n",
    "cv2.imshow(title2,image)\n",
    "\n",
    "cv2.waitKey(0)\n",
    "cv2.destroyAllWindows()"
   ]
  },
  {
   "cell_type": "markdown",
   "id": "e0f07e25",
   "metadata": {},
   "source": [
    "윈도우 창 크기 변경"
   ]
  },
  {
   "cell_type": "code",
   "execution_count": 7,
   "id": "09849972",
   "metadata": {
    "ExecuteTime": {
     "end_time": "2021-06-15T05:32:09.281877Z",
     "start_time": "2021-06-15T05:31:19.824155Z"
    }
   },
   "outputs": [],
   "source": [
    "import numpy as np\n",
    "import cv2\n",
    "\n",
    "image = np.zeros((200,300),np.uint8)\n",
    "image.fill(255)\n",
    "\n",
    "title1, title2 = 'AutoSize','NORMAL'\n",
    "\n",
    "cv2.namedWindow(title1,cv2.WINDOW_AUTOSIZE)\n",
    "cv2.namedWindow(title2, cv2.WINDOW_NORMAL)\n",
    "\n",
    "\n",
    "cv2.imshow(title1,image)\n",
    "cv2.imshow(title2,image)\n",
    "\n",
    "cv2.resizeWindow(title1,400,300)\n",
    "cv2.resizeWindow(title2,400,300)\n",
    "\n",
    "cv2.waitKey(0)\n",
    "cv2.destroyAllWindows()\n",
    "\n"
   ]
  },
  {
   "cell_type": "markdown",
   "id": "1894cae1",
   "metadata": {},
   "source": [
    "키보드 이벤트 제어"
   ]
  },
  {
   "cell_type": "code",
   "execution_count": null,
   "id": "ff86c0d3",
   "metadata": {
    "ExecuteTime": {
     "start_time": "2021-06-15T06:34:01.284Z"
    }
   },
   "outputs": [],
   "source": [
    "import numpy as np\n",
    "import cv2\n",
    "\n",
    "switch_case ={\n",
    "    ord('a') :'a키 입력',\n",
    "    ord('b') :'a키 입력',\n",
    "    0x41 :'A키 입력',\n",
    "    int('0x42',16) :'B키 입력',\n",
    "    2424832 :'왼쪽 방향키 입력',\n",
    "    2490368 :'위쪽 방향키 입력',\n",
    "    0x270000 :'오른쪽 방향키 입력',\n",
    "    0x280000 :'아래쪽 방향키 입력'\n",
    "}\n",
    "\n",
    "image = np.ones((200,300),np.float)\n",
    "\n",
    "cv2.namedWindow(\"Keyboard Evnet\")\n",
    "\n",
    "while True:\n",
    "    key = cv2.waitKeyEx(100)\n",
    "    if key == 27:\n",
    "        break\n",
    "    \n",
    "    try:\n",
    "        result = switch_case[key]\n",
    "        print(result)\n",
    "    except KeyError:\n",
    "        reslult = -1\n",
    "        \n",
    "cv2.destroyAllWindows()\n",
    "\n"
   ]
  },
  {
   "cell_type": "code",
   "execution_count": null,
   "id": "2395595c",
   "metadata": {
    "ExecuteTime": {
     "start_time": "2021-06-15T06:33:50.839Z"
    }
   },
   "outputs": [],
   "source": [
    "cv2.destroyAllWindows()\n"
   ]
  },
  {
   "cell_type": "markdown",
   "id": "041f600b",
   "metadata": {},
   "source": [
    "마우스 이벤트"
   ]
  },
  {
   "cell_type": "code",
   "execution_count": null,
   "id": "6a5d2915",
   "metadata": {
    "ExecuteTime": {
     "start_time": "2021-06-15T06:32:37.308Z"
    }
   },
   "outputs": [],
   "source": [
    "import numpy as np\n",
    "import cv2\n",
    "\n",
    "def onMouse(event,x,y,floags,param):\n",
    "    if event == cv2.EVENT_LBUTTONDOWN:\n",
    "        print('마우스 왼쪽 버튼 누르기')\n",
    "    elif event == cv2.EVENT_RBUTTONDOWN:\n",
    "        print('마우스 오른쪽 버튼 누르기')\n",
    "    elif event == cv2.EVENT_LBUTTONUP:\n",
    "        print('마우스 왼쪽 버튼 떼기')\n",
    "    elif event == cv2.EVENT_RBUTTONUP:\n",
    "        print('마우스 오른쪽 버튼 떼기')\n",
    "\n",
    "\n",
    "image = np.full((200,300),255,np.uint8)\n",
    "\n",
    "title1, title2 = 'Mouse Event1','Mouse Event2'\n",
    "\n",
    "\n",
    "cv2.imshow(title1,image)\n",
    "cv2.imshow(title2,image)\n",
    "\n",
    "cv2.resizeWindow(title1,400,300)\n",
    "cv2.resizeWindow(title2,400,300)\n",
    "cv2.setMouseCallback(title1,onMouse)\n",
    "cv2.waitKey(0)\n",
    "cv2.destroyAllWindows()\n",
    "\n"
   ]
  },
  {
   "cell_type": "markdown",
   "id": "6d7e5f8b",
   "metadata": {},
   "source": [
    "트랙바 이벤트"
   ]
  },
  {
   "cell_type": "code",
   "execution_count": 16,
   "id": "7c4de9ca",
   "metadata": {
    "ExecuteTime": {
     "end_time": "2021-06-15T05:50:46.237242Z",
     "start_time": "2021-06-15T05:50:41.090484Z"
    }
   },
   "outputs": [
    {
     "name": "stdout",
     "output_type": "stream",
     "text": [
      "추가 화소값 :  51\n",
      "추가 화소값 :  -51\n"
     ]
    }
   ],
   "source": [
    "import numpy as np\n",
    "import cv2\n",
    "\n",
    "def onChange(value):\n",
    "    global image, title\n",
    "    \n",
    "    add_value = value - int(image[0][0])\n",
    "    print('추가 화소값 : ', add_value)\n",
    "    image = image+ add_value\n",
    "    cv2.imshow(title,image)\n",
    "\n",
    "image = np.zeros((300,500),np.uint8)\n",
    "\n",
    "title = 'Trackbar Event'\n",
    "\n",
    "cv2.imshow(title,image)\n",
    "\n",
    "cv2.createTrackbar('Brightness', title, image[0][0],255,onChange)\n",
    "\n",
    "cv2.waitKey(0)\n",
    "cv2.destroyAllWindows()\n",
    "\n"
   ]
  },
  {
   "cell_type": "markdown",
   "id": "2eed8b32",
   "metadata": {},
   "source": [
    "마우스와 트랙바 이벤트"
   ]
  },
  {
   "cell_type": "code",
   "execution_count": 18,
   "id": "b451356a",
   "metadata": {
    "ExecuteTime": {
     "end_time": "2021-06-15T05:54:57.520918Z",
     "start_time": "2021-06-15T05:54:45.086592Z"
    }
   },
   "outputs": [
    {
     "name": "stdout",
     "output_type": "stream",
     "text": [
      "추가 화소값 :  0\n",
      "추가 화소값 :  0\n",
      "추가 화소값 :  0\n",
      "추가 화소값 :  0\n",
      "추가 화소값 :  0\n",
      "추가 화소값 :  0\n",
      "추가 화소값 :  0\n",
      "추가 화소값 :  0\n",
      "추가 화소값 :  0\n",
      "추가 화소값 :  0\n",
      "추가 화소값 :  0\n",
      "추가 화소값 :  0\n",
      "추가 화소값 :  0\n",
      "추가 화소값 :  0\n",
      "추가 화소값 :  0\n",
      "추가 화소값 :  0\n",
      "추가 화소값 :  0\n",
      "추가 화소값 :  0\n",
      "추가 화소값 :  0\n",
      "추가 화소값 :  0\n",
      "추가 화소값 :  0\n"
     ]
    }
   ],
   "source": [
    "import numpy as np\n",
    "import cv2\n",
    "\n",
    "def onChange(value):\n",
    "    global image, title\n",
    "    \n",
    "    add_value = value - int(image[0][0])\n",
    "    print('추가 화소값 : ', add_value)\n",
    "    image = image+ add_value\n",
    "    cv2.imshow(title,image)\n",
    "\n",
    "def onMouse(event,x,y,floags,param):\n",
    "    global image, bar_name\n",
    "    \n",
    "    if event == cv2.EVENT_LBUTTONDOWN:\n",
    "        if(image[0][0] < 246 ) :\n",
    "            image = image +10\n",
    "    elif event == cv2.EVENT_RBUTTONDOWN:\n",
    "        if(image[0][0] >= 10 ) :\n",
    "            image = image - 10\n",
    "    \n",
    "    cv2.setTrackbarPos(bar_name,title,image[0][0])\n",
    "    cv2.imshow(title,image)\n",
    "        \n",
    "image = np.zeros((300,500),np.uint8)\n",
    "\n",
    "title = 'Trackbar & Mouse Event'\n",
    "bar_name = 'Brightness'\n",
    "cv2.imshow(title,image)\n",
    "\n",
    "cv2.createTrackbar(bar_name, title, image[0][0],255,onChange)\n",
    "cv2.setMouseCallback(title,onMouse)\n",
    "cv2.waitKey(0)\n",
    "cv2.destroyAllWindows()\n",
    "\n"
   ]
  },
  {
   "cell_type": "markdown",
   "id": "b8b18328",
   "metadata": {},
   "source": [
    "그리기 함수  \n",
    "선그리기  \n",
    "``` python\n",
    "cv2.line(그릴 이미지(np.array), 시작점 , 끝점 , 색상(b,g,r) [,선굵기, 추가옵션])\n",
    "```\n",
    "사각형 그리기\n",
    "```python\n",
    "cv2.rectangle(그릴 이미지(np.array), 시작점 , 끝점 [추가옵션들])\n",
    "cv2.rectangle(그릴 이미지(np.array), (시작x, 시작y, width, height )[,추가옵션들])\n",
    "\n",
    "```"
   ]
  },
  {
   "cell_type": "code",
   "execution_count": 22,
   "id": "0f0c3e07",
   "metadata": {
    "ExecuteTime": {
     "end_time": "2021-06-15T06:05:08.255700Z",
     "start_time": "2021-06-15T06:04:59.864186Z"
    }
   },
   "outputs": [],
   "source": [
    "import numpy as np\n",
    "import cv2\n",
    "\n",
    "blue, green, red = (255,0,0),(0,255,0),(0,0,255)\n",
    "\n",
    "image = np.zeros((400,600,3),np.uint8)\n",
    "image[:] = (255,255,255)\n",
    "\n",
    "pt1, pt2 = (50,50),(250,150)\n",
    "pt3, pt4 = (400,150),(500,50)\n",
    "roi = (50,200,200,100)\n",
    "\n",
    "cv2.line(image,pt1,pt2,red)\n",
    "cv2.line(image,pt3,pt4,green,3,cv2.LINE_AA)\n",
    "\n",
    "cv2.rectangle(image, pt1,pt2,blue,3,cv2.LINE_4)\n",
    "cv2.rectangle(image, roi,red,3,cv2.LINE_8)\n",
    "cv2.rectangle(image, (400,200,100,100),green,cv2.FILLED)\n",
    "\n",
    "cv2.imshow(\"Line & Rectangle\",image)\n",
    "cv2.waitKey(0)\n",
    "cv2.destroyAllWindows()\n"
   ]
  },
  {
   "cell_type": "markdown",
   "id": "38599a14",
   "metadata": {},
   "source": [
    "텍스트 쓰기"
   ]
  },
  {
   "cell_type": "code",
   "execution_count": 2,
   "id": "fd0d8f65",
   "metadata": {
    "ExecuteTime": {
     "end_time": "2021-06-15T06:52:42.746524Z",
     "start_time": "2021-06-15T06:52:31.481428Z"
    }
   },
   "outputs": [],
   "source": [
    "import numpy as np\n",
    "import cv2\n",
    "\n",
    "olive, violet, brown = (128,128,0),(221,160,221),(42,42,165)\n",
    "pt1,pt2 = (50,230),(50,310)\n",
    "\n",
    "image = np.zeros((350,500,3),np.uint8)\n",
    "image.fill(255)\n",
    "\n",
    "cv2.putText(image,\"SIMPLEX\",(50,50),cv2.FONT_HERSHEY_SIMPLEX,2,brown)\n",
    "cv2.putText(image,\"DUPLEX\",(50,130),cv2.FONT_HERSHEY_DUPLEX,3,olive)\n",
    "cv2.putText(image,\"TRIPLEX\",pt1,cv2.FONT_HERSHEY_TRIPLEX,2,violet)\n",
    "fontface = cv2.FONT_HERSHEY_PLAIN|cv2.FONT_ITALIC\n",
    "cv2.putText(image,\"ITALIC\",pt2,fontface,4,violet)\n",
    "\n",
    "\n",
    "cv2.imshow(\"Put Text\",image)\n",
    "cv2.waitKey(0)\n",
    "cv2.destroyAllWindows()\n"
   ]
  },
  {
   "cell_type": "markdown",
   "id": "a38be43f",
   "metadata": {},
   "source": [
    "원그리기  \n",
    "내부 채움 : -1  \n",
    "두께 : 양수\n",
    "``` python\n",
    "cv2.circle(image, 위치, 반지름, 색상,...)\n",
    "```"
   ]
  },
  {
   "cell_type": "code",
   "execution_count": 26,
   "id": "4ce2995c",
   "metadata": {
    "ExecuteTime": {
     "end_time": "2021-06-15T06:15:58.467191Z",
     "start_time": "2021-06-15T06:15:40.000861Z"
    }
   },
   "outputs": [],
   "source": [
    "import numpy as np\n",
    "import cv2\n",
    "\n",
    "orange, blue, cyan = (0,165,255),(255,0,0),(255,255,0)\n",
    "white, black = (255,255,255),(0,0,0)\n",
    "\n",
    "image = np.full((300,350,3),white,np.uint8)\n",
    "\n",
    "center = (image.shape[1]//2, image.shape[0]//2)\n",
    "pt1,pt2 = (300,50),(100,200)\n",
    "shade = (pt2[0]+2, pt2[1]+2)\n",
    "\n",
    "cv2.circle(image, center, 100, blue)\n",
    "cv2.circle(image, pt1, 50, orange, 2)\n",
    "cv2.circle(image, pt2, 70, cyan, -1)\n",
    "\n",
    "font = cv2.FONT_HERSHEY_COMPLEX;\n",
    "\n",
    "cv2.putText(image, 'center_blue', center, font, 1.0, blue)\n",
    "cv2.putText(image, 'pt1_orange', pt1, font, 0.8, orange)\n",
    "cv2.putText(image, 'pt2_cyan', shade, font, 1.2, black,2)\n",
    "cv2.putText(image, 'pt2_cyan', pt2, font, 1.2, cyan,1)\n",
    "\n",
    "\n",
    "cv2.imshow(\"Draw Circle\",image)\n",
    "cv2.waitKey(0)\n",
    "cv2.destroyAllWindows()"
   ]
  },
  {
   "cell_type": "markdown",
   "id": "068d2a1c",
   "metadata": {},
   "source": [
    "타원 그리기"
   ]
  },
  {
   "cell_type": "code",
   "execution_count": 28,
   "id": "16c40249",
   "metadata": {
    "ExecuteTime": {
     "end_time": "2021-06-15T06:21:09.488607Z",
     "start_time": "2021-06-15T06:21:00.035952Z"
    }
   },
   "outputs": [],
   "source": [
    "import numpy as np\n",
    "import cv2\n",
    "\n",
    "orange, blue, white = (0,165,255),(255,0,0),(255,255,255)\n",
    "\n",
    "image = np.full((300,700,3),white,np.uint8)\n",
    "\n",
    "pt1,pt2 = (180,150),(550,150)\n",
    "size = (120,60)\n",
    "\n",
    "cv2.circle(image, pt1,1,0,2)\n",
    "cv2.circle(image, pt2, 1,0,2)\n",
    "\n",
    "cv2.ellipse(image,pt1,size,0,0,360,blue,1)\n",
    "cv2.ellipse(image,pt2,size,90,0,360,blue,1)\n",
    "cv2.ellipse(image,pt1,size,0,0,270,orange,4)\n",
    "cv2.ellipse(image,pt2,size,90,-45,90,orange,4)\n",
    "\n",
    "\n",
    "cv2.imshow(\"Draw Eclipse & Arc\",image)\n",
    "cv2.waitKey(0)\n",
    "cv2.destroyAllWindows()"
   ]
  },
  {
   "cell_type": "markdown",
   "id": "b92bf526",
   "metadata": {},
   "source": [
    "마우스 이벤트 및 그리기 종합"
   ]
  },
  {
   "cell_type": "code",
   "execution_count": 4,
   "id": "dffc7f0e",
   "metadata": {
    "ExecuteTime": {
     "end_time": "2021-06-15T06:36:40.149475Z",
     "start_time": "2021-06-15T06:36:31.446545Z"
    }
   },
   "outputs": [
    {
     "name": "stdout",
     "output_type": "stream",
     "text": [
      "(108, 36)\n",
      "142\n",
      "(182, 95)\n",
      "89\n",
      "(348, 219)\n",
      "284\n",
      "(129, 103)\n",
      "111\n",
      "(167, 107)\n",
      "44\n",
      "(187, 117)\n",
      "63\n",
      "(181, 114)\n",
      "233\n"
     ]
    }
   ],
   "source": [
    "import numpy as np\n",
    "import cv2\n",
    "\n",
    "pt = (-1,-1)\n",
    "\n",
    "def onMouse(event, x,y, flag, prarm):\n",
    "    global image,title,pt\n",
    "    if event == cv2.EVENT_LBUTTONDOWN:\n",
    "        pt = (x,y)\n",
    "    elif event == cv2.EVENT_LBUTTONUP:\n",
    "        cv2.rectangle(image,pt,(x,y),(255,0,0),2)\n",
    "        cv2.imshow(title,image)\n",
    "        pt = (-1,-1)\n",
    "    elif event == cv2.EVENT_RBUTTONDOWN:\n",
    "        pt = (x, y)\n",
    "    elif event == cv2.EVENT_RBUTTONUP:\n",
    "        print(pt)\n",
    "        dist = int(np.sqrt((pt[0]-x)**2 + (pt[1]-y)**2))\n",
    "        print(dist)\n",
    "        cv2.circle(image,pt,dist,(0,0,255),2)\n",
    "        cv2.imshow(title,image)\n",
    "        pt = (-1,-1)\n",
    "        \n",
    "        \n",
    "image = np.full((300,500,3),(255,255,255),np.uint8)\n",
    "\n",
    "title = 'Draw Event'\n",
    "cv2.imshow(title,image)\n",
    "cv2.setMouseCallback(title,onMouse)\n",
    "\n",
    "cv2.waitKey(0)\n",
    "cv2.destroyAllWindows()\n",
    "        \n"
   ]
  },
  {
   "cell_type": "markdown",
   "id": "e6836c45",
   "metadata": {},
   "source": [
    "영상 파일 읽기"
   ]
  },
  {
   "cell_type": "code",
   "execution_count": 1,
   "id": "71709a09",
   "metadata": {
    "ExecuteTime": {
     "end_time": "2021-06-15T06:50:08.925067Z",
     "start_time": "2021-06-15T06:50:04.963054Z"
    }
   },
   "outputs": [
    {
     "name": "stdout",
     "output_type": "stream",
     "text": [
      "행렬좌표 (100,100) 화소값\n",
      "gray2gray 106\n",
      "gray2color [106 106 106]\n",
      "\n",
      "   gray2gray : depth(uint8), channels(1) -> mat_type(CV_8UC1)\n",
      "  gray2color : depth(uint8), channels(3) -> mat_type(CV_8UC3)\n"
     ]
    }
   ],
   "source": [
    "import cv2\n",
    "\n",
    "def print_matInfo(name,image):\n",
    "    if image.dtype == 'uint8':\n",
    "        mat_type='CV_8U'\n",
    "    elif image.dtype == 'int8':\n",
    "        mat_type='CV_8S'\n",
    "    elif image.dtype == 'uint16':\n",
    "        mat_type='CV_16U'\n",
    "    elif image.dtype == 'int16':\n",
    "        mat_type='CV_16s'\n",
    "    elif image.dtype == 'float32':\n",
    "        mat_type='CV_32F'\n",
    "    elif image.dtype == 'uint64':\n",
    "        mat_type='CV_64F'\n",
    "    nchannel = 3 if image.ndim == 3 else 1\n",
    "    \n",
    "    print(\"%12s : depth(%s), channels(%s) -> mat_type(%sC%d)\" %(name, image.dtype, nchannel, mat_type, nchannel)) \n",
    "    \n",
    "title1, title2 = 'gray2gray', 'gray2color'\n",
    "gray2gray = cv2.imread('./images/read_gray.jpg',cv2.IMREAD_GRAYSCALE)\n",
    "gray2color = cv2.imread('./images/read_gray.jpg',cv2.IMREAD_COLOR)\n",
    "\n",
    "if gray2gray is None or gray2color is None :\n",
    "    raise Eeception('영상 파일 읽기 에러')\n",
    "\n",
    "print('행렬좌표 (100,100) 화소값')\n",
    "print('%s %s' %(title1,gray2gray[100,100]))\n",
    "print('%s %s\\n' %(title2,gray2color[100,100]))\n",
    "    \n",
    "cv2.imshow(title1,gray2gray)\n",
    "cv2.imshow(title2,gray2color)\n",
    "    \n",
    "print_matInfo(title1,gray2gray)\n",
    "print_matInfo(title2,gray2color)\n",
    "\n",
    "\n",
    "cv2.waitKey(0)\n",
    "\n",
    "cv2.destroyAllWindows()\n"
   ]
  },
  {
   "cell_type": "markdown",
   "id": "4800f560",
   "metadata": {},
   "source": [
    "영상파일 읽기 컬러2"
   ]
  },
  {
   "cell_type": "code",
   "execution_count": 5,
   "id": "0cf5998d",
   "metadata": {
    "ExecuteTime": {
     "end_time": "2021-06-15T07:01:32.228320Z",
     "start_time": "2021-06-15T07:01:31.035007Z"
    }
   },
   "outputs": [
    {
     "name": "stdout",
     "output_type": "stream",
     "text": [
      "행렬좌표 (100,100) 화소값\n",
      "gray2gray 106\n",
      "gray2color [106 106 106]\n",
      "\n",
      "   gray2gray: depth(uint8), channels(1) -> mat_type(CV_8UC1)\n",
      "  gray2color: depth(uint8), channels(3) -> mat_type(CV_8UC3)\n"
     ]
    }
   ],
   "source": [
    "import cv2\n",
    "from Common.utils import print_matInfo\n",
    "    \n",
    "title1, title2 = 'gray2gray', 'gray2color'\n",
    "gray2gray = cv2.imread('./images/read_gray.jpg',cv2.IMREAD_GRAYSCALE)\n",
    "gray2color = cv2.imread('./images/read_gray.jpg',cv2.IMREAD_COLOR)\n",
    "\n",
    "if gray2gray is None or gray2color is None :\n",
    "    raise Eeception('영상 파일 읽기 에러')\n",
    "\n",
    "print('행렬좌표 (100,100) 화소값')\n",
    "print('%s %s' %(title1,gray2gray[100,100]))\n",
    "print('%s %s\\n' %(title2,gray2color[100,100]))\n",
    "    \n",
    "cv2.imshow(title1,gray2gray)\n",
    "cv2.imshow(title2,gray2color)\n",
    "    \n",
    "print_matInfo(title1,gray2gray)\n",
    "print_matInfo(title2,gray2color)\n",
    "\n",
    "\n",
    "cv2.waitKey(0)\n",
    "\n",
    "cv2.destroyAllWindows()\n"
   ]
  },
  {
   "cell_type": "markdown",
   "id": "ce676c59",
   "metadata": {},
   "source": [
    "16비트 깊이 영상 파일 읽기"
   ]
  },
  {
   "cell_type": "code",
   "execution_count": 4,
   "id": "b45a58cc",
   "metadata": {
    "ExecuteTime": {
     "end_time": "2021-06-15T06:59:51.536355Z",
     "start_time": "2021-06-15T06:59:24.340136Z"
    }
   },
   "outputs": [
    {
     "name": "stdout",
     "output_type": "stream",
     "text": [
      "16/32비트 영상 행렬 좌표(10,10) 픽셀값\n",
      "16bit unchange 원소 자료형 <class 'numpy.uint16'>\n",
      "16bit unchange 원소값(3원소) [48573 34438 23387]\n",
      "32bit unchange 원소 자료형 <class 'numpy.float32'>\n",
      "32bit unchange 원소값(3원소) [0.7456989  0.52237624 0.36376417]\n",
      "\n",
      "16bit unchange: depth(uint16), channels(3) -> mat_type(CV_16UC3)\n",
      "32bit unchange: depth(float32), channels(3) -> mat_type(CV_32FC3)\n"
     ]
    }
   ],
   "source": [
    "import cv2\n",
    "from Common.utils import print_matInfo\n",
    "\n",
    "title1, title2 = '16bit unchange', '32bit unchange'\n",
    "\n",
    "color2unchanged1 = cv2.imread(\"images/read_16.tif\", cv2.IMREAD_UNCHANGED)\n",
    "color2unchanged2 = cv2.imread('./images/read_32.tif', cv2.IMREAD_UNCHANGED)\n",
    "\n",
    "if color2unchanged1 is None or color2unchanged2 is None :\n",
    "    raise Eeception('영상 파일 읽기 에러')\n",
    "    \n",
    "print('16/32비트 영상 행렬 좌표(10,10) 픽셀값')\n",
    "print(title1,'원소 자료형',type(color2unchanged1[10][10][0]))\n",
    "print(title1,'원소값(3원소)',color2unchanged1[10][10])\n",
    "print(title2,'원소 자료형',type(color2unchanged2[10][10][0]))\n",
    "print(title2,'원소값(3원소)',color2unchanged2[10][10])\n",
    "print()\n",
    "\n",
    "print_matInfo(title1,color2unchanged1)\n",
    "print_matInfo(title2,color2unchanged2)\n",
    "\n",
    "cv2.imshow(title1,color2unchanged1)\n",
    "cv2.imshow(title2,color2unchanged2)\n",
    "\n",
    "cv2.waitKey(0)\n",
    "\n",
    "cv2.destroyAllWindows()"
   ]
  },
  {
   "cell_type": "markdown",
   "id": "c5c901f4",
   "metadata": {},
   "source": [
    "영상을 파일로 저장"
   ]
  },
  {
   "cell_type": "code",
   "execution_count": 6,
   "id": "9662e9c3",
   "metadata": {
    "ExecuteTime": {
     "end_time": "2021-06-15T07:06:07.562737Z",
     "start_time": "2021-06-15T07:06:07.389228Z"
    }
   },
   "outputs": [
    {
     "name": "stdout",
     "output_type": "stream",
     "text": [
      "Save Compeleted\n"
     ]
    }
   ],
   "source": [
    "import cv2\n",
    "\n",
    "image = cv2.imread('images/read_color.jpg', cv2.IMREAD_COLOR)\n",
    "if image is None :raise Exception('영상 파일 읽기 에러')\n",
    "    \n",
    "params_jpg = (cv2.IMWRITE_JPEG_QUALITY, 10)\n",
    "params_png = [cv2.IMWRITE_PNG_COMPRESSION, 9]\n",
    "\n",
    "cv2.imwrite('ImageTest/write_test1.jpg', image)\n",
    "cv2.imwrite('ImageTest/write_test2.jpg', image,params_jpg)\n",
    "cv2.imwrite('ImageTest/write_test3.png', image,params_png)\n",
    "cv2.imwrite('ImageTest/write_test4.bmp', image)\n",
    "print(\"Save Compeleted\")\n",
    "\n",
    "\n",
    "\n"
   ]
  },
  {
   "cell_type": "markdown",
   "id": "8e666639",
   "metadata": {},
   "source": [
    "16비트 영상이나 32비트 행렬 저장"
   ]
  },
  {
   "cell_type": "code",
   "execution_count": 10,
   "id": "ce1d91ee",
   "metadata": {
    "ExecuteTime": {
     "end_time": "2021-06-15T07:13:05.001276Z",
     "start_time": "2021-06-15T07:12:57.856107Z"
    }
   },
   "outputs": [
    {
     "name": "stdout",
     "output_type": "stream",
     "text": [
      "image8 행렬의 일부\n",
      " [[[189 134  91]\n",
      "  [189 134  91]\n",
      "  [189 134  91]]\n",
      "\n",
      " [[189 134  91]\n",
      "  [189 134  91]\n",
      "  [189 134  91]]] \n",
      "\n",
      "image13 행렬의 일부\n",
      " [[[11514  8163  5543]\n",
      "  [11514  8163  5543]\n",
      "  [11514  8163  5543]]\n",
      "\n",
      " [[11514  8163  5543]\n",
      "  [11514  8163  5543]\n",
      "  [11514  8163  5543]]] \n",
      "\n",
      "image32 행렬의 일부\n",
      " [[[0.7411765  0.5254902  0.35686275]\n",
      "  [0.7411765  0.5254902  0.35686275]\n",
      "  [0.7411765  0.5254902  0.35686275]]\n",
      "\n",
      " [[0.7411765  0.5254902  0.35686275]\n",
      "  [0.7411765  0.5254902  0.35686275]\n",
      "  [0.7411765  0.5254902  0.35686275]]] \n",
      "\n"
     ]
    }
   ],
   "source": [
    "import numpy as np\n",
    "import cv2\n",
    "\n",
    "image8 = cv2.imread('images/read_color.jpg', cv2.IMREAD_COLOR)\n",
    "if image8 is None : raise Exception(\"영상파일 읽기 에러\")\n",
    "    \n",
    "image16 = np.uint16(image8 *(15535/255))\n",
    "image32 = np.float32(image8 *(1/255))\n",
    "\n",
    "print(\"image8 행렬의 일부\\n %s \\n\" %image8[10:12,10:13])\n",
    "print('image13 행렬의 일부\\n %s \\n' %image16[10:12,10:13])\n",
    "print('image32 행렬의 일부\\n %s \\n' %image32[10:12,10:13])\n",
    "\n",
    "cv2.imwrite('ImageTest/write_test_16.tif', image16)\n",
    "cv2.imwrite('ImageTest/write_test_32.tif', image32)\n",
    "\n",
    "cv2.imshow('image16',image16)\n",
    "cv2.imshow('image32',(image32*255).astype('uint8') )\n",
    "\n",
    "cv2.waitKey(0)\n",
    "\n",
    "cv2.destroyAllWindows()"
   ]
  },
  {
   "cell_type": "markdown",
   "id": "64e01239",
   "metadata": {},
   "source": [
    "카메라 프레임 읽기"
   ]
  },
  {
   "cell_type": "code",
   "execution_count": 15,
   "id": "94e90c29",
   "metadata": {
    "ExecuteTime": {
     "end_time": "2021-06-15T07:21:25.632510Z",
     "start_time": "2021-06-15T07:20:56.187157Z"
    }
   },
   "outputs": [
    {
     "name": "stdout",
     "output_type": "stream",
     "text": [
      "너비 640\n",
      "높이 480\n",
      "노출 -1\n",
      "밝기 64\n"
     ]
    }
   ],
   "source": [
    "import cv2\n",
    "\n",
    "def put_string(frame, text, pt, value, color=(120,200,90)):\n",
    "    text += str(value)\n",
    "    shade = (pt[0]+2,pt[1]+2)\n",
    "    font = cv2.FONT_HERSHEY_SIMPLEX\n",
    "    cv2.putText(frame,text,shade,font,0.7,(0,0,0),2)\n",
    "    cv2.putText(frame,text,pt,font,0.7,color,2)\n",
    "    \n",
    "capture = cv2.VideoCapture(0)\n",
    "if capture.isOpened()==False:\n",
    "    raise Exception(\"카메라 연결 안됨\")\n",
    "\n",
    "print('너비 %d' %capture.get(cv2.CAP_PROP_FRAME_WIDTH))\n",
    "print('높이 %d' %capture.get(cv2.CAP_PROP_FRAME_HEIGHT))\n",
    "print('노출 %d' %capture.get(cv2.CAP_PROP_EXPOSURE))\n",
    "print('밝기 %d' %capture.get(cv2.CAP_PROP_BRIGHTNESS))\n",
    "      \n",
    "while True:\n",
    "    ret, frame = capture.read()\n",
    "    if not ret : break\n",
    "    if cv2.waitKey(30)>=0 : break\n",
    "\n",
    "    exposure = capture.get(cv2.CAP_PROP_EXPOSURE)\n",
    "    put_string(frame, 'EXPOS: ',(10,40), exposure)\n",
    "    title = 'View Frame From Camera'\n",
    "    cv2.imshow(title,frame)\n",
    "      \n",
    "capture.release()"
   ]
  },
  {
   "cell_type": "markdown",
   "id": "64a2a114",
   "metadata": {},
   "source": [
    "카메라 속성 설정"
   ]
  },
  {
   "cell_type": "code",
   "execution_count": 1,
   "id": "a391d3f5",
   "metadata": {
    "ExecuteTime": {
     "end_time": "2021-06-15T07:29:53.712210Z",
     "start_time": "2021-06-15T07:29:15.069738Z"
    }
   },
   "outputs": [],
   "source": [
    "import cv2\n",
    "from Common.utils import put_string\n",
    "\n",
    "def zoom_bar(value):\n",
    "    global capture\n",
    "    capture.set(cv2.CAP_PROP_ZOOM, value)\n",
    "    \n",
    "def focus_bar(value) :\n",
    "    global capture\n",
    "    capture.set(cv2.CAP_PROP_FOCUS, value)\n",
    "    \n",
    "    \n",
    "capture = cv2.VideoCapture(0)\n",
    "if capture.isOpened()==False:\n",
    "    raise Exception(\"카메라 연결 안됨\")\n",
    "\n",
    "capture.set(cv2.CAP_PROP_FRAME_WIDTH,400)\n",
    "capture.set(cv2.CAP_PROP_FRAME_HEIGHT,300)\n",
    "capture.set(cv2.CAP_PROP_EXPOSURE,0)\n",
    "capture.set(cv2.CAP_PROP_BRIGHTNESS,100)\n",
    "\n",
    "\n",
    "title = 'Change Camera Properties'\n",
    "cv2.namedWindow(title)\n",
    "cv2.createTrackbar('zoon', title, 0, 10, zoom_bar)\n",
    "cv2.createTrackbar('focus', title, 0, 40, focus_bar)\n",
    "\n",
    "while True:\n",
    "    ret, frame = capture.read()\n",
    "    if not ret : break\n",
    "    if cv2.waitKey(30)>=0 : break\n",
    "    \n",
    "    zoom = int(capture.get(cv2.CAP_PROP_ZOOM))\n",
    "    focus = int(capture.get(cv2.CAP_PROP_FOCUS))\n",
    "    \n",
    "    put_string(frame, 'zoom : ',(10,240), zoom)\n",
    "    put_string(frame, 'focus : ',(10,270), focus)\n",
    "    cv2.imshow(title,frame)\n",
    "      \n",
    "capture.release()"
   ]
  },
  {
   "cell_type": "code",
   "execution_count": null,
   "id": "5645a3c2",
   "metadata": {},
   "outputs": [],
   "source": []
  },
  {
   "cell_type": "code",
   "execution_count": null,
   "id": "04a81d20",
   "metadata": {},
   "outputs": [],
   "source": []
  },
  {
   "cell_type": "code",
   "execution_count": null,
   "id": "ff4fc867",
   "metadata": {},
   "outputs": [],
   "source": []
  },
  {
   "cell_type": "code",
   "execution_count": null,
   "id": "8799d5b5",
   "metadata": {},
   "outputs": [],
   "source": []
  }
 ],
 "metadata": {
  "kernelspec": {
   "display_name": "Python 3",
   "language": "python",
   "name": "python3"
  },
  "language_info": {
   "codemirror_mode": {
    "name": "ipython",
    "version": 3
   },
   "file_extension": ".py",
   "mimetype": "text/x-python",
   "name": "python",
   "nbconvert_exporter": "python",
   "pygments_lexer": "ipython3",
   "version": "3.8.8"
  },
  "varInspector": {
   "cols": {
    "lenName": 16,
    "lenType": 16,
    "lenVar": 40
   },
   "kernels_config": {
    "python": {
     "delete_cmd_postfix": "",
     "delete_cmd_prefix": "del ",
     "library": "var_list.py",
     "varRefreshCmd": "print(var_dic_list())"
    },
    "r": {
     "delete_cmd_postfix": ") ",
     "delete_cmd_prefix": "rm(",
     "library": "var_list.r",
     "varRefreshCmd": "cat(var_dic_list()) "
    }
   },
   "types_to_exclude": [
    "module",
    "function",
    "builtin_function_or_method",
    "instance",
    "_Feature"
   ],
   "window_display": false
  }
 },
 "nbformat": 4,
 "nbformat_minor": 5
}
