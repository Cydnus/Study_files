{
 "cells": [
  {
   "cell_type": "code",
   "execution_count": 2,
   "id": "4c04e9d0",
   "metadata": {
    "ExecuteTime": {
     "end_time": "2021-06-15T03:19:54.513057Z",
     "start_time": "2021-06-15T03:19:54.187741Z"
    }
   },
   "outputs": [],
   "source": [
    "from selenium import webdriver\n",
    "from bs4 import BeautifulSoup"
   ]
  },
  {
   "cell_type": "code",
   "execution_count": 3,
   "id": "bb8c60d5",
   "metadata": {
    "ExecuteTime": {
     "end_time": "2021-06-15T03:19:59.177362Z",
     "start_time": "2021-06-15T03:19:54.549050Z"
    }
   },
   "outputs": [],
   "source": [
    "driver = webdriver.Chrome('c:/playwithdata/chromedriver.exe')\n",
    "\n",
    "url = 'http://music.bugs.co.kr/chart'\n",
    "driver.get(url)\n",
    "\n",
    "html = driver.page_source\n",
    "soup = BeautifulSoup(html, 'html.parser')"
   ]
  },
  {
   "cell_type": "markdown",
   "id": "e43b2059",
   "metadata": {},
   "source": [
    "tr태그로 곡 정보 찾기 1"
   ]
  },
  {
   "cell_type": "code",
   "execution_count": 4,
   "id": "d2ccabb5",
   "metadata": {
    "ExecuteTime": {
     "end_time": "2021-06-15T03:20:12.882888Z",
     "start_time": "2021-06-15T03:20:12.859950Z"
    }
   },
   "outputs": [
    {
     "name": "stdout",
     "output_type": "stream",
     "text": [
      "104\n"
     ]
    }
   ],
   "source": [
    "songs = soup.select('tr')\n",
    "print(len(songs))"
   ]
  },
  {
   "cell_type": "markdown",
   "id": "ee53f765",
   "metadata": {},
   "source": [
    "tr태그로 곡 정보 찾기 2 "
   ]
  },
  {
   "cell_type": "code",
   "execution_count": 5,
   "id": "9e06d95e",
   "metadata": {
    "ExecuteTime": {
     "end_time": "2021-06-15T03:20:36.113673Z",
     "start_time": "2021-06-15T03:20:36.082589Z"
    }
   },
   "outputs": [
    {
     "name": "stdout",
     "output_type": "stream",
     "text": [
      "103\n"
     ]
    }
   ],
   "source": [
    "songs = soup.select('tbody > tr')\n",
    "print(len(songs))"
   ]
  },
  {
   "cell_type": "markdown",
   "id": "2e5f07d3",
   "metadata": {},
   "source": [
    "tr태그로 곡 정보 찾기 3"
   ]
  },
  {
   "cell_type": "code",
   "execution_count": 6,
   "id": "9078935f",
   "metadata": {
    "ExecuteTime": {
     "end_time": "2021-06-15T03:20:53.633791Z",
     "start_time": "2021-06-15T03:20:53.611851Z"
    }
   },
   "outputs": [
    {
     "name": "stdout",
     "output_type": "stream",
     "text": [
      "100\n"
     ]
    }
   ],
   "source": [
    "songs = soup.select('table.byChart > tbody > tr')\n",
    "print(len(songs))"
   ]
  },
  {
   "cell_type": "markdown",
   "id": "4ee5cf1f",
   "metadata": {},
   "source": [
    "첫번째 태그 출력"
   ]
  },
  {
   "cell_type": "code",
   "execution_count": 7,
   "id": "aa4dda27",
   "metadata": {
    "ExecuteTime": {
     "end_time": "2021-06-15T03:20:59.209521Z",
     "start_time": "2021-06-15T03:20:59.195528Z"
    }
   },
   "outputs": [
    {
     "name": "stdout",
     "output_type": "stream",
     "text": [
      "<tr albumid=\"20401773\" artistid=\"80249916\" multiartist=\"N\" mvid=\"596264\" rowtype=\"track\" trackid=\"32254320\">\n",
      "<input name=\"_isStream\" type=\"hidden\" value=\"32254320\"/>\n",
      "<input name=\"_isDown\" type=\"hidden\" value=\"32254320\"/>\n",
      "<td class=\"check\"><input buyminquality=\"T\" disc_id=\"1\" name=\"check\" title=\"Alcohol-Free\" type=\"checkbox\" value=\"32254320\"/></td>\n",
      "<td>\n",
      "<div class=\"ranking\">\n",
      "<strong>1</strong>\n",
      "<p class=\"change none\"><em>0</em><span>변동없음</span></p>\n",
      "</div>\n",
      "</td>\n",
      "<td>\n",
      "<a class=\"thumbnail\" href=\"https://music.bugs.co.kr/album/20401773?wl_ref=list_tr_07_chart\" onclick=\"\n",
      "\">\n",
      "<span class=\"mask\"></span>\n",
      "<img alt=\"Taste of Love 대표이미지\" onerror=\"bugs.utils.imgError(this);\" src=\"https://image.bugsm.co.kr/album/images/50/204017/20401773.jpg?version=20210615002256.0\"/>\n",
      "</a>\n",
      "</td>\n",
      "<td>\n",
      "<a class=\"trackInfo\" href=\"https://music.bugs.co.kr/track/32254320?wl_ref=list_tr_08_chart\" onclick=\"\n",
      "\">곡정보</a>\n",
      "</td>\n",
      "<th scope=\"row\">\n",
      "<p adult_yn=\"N\" class=\"title\">\n",
      "<a adultcheckval=\"1\" aria-label=\"새창\" href=\"javascript:;\" onclick=\"bugs.wiselog.area('list_tr_09_chart');bugs.music.listen('32254320',true);\n",
      "\" title=\"Alcohol-Free\">Alcohol-Free</a>\n",
      "</p>\n",
      "</th>\n",
      "<td class=\"left\">\n",
      "<p class=\"artist\">\n",
      "<a href=\"https://music.bugs.co.kr/artist/80249916?wl_ref=list_tr_10_chart\" onclick=\"\n",
      "\" title=\"TWICE (트와이스)\">TWICE (트와이스)</a>\n",
      "</p>\n",
      "</td>\n",
      "<td class=\"left\">\n",
      "<a class=\"album\" href=\"https://music.bugs.co.kr/album/20401773?wl_ref=list_tr_11_chart\" onclick=\"\n",
      "\" title=\"Taste of Love\">Taste of Love</a>\n",
      "</td>\n",
      "<td>\n",
      "<a adultcheckval=\"1\" aria-label=\"새창\" class=\"btn play\" href=\"javascript:;\" onclick=\"bugs.wiselog.area('list_tr_12_chart');bugs.music.listen('32254320',true);\n",
      "\">듣기</a>\n",
      "</td>\n",
      "<td>\n",
      "<a adultcheckval=\"1\" aria-label=\"새창\" class=\"btn addPlaylist\" href=\"javascript:;\" onclick=\"bugs.wiselog.area('list_tr_13_chart');bugs.music.listen('32254320');\n",
      "\">재생목록에 추가</a>\n",
      "</td>\n",
      "<td>\n",
      "<a class=\"btn addAlbum\" href=\"javascript:;\" onclick=\"bugs.wiselog.area('list_tr_14_chart');bugs.music.addTrackToMyAlbum(this,'32254320');\n",
      "\" track_title=\"Alcohol-Free\">내 앨범에 담기</a>\n",
      "</td>\n",
      "<td>\n",
      "<a adultcheckval=\"1\" aria-label=\"새창\" class=\"btn download flac\" href=\"javascript:;\" onclick=\"bugs.wiselog.area('list_tr_15_chart');bugs.layermenu.down(this,'32254320','true','true','44.1','false','', null );\n",
      "\"><em class=\"flac\">flac </em>다운로드</a>\n",
      "</td>\n",
      "<td>\n",
      "<a aria-label=\"새창\" class=\"btn viewMV\" href=\"javascript:;\" onclick=\"bugs.wiselog.area('list_tr_16_chart');\n",
      "bugs.layermenu.mv(this,32254320, 596264, 'Y', 'Y', 'Y', 'Y', 32254320, 'N','OVER_15', 'Y');\n",
      "\">영상 재생</a>\n",
      "</td>\n",
      "<td>\n",
      "<a artist_disp_nm=\"TWICE (트와이스)\" artist_id=\"80249916\" class=\"btnActions\" href=\"javascript:;\" layer_type=\"CHART\" layerpositiontarget=\"td\" onclick=\"bugs.wiselog.area('list_tr_17_chart');\n",
      "bugs.layermenu.trackMoreAction(this,'32254320','0','20401773','bugs.music.listenRadioFromSeed(\\'32254320\\',\\'track\\');','N', 'Y', '_chart');\n",
      "\" track_title=\"Alcohol-Free\">기타 기능</a>\n",
      "</td>\n",
      "</tr>\n"
     ]
    }
   ],
   "source": [
    "print(songs[0])"
   ]
  },
  {
   "cell_type": "code",
   "execution_count": null,
   "id": "0017b678",
   "metadata": {},
   "outputs": [],
   "source": []
  },
  {
   "cell_type": "code",
   "execution_count": null,
   "id": "719114b8",
   "metadata": {},
   "outputs": [],
   "source": []
  },
  {
   "cell_type": "code",
   "execution_count": null,
   "id": "825817f3",
   "metadata": {},
   "outputs": [],
   "source": []
  }
 ],
 "metadata": {
  "kernelspec": {
   "display_name": "Python 3",
   "language": "python",
   "name": "python3"
  },
  "language_info": {
   "codemirror_mode": {
    "name": "ipython",
    "version": 3
   },
   "file_extension": ".py",
   "mimetype": "text/x-python",
   "name": "python",
   "nbconvert_exporter": "python",
   "pygments_lexer": "ipython3",
   "version": "3.8.8"
  },
  "varInspector": {
   "cols": {
    "lenName": 16,
    "lenType": 16,
    "lenVar": 40
   },
   "kernels_config": {
    "python": {
     "delete_cmd_postfix": "",
     "delete_cmd_prefix": "del ",
     "library": "var_list.py",
     "varRefreshCmd": "print(var_dic_list())"
    },
    "r": {
     "delete_cmd_postfix": ") ",
     "delete_cmd_prefix": "rm(",
     "library": "var_list.r",
     "varRefreshCmd": "cat(var_dic_list()) "
    }
   },
   "types_to_exclude": [
    "module",
    "function",
    "builtin_function_or_method",
    "instance",
    "_Feature"
   ],
   "window_display": false
  }
 },
 "nbformat": 4,
 "nbformat_minor": 5
}
