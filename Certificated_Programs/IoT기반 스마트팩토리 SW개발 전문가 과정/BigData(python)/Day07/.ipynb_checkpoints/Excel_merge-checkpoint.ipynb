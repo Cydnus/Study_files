{
 "cells": [
  {
   "cell_type": "code",
   "execution_count": 1,
   "id": "c5957582",
   "metadata": {
    "ExecuteTime": {
     "end_time": "2021-06-15T03:33:11.912794Z",
     "start_time": "2021-06-15T03:33:11.344245Z"
    }
   },
   "outputs": [],
   "source": [
    "import pandas as pd"
   ]
  },
  {
   "cell_type": "code",
   "execution_count": 2,
   "id": "0b64193e",
   "metadata": {
    "ExecuteTime": {
     "end_time": "2021-06-15T03:34:56.426301Z",
     "start_time": "2021-06-15T03:34:55.426975Z"
    }
   },
   "outputs": [],
   "source": [
    "excel_name = {'./files/bugs.xlsx','./files/melon.xlsx'}\n",
    "\n",
    "appended_data = pd.DataFrame()\n",
    "\n",
    "for name in excel_name:\n",
    "    pd_data = pd.read_excel(name)\n",
    "    appended_data = appended_data.append(pd_data)"
   ]
  },
  {
   "cell_type": "code",
   "execution_count": 3,
   "id": "0c9baa8d",
   "metadata": {
    "ExecuteTime": {
     "end_time": "2021-06-15T03:35:00.303837Z",
     "start_time": "2021-06-15T03:35:00.281937Z"
    }
   },
   "outputs": [
    {
     "name": "stdout",
     "output_type": "stream",
     "text": [
      "<class 'pandas.core.frame.DataFrame'>\n",
      "Int64Index: 200 entries, 0 to 99\n",
      "Data columns (total 4 columns):\n",
      " #   Column  Non-Null Count  Dtype \n",
      "---  ------  --------------  ----- \n",
      " 0   서비스     200 non-null    object\n",
      " 1   순위      200 non-null    int64 \n",
      " 2   타이틀     200 non-null    object\n",
      " 3   가수      200 non-null    object\n",
      "dtypes: int64(1), object(3)\n",
      "memory usage: 7.8+ KB\n"
     ]
    }
   ],
   "source": [
    "appended_data.info()"
   ]
  },
  {
   "cell_type": "code",
   "execution_count": 4,
   "id": "e86fc700",
   "metadata": {
    "ExecuteTime": {
     "end_time": "2021-06-15T03:35:29.495447Z",
     "start_time": "2021-06-15T03:35:29.265964Z"
    }
   },
   "outputs": [],
   "source": [
    "appended_data.to_excel('./files/total.xlsx', index = False)"
   ]
  },
  {
   "cell_type": "code",
   "execution_count": null,
   "id": "a418833e",
   "metadata": {},
   "outputs": [],
   "source": []
  }
 ],
 "metadata": {
  "kernelspec": {
   "display_name": "Python 3",
   "language": "python",
   "name": "python3"
  },
  "language_info": {
   "codemirror_mode": {
    "name": "ipython",
    "version": 3
   },
   "file_extension": ".py",
   "mimetype": "text/x-python",
   "name": "python",
   "nbconvert_exporter": "python",
   "pygments_lexer": "ipython3",
   "version": "3.8.8"
  },
  "varInspector": {
   "cols": {
    "lenName": 16,
    "lenType": 16,
    "lenVar": 40
   },
   "kernels_config": {
    "python": {
     "delete_cmd_postfix": "",
     "delete_cmd_prefix": "del ",
     "library": "var_list.py",
     "varRefreshCmd": "print(var_dic_list())"
    },
    "r": {
     "delete_cmd_postfix": ") ",
     "delete_cmd_prefix": "rm(",
     "library": "var_list.r",
     "varRefreshCmd": "cat(var_dic_list()) "
    }
   },
   "types_to_exclude": [
    "module",
    "function",
    "builtin_function_or_method",
    "instance",
    "_Feature"
   ],
   "window_display": false
  }
 },
 "nbformat": 4,
 "nbformat_minor": 5
}
