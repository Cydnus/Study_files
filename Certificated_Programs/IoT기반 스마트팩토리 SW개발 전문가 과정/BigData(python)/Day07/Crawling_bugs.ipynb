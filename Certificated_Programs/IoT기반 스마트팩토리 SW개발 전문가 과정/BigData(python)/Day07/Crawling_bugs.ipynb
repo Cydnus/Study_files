{
 "cells": [
  {
   "cell_type": "code",
   "execution_count": 2,
   "id": "904462c9",
   "metadata": {
    "ExecuteTime": {
     "end_time": "2021-06-15T03:19:54.513057Z",
     "start_time": "2021-06-15T03:19:54.187741Z"
    }
   },
   "outputs": [],
   "source": [
    "from selenium import webdriver\n",
    "from bs4 import BeautifulSoup"
   ]
  },
  {
   "cell_type": "code",
   "execution_count": 3,
   "id": "0af8d771",
   "metadata": {
    "ExecuteTime": {
     "end_time": "2021-06-15T03:19:59.177362Z",
     "start_time": "2021-06-15T03:19:54.549050Z"
    }
   },
   "outputs": [],
   "source": [
    "driver = webdriver.Chrome('c:/playwithdata/chromedriver.exe')\n",
    "\n",
    "url = 'http://music.bugs.co.kr/chart'\n",
    "driver.get(url)\n",
    "\n",
    "html = driver.page_source\n",
    "soup = BeautifulSoup(html, 'html.parser')"
   ]
  },
  {
   "cell_type": "markdown",
   "id": "0cc07044",
   "metadata": {},
   "source": [
    "tr태그로 곡 정보 찾기 1"
   ]
  },
  {
   "cell_type": "code",
   "execution_count": 4,
   "id": "09e1b7c0",
   "metadata": {
    "ExecuteTime": {
     "end_time": "2021-06-15T03:20:12.882888Z",
     "start_time": "2021-06-15T03:20:12.859950Z"
    }
   },
   "outputs": [
    {
     "name": "stdout",
     "output_type": "stream",
     "text": [
      "104\n"
     ]
    }
   ],
   "source": [
    "songs = soup.select('tr')\n",
    "print(len(songs))"
   ]
  },
  {
   "cell_type": "markdown",
   "id": "6dc13b66",
   "metadata": {},
   "source": [
    "tr태그로 곡 정보 찾기 2 "
   ]
  },
  {
   "cell_type": "code",
   "execution_count": 5,
   "id": "7c7f73f6",
   "metadata": {
    "ExecuteTime": {
     "end_time": "2021-06-15T03:20:36.113673Z",
     "start_time": "2021-06-15T03:20:36.082589Z"
    }
   },
   "outputs": [
    {
     "name": "stdout",
     "output_type": "stream",
     "text": [
      "103\n"
     ]
    }
   ],
   "source": [
    "songs = soup.select('tbody > tr')\n",
    "print(len(songs))"
   ]
  },
  {
   "cell_type": "markdown",
   "id": "a996909e",
   "metadata": {},
   "source": [
    "tr태그로 곡 정보 찾기 3"
   ]
  },
  {
   "cell_type": "code",
   "execution_count": 6,
   "id": "5f4d414e",
   "metadata": {
    "ExecuteTime": {
     "end_time": "2021-06-15T03:20:53.633791Z",
     "start_time": "2021-06-15T03:20:53.611851Z"
    }
   },
   "outputs": [
    {
     "name": "stdout",
     "output_type": "stream",
     "text": [
      "100\n"
     ]
    }
   ],
   "source": [
    "songs = soup.select('table.byChart > tbody > tr')\n",
    "print(len(songs))"
   ]
  },
  {
   "cell_type": "markdown",
   "id": "3823f96f",
   "metadata": {},
   "source": [
    "첫번째 태그 출력"
   ]
  },
  {
   "cell_type": "code",
   "execution_count": 7,
   "id": "5d2a8554",
   "metadata": {
    "ExecuteTime": {
     "end_time": "2021-06-15T03:20:59.209521Z",
     "start_time": "2021-06-15T03:20:59.195528Z"
    }
   },
   "outputs": [
    {
     "name": "stdout",
     "output_type": "stream",
     "text": [
      "<tr albumid=\"20401773\" artistid=\"80249916\" multiartist=\"N\" mvid=\"596264\" rowtype=\"track\" trackid=\"32254320\">\n",
      "<input name=\"_isStream\" type=\"hidden\" value=\"32254320\"/>\n",
      "<input name=\"_isDown\" type=\"hidden\" value=\"32254320\"/>\n",
      "<td class=\"check\"><input buyminquality=\"T\" disc_id=\"1\" name=\"check\" title=\"Alcohol-Free\" type=\"checkbox\" value=\"32254320\"/></td>\n",
      "<td>\n",
      "<div class=\"ranking\">\n",
      "<strong>1</strong>\n",
      "<p class=\"change none\"><em>0</em><span>변동없음</span></p>\n",
      "</div>\n",
      "</td>\n",
      "<td>\n",
      "<a class=\"thumbnail\" href=\"https://music.bugs.co.kr/album/20401773?wl_ref=list_tr_07_chart\" onclick=\"\n",
      "\">\n",
      "<span class=\"mask\"></span>\n",
      "<img alt=\"Taste of Love 대표이미지\" onerror=\"bugs.utils.imgError(this);\" src=\"https://image.bugsm.co.kr/album/images/50/204017/20401773.jpg?version=20210615002256.0\"/>\n",
      "</a>\n",
      "</td>\n",
      "<td>\n",
      "<a class=\"trackInfo\" href=\"https://music.bugs.co.kr/track/32254320?wl_ref=list_tr_08_chart\" onclick=\"\n",
      "\">곡정보</a>\n",
      "</td>\n",
      "<th scope=\"row\">\n",
      "<p adult_yn=\"N\" class=\"title\">\n",
      "<a adultcheckval=\"1\" aria-label=\"새창\" href=\"javascript:;\" onclick=\"bugs.wiselog.area('list_tr_09_chart');bugs.music.listen('32254320',true);\n",
      "\" title=\"Alcohol-Free\">Alcohol-Free</a>\n",
      "</p>\n",
      "</th>\n",
      "<td class=\"left\">\n",
      "<p class=\"artist\">\n",
      "<a href=\"https://music.bugs.co.kr/artist/80249916?wl_ref=list_tr_10_chart\" onclick=\"\n",
      "\" title=\"TWICE (트와이스)\">TWICE (트와이스)</a>\n",
      "</p>\n",
      "</td>\n",
      "<td class=\"left\">\n",
      "<a class=\"album\" href=\"https://music.bugs.co.kr/album/20401773?wl_ref=list_tr_11_chart\" onclick=\"\n",
      "\" title=\"Taste of Love\">Taste of Love</a>\n",
      "</td>\n",
      "<td>\n",
      "<a adultcheckval=\"1\" aria-label=\"새창\" class=\"btn play\" href=\"javascript:;\" onclick=\"bugs.wiselog.area('list_tr_12_chart');bugs.music.listen('32254320',true);\n",
      "\">듣기</a>\n",
      "</td>\n",
      "<td>\n",
      "<a adultcheckval=\"1\" aria-label=\"새창\" class=\"btn addPlaylist\" href=\"javascript:;\" onclick=\"bugs.wiselog.area('list_tr_13_chart');bugs.music.listen('32254320');\n",
      "\">재생목록에 추가</a>\n",
      "</td>\n",
      "<td>\n",
      "<a class=\"btn addAlbum\" href=\"javascript:;\" onclick=\"bugs.wiselog.area('list_tr_14_chart');bugs.music.addTrackToMyAlbum(this,'32254320');\n",
      "\" track_title=\"Alcohol-Free\">내 앨범에 담기</a>\n",
      "</td>\n",
      "<td>\n",
      "<a adultcheckval=\"1\" aria-label=\"새창\" class=\"btn download flac\" href=\"javascript:;\" onclick=\"bugs.wiselog.area('list_tr_15_chart');bugs.layermenu.down(this,'32254320','true','true','44.1','false','', null );\n",
      "\"><em class=\"flac\">flac </em>다운로드</a>\n",
      "</td>\n",
      "<td>\n",
      "<a aria-label=\"새창\" class=\"btn viewMV\" href=\"javascript:;\" onclick=\"bugs.wiselog.area('list_tr_16_chart');\n",
      "bugs.layermenu.mv(this,32254320, 596264, 'Y', 'Y', 'Y', 'Y', 32254320, 'N','OVER_15', 'Y');\n",
      "\">영상 재생</a>\n",
      "</td>\n",
      "<td>\n",
      "<a artist_disp_nm=\"TWICE (트와이스)\" artist_id=\"80249916\" class=\"btnActions\" href=\"javascript:;\" layer_type=\"CHART\" layerpositiontarget=\"td\" onclick=\"bugs.wiselog.area('list_tr_17_chart');\n",
      "bugs.layermenu.trackMoreAction(this,'32254320','0','20401773','bugs.music.listenRadioFromSeed(\\'32254320\\',\\'track\\');','N', 'Y', '_chart');\n",
      "\" track_title=\"Alcohol-Free\">기타 기능</a>\n",
      "</td>\n",
      "</tr>\n"
     ]
    }
   ],
   "source": [
    "print(songs[0])"
   ]
  },
  {
   "cell_type": "markdown",
   "id": "f1bd4478",
   "metadata": {},
   "source": [
    "한개 곡 정보 저장"
   ]
  },
  {
   "cell_type": "code",
   "execution_count": 9,
   "id": "2d16181f",
   "metadata": {
    "ExecuteTime": {
     "end_time": "2021-06-15T03:22:34.108567Z",
     "start_time": "2021-06-15T03:22:34.090616Z"
    }
   },
   "outputs": [],
   "source": [
    "song = songs[0]"
   ]
  },
  {
   "cell_type": "markdown",
   "id": "d78a2769",
   "metadata": {},
   "source": [
    "곡 제목 찾기"
   ]
  },
  {
   "cell_type": "code",
   "execution_count": 10,
   "id": "8ffeb1df",
   "metadata": {
    "ExecuteTime": {
     "end_time": "2021-06-15T03:23:13.047330Z",
     "start_time": "2021-06-15T03:23:13.033333Z"
    }
   },
   "outputs": [
    {
     "data": {
      "text/plain": [
       "11"
      ]
     },
     "execution_count": 10,
     "metadata": {},
     "output_type": "execute_result"
    }
   ],
   "source": [
    "title = song.select('a')\n",
    "len(title)"
   ]
  },
  {
   "cell_type": "code",
   "execution_count": 12,
   "id": "71d0bfb2",
   "metadata": {
    "ExecuteTime": {
     "end_time": "2021-06-15T03:23:44.714260Z",
     "start_time": "2021-06-15T03:23:44.696293Z"
    }
   },
   "outputs": [
    {
     "data": {
      "text/plain": [
       "2"
      ]
     },
     "execution_count": 12,
     "metadata": {},
     "output_type": "execute_result"
    }
   ],
   "source": [
    "title = song.select('p > a')\n",
    "len(title)"
   ]
  },
  {
   "cell_type": "code",
   "execution_count": 14,
   "id": "8d9b4a81",
   "metadata": {
    "ExecuteTime": {
     "end_time": "2021-06-15T03:24:05.313082Z",
     "start_time": "2021-06-15T03:24:05.294133Z"
    }
   },
   "outputs": [
    {
     "data": {
      "text/plain": [
       "1"
      ]
     },
     "execution_count": 14,
     "metadata": {},
     "output_type": "execute_result"
    }
   ],
   "source": [
    "title = song.select('p.title > a')\n",
    "len(title)"
   ]
  },
  {
   "cell_type": "markdown",
   "id": "b026a167",
   "metadata": {},
   "source": [
    "곡 제목 텍스트 출력"
   ]
  },
  {
   "cell_type": "code",
   "execution_count": 15,
   "id": "3b797016",
   "metadata": {
    "ExecuteTime": {
     "end_time": "2021-06-15T03:24:50.766394Z",
     "start_time": "2021-06-15T03:24:50.747445Z"
    }
   },
   "outputs": [
    {
     "data": {
      "text/plain": [
       "'Alcohol-Free'"
      ]
     },
     "execution_count": 15,
     "metadata": {},
     "output_type": "execute_result"
    }
   ],
   "source": [
    "title = song.select('p.title > a')[0].text\n",
    "title"
   ]
  },
  {
   "cell_type": "markdown",
   "id": "80457f9f",
   "metadata": {},
   "source": [
    "가수 이름 텍스트로 출력"
   ]
  },
  {
   "cell_type": "code",
   "execution_count": 16,
   "id": "d3db6d3e",
   "metadata": {
    "ExecuteTime": {
     "end_time": "2021-06-15T03:25:31.072082Z",
     "start_time": "2021-06-15T03:25:31.061137Z"
    }
   },
   "outputs": [
    {
     "data": {
      "text/plain": [
       "'TWICE (트와이스)'"
      ]
     },
     "execution_count": 16,
     "metadata": {},
     "output_type": "execute_result"
    }
   ],
   "source": [
    "singer = song.select('p.artist > a ')[0].text.strip()\n",
    "singer"
   ]
  },
  {
   "cell_type": "code",
   "execution_count": 17,
   "id": "d5f826df",
   "metadata": {
    "ExecuteTime": {
     "end_time": "2021-06-15T03:26:35.473080Z",
     "start_time": "2021-06-15T03:26:35.421218Z"
    }
   },
   "outputs": [
    {
     "name": "stdout",
     "output_type": "stream",
     "text": [
      "Alcohol-Free\t|\tTWICE (트와이스)\n",
      "Butter\t|\t방탄소년단\n",
      "추적이는 여름 비가 되어\t|\t장범준\n",
      "Next Level\t|\taespa\n",
      "헤픈 우연\t|\t헤이즈(Heize)\n",
      "Dun Dun Dance\t|\t오마이걸(OH MY GIRL)\n",
      "안녕 (Hello)\t|\t조이 (JOY)\n",
      "내 입술 따뜻한 커피처럼\t|\t청하\n",
      "All of My Love\t|\t다비치\n",
      "ASAP\t|\tSTAYC(스테이씨)\n",
      "롤린 (Rollin')\t|\t브레이브걸스(Brave Girls)\n",
      "운전만해 (We Ride)\t|\t브레이브걸스(Brave Girls)\n",
      "Peaches (feat. Daniel Caesar, Giveon)\t|\tJustin Bieber(저스틴 비버)\n",
      "Loving You Girl (feat. Hkeem)\t|\tPeder Elias\n",
      "그러니까\t|\t정승환\n",
      "상상더하기\t|\t라붐(LABOUM)\n",
      "Off My Face\t|\tJustin Bieber(저스틴 비버)\n",
      "라일락\t|\t아이유(IU)\n",
      "Dynamite\t|\t방탄소년단\n",
      "좋을텐데 (If Only) (Feat. 폴킴)\t|\t조이 (JOY)\n",
      "우리집\t|\t2PM\n",
      "마.피.아. In the morning\t|\tITZY (있지)\n",
      "오늘따라 더 미운 그대가\t|\t전상근\n",
      "Don't fight the feeling\t|\tEXO\n",
      "Celebrity\t|\t아이유(IU)\n",
      "Timeless\t|\tSG워너비\n",
      "Je T′aime\t|\t조이 (JOY)\n",
      "실버판테온\t|\t장범준\n",
      "상상더하기\t|\tMSG워너비 TOP 8 (별루지, 김정수, 강창모, 정기석, 이동휘, 이상이, 박재정, 원슈타인)\n",
      "Kiss Me More (feat. SZA)\t|\tDoja Cat(도자 캣)\n",
      "멜로디\t|\tASH ISLAND\n",
      "텅 빈 거리에서 (Feat. 윤종신)\t|\t015B\n",
      "WE GO\t|\t프로미스나인\n",
      "DNA Remix\t|\t박재범\n",
      "I Love U\t|\t성시경\n",
      "사이렌 Remix (Feat. UNEDUCATED KID, Paul Blanco)\t|\t호미들\n",
      "Where Are We Now\t|\t마마무(Mamamoo)\n",
      "체념\t|\t정상동기 (김정수, 정기석, 이동휘, 이상이)\n",
      "Day By Day\t|\t조이 (JOY)\n",
      "그냥 안아달란 말야\t|\t다비치\n",
      "내 손을 잡아\t|\t아이유(IU)\n",
      "Save Your Tears (Remix)\t|\tThe Weeknd(위켄드)\n",
      "어푸 (Ah puh)\t|\t아이유(IU)\n",
      "DRIVE (Feat. Leellamarz)\t|\t정엽\n",
      "서울의 잠 못 이루는 밤 (Feat. 이수현)\t|\t10CM\n",
      "Happy Birthday To You\t|\t조이 (JOY)\n",
      "Black Mamba\t|\taespa\n",
      "처음처럼 (Feat. 개리)\t|\t헤이즈(Heize)\n",
      "신호등\t|\t이무진\n",
      "Coin\t|\t아이유(IU)\n",
      "Leave The Door Open\t|\tBruno Mars(브루노 마스)\n",
      "Dolphin\t|\t오마이걸(OH MY GIRL)\n",
      "맛 (Hot Sauce)\t|\tNCT DREAM\n",
      "Blue Moon (Cinema Ver.)\t|\t비투비\n",
      "감기 (Feat. 창모)\t|\t헤이즈(Heize)\n",
      "If You Love Me (Feat. 주헌 (몬스타엑스))\t|\tNS Yoon-G\n",
      "모든 날, 모든 순간 (Every day, Every Moment)\t|\t폴킴(Paul Kim)\n",
      "Savage Love (Laxed - Siren Beat) (BTS Remix)\t|\tJawsh 685\n",
      "라라라\t|\tSG워너비\n",
      "Beautiful Mistakes\t|\tMaroon 5(마룬 파이브)\n",
      "에잇(Prod.&Feat. SUGA of BTS)\t|\t아이유(IU)\n",
      "어떻게 이별까지 사랑하겠어, 널 사랑하는 거지\t|\tAKMU (악동뮤지션)\n",
      "출항\t|\t안예은\n",
      "Leave Before You Love Me\t|\tMarshmello(마시멜로)\n",
      "On The Ground\t|\t로제(ROSÉ)\n",
      "별빛 같은 나의 사랑아\t|\t임영웅\n",
      "내사람: Partner For Life\t|\tSG워너비\n",
      "parachute\t|\tJohn K\n",
      "작은 것들을 위한 시 (Boy With Luv) (Feat. Halsey)\t|\t방탄소년단\n",
      "Life Goes On\t|\t방탄소년단\n",
      "나랑 같이 걸을래 (바른연애 길잡이 X 적재)\t|\t적재\n",
      "닫힌엔딩 (Closed Ending)\t|\t숀(SHAUN)\n",
      "Blueming\t|\t아이유(IU)\n",
      "Lovesick Girls\t|\tBLACKPINK\n",
      "흔들리는 꽃들 속에서 네 샴푸향이 느껴진거야\t|\t장범준\n",
      "파라다이스 (Paradise)\t|\tEXO\n",
      "Let It Ring\t|\tReiley\n",
      "그럴때마다 (Be There For You)\t|\t조이 (JOY)\n",
      "잠이 오질 않네요\t|\t장범준\n",
      "Lost Cause\t|\tBillie Eilish(빌리 아일리시)\n",
      "SPIN OFF\t|\t업텐션(Up10Tion)\n",
      "At My Worst\t|\tPink Sweat$\n",
      "0X1=LOVESONG (I Know I Love You) feat. Seori\t|\t투모로우바이투게더\n",
      "METEOR\t|\t창모(CHANGMO)\n",
      "캥거루\t|\t원슈타인\n",
      "취기를 빌려 (취향저격 그녀 X 산들)\t|\t산들\n",
      "밤하늘의 별을(2020)\t|\t경서\n",
      "LOVE DAY (2021) (바른연애 길잡이 X 양요섭, 정은지)\t|\t양요섭\n",
      "뱅(Bang)!\t|\t애프터 스쿨(After School)\n",
      "Ashes\t|\tStellar\n",
      "깨어나\t|\t에일리(AILEE)\n",
      "Vanilla\t|\tLIGHTSUM\n",
      "내 눈물 모아 (Drama Ver.)\t|\t미도와 파라솔\n",
      "BYE BYE BYE\t|\t위아이(WEi)\n",
      "밤편지\t|\t아이유(IU)\n",
      "아이와 나의 바다\t|\t아이유(IU)\n",
      "2002\t|\tAnne-Marie(앤 마리)\n",
      "Bloom\t|\tCrush\n",
      "밝게 빛나는 별이 되어 비춰줄게\t|\t송이한\n",
      "12:45 (Stripped)\t|\tEtham\n"
     ]
    }
   ],
   "source": [
    "songs = soup.select('table.byChart > tbody > tr')\n",
    "for song in songs:\n",
    "    title = song.select('p.title > a')[0].text\n",
    "    singer = song.select('p.artist > a ')[0].text.strip()\n",
    "    print(title,singer,sep=\"\\t|\\t\")"
   ]
  },
  {
   "cell_type": "code",
   "execution_count": 18,
   "id": "89af0a2d",
   "metadata": {
    "ExecuteTime": {
     "end_time": "2021-06-15T03:27:31.857499Z",
     "start_time": "2021-06-15T03:27:31.817607Z"
    }
   },
   "outputs": [],
   "source": [
    "song_data = []\n",
    "rank = 1\n",
    "songs = soup.select('table.byChart > tbody > tr')\n",
    "for song in songs:\n",
    "    title = song.select('p.title > a')[0].text\n",
    "    singer = song.select('p.artist > a ')[0].text.strip()\n",
    "    song_data.append(['Bugs',rank,title,singer])\n",
    "    rank += 1"
   ]
  },
  {
   "cell_type": "code",
   "execution_count": 20,
   "id": "5463a100",
   "metadata": {
    "ExecuteTime": {
     "end_time": "2021-06-15T03:29:39.552693Z",
     "start_time": "2021-06-15T03:29:39.528757Z"
    }
   },
   "outputs": [
    {
     "name": "stdout",
     "output_type": "stream",
     "text": [
      "<class 'pandas.core.frame.DataFrame'>\n",
      "RangeIndex: 100 entries, 0 to 99\n",
      "Data columns (total 4 columns):\n",
      " #   Column  Non-Null Count  Dtype \n",
      "---  ------  --------------  ----- \n",
      " 0   서비스     100 non-null    object\n",
      " 1   순위      100 non-null    int64 \n",
      " 2   타이틀     100 non-null    object\n",
      " 3   가수      100 non-null    object\n",
      "dtypes: int64(1), object(3)\n",
      "memory usage: 3.2+ KB\n"
     ]
    }
   ],
   "source": [
    "import pandas as pd\n",
    "columns=['서비스','순위','타이틀','가수']\n",
    "pd_data = pd.DataFrame(song_data,columns=columns)\n",
    "pd_data.info()"
   ]
  },
  {
   "cell_type": "code",
   "execution_count": 22,
   "id": "5a1e2239",
   "metadata": {
    "ExecuteTime": {
     "end_time": "2021-06-15T03:30:22.834178Z",
     "start_time": "2021-06-15T03:30:22.531644Z"
    }
   },
   "outputs": [],
   "source": [
    "pd_data.to_excel('./files/bugs.xlsx', index=False)"
   ]
  },
  {
   "cell_type": "code",
   "execution_count": null,
   "id": "2ce9fc11",
   "metadata": {},
   "outputs": [],
   "source": []
  }
 ],
 "metadata": {
  "kernelspec": {
   "display_name": "Python 3",
   "language": "python",
   "name": "python3"
  },
  "language_info": {
   "codemirror_mode": {
    "name": "ipython",
    "version": 3
   },
   "file_extension": ".py",
   "mimetype": "text/x-python",
   "name": "python",
   "nbconvert_exporter": "python",
   "pygments_lexer": "ipython3",
   "version": "3.8.8"
  },
  "varInspector": {
   "cols": {
    "lenName": 16,
    "lenType": 16,
    "lenVar": 40
   },
   "kernels_config": {
    "python": {
     "delete_cmd_postfix": "",
     "delete_cmd_prefix": "del ",
     "library": "var_list.py",
     "varRefreshCmd": "print(var_dic_list())"
    },
    "r": {
     "delete_cmd_postfix": ") ",
     "delete_cmd_prefix": "rm(",
     "library": "var_list.r",
     "varRefreshCmd": "cat(var_dic_list()) "
    }
   },
   "types_to_exclude": [
    "module",
    "function",
    "builtin_function_or_method",
    "instance",
    "_Feature"
   ],
   "window_display": false
  }
 },
 "nbformat": 4,
 "nbformat_minor": 5
}
