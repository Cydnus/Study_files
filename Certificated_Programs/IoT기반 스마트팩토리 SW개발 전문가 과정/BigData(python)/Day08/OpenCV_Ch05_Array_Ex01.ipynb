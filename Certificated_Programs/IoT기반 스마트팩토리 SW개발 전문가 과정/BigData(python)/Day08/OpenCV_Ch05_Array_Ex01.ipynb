{
 "cells": [
  {
   "cell_type": "code",
   "execution_count": 6,
   "id": "85434db4",
   "metadata": {
    "ExecuteTime": {
     "end_time": "2021-06-16T01:10:16.220149Z",
     "start_time": "2021-06-16T01:10:05.607068Z"
    }
   },
   "outputs": [],
   "source": [
    "import cv2\n",
    "\n",
    "image = cv2.imread('./ch5_images/flip_test.jpg', cv2.IMREAD_COLOR)\n",
    "if image is None : raise Exception('영상파일 읽기 오류')\n",
    "\n",
    "xaxis = cv2.flip(image,0)\n",
    "yaxis = cv2.flip(image,1)\n",
    "xyaxis = cv2.flip(image,-1)\n",
    "repimage = cv2.repeat(image,1,2)\n",
    "transimage = cv2.transpose(image)\n",
    "\n",
    "title = ['image','xaxis','yaxis','xyaxis','repimage','transimage']\n",
    "\n",
    "for t in title:\n",
    "    cv2.imshow(t, eval(t))\n",
    "cv2.waitKey(0)\n",
    "cv2.destroyAllWindows()"
   ]
  },
  {
   "cell_type": "code",
   "execution_count": null,
   "id": "fed7c67a",
   "metadata": {},
   "outputs": [],
   "source": []
  }
 ],
 "metadata": {
  "kernelspec": {
   "display_name": "Python 3",
   "language": "python",
   "name": "python3"
  },
  "language_info": {
   "codemirror_mode": {
    "name": "ipython",
    "version": 3
   },
   "file_extension": ".py",
   "mimetype": "text/x-python",
   "name": "python",
   "nbconvert_exporter": "python",
   "pygments_lexer": "ipython3",
   "version": "3.8.8"
  },
  "varInspector": {
   "cols": {
    "lenName": 16,
    "lenType": 16,
    "lenVar": 40
   },
   "kernels_config": {
    "python": {
     "delete_cmd_postfix": "",
     "delete_cmd_prefix": "del ",
     "library": "var_list.py",
     "varRefreshCmd": "print(var_dic_list())"
    },
    "r": {
     "delete_cmd_postfix": ") ",
     "delete_cmd_prefix": "rm(",
     "library": "var_list.r",
     "varRefreshCmd": "cat(var_dic_list()) "
    }
   },
   "types_to_exclude": [
    "module",
    "function",
    "builtin_function_or_method",
    "instance",
    "_Feature"
   ],
   "window_display": false
  }
 },
 "nbformat": 4,
 "nbformat_minor": 5
}
