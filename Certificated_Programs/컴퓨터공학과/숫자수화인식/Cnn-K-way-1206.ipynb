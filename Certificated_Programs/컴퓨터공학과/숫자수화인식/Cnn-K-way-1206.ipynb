{
 "cells": [
  {
   "cell_type": "code",
   "execution_count": null,
   "metadata": {},
   "outputs": [],
   "source": [
    "from keras import models\n",
    "from keras import layers\n",
    "import os\n",
    "import cv2\n",
    "import numpy as np\n",
    "from keras.models import load_model\n",
    "from keras.utils import to_categorical\n",
    "import matplotlib.pyplot as plt\n",
    "from datetime import datetime"
   ]
  },
  {
   "cell_type": "code",
   "execution_count": null,
   "metadata": {},
   "outputs": [],
   "source": [
    "path = './opencv/create'\n",
    "\n",
    "label_list = os.listdir(path)\n",
    "\n",
    "Date_dir = \"{:02d}{:02d}\".format(datetime.today().month,datetime.today().day)\n",
    "\n",
    "if os.path.exists(Date_dir) == False:\n",
    "    os.mkdir(os.path.curdir + '/' +Date_dir)\n",
    "\n",
    "weight_path = os.listdir(Date_dir)\n",
    "\n",
    "model_save_path = Date_dir+'/'+str(len(weight_path))\n",
    "\n",
    "os.mkdir(model_save_path)\n"
   ]
  },
  {
   "cell_type": "code",
   "execution_count": null,
   "metadata": {},
   "outputs": [],
   "source": [
    "def load_src():\n",
    "    source_data = []\n",
    "    source_label = []\n",
    "    for i in label_list:\n",
    "        file_list = os.listdir(path+\"/\"+i)\n",
    "        for j in file_list:\n",
    "            temp = cv2.imread(path+\"/\"+i+\"/\"+j, cv2.IMREAD_GRAYSCALE)\n",
    "            temp_cv = []\n",
    "            for k in temp:\n",
    "                temp_cv.extend(k)\n",
    "            source_data.append(temp_cv)\n",
    "            source_label.append(int(i))\n",
    "    return source_data, source_label"
   ]
  },
  {
   "cell_type": "code",
   "execution_count": null,
   "metadata": {},
   "outputs": [],
   "source": [
    "train_data = []\n",
    "train_label = []\n",
    "\n",
    "\n",
    "test_data = []\n",
    "test_label = []"
   ]
  },
  {
   "cell_type": "code",
   "execution_count": null,
   "metadata": {},
   "outputs": [],
   "source": [
    "max_train_count = []\n",
    "label_list = os.listdir(path)\n",
    "for i in label_list:\n",
    "    file_list = os.listdir(path+\"/\"+i)\n",
    "    max_train_count.append(int(len(file_list)))\n",
    "max_train_count"
   ]
  },
  {
   "cell_type": "code",
   "execution_count": null,
   "metadata": {},
   "outputs": [],
   "source": [
    "test_ind = [[0,300],\n",
    "           [300,600],\n",
    "           [600,900],\n",
    "           [900,1200],\n",
    "           [1200,1500]]"
   ]
  },
  {
   "cell_type": "code",
   "execution_count": null,
   "metadata": {},
   "outputs": [],
   "source": [
    "from keras.callbacks import EarlyStopping, ModelCheckpoint"
   ]
  },
  {
   "cell_type": "code",
   "execution_count": null,
   "metadata": {},
   "outputs": [],
   "source": [
    "def train(batch, epoch, train_data, train_label, test_data, test_label,callback_list):\n",
    "    network = models.Sequential()\n",
    "\n",
    "\n",
    "    network.add(layers.Conv2D(128, kernel_size=(3,3), input_shape=(100,100,1), activation='relu'))\n",
    "    network.add(layers.MaxPooling2D(pool_size=2))\n",
    "    network.add(layers.Dropout(0.5))\n",
    "\n",
    "    network.add(layers.Conv2D(64, (3,3), activation='relu'))\n",
    "    network.add(layers.MaxPooling2D(pool_size=2))\n",
    "    network.add(layers.Dropout(0.5))\n",
    "\n",
    "    network.add(layers.Conv2D(32, (3,3), activation='relu'))\n",
    "    network.add(layers.MaxPooling2D(pool_size=2))\n",
    "    network.add(layers.Dropout(0.5))\n",
    "\n",
    "    network.add(layers.Flatten())\n",
    "\n",
    "    network.add(layers.Dropout(0.5))\n",
    "\n",
    "    network.add(layers.Dense(10, activation='softmax'))\n",
    "    \n",
    "    network.compile(optimizer='rmsprop',\n",
    "               loss='categorical_crossentropy',\n",
    "               metrics=['accuracy'])\n",
    "    \n",
    "    hist = network.fit(train_data, train_label, epochs=epoch, batch_size=batch,\n",
    "                   validation_data=(test_data,test_label), callbacks=callback_list)\n",
    "    print(\"batch : {0} epoch : {1}\".format(batch,epoch))\n",
    "    return hist,network"
   ]
  },
  {
   "cell_type": "code",
   "execution_count": null,
   "metadata": {},
   "outputs": [],
   "source": [
    "plt.rcParams[\"font.family\"] = \"Malgun Gothic\"\n",
    "plt.rcParams[\"font.size\"] = 12\n",
    "plt.rcParams[\"figure.figsize\"] = (14,4)\n",
    "plt.figure(figsize=(8, 4))"
   ]
  },
  {
   "cell_type": "code",
   "execution_count": null,
   "metadata": {},
   "outputs": [],
   "source": [
    "# batch size & epoch\n",
    "batch = 64\n",
    "epoch = 30"
   ]
  },
  {
   "cell_type": "code",
   "execution_count": null,
   "metadata": {},
   "outputs": [],
   "source": [
    "for index in range(5):\n",
    "    \n",
    "    SPath = model_save_path+'/'+str(index)\n",
    "    if os.path.exists(SPath)== False:\n",
    "        os.mkdir(SPath)\n",
    "    \n",
    "    print(\"index : \",index)\n",
    "    train_data = []\n",
    "    train_label = []\n",
    "\n",
    "    \n",
    "    test_data = []\n",
    "    test_label = []\n",
    "    \n",
    "    source_data, source_label = load_src()\n",
    "    \n",
    "    ind = 0\n",
    "    for i in range(0,10):\n",
    "        test_data.extend(source_data[ind+test_ind[index][0]:ind+test_ind[index][1]])\n",
    "        test_label.extend(source_label[ind+test_ind[index][0]:ind+test_ind[index][1]])\n",
    "        if(test_ind[index][0] != 0):\n",
    "            train_data.extend(source_data[ind:ind+test_ind[index][0]])\n",
    "            train_label.extend(source_label[ind:ind+test_ind[index][0]])\n",
    "        if(test_ind[index][1] != max_train_count[i]):\n",
    "            train_data.extend(source_data[ind+test_ind[index][1]:ind+max_train_count[i]])\n",
    "            train_label.extend(source_label[ind+test_ind[index][1]:ind+max_train_count[i]])\n",
    "        ind += max_train_count[i]\n",
    "                \n",
    "    source_data = []\n",
    "    source_label = []\n",
    "    \n",
    "    train_data = np.array(train_data)\n",
    "    train_label = np.array(train_label)\n",
    "    test_data = np.array(test_data)\n",
    "    test_label = np.array(test_label)\n",
    "\n",
    "    test_data = test_data.reshape((len(test_data),100,100,1))\n",
    "    test_data = test_data.astype('float32')/255\n",
    "    \n",
    "    train_label = to_categorical(train_label,10)\n",
    "    test_label = to_categorical(test_label,10)\n",
    "    \n",
    "    train_data = train_data.reshape((len(train_data),100,100,1))\n",
    "    train_data = train_data.astype('float32')/255\n",
    "    \n",
    "    filepath= SPath+\"/weights-improvement-{epoch:02d}-{val_acc:.2f}.hdf5\"\n",
    "    checkpoint = ModelCheckpoint(filepath, monitor='val_acc', verbose=1, save_best_only=False, mode='max')\n",
    "\n",
    "    callbacks_list = [checkpoint ]\n",
    "    \n",
    "    hist, network = train(batch, epoch, train_data, train_label,test_data, test_label, callbacks_list)\n",
    "    \n",
    "    \n",
    "    plt.subplot(1, 2, 1)\n",
    "    plt.plot(hist.history['loss'], 'b-', label=\"학습 성능\")\n",
    "    plt.plot(hist.history['val_loss'], 'r:', label=\"검증 성능\")\n",
    "    plt.title(str(index+1)+\"way  훈련 중 비용함수 그래프\")\n",
    "    plt.ylabel(\"비용함수 값\")\n",
    "    plt.subplot(1, 2, 2)\n",
    "    plt.title(str(index+1 )+\"way  훈련 중 성능지표 그래프\")\n",
    "    plt.ylabel(\"성능지표 값\")\n",
    "    plt.plot(hist.history['acc'], 'b-', label=\"학습 성능\")\n",
    "    plt.plot(hist.history['val_acc'], 'r:', label=\"검증 성능\")\n",
    "    plt.legend()\n",
    "    plt.tight_layout()\n",
    "    plt.show()\n",
    "    \n",
    "    test_loss, test_acc = network.evaluate(test_data,test_label)\n",
    "    print(\"test_acc : \", test_acc)\n",
    "    \n",
    "    network.save(Date_dir+'/'+str(index+1)+'.h5')"
   ]
  },
  {
   "cell_type": "code",
   "execution_count": null,
   "metadata": {},
   "outputs": [],
   "source": []
  }
 ],
 "metadata": {
  "kernelspec": {
   "display_name": "Python 3",
   "language": "python",
   "name": "python3"
  },
  "language_info": {
   "codemirror_mode": {
    "name": "ipython",
    "version": 3
   },
   "file_extension": ".py",
   "mimetype": "text/x-python",
   "name": "python",
   "nbconvert_exporter": "python",
   "pygments_lexer": "ipython3",
   "version": "3.7.3"
  }
 },
 "nbformat": 4,
 "nbformat_minor": 2
}
