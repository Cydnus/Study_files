{
 "cells": [
  {
   "cell_type": "code",
   "execution_count": null,
   "metadata": {},
   "outputs": [],
   "source": [
    "from keras import models\n",
    "from keras import layers\n",
    "import os\n",
    "import cv2\n",
    "import numpy as np\n",
    "from keras.utils import to_categorical"
   ]
  },
  {
   "cell_type": "code",
   "execution_count": null,
   "metadata": {},
   "outputs": [],
   "source": [
    "test_x=[]\n",
    "test_y=[]"
   ]
  },
  {
   "cell_type": "code",
   "execution_count": null,
   "metadata": {},
   "outputs": [],
   "source": [
    "# data\n",
    "path = './opencv/test'\n",
    "\n",
    "label_list = os.listdir(path)\n",
    "\n",
    "for i in label_list:\n",
    "    file_list = os.listdir(path+\"/\"+i)\n",
    "    cnt = 0\n",
    "    for j in file_list:\n",
    "        #if cnt >= 100:\n",
    "        #   break\n",
    "        temp = cv2.imread(path+\"/\"+i+\"/\"+j, cv2.IMREAD_GRAYSCALE)\n",
    "        temp_cv = []\n",
    "        for k in temp:\n",
    "            temp_cv.extend(k)\n",
    "        test_x.append(temp_cv)\n",
    "        test_y.append(int(i))\n",
    "        cnt += 1"
   ]
  },
  {
   "cell_type": "code",
   "execution_count": null,
   "metadata": {},
   "outputs": [],
   "source": [
    "test_x = np.array(test_x)"
   ]
  },
  {
   "cell_type": "code",
   "execution_count": null,
   "metadata": {},
   "outputs": [],
   "source": [
    "len(test_x)"
   ]
  },
  {
   "cell_type": "code",
   "execution_count": null,
   "metadata": {},
   "outputs": [],
   "source": [
    "test_x = test_x.reshape((len(test_x),100,100,1))\n",
    "test_x = test_x.astype('float32')/255"
   ]
  },
  {
   "cell_type": "code",
   "execution_count": null,
   "metadata": {},
   "outputs": [],
   "source": [
    "test_y = to_categorical(test_y,10)"
   ]
  },
  {
   "cell_type": "code",
   "execution_count": null,
   "metadata": {
    "scrolled": true
   },
   "outputs": [],
   "source": [
    "test_y"
   ]
  },
  {
   "cell_type": "code",
   "execution_count": null,
   "metadata": {},
   "outputs": [],
   "source": [
    "def CreateModel():\n",
    "    network = models.Sequential()\n",
    "\n",
    "\n",
    "    network.add(layers.Conv2D(128, kernel_size=(3,3), input_shape=(100,100,1), activation='relu'))\n",
    "    network.add(layers.MaxPooling2D(pool_size=2))\n",
    "    network.add(layers.Dropout(0.5))\n",
    "\n",
    "    network.add(layers.Conv2D(64, (3,3), activation='relu'))\n",
    "    network.add(layers.MaxPooling2D(pool_size=2))\n",
    "    network.add(layers.Dropout(0.5))\n",
    "\n",
    "    network.add(layers.Conv2D(32, (3,3), activation='relu'))\n",
    "    network.add(layers.MaxPooling2D(pool_size=2))\n",
    "    network.add(layers.Dropout(0.5))\n",
    "\n",
    "    network.add(layers.Flatten())\n",
    "\n",
    "    network.add(layers.Dropout(0.5))\n",
    "\n",
    "    network.add(layers.Dense(10, activation='softmax'))\n",
    "    \n",
    "    network.compile(optimizer='rmsprop',\n",
    "           loss='categorical_crossentropy',\n",
    "           metrics=['accuracy'])\n",
    "    return network"
   ]
  },
  {
   "cell_type": "code",
   "execution_count": null,
   "metadata": {},
   "outputs": [],
   "source": [
    "filelist = os.listdir('loads')\n",
    "pd = []\n",
    "ind = 0\n",
    "for i in filelist:\n",
    "    if os.path.isdir('loads'+'/'+str(i)):\n",
    "        pass\n",
    "    else:   \n",
    "        md = CreateModel()\n",
    "        md.load_weights('loads'+'/'+i)\n",
    "        test_new_loss, test_new_acc = md.evaluate(test_x,test_y,verbose=2)\n",
    "        print(i,\"test_acc : \", test_new_acc)\n",
    "        pd.append(md.predict_classes(test_x))"
   ]
  },
  {
   "cell_type": "code",
   "execution_count": null,
   "metadata": {},
   "outputs": [],
   "source": [
    "for pred in pd:\n",
    "    temp = np.argmax(test_y[0])\n",
    "    for i in range(len(test_x)):\n",
    "        if(temp != np.argmax(test_y[i])):\n",
    "            print()\n",
    "            temp = np.argmax(test_y[i])\n",
    "        print(\"Target : {}\\tPredict : {}\".format(str(temp),str(pred[i])))\n",
    "    print('\\n')"
   ]
  },
  {
   "cell_type": "code",
   "execution_count": null,
   "metadata": {},
   "outputs": [],
   "source": []
  }
 ],
 "metadata": {
  "kernelspec": {
   "display_name": "Python 3",
   "language": "python",
   "name": "python3"
  },
  "language_info": {
   "codemirror_mode": {
    "name": "ipython",
    "version": 3
   },
   "file_extension": ".py",
   "mimetype": "text/x-python",
   "name": "python",
   "nbconvert_exporter": "python",
   "pygments_lexer": "ipython3",
   "version": "3.7.3"
  }
 },
 "nbformat": 4,
 "nbformat_minor": 2
}
