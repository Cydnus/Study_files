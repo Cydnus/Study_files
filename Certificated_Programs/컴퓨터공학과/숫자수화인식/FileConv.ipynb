{
 "cells": [
  {
   "cell_type": "code",
   "execution_count": null,
   "metadata": {},
   "outputs": [],
   "source": [
    "import cv2\n",
    "import numpy as np\n",
    "from IPython.display import Image\n",
    "import os"
   ]
  },
  {
   "cell_type": "code",
   "execution_count": null,
   "metadata": {},
   "outputs": [],
   "source": [
    "path = \"./img\"\n",
    "file_list = os.listdir(path)"
   ]
  },
  {
   "cell_type": "code",
   "execution_count": null,
   "metadata": {},
   "outputs": [],
   "source": [
    "cascadefile = \"haarcascade_frontalface_alt.xml\"\n",
    "hand_cascade = 'hand.xml'"
   ]
  },
  {
   "cell_type": "code",
   "execution_count": null,
   "metadata": {
    "scrolled": true
   },
   "outputs": [],
   "source": [
    "for j in file_list:\n",
    "    conv_path = './conv/'\n",
    "    img_path = path+'/'\n",
    "    cur_path = path+'/'+str(j)\n",
    "    if os.path.isdir(cur_path):\n",
    "        conv_path = conv_path+str(j)+'/'\n",
    "        img_path = img_path+str(j)+'/'        \n",
    "        for k in os.listdir(cur_path):\n",
    "            img_path = img_path+str(k)+'/'\n",
    "            img_list = os.listdir(img_path)\n",
    "            conv_path = './conv/'+str(j)+'/' +str(k)+'/'\n",
    "            for i in img_list:\n",
    "                file_name= img_path+i\n",
    "\n",
    "                src = cv2.imread(file_name, cv2.IMREAD_COLOR)\n",
    "\n",
    "                cascade = cv2.CascadeClassifier(cascadefile) \n",
    "                facelist = cascade.detectMultiScale(src, scaleFactor=2.08, minNeighbors=1)\n",
    "\n",
    "                if len(facelist) >= 1:\n",
    "                    for face in facelist:\n",
    "                        x, y, w, h = face \n",
    "                        src = cv2.rectangle(src, (x-10, y-10), (x+w+10, y+h+100), (255, 255, 255), -1)\n",
    "\n",
    "                ycrcb = cv2.cvtColor(src,cv2.COLOR_BGR2YCrCb)\n",
    "                mask_hand = cv2.inRange(ycrcb,np.array([0,135,75]),np.array([255,180,140]))\n",
    "\n",
    "                src = cv2.cvtColor(src,cv2.COLOR_BGR2GRAY)\n",
    "\n",
    "\n",
    "                temp = cv2.bitwise_and(mask_hand,mask_hand,mask=src)\n",
    "                \n",
    "                filtering = cv2.fastNlMeansDenoising(temp,None,200,7,21)\n",
    "\n",
    "                resize = cv2.resize(filtering, dsize=(100, 100), interpolation=cv2.INTER_AREA)\n",
    "\n",
    "                cv2.imwrite(conv_path+i,resize)"
   ]
  },
  {
   "cell_type": "code",
   "execution_count": null,
   "metadata": {},
   "outputs": [],
   "source": []
  }
 ],
 "metadata": {
  "kernelspec": {
   "display_name": "Python 3",
   "language": "python",
   "name": "python3"
  },
  "language_info": {
   "codemirror_mode": {
    "name": "ipython",
    "version": 3
   },
   "file_extension": ".py",
   "mimetype": "text/x-python",
   "name": "python",
   "nbconvert_exporter": "python",
   "pygments_lexer": "ipython3",
   "version": "3.7.3"
  }
 },
 "nbformat": 4,
 "nbformat_minor": 2
}
