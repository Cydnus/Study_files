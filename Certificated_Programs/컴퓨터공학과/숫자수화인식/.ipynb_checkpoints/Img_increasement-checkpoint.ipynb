{
 "cells": [
  {
   "cell_type": "code",
   "execution_count": null,
   "metadata": {},
   "outputs": [],
   "source": [
    "import tensorflow as tf\n",
    "import numpy as np\n",
    "import cv2\n",
    "import os"
   ]
  },
  {
   "cell_type": "code",
   "execution_count": null,
   "metadata": {},
   "outputs": [],
   "source": [
    "np.random.seed(15)"
   ]
  },
  {
   "cell_type": "code",
   "execution_count": null,
   "metadata": {},
   "outputs": [],
   "source": [
    "src_path = 'conv'\n",
    "save_path = 'create'"
   ]
  },
  {
   "cell_type": "code",
   "execution_count": null,
   "metadata": {},
   "outputs": [],
   "source": [
    "generator = tf.keras.preprocessing.image.ImageDataGenerator(\n",
    "    rotation_range = 20,\n",
    "    width_shift_range = 0.2,\n",
    "    height_shift_range = 0.2,\n",
    "    rescale =  1.) "
   ]
  },
  {
   "cell_type": "code",
   "execution_count": null,
   "metadata": {},
   "outputs": [],
   "source": [
    "batch_size =  27    # 이미지수\n",
    "iterations = 150   # 반복수\n",
    "images = []\n",
    "labels = []\n",
    "\n",
    "result = []"
   ]
  },
  {
   "cell_type": "code",
   "execution_count": null,
   "metadata": {},
   "outputs": [],
   "source": [
    "obj = generator.flow_from_directory(\n",
    "    src_path,\n",
    "    target_size = (100, 100),\n",
    "    batch_size = batch_size,\n",
    "    class_mode = 'categorical')"
   ]
  },
  {
   "cell_type": "code",
   "execution_count": null,
   "metadata": {},
   "outputs": [],
   "source": [
    "def softmaxs(label):\n",
    "    for i in range(len(label)):\n",
    "        if label[i] == 1.0:\n",
    "            return i"
   ]
  },
  {
   "cell_type": "code",
   "execution_count": null,
   "metadata": {
    "scrolled": true
   },
   "outputs": [],
   "source": [
    "temp = 0\n",
    "for i in enumerate(range(iterations)):\n",
    "    img, label = obj .next()\n",
    "    \n",
    "    for j in range(len(label)):\n",
    "        label_img = softmaxs(label[j])\n",
    "        img2 = cv2.cvtColor(img[j], cv2.COLOR_RGB2GRAY)\n",
    "        if temp % 1000==0:\n",
    "            print(temp)\n",
    "        temp+=1\n",
    "        path = './'+save_path+'/'+str(label_img)\n",
    "        file_list = os.listdir(path)\n",
    "        cv2.imwrite(path+'/'+str(len(file_list))+\".jpg\",img2)"
   ]
  },
  {
   "cell_type": "code",
   "execution_count": null,
   "metadata": {},
   "outputs": [],
   "source": []
  }
 ],
 "metadata": {
  "kernelspec": {
   "display_name": "Python 3",
   "language": "python",
   "name": "python3"
  },
  "language_info": {
   "codemirror_mode": {
    "name": "ipython",
    "version": 3
   },
   "file_extension": ".py",
   "mimetype": "text/x-python",
   "name": "python",
   "nbconvert_exporter": "python",
   "pygments_lexer": "ipython3",
   "version": "3.7.3"
  }
 },
 "nbformat": 4,
 "nbformat_minor": 2
}
